{
 "cells": [
  {
   "cell_type": "markdown",
   "id": "a0ed3c6e-2942-4c8c-9b13-d6026bfe56ad",
   "metadata": {},
   "source": [
    "# Tarea 3: Estadística para Data Science\n",
    "\n",
    "\n",
    "\n",
    "Se puede trabajar de manera individual o en grupos de máximo 4 personas.\n",
    "Si trabajas en grupo, igualmente debes entregar en el buzón (o al correo v.landaeta@udd.cl si no tienes canvas) de manera individual con tu nombre y los nombres de los otros integrantes del grupo.\n"
   ]
  },
  {
   "cell_type": "code",
   "execution_count": 1,
   "id": "1be7e99d",
   "metadata": {},
   "outputs": [],
   "source": [
    "# Importando librerías\n",
    "\n",
    "import pandas as pd\n",
    "import matplotlib.pyplot as plt\n",
    "%matplotlib inline\n",
    "import numpy as np\n",
    "import scipy.stats as stats\n",
    "import seaborn as sns"
   ]
  },
  {
   "cell_type": "markdown",
   "id": "e5c3005d-214a-49d4-b05a-4292df1dc72b",
   "metadata": {
    "tags": []
   },
   "source": [
    "## Datos Mineduc: rendimiento educacion básica y media 2021 en el Bío Bío.\n",
    "Leamos el siguiente dataset"
   ]
  },
  {
   "cell_type": "code",
   "execution_count": 2,
   "id": "c8b99025-5058-47df-bef0-dd94bb9664a1",
   "metadata": {},
   "outputs": [],
   "source": [
    "df_est = pd.read_csv(\"https://raw.githubusercontent.com/vmlandae/datasets_eds/main/clase5/rendimiento_2021_8va.csv\")"
   ]
  },
  {
   "cell_type": "markdown",
   "id": "8cbee306-215d-4b11-89a4-1e8411aa1263",
   "metadata": {},
   "source": [
    "Este dataset es un subconjunto de datos a nivel nacional del año 2021 facilitados por el mineduc en su [página de datos abiertos](https://datosabiertos.mineduc.cl/rendimiento-por-estudiante-2/), donde reportan el rendimiento por alumno de enseñanza básica y media. Este dataset fue filtrado y limpiado, para solo contener los estudiantes que se encontraban matriculados en instituciones de la Región del Bío Bío. La [documentación](https://github.com/vmlandae/datasets_eds/blob/main/clase5/ER%20Rendimiento%20por%20alumno%2C%20bases%20Web.pdf) nos permite revisar que es cada variable, pues no todas son tan intuitivas. "
   ]
  },
  {
   "cell_type": "markdown",
   "id": "74cd370b",
   "metadata": {},
   "source": [
    "# 1.1: Revisa la documentación\n",
    "\n",
    "1. ¿Cómo se llama la variable que tiene el promedio general del alumno? ¿Qué significa que su promedio sea 0?\n",
    "2. ¿Cuál es el código para la provincia de Arauco? ¿En qué variable está ese código?\n",
    "3. Si quiero filtrar solo a los estudiantes que estudian técnico en celulosa y papel, qué variable ocupo para ello?\n"
   ]
  },
  {
   "cell_type": "code",
   "execution_count": 3,
   "id": "33d17552-25bb-4641-8adc-6084d129bd91",
   "metadata": {},
   "outputs": [
    {
     "data": {
      "text/plain": [
       "array(['Unnamed: 0', 'AGNO', 'RBD', 'DGV_RBD', 'NOM_RBD', 'COD_REG_RBD',\n",
       "       'NOM_REG_RBD_A', 'COD_PRO_RBD', 'COD_COM_RBD', 'NOM_COM_RBD',\n",
       "       'COD_DEPROV_RBD', 'NOM_DEPROV_RBD', 'COD_DEPE', 'COD_DEPE2',\n",
       "       'RURAL_RBD', 'ESTADO_ESTAB', 'COD_ENSE', 'COD_ENSE2', 'COD_GRADO',\n",
       "       'LET_CUR', 'COD_JOR', 'COD_TIP_CUR', 'COD_DES_CUR', 'MRUN',\n",
       "       'GEN_ALU', 'FEC_NAC_ALU', 'EDAD_ALU', 'COD_REG_ALU', 'COD_COM_ALU',\n",
       "       'NOM_COM_ALU', 'COD_RAMA', 'COD_SEC', 'COD_ESPE', 'PROM_GRAL',\n",
       "       'ASISTENCIA', 'SIT_FIN', 'SIT_FIN_R', 'COD_MEN'], dtype=object)"
      ]
     },
     "execution_count": 3,
     "metadata": {},
     "output_type": "execute_result"
    }
   ],
   "source": [
    "df_est.columns.values"
   ]
  },
  {
   "cell_type": "code",
   "execution_count": 4,
   "id": "f306cd16",
   "metadata": {},
   "outputs": [
    {
     "data": {
      "text/plain": [
       "0    BIOBÍO\n",
       "1    BIOBÍO\n",
       "2    BIOBÍO\n",
       "3    BIOBÍO\n",
       "4    BIOBÍO\n",
       "Name: NOM_DEPROV_RBD, dtype: object"
      ]
     },
     "execution_count": 4,
     "metadata": {},
     "output_type": "execute_result"
    }
   ],
   "source": [
    "df_est['NOM_DEPROV_RBD'].head()"
   ]
  },
  {
   "cell_type": "markdown",
   "id": "23479da7",
   "metadata": {},
   "source": [
    "### Respuestas 1.1\n",
    "\n",
    "* 1.1.1 La variable se llama `PROM_GRAL`. Significa que el estudiante está retirado.\n",
    "* 1.1.2 El código para la provincia de Arauco es `82`. Está en la variable `COD_PRO_RBD`\n",
    "* 1.1.3 Ocupo la variable `COD_ESPE`, con el código `71004`."
   ]
  },
  {
   "cell_type": "code",
   "execution_count": null,
   "id": "fd066680",
   "metadata": {},
   "outputs": [],
   "source": []
  },
  {
   "cell_type": "code",
   "execution_count": 5,
   "id": "3710fe90-80b0-4a53-9a22-2d3e553f86c5",
   "metadata": {},
   "outputs": [],
   "source": [
    "# SIT_FIN_R es la situación a final de año de un estudiante,\n",
    "# donde P: promovido, R: reprobado, Y: Retirado, T: trasladado (se cambió de colegio) y \n",
    "# algunos datos en blanco sin información. Vamos a filtrar para dejar solo P,R,Y en el dataset\n",
    "# porque así estamos contando a cada alumno solo una vez (los que se cambian tienen más de un registro)\n",
    "\n",
    "df =  df_est.loc[df_est['SIT_FIN_R'].isin(['P','R','Y'])].reset_index()"
   ]
  },
  {
   "cell_type": "code",
   "execution_count": 6,
   "id": "1bd02c28-a55f-4933-bd5f-14a81ea02d33",
   "metadata": {},
   "outputs": [
    {
     "name": "stdout",
     "output_type": "stream",
     "text": [
      "274781\n",
      "(280617, 38)\n",
      "273894\n",
      "(273894, 39)\n"
     ]
    }
   ],
   "source": [
    "print(df_est['MRUN'].nunique())\n",
    "print(df_est.shape)      \n",
    "print(df['MRUN'].nunique())\n",
    "print(df.shape)"
   ]
  },
  {
   "cell_type": "markdown",
   "id": "20131749-4879-4591-a3a3-34688f61f2bc",
   "metadata": {},
   "source": [
    "\n",
    "## 2.1\n",
    "Usa el atributo `.shape` del dataframe para saber cuantos casos hay en `df_est`, y cuantas variables tenemos. ¿Qué porcentaje del número de estudiantes de chile de básica y media del año 2021 son los estudiantes de la octava región?"
   ]
  },
  {
   "cell_type": "markdown",
   "id": "4f8028a9",
   "metadata": {},
   "source": [
    "## Respuesta\n",
    "\n",
    "Al revisar la documentación, vemos que en la primera página aparece que el año 2021 hay 3237043 estudiantes en Chile en básica y media. "
   ]
  },
  {
   "cell_type": "code",
   "execution_count": 7,
   "id": "a406789b",
   "metadata": {},
   "outputs": [
    {
     "name": "stdout",
     "output_type": "stream",
     "text": [
      "Al calcular el porcentaje de estudiantes de Chile de educación básica y media que son de la octava región, usando el número de filas de df_est, el porcentaje es de un 8.668930255174244 %\n",
      "Al calcular el porcentaje de estudiantes de Chile de educación básica y media que son de la octava región, usando el número de filas de df_est, el porcentaje es de un 8.461240706410141 %\n"
     ]
    }
   ],
   "source": [
    "# usando el número de filas en df_est.shape, el porcentaje se podría calcular haciendo\n",
    "porcentaje_df_est_shape = 280617/3237043*100\n",
    "# posiblemente es mejor usar el número de filas en df, ya que limpiamos los datos repetidos \n",
    "# y los que están sin información en su situación de final de año, luego\n",
    "\n",
    "porcentaje_df_shape = 273894/3237043*100\n",
    "\n",
    "print('Al calcular el porcentaje de estudiantes de Chile de educación básica y media que son de la octava región,',\n",
    "      'usando el número de filas de df_est, el porcentaje es de un',porcentaje_df_est_shape,'%')\n",
    "print('Al calcular el porcentaje de estudiantes de Chile de educación básica y media que son de la octava región,',\n",
    "      'usando el número de filas de df_est, el porcentaje es de un',porcentaje_df_shape,'%')"
   ]
  },
  {
   "cell_type": "markdown",
   "id": "42fd5b7f",
   "metadata": {},
   "source": [
    "La diferencia no es mucha."
   ]
  },
  {
   "cell_type": "markdown",
   "id": "ee9d6dbf",
   "metadata": {},
   "source": [
    "## 2.2\n",
    "\n",
    "La proporción de alumnos de básica y media en la región del Bío Bío el año 2021 que asistieron a un establecimiento rural, nos basta con calcularla usando el dataset. En este caso, la variable `RURAL_RBD` indica con `0` si el establecimiento es urbano y `1` si es rural.\n",
    "\n",
    "1. Calcula la proporción de estudiantes de básica y media en la región del Bío Bío el año 2021 que al terminar el año asistían a un establecimiento rural.\n",
    "\n",
    "\n",
    "\n"
   ]
  },
  {
   "cell_type": "code",
   "execution_count": 8,
   "id": "0032bae9",
   "metadata": {},
   "outputs": [
    {
     "name": "stdout",
     "output_type": "stream",
     "text": [
      "La proporción de estudiantes de básica y media en la región del Bío Bío el año 2021 que al terminar el año asistían a un establecimiento rural es de un 0.08037050829883094\n"
     ]
    }
   ],
   "source": [
    "# usamos df, que tiene los estudiantes en su situación de final de año.\n",
    "\n",
    "prop_rural = df['RURAL_RBD'].mean()\n",
    "\n",
    "print('La proporción de estudiantes de básica y media en la región del Bío Bío el año 2021 que al terminar el año asistían a un establecimiento rural es de un', prop_rural)"
   ]
  },
  {
   "cell_type": "markdown",
   "id": "f2d503ce",
   "metadata": {},
   "source": [
    "2. La variable `NOM_COM_ALU` indica la comuna de residencia del alumno. ¿Cuál crees que será la comuna con mayor cantidad de alumnos?\n",
    "\n"
   ]
  },
  {
   "cell_type": "code",
   "execution_count": 9,
   "id": "45693fc5",
   "metadata": {},
   "outputs": [
    {
     "data": {
      "text/plain": [
       "LOS ÁNGELES            36598\n",
       "CONCEPCIÓN             32764\n",
       "SAN PEDRO DE LA PAZ    23411\n",
       "TALCAHUANO             22733\n",
       "CORONEL                21241\n",
       "HUALPÉN                14177\n",
       "Name: NOM_COM_ALU, dtype: int64"
      ]
     },
     "execution_count": 9,
     "metadata": {},
     "output_type": "execute_result"
    }
   ],
   "source": [
    "# Acá cualquier comuna del Bío Bío es una respuesta válida, digamos Concepción. Veamos una tabla ordenada\n",
    "\n",
    "df['NOM_COM_ALU'].value_counts().head(6)"
   ]
  },
  {
   "cell_type": "markdown",
   "id": "f1611eac",
   "metadata": {},
   "source": [
    "La mayor cantidad de alumnos tienen como comuna de residencia Los Ángeles.\n",
    "Esto se explica ya que si bien el Gran Concepción es mucho más grande, como podemos ver en la tabla, en terminos de división comunal está dividida en varias comunas."
   ]
  },
  {
   "cell_type": "code",
   "execution_count": 10,
   "id": "20ef529e",
   "metadata": {
    "scrolled": true
   },
   "outputs": [
    {
     "data": {
      "text/plain": [
       "CONCEPCIÓN             42140\n",
       "LOS ÁNGELES            41296\n",
       "TALCAHUANO             22861\n",
       "SAN PEDRO DE LA PAZ    22408\n",
       "CORONEL                21973\n",
       "CHIGUAYANTE            14636\n",
       "Name: NOM_COM_RBD, dtype: int64"
      ]
     },
     "execution_count": 10,
     "metadata": {},
     "output_type": "execute_result"
    }
   ],
   "source": [
    "# solo para saber, que comunas tienen la mayor cantidad de estudiantes enrolados en las escuelas de esa comuna:\n",
    "df['NOM_COM_RBD'].value_counts().head(6)"
   ]
  },
  {
   "cell_type": "markdown",
   "id": "f3d0df05",
   "metadata": {},
   "source": [
    "3. Crea un dataframe con las 6 comunas de más estudiantes, y denomínalo df_comunas_grandes, y otro dataframe que tenga el resto de la muestra y denomínalo df_otras_comunas\n",
    "\n"
   ]
  },
  {
   "cell_type": "code",
   "execution_count": 11,
   "id": "f675baf4",
   "metadata": {},
   "outputs": [
    {
     "name": "stdout",
     "output_type": "stream",
     "text": [
      "Index(['LOS ÁNGELES', 'CONCEPCIÓN', 'SAN PEDRO DE LA PAZ', 'TALCAHUANO',\n",
      "       'CORONEL', 'HUALPÉN'],\n",
      "      dtype='object')\n"
     ]
    }
   ],
   "source": [
    "comunas_grandes = df['NOM_COM_ALU'].value_counts().index[0:6]\n",
    "print(comunas_grandes)\n"
   ]
  },
  {
   "cell_type": "code",
   "execution_count": 12,
   "id": "c091803b",
   "metadata": {},
   "outputs": [],
   "source": [
    "# creando df_comunas_grandes. Usamos el método isin, \n",
    "# el cual retorna True si la comuna está en la variable comunas_grandes\n",
    "df_comunas_grandes = df[df['NOM_COM_ALU'].isin(comunas_grandes)]\n",
    "# creando df_otras_comunas. Esto podríamos hacerlo de muchas formas, \n",
    "# lo hacemos con una negación al isin anterior, o sea, True si la comuna NO está en la variable comunas_grandes\n",
    "df_otras_comunas = df[~df['NOM_COM_ALU'].isin(comunas_grandes)]\n"
   ]
  },
  {
   "cell_type": "markdown",
   "id": "95aba227",
   "metadata": {},
   "source": [
    "4. ¿Esperas que el porcentaje de alumnos rurales sea igual o distinto entre los dataframes? ¿Por qué?\n",
    "\n",
    "**R:** Distinto, ya que los estudiantes que residen en las comunas más grandes de la octava región es mucho más probable que asistan a establecimientos urbanos en sus mismas comunas o en el área metropolitana en que se encuentran, en cambio df_otras_comunas incluye los estudiantes que residen en todas las comunas con mayor porcentaje de ruralidad, por ende uno debiera esperar que ese porcentaje fuera mayor."
   ]
  },
  {
   "cell_type": "markdown",
   "id": "819f72eb",
   "metadata": {},
   "source": [
    "5. Calcula la proporción de alumnos rurales y el promedio de notas en estos dos dataframes."
   ]
  },
  {
   "cell_type": "code",
   "execution_count": 13,
   "id": "5f468c3e",
   "metadata": {},
   "outputs": [
    {
     "name": "stdout",
     "output_type": "stream",
     "text": [
      " promedio con retirados comunas grandes: 6.015 \n",
      " promedio sin retirados comunas grandes: 6.075 \n",
      " promedio con retirados otras comunas: 5.976 \n",
      " promedio sin retirados otras comunas: 6.05\n"
     ]
    }
   ],
   "source": [
    "# proporción de estudiantes en establecimentos rurales\n",
    "\n",
    "prop_rural_comunas_grandes = df_comunas_grandes['RURAL_RBD'].mean()\n",
    "prop_rural_otras_comunas = df_otras_comunas['RURAL_RBD'].mean()\n",
    "\n",
    "# promedio de notas\n",
    "promedio_notas_comunas_grandes = df_comunas_grandes['PROM_GRAL'].mean()\n",
    "promedio_notas_otras_comunas = df_otras_comunas['PROM_GRAL'].mean()\n",
    "\n",
    "# para el promedio, probablemente sea buena idea sacar a los estudiantes retirados, con promedio = 0.\n",
    "\n",
    "promedio_notas_comunas_grandes_sin_retirados = df_comunas_grandes[df_comunas_grandes['PROM_GRAL']>0]['PROM_GRAL'].mean()\n",
    "promedio_notas_otras_comunas_sin_retirados = df_otras_comunas[df_otras_comunas['PROM_GRAL']>0]['PROM_GRAL'].mean()\n",
    "\n",
    "# comparamos promedios con y sin retirados para ver cuanta diferencia hace:\n",
    "\n",
    "print(' promedio con retirados comunas grandes:',round(promedio_notas_comunas_grandes,3) ,\n",
    "     '\\n promedio sin retirados comunas grandes:', round(promedio_notas_comunas_grandes_sin_retirados,3),\n",
    "      '\\n promedio con retirados otras comunas:', round(promedio_notas_otras_comunas,3) ,\n",
    "     '\\n promedio sin retirados otras comunas:', round(promedio_notas_otras_comunas_sin_retirados,3))"
   ]
  },
  {
   "cell_type": "code",
   "execution_count": 14,
   "id": "9f8ef423",
   "metadata": {},
   "outputs": [
    {
     "name": "stdout",
     "output_type": "stream",
     "text": [
      "La proporción de estudiantes que asistieron a establecimientos rurales al finalizar el año 2021 y residen en las 6 comunas más frecuentes de la octava región es 0.045 y la proporción de estudiantes que asistieron a establecimientos rurales al finalizar el año 2021 y no residen en estas seis comnas es de 0.124\n",
      "El promedio de notas de los estudiantes que residen en las 6 comunas más frecuentes de la octava región el año 2021 es de 6.075 y el promedio de los que no residen en estas seis comunas el año 2021 es de 6.05\n"
     ]
    }
   ],
   "source": [
    "print('La proporción de estudiantes que asistieron a establecimientos rurales al finalizar el año 2021',\n",
    "      'y residen en las 6 comunas más frecuentes de la octava región es', round(prop_rural_comunas_grandes,3),\n",
    "      'y la proporción de estudiantes que asistieron a establecimientos rurales al finalizar el año 2021 y no residen en estas seis comnas es de',\n",
    "     round(prop_rural_otras_comunas,3))\n",
    "\n",
    "print('El promedio de notas de los estudiantes que',\n",
    "      'residen en las 6 comunas más frecuentes de la octava región el año 2021 es de', round(promedio_notas_comunas_grandes_sin_retirados,3),\n",
    "      'y el promedio de los que no residen en estas seis comunas el año 2021 es de',\n",
    "     round(promedio_notas_otras_comunas_sin_retirados,3))"
   ]
  },
  {
   "cell_type": "markdown",
   "id": "374b6784",
   "metadata": {},
   "source": [
    "6. Dibuja un histograma con el promedio de notas para ambos dataframes"
   ]
  },
  {
   "cell_type": "code",
   "execution_count": 15,
   "id": "30a78152",
   "metadata": {},
   "outputs": [
    {
     "data": {
      "image/png": "[encoded data removed]",
      "text/plain": [
       "<Figure size 864x360 with 1 Axes>"
      ]
     },
     "metadata": {
      "needs_background": "light"
     },
     "output_type": "display_data"
    }
   ],
   "source": [
    "plt.rcParams['figure.figsize'] = (12,5)\n",
    "plt.hist(df_comunas_grandes[df_comunas_grandes['PROM_GRAL']>0]['PROM_GRAL'],\n",
    "         edgecolor = 'black', linewidth = 1.2, bins = 25, color = 'green',alpha=0.2)\n",
    "plt.hist(df_otras_comunas[df_otras_comunas['PROM_GRAL']>0]['PROM_GRAL'],\n",
    "         edgecolor = 'black', linewidth = 1.2, bins = 25, color = 'red',alpha=0.2)\n",
    "plt.title(\"Distribución de Promedio de Notas para estudiantes residentes en comunas grandes y en otras comunas\")\n",
    "plt.show()"
   ]
  },
  {
   "cell_type": "markdown",
   "id": "e44cd93c",
   "metadata": {},
   "source": [
    " ## 2.3 Letras del curso\n",
    " Veamos ahora la cantidad de estudiantes del dataframe en cursos con distinta letra\n",
    " 1. Antes de correr la siguiente línea, ¿tienes alguna hipótesis de como va a ser esta distribución? Comenta:\n",
    " "
   ]
  },
  {
   "cell_type": "markdown",
   "id": "4d4a8013",
   "metadata": {},
   "source": [
    "**R:** Uno podría esperar que hayan más estudiantes en cursos con letra A, ya que los colegios empiezan a enumerar los cursos por esa letra, de manera secuencial siguiendo el abecedario. Entonces uno esperaría que los colegios/liceos grandes (con muchos niveles) tengan varias letras, hasta la E o más, que las instituciones de tamaño mediano tengan A,B y C, y que las instituciones pequeñas tengan solo A."
   ]
  },
  {
   "cell_type": "code",
   "execution_count": 16,
   "id": "8f0e7a47",
   "metadata": {},
   "outputs": [
    {
     "data": {
      "text/plain": [
       "A     151518\n",
       "B      73676\n",
       "C      24000\n",
       "D      10337\n",
       "E       5649\n",
       "F       3628\n",
       "G       1822\n",
       "H        952\n",
       "I        641\n",
       "S        254\n",
       "J        228\n",
       "L        165\n",
       "P        146\n",
       "AE       144\n",
       "BE       140\n",
       "Name: LET_CUR, dtype: int64"
      ]
     },
     "execution_count": 16,
     "metadata": {},
     "output_type": "execute_result"
    }
   ],
   "source": [
    "df['LET_CUR'].value_counts().head(15)"
   ]
  },
  {
   "cell_type": "markdown",
   "id": "456d006a",
   "metadata": {},
   "source": [
    "2. Crea 2 dataframes llamados df_A_samp y df_E_samp con un sampling de 300 sujetos sin reemplazo"
   ]
  },
  {
   "cell_type": "markdown",
   "id": "4c575cb6",
   "metadata": {},
   "source": [
    "### OJO \n",
    "La idea era que estos dataframes hubieran sido muestreos de estudiantes que están en cursos con la letra A y con la letra E respectivamente, pero la instrucción para ello no está explícita en las instrucciones, por tanto si los muestreos son aleatorios sobre df, igual cuentan como correctos. Acá lo haremos filtrando por letra"
   ]
  },
  {
   "cell_type": "code",
   "execution_count": 17,
   "id": "78a009bc",
   "metadata": {},
   "outputs": [],
   "source": [
    "# La idea era que estos dataframes hubieran sido \n",
    "# muestreos de estudiantes que están en cursos con la letra A y con la letra E respectivamente,\n",
    "# pero la instrucción no está explícita, por tanto si los muestreos son aleatorios sobre df, \n",
    "# igual cuentan como correctos. Acá lo haremos filtrando por letra\n",
    "\n",
    "n=300\n",
    "\n",
    "df_A_samp = df[df['LET_CUR']==\"A\"].sample(n)\n",
    "\n",
    "df_E_samp = df[df['LET_CUR']==\"E\"].sample(n)"
   ]
  },
  {
   "cell_type": "markdown",
   "id": "90aae4c9",
   "metadata": {},
   "source": [
    "3. Calcula la proporción de estudiantes en establecimientos rurales para ambas muestras, y un intervalo de confianza al 95% para cada muestra, y responde si los intervalos se intersectan o no."
   ]
  },
  {
   "cell_type": "code",
   "execution_count": 18,
   "id": "504419c8",
   "metadata": {},
   "outputs": [
    {
     "name": "stdout",
     "output_type": "stream",
     "text": [
      "0.14\n",
      "0.03666666666666667\n",
      "True True\n",
      "True True\n",
      "[0.10073472102055898, 0.17926527897944106]\n",
      "[0.015399019179705879, 0.05793431415362746]\n"
     ]
    }
   ],
   "source": [
    "\n",
    "\n",
    "prop_est_rural_A = df_A_samp['RURAL_RBD'].mean()\n",
    "prop_est_rural_E = df_E_samp['RURAL_RBD'].mean()\n",
    "\n",
    "print(prop_est_rural_A)\n",
    "print(prop_est_rural_E)\n",
    "\n",
    "# chequear condiciones de exito/fracaso\n",
    "# para A\n",
    "print( n*prop_est_rural_A>10,n*(1-prop_est_rural_A)>10 )\n",
    "\n",
    "# para E\n",
    "print( n*prop_est_rural_E>10,n*(1-prop_est_rural_E)>10 )\n",
    "\n",
    "# calcular error estándar\n",
    "SE_est_rural_A = (prop_est_rural_A*(1-prop_est_rural_A)/n )**0.5\n",
    "SE_est_rural_E = (prop_est_rural_E*(1-prop_est_rural_E)/n )**0.5\n",
    "\n",
    "\n",
    "\n",
    "IC_rural_A = [prop_est_rural_A - 1.96* SE_est_rural_A , prop_est_rural_A + 1.96* SE_est_rural_A ]\n",
    "IC_rural_E = [prop_est_rural_E - 1.96* SE_est_rural_E , prop_est_rural_E + 1.96* SE_est_rural_E ]\n",
    "\n",
    "print(IC_rural_A)\n",
    "print(IC_rural_E)"
   ]
  },
  {
   "cell_type": "markdown",
   "id": "57f6b8af",
   "metadata": {},
   "source": [
    "Los intervalos NO se interesectan."
   ]
  },
  {
   "cell_type": "markdown",
   "id": "9b41e490",
   "metadata": {},
   "source": [
    "4. ¿Esperabas este resultado o algo diferente? Comenta\n",
    "\n",
    "**R:** Esto podría haberse esperado, dado que como se mencionó antes, la letra A incluye estudiantes en establecimientos de todo tipo de tamaños, versus la letra E que solo incluye establecimientos grandes, los cuales uno podría esperar que estén más localizados en sectores urbanos que en sectores rurales.\n"
   ]
  }
 ],
 "metadata": {
  "kernelspec": {
   "display_name": "Python 3 (ipykernel)",
   "language": "python",
   "name": "python3"
  },
  "language_info": {
   "codemirror_mode": {
    "name": "ipython",
    "version": 3
   },
   "file_extension": ".py",
   "mimetype": "text/x-python",
   "name": "python",
   "nbconvert_exporter": "python",
   "pygments_lexer": "ipython3",
   "version": "3.9.12"
  }
 },
 "nbformat": 4,
 "nbformat_minor": 5
}
