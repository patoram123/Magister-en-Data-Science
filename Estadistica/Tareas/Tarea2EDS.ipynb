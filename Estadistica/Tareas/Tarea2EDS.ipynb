{
 "cells": [
  {
   "cell_type": "markdown",
   "metadata": {},
   "source": [
    "# Tarea 2: Estadística para Data Science\n",
    "\n",
    "Fecha de entrega: 28/06/2022 a las 23:59 PM\n",
    "\n",
    "Se puede trabajar de manera individual o en grupos de máximo 4 personas. Si trabajas en grupo, igualmente debes entregar la tarea en el buzón de manera individual con tu nombre y los nombres de los otros integrantes del grupo."
   ]
  },
  {
   "cell_type": "markdown",
   "metadata": {},
   "source": [
    "En esta tarea vamos a explorar como un estadístico de una muestra aleatoria de datos puede servir como un estimador puntual de un parámetro de una población. Vamos a formar una distribución de muestreo de nuestro estimador y vamos a ir aprendiendo sobre sus propiedades.\n"
   ]
  },
  {
   "cell_type": "markdown",
   "metadata": {},
   "source": [
    "## Dataset: Real estate en Ames, Iowa"
   ]
  },
  {
   "cell_type": "markdown",
   "metadata": {},
   "source": [
    "Vamos a cargar nuestro primer dataset, el detalle de cada transacción de venta de propiedades residenciales en la ciudad de Ames, que fueron registradas entre el 2006 y el 2010. Este set de datos censal va a representar nuestra población de interés. "
   ]
  },
  {
   "cell_type": "code",
   "execution_count": null,
   "metadata": {},
   "outputs": [],
   "source": [
    "import pandas as pd\n",
    "import matplotlib.pyplot as plt\n",
    "%matplotlib inline "
   ]
  },
  {
   "cell_type": "code",
   "execution_count": null,
   "metadata": {},
   "outputs": [],
   "source": [
    "df_url = 'https://raw.githubusercontent.com/vmlandae/datasets_eds/main/clase4/ames.csv'\n",
    "\n",
    "ames = pd.read_csv(df_url)"
   ]
  },
  {
   "cell_type": "markdown",
   "metadata": {},
   "source": [
    "Veamos las primeras filas de este dataset"
   ]
  },
  {
   "cell_type": "code",
   "execution_count": null,
   "metadata": {},
   "outputs": [],
   "source": [
    "ames.head()"
   ]
  },
  {
   "cell_type": "markdown",
   "metadata": {},
   "source": [
    "Vemos que este dataset tiene muchas variables, con los cuales se podrían hacer análisis muy detallados. Para esta tarea, vamos a tomar en cuenta solo algunas variables: El área habitable construida de la casa sobre el suelo en pies cuadrados (`Gr.Liv.Area`), el precio de venta (`SalePrice`), el area del terreno (`Lot.Area`) y la calidad y condición del sistema de calefacción (`Heating.QC`). Creamos un dataframe con estas columnas:"
   ]
  },
  {
   "cell_type": "code",
   "execution_count": null,
   "metadata": {},
   "outputs": [],
   "source": [
    "df = ames[['Gr.Liv.Area','SalePrice','Lot.Area','Heating.QC']]"
   ]
  },
  {
   "cell_type": "markdown",
   "metadata": {},
   "source": [
    "Y vemos algunas estadísticas descriptivas para cada variable ocupando el método `describe()` y el método `value_counts()`."
   ]
  },
  {
   "cell_type": "code",
   "execution_count": null,
   "metadata": {},
   "outputs": [],
   "source": [
    "df.describe()"
   ]
  },
  {
   "cell_type": "code",
   "execution_count": null,
   "metadata": {},
   "outputs": [],
   "source": [
    "df['Heating.QC'].value_counts()"
   ]
  },
  {
   "cell_type": "markdown",
   "metadata": {},
   "source": [
    "En la variable `Heating.QC`, cada categoría corresponde a lo siguiente:\n",
    "\n",
    "Ex: Excellent\n",
    "\n",
    "Gd: Good\n",
    "\n",
    "TA: Average/Typical\n",
    "\n",
    "Fa: Fair\n",
    "\n",
    "Po: Poor"
   ]
  },
  {
   "cell_type": "markdown",
   "metadata": {},
   "source": [
    "Varias columnas tienen puntos, con lo cual no podemos acceder a una columna ocupando la notación `dataframe.columna`. Vamos a crear una variable `area` aparte del dataframe `df`, la cual será una conversión a metros cuadrados de la variable `Gr.Liv.Area`. En términos métricos un pie cuadrado es un cuadrado de lado 0.3048 metros de largo. Por tanto"
   ]
  },
  {
   "cell_type": "code",
   "execution_count": null,
   "metadata": {},
   "outputs": [],
   "source": [
    "sqft_to_sqmt = 0.3048*0.3048\n",
    "print(sqft_to_sqmt)"
   ]
  },
  {
   "cell_type": "markdown",
   "metadata": {},
   "source": [
    "Creamos la variable `area` que será el área habitable de las casas de esta población, medida en metros cuadrados."
   ]
  },
  {
   "cell_type": "code",
   "execution_count": null,
   "metadata": {},
   "outputs": [],
   "source": [
    "\n",
    "area = df['Gr.Liv.Area']*sqft_to_sqmt\n",
    "area"
   ]
  },
  {
   "cell_type": "markdown",
   "metadata": {},
   "source": [
    "Veamos ahora la distribución del área habitable en nuestra población de casas haciendo un histograma"
   ]
  },
  {
   "cell_type": "code",
   "execution_count": null,
   "metadata": {},
   "outputs": [],
   "source": [
    "# Histograma del área habitable\n",
    "\n",
    "# plt.style.use es para cambiar el estilo del gráfico, \n",
    "# se puede ver una referencia acá: https://matplotlib.org/stable/gallery/style_sheets/style_sheets_reference.html\n",
    "plt.style.use('ggplot') # ggplot es un paquete de gráficos muy popular en R.\n",
    "\n",
    "# acá podemos variar el tamaño de la figura: (ancho,alto) \n",
    "plt.rcParams['figure.figsize'] = (8,5)\n",
    "\n",
    "plt.hist(area, edgecolor = 'black', linewidth = 1.2)\n",
    "\n",
    "# plt.axvline grafica una línea vertical, en este caso en la mediana del área\n",
    "plt.axvline(area.median(), color='black', linestyle='dashed', linewidth=3)\n",
    "plt.show()"
   ]
  },
  {
   "cell_type": "markdown",
   "metadata": {},
   "source": [
    "## Pregunta 1:"
   ]
  },
  {
   "cell_type": "markdown",
   "metadata": {},
   "source": [
    "a) Grafica otro histograma de la variable `area`, de dimensiones (12,5), con columnas de color verde, con 30 bins y en un estilo de la página fivethirtyeight, agregando además de la línea vertical de la mediana otra línea vertical para el promedio, de color rojo y con estilo 'dotted'."
   ]
  },
  {
   "cell_type": "code",
   "execution_count": null,
   "metadata": {},
   "outputs": [],
   "source": [
    "# respuesta\n"
   ]
  },
  {
   "cell_type": "markdown",
   "metadata": {},
   "source": [
    "b) Describe esta distribución de población, calculando sus estadísticas descriptivas y comentando sobre el skewness de la distribución. "
   ]
  },
  {
   "cell_type": "code",
   "execution_count": null,
   "metadata": {},
   "outputs": [],
   "source": [
    "# respuesta\n"
   ]
  },
  {
   "cell_type": "markdown",
   "metadata": {},
   "source": [
    "**Respuesta:**"
   ]
  },
  {
   "cell_type": "markdown",
   "metadata": {},
   "source": [
    "## La distribución de muestreo desconocida"
   ]
  },
  {
   "cell_type": "markdown",
   "metadata": {},
   "source": [
    "En este dataset tenemos acceso a un censo de la población objetivo, pero esto es más bien escaso en la vida real, donde recolectar información de toda la población es habitualmente o muy caro o sencillamente imposible. Dado esto, usualmente tomamos una muestra de la población y la usamos para estudiar las propiedades de esta población.\n",
    "\n",
    "Para tomar un muestreo, Pandas tiene un método llamado sample (documentación [acá](https://pandas.pydata.org/docs/reference/api/pandas.DataFrame.sample.html) ). Tomemos una muestra de 50 casas vendidas."
   ]
  },
  {
   "cell_type": "code",
   "execution_count": null,
   "metadata": {},
   "outputs": [],
   "source": [
    "sampl1 = area.sample(n = 50,replace=False)\n",
    "sampl1.describe()"
   ]
  },
  {
   "cell_type": "markdown",
   "metadata": {},
   "source": [
    "Este comando recolecta una muestra aleatoria simple, sin reemplazo, de la variable `area`, y es asignada a la variable `samp1`. Esto es equivalenta a si fuéramos a la oficina de la ciudad y sacáramos al azar cincuenta archivos de venta."
   ]
  },
  {
   "cell_type": "markdown",
   "metadata": {},
   "source": [
    "OJO: cada vez que ejecutamos el método sample, se toma una nueva muestra. Por ejemplo:"
   ]
  },
  {
   "cell_type": "code",
   "execution_count": null,
   "metadata": {},
   "outputs": [],
   "source": [
    "print(area.sample(50).mean())\n",
    "print(area.sample(50).mean())\n",
    "print(area.sample(50).mean())\n",
    "print(area.sample(50).mean())"
   ]
  },
  {
   "cell_type": "markdown",
   "metadata": {},
   "source": [
    "Para que se ocupe la misma \"semilla\" y se genere la misma muestra al ejecutar nuevamente el mismo comando, podemos utilizar el argumento `random_state` con un número o parámetro fijo cualquiera. "
   ]
  },
  {
   "cell_type": "code",
   "execution_count": null,
   "metadata": {},
   "outputs": [],
   "source": [
    "# Por ejemplo, Fijamos random_state=10, y el promedio de este muestreo será 137.197 \n",
    "# siempre que ejecutemos este comando\n",
    "\n",
    "print(area.sample(50,random_state=10).mean())\n",
    "\n",
    "print(area.sample(50,random_state=10).mean())\n",
    "\n",
    "# Ahora random_state=12, y el promedio es 128.901\n",
    "\n",
    "print(area.sample(50,random_state=12).mean())\n",
    "\n",
    "print(area.sample(50,random_state=12).mean())\n"
   ]
  },
  {
   "cell_type": "markdown",
   "metadata": {},
   "source": [
    "## Pregunta 2:\n",
    "Haz un nuevo muestreo con n=50 y random_state=5 que se llame `sample_area_rs5`. Describe la distribución de la  muestra. ¿Cómo se compara con la distribución de la población? \n"
   ]
  },
  {
   "cell_type": "code",
   "execution_count": null,
   "metadata": {},
   "outputs": [],
   "source": [
    "# Respuesta\n"
   ]
  },
  {
   "cell_type": "markdown",
   "metadata": {},
   "source": [
    "**Respuesta:**\n",
    "\n"
   ]
  },
  {
   "cell_type": "markdown",
   "metadata": {},
   "source": [
    "Si queremos estimar el área habitable promedio de las casas vendidas en Ames usando la muestra, nuestra mejor conjetura es la media muestral. "
   ]
  },
  {
   "cell_type": "markdown",
   "metadata": {},
   "source": [
    "Dependiendo del muestreo seleccionado, el estimador podría estar un poco más arriba o más abajo del valor real de la media de la población de 139.33 metros cuadrados."
   ]
  },
  {
   "cell_type": "markdown",
   "metadata": {},
   "source": [
    "## Pregunta 3\n",
    "\n",
    "Toma una segunda muestra, también de tamaño 50 y llámala `samp2`.¿Cómo se compara la media de `samp2`con la media de `samp1`, con la media de `sample_area_rs5` y con la media poblacional de `area`? "
   ]
  },
  {
   "cell_type": "code",
   "execution_count": null,
   "metadata": {},
   "outputs": [],
   "source": [
    "# Respuesta\n",
    "\n"
   ]
  },
  {
   "cell_type": "markdown",
   "metadata": {},
   "source": [
    "**Respuesta:**"
   ]
  },
  {
   "cell_type": "markdown",
   "metadata": {},
   "source": [
    "Cada vez que tomamos una nueva muestra aleatoria obtenemos una media muestral distinta. Es útil tener una idea de cuánta variabilidad deberíamos esperar al estimar la media de la población de esta manera. La distribución de las medias muestrales, denominada *distribución muestral*, puede ayudarnos a comprender esta variabilidad. Como en este dataset tenemos acceso a los datos de la población, podemos construir una distribución muestral repitiendo los pasos anteriores muchas veces. Vamos a generar 10000 muestreos y vamos a calcular la media muestral para cada uno de ellos."
   ]
  },
  {
   "cell_type": "markdown",
   "metadata": {},
   "source": [
    "Vamos a usar un `for` loop pra generar 2000 muestreos de las áreas de 50 casas, calculando la media de cada muestreo y almacenándolo en una variable llamada `sample_means50`."
   ]
  },
  {
   "cell_type": "code",
   "execution_count": null,
   "metadata": {},
   "outputs": [],
   "source": [
    "sample_means50 = [area.sample(50).mean() for i in range(0, 2000)]"
   ]
  },
  {
   "cell_type": "markdown",
   "metadata": {},
   "source": [
    "Ojo, al hacer este for loop de esta forma, la variable `sample_means50` es un objeto de tipo `list`."
   ]
  },
  {
   "cell_type": "code",
   "execution_count": null,
   "metadata": {},
   "outputs": [],
   "source": [
    "type(sample_means50)"
   ]
  },
  {
   "cell_type": "markdown",
   "metadata": {},
   "source": [
    "Por tanto, si queremos ocupar un método de Pandas con esta lista, como por ejemplo `describe`, no me funcionará."
   ]
  },
  {
   "cell_type": "code",
   "execution_count": null,
   "metadata": {},
   "outputs": [],
   "source": [
    "# sample_means50.describe()"
   ]
  },
  {
   "cell_type": "markdown",
   "metadata": {},
   "source": [
    "Si quisiera ocupar el método `describe`, tendría que crear un nuevo objeto en Pandas y luego aplicar el método `describe` sobre ese objeto."
   ]
  },
  {
   "cell_type": "code",
   "execution_count": null,
   "metadata": {},
   "outputs": [],
   "source": [
    "sm50 = pd.Series(sample_means50)\n",
    "type(sm50)"
   ]
  },
  {
   "cell_type": "code",
   "execution_count": null,
   "metadata": {},
   "outputs": [],
   "source": [
    "sm50.describe()"
   ]
  },
  {
   "cell_type": "markdown",
   "metadata": {},
   "source": [
    "Ahora, graficamos un histograma para esta nueva variable `sm50`"
   ]
  },
  {
   "cell_type": "code",
   "execution_count": null,
   "metadata": {},
   "outputs": [],
   "source": [
    "plt.rcParams['figure.figsize'] = (10,5)\n",
    "plt.hist(sm50, edgecolor = 'black', linewidth = 1.2, bins =30,alpha=0.8)\n",
    "plt.show()"
   ]
  },
  {
   "cell_type": "markdown",
   "metadata": {},
   "source": [
    "## Pregunta 4\n",
    "¿Cuántos elementos tiene `sm50`? Ocupa el comando `describe` y describe la distribución.\n"
   ]
  },
  {
   "cell_type": "code",
   "execution_count": null,
   "metadata": {},
   "outputs": [],
   "source": [
    "# Respuesta\n",
    "\n",
    "\n"
   ]
  },
  {
   "cell_type": "markdown",
   "metadata": {},
   "source": [
    "**Respuesta:**"
   ]
  },
  {
   "cell_type": "markdown",
   "metadata": {},
   "source": [
    "## Pregunta 5\n",
    "¿Qué pasaría con la distribución de muestreo si generamos 20000 muestreos de n=50?\n",
    "Genera un nuevo vector llamado `sample_means50_20000` y conviértelo a una serie de pandas llamada `sm50_20000`,  Ocupa el comando `describe`, grafica un nuevo histograma y describe la nueva distribución. ¿Cómo se compara la distribución de `sm50_20000` con la de `sm50`?"
   ]
  },
  {
   "cell_type": "code",
   "execution_count": null,
   "metadata": {},
   "outputs": [],
   "source": [
    "# Respuesta\n",
    "\n",
    "\n",
    "\n"
   ]
  },
  {
   "cell_type": "markdown",
   "metadata": {},
   "source": [
    "**Respuesta:**\n",
    "\n"
   ]
  },
  {
   "cell_type": "markdown",
   "metadata": {},
   "source": [
    "## Tamaño de la muestra y distribución de muestreo"
   ]
  },
  {
   "cell_type": "markdown",
   "metadata": {},
   "source": [
    "Debido a que la media muestral es un estimador insesgado, la distribución de muestreo está centrada en el promedio de área habitable verdadero de la población, y la dispersión de la distribución nos indica cuánta variabilidad está inducida al hacer un muestreo de solo 50 ventas.\n",
    "\n",
    "Para que tengamos una idea del efecto que el tamaño de la muestra tiene en nuestra distribución, construyamos tres muestreos más de distribuciones de muestreos: Una basada en un tamaño de muestra de 10, la otra con un tamaño de 100 y otra con un tamaño de 200."
   ]
  },
  {
   "cell_type": "code",
   "execution_count": null,
   "metadata": {},
   "outputs": [],
   "source": [
    "sample_means10 = [area.sample(10).mean() for i in range(0, 2000)]\n",
    "sample_means100 = [area.sample(100).mean() for i in range(0, 2000)]\n",
    "sample_means200 = [area.sample(200).mean() for i in range(0, 2000)]"
   ]
  },
  {
   "cell_type": "code",
   "execution_count": null,
   "metadata": {},
   "outputs": [],
   "source": [
    "# convertimos a series de Pandas\n",
    "sm10 = pd.Series(sample_means10)\n",
    "sm100 = pd.Series(sample_means100)\n",
    "sm200 = pd.Series(sample_means200)"
   ]
  },
  {
   "cell_type": "markdown",
   "metadata": {},
   "source": [
    "Para ver el efecto que distintos tamaños de muestras tienen en la distribución de muestreo, graficamos las tres distribuciones una arriba de la otra"
   ]
  },
  {
   "cell_type": "code",
   "execution_count": null,
   "metadata": {},
   "outputs": [],
   "source": [
    "plt.rcParams['figure.figsize'] = (12,5)\n",
    "plt.hist(sm10, edgecolor = 'black', linewidth = 1.2, bins = 25, color = 'blue')\n",
    "plt.title(\"Tamaño de muestra 10\")\n",
    "plt.show()\n",
    "plt.hist(sm50, edgecolor = 'black', linewidth = 1.2, bins = 25)\n",
    "plt.title(\"Tamaño de muestra 50\")\n",
    "plt.show()\n",
    "plt.hist(sm100, edgecolor = 'black', linewidth = 1.2, bins = 25, color = 'purple')\n",
    "plt.title(\"Tamaño de muestra 100\")\n",
    "plt.show()\n",
    "plt.hist(sm200, edgecolor = 'black', linewidth = 1.2, bins = 25, color = 'green')\n",
    "plt.title(\"Tamaño de muestra 200\")\n",
    "plt.show()"
   ]
  },
  {
   "cell_type": "markdown",
   "metadata": {},
   "source": [
    "Cada gráfico tiene un rango distinto. Para poder hacer una mejor comparación, el rango del eje X debiera ser el mismo para todos los gráficos. Podemos hacer esto graficando todos los histogramas superpuestos, ocupando el argumento `alpha`."
   ]
  },
  {
   "cell_type": "code",
   "execution_count": null,
   "metadata": {},
   "outputs": [],
   "source": [
    "plt.rcParams['figure.figsize'] = (12,5)\n",
    "plt.hist(sm10, edgecolor = 'black', linewidth = 1.2, bins = 25, color = 'blue',alpha=0.4)\n",
    "plt.hist(sm50, edgecolor = 'black', linewidth = 1.2, bins = 25,alpha=0.4)\n",
    "plt.hist(sm100, edgecolor = 'black', linewidth = 1.2, bins = 25, color = 'purple',alpha=0.4)\n",
    "plt.hist(sm200, edgecolor = 'black', linewidth = 1.2, bins = 25, color = 'green',alpha=0.4)\n",
    "plt.title(\"Distribuciones de muestreo con distintos tamaños de muestra\")\n",
    "plt.show()"
   ]
  },
  {
   "cell_type": "markdown",
   "metadata": {},
   "source": [
    "## Pregunta 6\n",
    "Cuando el tamaño de la muestra es más grande, ¿qué pasa con el centro? ¿Y con la dispersión?"
   ]
  },
  {
   "cell_type": "markdown",
   "metadata": {},
   "source": [
    "**Respuesta:**"
   ]
  },
  {
   "cell_type": "markdown",
   "metadata": {
    "tags": []
   },
   "source": [
    "## Pregunta 7\n",
    "Hasta ahora trabajamos con el área promedio. Ahora, deberás tratar de estimar la media del precio de venta.\n",
    "\n",
    "a) Toma un muestreo aleatorio de la variable `SalePrice` de tamaño 10. Usando esta muestra, ¿Cuál es tu estimación puntual de la media de la población? Toma otro muestreo de tamaño 150, y teniendo estos dos muestreos,  ¿Cuál sería tu estimación puntual de la media de la población?"
   ]
  },
  {
   "cell_type": "code",
   "execution_count": null,
   "metadata": {},
   "outputs": [],
   "source": [
    "# Respuesta\n",
    "\n",
    "\n",
    "\n"
   ]
  },
  {
   "cell_type": "markdown",
   "metadata": {},
   "source": [
    "**Respuesta:**"
   ]
  },
  {
   "cell_type": "markdown",
   "metadata": {
    "tags": []
   },
   "source": [
    "b) Usa un `for` loop como en las preguntas anteriores para generar 5000 muestreos de los precios de 150 casas, calculando la media de cada muestreo y almacenándolo en una variable llamada `sample_means150`."
   ]
  },
  {
   "cell_type": "code",
   "execution_count": null,
   "metadata": {},
   "outputs": [],
   "source": [
    "# Respuesta\n",
    "\n",
    "\n"
   ]
  },
  {
   "cell_type": "markdown",
   "metadata": {},
   "source": [
    "**Respuesta:**"
   ]
  },
  {
   "cell_type": "markdown",
   "metadata": {
    "tags": []
   },
   "source": [
    "c) Haz un histograma, describe la forma de esta distribución de muestreo y calcula el promedio de la variable `sample_means150`.  Compáralo con el promedio de la población real."
   ]
  },
  {
   "cell_type": "code",
   "execution_count": null,
   "metadata": {},
   "outputs": [],
   "source": [
    "# Respuesta\n",
    "\n",
    "\n",
    "\n"
   ]
  },
  {
   "cell_type": "markdown",
   "metadata": {},
   "source": [
    "**Respuesta:**"
   ]
  },
  {
   "cell_type": "markdown",
   "metadata": {},
   "source": [
    "## Pregunta 8: Correlaciones\n",
    "\n",
    "a) Calcula la matriz de correlaciones entre las variables `Gr.Liv.Area`, `SalePrice`, `Lot.Area`."
   ]
  },
  {
   "cell_type": "code",
   "execution_count": null,
   "metadata": {},
   "outputs": [],
   "source": [
    "# Respuesta\n",
    "\n",
    "\n"
   ]
  },
  {
   "cell_type": "markdown",
   "metadata": {},
   "source": [
    "b) Comenta por qué sería esperable (o no) que el coeficiente de correlación entre el precio de venta y el área habitable es más grande que entre el precio de venta y el área del lote."
   ]
  },
  {
   "cell_type": "markdown",
   "metadata": {},
   "source": [
    "**Respuesta:**\n"
   ]
  },
  {
   "cell_type": "markdown",
   "metadata": {},
   "source": [
    "Creamos dos dataframes llamados `df_excellent` y `df_other`, que contienen a las ventas de casas con calefacción de calidad *Excellent* y del resto de las calidades respectivamente."
   ]
  },
  {
   "cell_type": "code",
   "execution_count": null,
   "metadata": {},
   "outputs": [],
   "source": [
    "df_excellent = df[df['Heating.QC']==\"Ex\"]\n",
    "df_excellent"
   ]
  },
  {
   "cell_type": "code",
   "execution_count": null,
   "metadata": {},
   "outputs": [],
   "source": [
    "df_other = df[df['Heating.QC']!=\"Ex\"]\n",
    "df_other"
   ]
  },
  {
   "cell_type": "markdown",
   "metadata": {},
   "source": [
    "c) Calcula las matrices de correlación para ambos dataframes df_excellent y df_other, y comenta si los cambios en los coeficientes de correlación entre el precio de venta y el área habitable, y el precio de venta y el área del lote te hacen sentido y qué interpretación podría hacerse al respecto. "
   ]
  },
  {
   "cell_type": "code",
   "execution_count": null,
   "metadata": {},
   "outputs": [],
   "source": [
    "## df_excellent\n",
    "\n"
   ]
  },
  {
   "cell_type": "code",
   "execution_count": null,
   "metadata": {},
   "outputs": [],
   "source": [
    "## df_other\n",
    "\n"
   ]
  },
  {
   "cell_type": "markdown",
   "metadata": {},
   "source": [
    "**Respuesta:**"
   ]
  }
 ],
 "metadata": {
  "kernelspec": {
   "display_name": "Python 3 (ipykernel)",
   "language": "python",
   "name": "python3"
  },
  "language_info": {
   "codemirror_mode": {
    "name": "ipython",
    "version": 3
   },
   "file_extension": ".py",
   "mimetype": "text/x-python",
   "name": "python",
   "nbconvert_exporter": "python",
   "pygments_lexer": "ipython3",
   "version": "3.9.12"
  }
 },
 "nbformat": 4,
 "nbformat_minor": 4
}
