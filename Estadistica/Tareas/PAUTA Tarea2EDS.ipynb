{
 "cells": [
  {
   "cell_type": "markdown",
   "metadata": {},
   "source": [
    "# PAUTA\n",
    "# Tarea 2: Estadística para Data Science\n",
    "\n",
    "Se puede trabajar de manera individual o en grupos de máximo 4 personas. Si trabajas en grupo, igualmente debes entregar la tarea en el buzón de manera individual con tu nombre y los nombres de los otros integrantes del grupo."
   ]
  },
  {
   "cell_type": "markdown",
   "metadata": {},
   "source": [
    "En esta tarea vamos a explorar como un estadístico de una muestra aleatoria de datos puede servir como un estimador puntual de un parámetro de una población. Vamos a formar una distribución de muestreo de nuestro estimador y vamos a ir aprendiendo sobre sus propiedades.\n"
   ]
  },
  {
   "cell_type": "markdown",
   "metadata": {},
   "source": [
    "## Dataset: Real estate en Ames, Iowa"
   ]
  },
  {
   "cell_type": "markdown",
   "metadata": {},
   "source": [
    "Vamos a cargar nuestro primer dataset, el detalle de cada transacción de venta de propiedades residenciales en la ciudad de Ames, que fueron registradas entre el 2006 y el 2010. Este set de datos censal va a representar nuestra población de interés. "
   ]
  },
  {
   "cell_type": "code",
   "execution_count": 1,
   "metadata": {},
   "outputs": [],
   "source": [
    "import pandas as pd\n",
    "import matplotlib.pyplot as plt\n",
    "%matplotlib inline "
   ]
  },
  {
   "cell_type": "code",
   "execution_count": 2,
   "metadata": {},
   "outputs": [],
   "source": [
    "df_url = 'https://raw.githubusercontent.com/vmlandae/datasets_eds/main/clase4/ames.csv'\n",
    "\n",
    "ames = pd.read_csv(df_url)"
   ]
  },
  {
   "cell_type": "markdown",
   "metadata": {},
   "source": [
    "Veamos las primeras filas de este dataset"
   ]
  },
  {
   "cell_type": "code",
   "execution_count": 3,
   "metadata": {},
   "outputs": [
    {
     "data": {
      "text/html": [
       "<div>\n",
       "<style scoped>\n",
       "    .dataframe tbody tr th:only-of-type {\n",
       "        vertical-align: middle;\n",
       "    }\n",
       "\n",
       "    .dataframe tbody tr th {\n",
       "        vertical-align: top;\n",
       "    }\n",
       "\n",
       "    .dataframe thead th {\n",
       "        text-align: right;\n",
       "    }\n",
       "</style>\n",
       "<table border=\"1\" class=\"dataframe\">\n",
       "  <thead>\n",
       "    <tr style=\"text-align: right;\">\n",
       "      <th></th>\n",
       "      <th>Order</th>\n",
       "      <th>PID</th>\n",
       "      <th>MS.SubClass</th>\n",
       "      <th>MS.Zoning</th>\n",
       "      <th>Lot.Frontage</th>\n",
       "      <th>Lot.Area</th>\n",
       "      <th>Street</th>\n",
       "      <th>Alley</th>\n",
       "      <th>Lot.Shape</th>\n",
       "      <th>Land.Contour</th>\n",
       "      <th>...</th>\n",
       "      <th>Pool.Area</th>\n",
       "      <th>Pool.QC</th>\n",
       "      <th>Fence</th>\n",
       "      <th>Misc.Feature</th>\n",
       "      <th>Misc.Val</th>\n",
       "      <th>Mo.Sold</th>\n",
       "      <th>Yr.Sold</th>\n",
       "      <th>Sale.Type</th>\n",
       "      <th>Sale.Condition</th>\n",
       "      <th>SalePrice</th>\n",
       "    </tr>\n",
       "  </thead>\n",
       "  <tbody>\n",
       "    <tr>\n",
       "      <th>0</th>\n",
       "      <td>1</td>\n",
       "      <td>526301100</td>\n",
       "      <td>20</td>\n",
       "      <td>RL</td>\n",
       "      <td>141.0</td>\n",
       "      <td>31770</td>\n",
       "      <td>Pave</td>\n",
       "      <td>NaN</td>\n",
       "      <td>IR1</td>\n",
       "      <td>Lvl</td>\n",
       "      <td>...</td>\n",
       "      <td>0</td>\n",
       "      <td>NaN</td>\n",
       "      <td>NaN</td>\n",
       "      <td>NaN</td>\n",
       "      <td>0</td>\n",
       "      <td>5</td>\n",
       "      <td>2010</td>\n",
       "      <td>WD</td>\n",
       "      <td>Normal</td>\n",
       "      <td>215000</td>\n",
       "    </tr>\n",
       "    <tr>\n",
       "      <th>1</th>\n",
       "      <td>2</td>\n",
       "      <td>526350040</td>\n",
       "      <td>20</td>\n",
       "      <td>RH</td>\n",
       "      <td>80.0</td>\n",
       "      <td>11622</td>\n",
       "      <td>Pave</td>\n",
       "      <td>NaN</td>\n",
       "      <td>Reg</td>\n",
       "      <td>Lvl</td>\n",
       "      <td>...</td>\n",
       "      <td>0</td>\n",
       "      <td>NaN</td>\n",
       "      <td>MnPrv</td>\n",
       "      <td>NaN</td>\n",
       "      <td>0</td>\n",
       "      <td>6</td>\n",
       "      <td>2010</td>\n",
       "      <td>WD</td>\n",
       "      <td>Normal</td>\n",
       "      <td>105000</td>\n",
       "    </tr>\n",
       "    <tr>\n",
       "      <th>2</th>\n",
       "      <td>3</td>\n",
       "      <td>526351010</td>\n",
       "      <td>20</td>\n",
       "      <td>RL</td>\n",
       "      <td>81.0</td>\n",
       "      <td>14267</td>\n",
       "      <td>Pave</td>\n",
       "      <td>NaN</td>\n",
       "      <td>IR1</td>\n",
       "      <td>Lvl</td>\n",
       "      <td>...</td>\n",
       "      <td>0</td>\n",
       "      <td>NaN</td>\n",
       "      <td>NaN</td>\n",
       "      <td>Gar2</td>\n",
       "      <td>12500</td>\n",
       "      <td>6</td>\n",
       "      <td>2010</td>\n",
       "      <td>WD</td>\n",
       "      <td>Normal</td>\n",
       "      <td>172000</td>\n",
       "    </tr>\n",
       "    <tr>\n",
       "      <th>3</th>\n",
       "      <td>4</td>\n",
       "      <td>526353030</td>\n",
       "      <td>20</td>\n",
       "      <td>RL</td>\n",
       "      <td>93.0</td>\n",
       "      <td>11160</td>\n",
       "      <td>Pave</td>\n",
       "      <td>NaN</td>\n",
       "      <td>Reg</td>\n",
       "      <td>Lvl</td>\n",
       "      <td>...</td>\n",
       "      <td>0</td>\n",
       "      <td>NaN</td>\n",
       "      <td>NaN</td>\n",
       "      <td>NaN</td>\n",
       "      <td>0</td>\n",
       "      <td>4</td>\n",
       "      <td>2010</td>\n",
       "      <td>WD</td>\n",
       "      <td>Normal</td>\n",
       "      <td>244000</td>\n",
       "    </tr>\n",
       "    <tr>\n",
       "      <th>4</th>\n",
       "      <td>5</td>\n",
       "      <td>527105010</td>\n",
       "      <td>60</td>\n",
       "      <td>RL</td>\n",
       "      <td>74.0</td>\n",
       "      <td>13830</td>\n",
       "      <td>Pave</td>\n",
       "      <td>NaN</td>\n",
       "      <td>IR1</td>\n",
       "      <td>Lvl</td>\n",
       "      <td>...</td>\n",
       "      <td>0</td>\n",
       "      <td>NaN</td>\n",
       "      <td>MnPrv</td>\n",
       "      <td>NaN</td>\n",
       "      <td>0</td>\n",
       "      <td>3</td>\n",
       "      <td>2010</td>\n",
       "      <td>WD</td>\n",
       "      <td>Normal</td>\n",
       "      <td>189900</td>\n",
       "    </tr>\n",
       "  </tbody>\n",
       "</table>\n",
       "<p>5 rows × 82 columns</p>\n",
       "</div>"
      ],
      "text/plain": [
       "   Order        PID  MS.SubClass MS.Zoning  Lot.Frontage  Lot.Area Street  \\\n",
       "0      1  526301100           20        RL         141.0     31770   Pave   \n",
       "1      2  526350040           20        RH          80.0     11622   Pave   \n",
       "2      3  526351010           20        RL          81.0     14267   Pave   \n",
       "3      4  526353030           20        RL          93.0     11160   Pave   \n",
       "4      5  527105010           60        RL          74.0     13830   Pave   \n",
       "\n",
       "  Alley Lot.Shape Land.Contour  ... Pool.Area Pool.QC  Fence Misc.Feature  \\\n",
       "0   NaN       IR1          Lvl  ...         0     NaN    NaN          NaN   \n",
       "1   NaN       Reg          Lvl  ...         0     NaN  MnPrv          NaN   \n",
       "2   NaN       IR1          Lvl  ...         0     NaN    NaN         Gar2   \n",
       "3   NaN       Reg          Lvl  ...         0     NaN    NaN          NaN   \n",
       "4   NaN       IR1          Lvl  ...         0     NaN  MnPrv          NaN   \n",
       "\n",
       "  Misc.Val Mo.Sold Yr.Sold Sale.Type  Sale.Condition  SalePrice  \n",
       "0        0       5    2010       WD           Normal     215000  \n",
       "1        0       6    2010       WD           Normal     105000  \n",
       "2    12500       6    2010       WD           Normal     172000  \n",
       "3        0       4    2010       WD           Normal     244000  \n",
       "4        0       3    2010       WD           Normal     189900  \n",
       "\n",
       "[5 rows x 82 columns]"
      ]
     },
     "execution_count": 3,
     "metadata": {},
     "output_type": "execute_result"
    }
   ],
   "source": [
    "ames.head()"
   ]
  },
  {
   "cell_type": "markdown",
   "metadata": {},
   "source": [
    "Vemos que este dataset tiene muchas variables, con los cuales se podrían hacer análisis muy detallados. Para esta tarea, vamos a tomar en cuenta solo algunas variables: El área habitable construida de la casa sobre el suelo en pies cuadrados (`Gr.Liv.Area`), el precio de venta (`SalePrice`), el area del terreno (`Lot.Area`) y la calidad y condición del sistema de calefacción (`Heating.QC`). Creamos un dataframe con estas columnas:"
   ]
  },
  {
   "cell_type": "code",
   "execution_count": 4,
   "metadata": {},
   "outputs": [],
   "source": [
    "df = ames[['Gr.Liv.Area','SalePrice','Lot.Area','Heating.QC']]"
   ]
  },
  {
   "cell_type": "markdown",
   "metadata": {},
   "source": [
    "Y vemos algunas estadísticas descriptivas para cada variable ocupando el método `describe()` y el método `value_counts()`."
   ]
  },
  {
   "cell_type": "code",
   "execution_count": 5,
   "metadata": {},
   "outputs": [
    {
     "data": {
      "text/html": [
       "<div>\n",
       "<style scoped>\n",
       "    .dataframe tbody tr th:only-of-type {\n",
       "        vertical-align: middle;\n",
       "    }\n",
       "\n",
       "    .dataframe tbody tr th {\n",
       "        vertical-align: top;\n",
       "    }\n",
       "\n",
       "    .dataframe thead th {\n",
       "        text-align: right;\n",
       "    }\n",
       "</style>\n",
       "<table border=\"1\" class=\"dataframe\">\n",
       "  <thead>\n",
       "    <tr style=\"text-align: right;\">\n",
       "      <th></th>\n",
       "      <th>Gr.Liv.Area</th>\n",
       "      <th>SalePrice</th>\n",
       "      <th>Lot.Area</th>\n",
       "    </tr>\n",
       "  </thead>\n",
       "  <tbody>\n",
       "    <tr>\n",
       "      <th>count</th>\n",
       "      <td>2930.000000</td>\n",
       "      <td>2930.000000</td>\n",
       "      <td>2930.000000</td>\n",
       "    </tr>\n",
       "    <tr>\n",
       "      <th>mean</th>\n",
       "      <td>1499.690444</td>\n",
       "      <td>180796.060068</td>\n",
       "      <td>10147.921843</td>\n",
       "    </tr>\n",
       "    <tr>\n",
       "      <th>std</th>\n",
       "      <td>505.508887</td>\n",
       "      <td>79886.692357</td>\n",
       "      <td>7880.017759</td>\n",
       "    </tr>\n",
       "    <tr>\n",
       "      <th>min</th>\n",
       "      <td>334.000000</td>\n",
       "      <td>12789.000000</td>\n",
       "      <td>1300.000000</td>\n",
       "    </tr>\n",
       "    <tr>\n",
       "      <th>25%</th>\n",
       "      <td>1126.000000</td>\n",
       "      <td>129500.000000</td>\n",
       "      <td>7440.250000</td>\n",
       "    </tr>\n",
       "    <tr>\n",
       "      <th>50%</th>\n",
       "      <td>1442.000000</td>\n",
       "      <td>160000.000000</td>\n",
       "      <td>9436.500000</td>\n",
       "    </tr>\n",
       "    <tr>\n",
       "      <th>75%</th>\n",
       "      <td>1742.750000</td>\n",
       "      <td>213500.000000</td>\n",
       "      <td>11555.250000</td>\n",
       "    </tr>\n",
       "    <tr>\n",
       "      <th>max</th>\n",
       "      <td>5642.000000</td>\n",
       "      <td>755000.000000</td>\n",
       "      <td>215245.000000</td>\n",
       "    </tr>\n",
       "  </tbody>\n",
       "</table>\n",
       "</div>"
      ],
      "text/plain": [
       "       Gr.Liv.Area      SalePrice       Lot.Area\n",
       "count  2930.000000    2930.000000    2930.000000\n",
       "mean   1499.690444  180796.060068   10147.921843\n",
       "std     505.508887   79886.692357    7880.017759\n",
       "min     334.000000   12789.000000    1300.000000\n",
       "25%    1126.000000  129500.000000    7440.250000\n",
       "50%    1442.000000  160000.000000    9436.500000\n",
       "75%    1742.750000  213500.000000   11555.250000\n",
       "max    5642.000000  755000.000000  215245.000000"
      ]
     },
     "execution_count": 5,
     "metadata": {},
     "output_type": "execute_result"
    }
   ],
   "source": [
    "df.describe()"
   ]
  },
  {
   "cell_type": "code",
   "execution_count": 6,
   "metadata": {},
   "outputs": [
    {
     "data": {
      "text/plain": [
       "Ex    1495\n",
       "TA     864\n",
       "Gd     476\n",
       "Fa      92\n",
       "Po       3\n",
       "Name: Heating.QC, dtype: int64"
      ]
     },
     "execution_count": 6,
     "metadata": {},
     "output_type": "execute_result"
    }
   ],
   "source": [
    "df['Heating.QC'].value_counts()"
   ]
  },
  {
   "cell_type": "markdown",
   "metadata": {},
   "source": [
    "En la variable `Heating.QC`, cada categoría corresponde a lo siguiente:\n",
    "\n",
    "Ex: Excellent\n",
    "\n",
    "Gd: Good\n",
    "\n",
    "TA: Average/Typical\n",
    "\n",
    "Fa: Fair\n",
    "\n",
    "Po: Poor"
   ]
  },
  {
   "cell_type": "markdown",
   "metadata": {},
   "source": [
    "Varias columnas tienen puntos, con lo cual no podemos acceder a una columna ocupando la notación `dataframe.columna`. Vamos a crear una variable `area` aparte del dataframe `df`, la cual será una conversión a metros cuadrados de la variable `Gr.Liv.Area`. En términos métricos un pie cuadrado es un cuadrado de lado 0.3048 metros de largo. Por tanto"
   ]
  },
  {
   "cell_type": "code",
   "execution_count": 7,
   "metadata": {},
   "outputs": [
    {
     "name": "stdout",
     "output_type": "stream",
     "text": [
      "0.09290304\n"
     ]
    }
   ],
   "source": [
    "sqft_to_sqmt = 0.3048*0.3048\n",
    "print(sqft_to_sqmt)"
   ]
  },
  {
   "cell_type": "markdown",
   "metadata": {},
   "source": [
    "Creamos la variable `area` que será el área habitable de las casas de esta población, medida en metros cuadrados."
   ]
  },
  {
   "cell_type": "code",
   "execution_count": 8,
   "metadata": {},
   "outputs": [
    {
     "data": {
      "text/plain": [
       "0       153.847434\n",
       "1        83.241124\n",
       "2       123.468140\n",
       "3       196.025414\n",
       "4       151.339052\n",
       "           ...    \n",
       "2925     93.181749\n",
       "2926     83.798542\n",
       "2927     90.115949\n",
       "2928    129.042323\n",
       "2929    185.806080\n",
       "Name: Gr.Liv.Area, Length: 2930, dtype: float64"
      ]
     },
     "execution_count": 8,
     "metadata": {},
     "output_type": "execute_result"
    }
   ],
   "source": [
    "\n",
    "area = df['Gr.Liv.Area']*sqft_to_sqmt\n",
    "area"
   ]
  },
  {
   "cell_type": "markdown",
   "metadata": {},
   "source": [
    "Veamos ahora la distribución del área habitable en nuestra población de casas haciendo un histograma"
   ]
  },
  {
   "cell_type": "code",
   "execution_count": 9,
   "metadata": {},
   "outputs": [
    {
     "data": {
      "image/png": "[encoded data removed]",
      "text/plain": [
       "<Figure size 576x360 with 1 Axes>"
      ]
     },
     "metadata": {},
     "output_type": "display_data"
    }
   ],
   "source": [
    "# Histograma del área habitable\n",
    "\n",
    "# plt.style.use es para cambiar el estilo del gráfico, \n",
    "# se puede ver una referencia acá: https://matplotlib.org/stable/gallery/style_sheets/style_sheets_reference.html\n",
    "plt.style.use('ggplot') # ggplot es un paquete de gráficos muy popular en R.\n",
    "\n",
    "# acá podemos variar el tamaño de la figura: (ancho,alto) \n",
    "plt.rcParams['figure.figsize'] = (8,5)\n",
    "\n",
    "plt.hist(area, edgecolor = 'black', linewidth = 1.2)\n",
    "\n",
    "# plt.axvline grafica una línea vertical, en este caso en la mediana del área\n",
    "plt.axvline(area.median(), color='black', linestyle='dashed', linewidth=3)\n",
    "plt.show()\n",
    "\n"
   ]
  },
  {
   "cell_type": "markdown",
   "metadata": {},
   "source": [
    "## Pregunta 1:"
   ]
  },
  {
   "cell_type": "markdown",
   "metadata": {},
   "source": [
    "a) Grafica otro histograma de la variable `area`, de dimensiones (12,5), con columnas de color verde, con 30 bins y en un estilo de la página fivethirtyeight, agregando además de la línea vertical de la mediana otra línea vertical para el promedio, de color rojo y con estilo 'dotted'."
   ]
  },
  {
   "cell_type": "markdown",
   "metadata": {},
   "source": [
    "## Respuesta\n",
    "### 1. a)"
   ]
  },
  {
   "cell_type": "code",
   "execution_count": 10,
   "metadata": {},
   "outputs": [
    {
     "data": {
      "image/png": "[encoded data removed]",
      "text/plain": [
       "<Figure size 864x360 with 1 Axes>"
      ]
     },
     "metadata": {},
     "output_type": "display_data"
    }
   ],
   "source": [
    "# Histograma del área habitable\n",
    "\n",
    "# plt.style.use es para cambiar el estilo del gráfico, \n",
    "plt.style.use('fivethirtyeight')\n",
    "# Estilo fivethirtyeight, una web famosa de análisis de datos y predicciones\n",
    "# en ámbitos deportivos y políticos entre otros.\n",
    "\n",
    "# tamaño de la figura\n",
    "plt.rcParams['figure.figsize'] = (12,5)\n",
    "\n",
    "plt.hist(area, edgecolor = 'black', linewidth = 1.2, bins = 30, color= \"green\" )\n",
    "\n",
    "# plt.axvline grafica una línea vertical, en este caso en la mediana del área\n",
    "plt.axvline(area.median(), color='black', linestyle='dashed', linewidth=3)\n",
    "plt.axvline(area.mean(), color='red', linestyle='dotted', linewidth=3)\n",
    "plt.show()"
   ]
  },
  {
   "cell_type": "markdown",
   "metadata": {},
   "source": [
    "b) Describe esta distribución de población, calculando sus estadísticas descriptivas y comentando sobre el skewness de la distribución. "
   ]
  },
  {
   "cell_type": "markdown",
   "metadata": {},
   "source": [
    "## Respuesta \n",
    "### 1. b)"
   ]
  },
  {
   "cell_type": "code",
   "execution_count": 11,
   "metadata": {},
   "outputs": [
    {
     "name": "stdout",
     "output_type": "stream",
     "text": [
      "Estadística Descriptiva para la variable Area\n",
      "count    2930.000000\n",
      "mean      139.325801\n",
      "std        46.963312\n",
      "min        31.029615\n",
      "25%       104.608823\n",
      "50%       133.966184\n",
      "75%       161.906773\n",
      "max       524.158952\n",
      "Name: Gr.Liv.Area, dtype: float64\n",
      "\n",
      "Skewness para la variable Area\n",
      "1.2741097164955077\n"
     ]
    }
   ],
   "source": [
    "# Calculando estadísticas descriptivas\n",
    "print('Estadística Descriptiva para la variable Area')\n",
    "print(area.describe())\n",
    "print('')\n",
    "print('Skewness para la variable Area')\n",
    "print(area.skew())"
   ]
  },
  {
   "cell_type": "markdown",
   "metadata": {},
   "source": [
    "**Respuesta:**\n",
    "\n",
    "La distribución de la variable Area es unimodal, tiene un promedio de 139.33 metros cuadrados aproximadamente y una desviación estándar de 46.96 metros cuadrados aproximadamente, es asimétrica y está \"sesgada a la derecha\" (*right skewed*, skewness = 1.274), y tiene algunos *outliers* hacia el lado derecho, con un máximo de 524.16 metros cuadrados.\n"
   ]
  },
  {
   "cell_type": "markdown",
   "metadata": {},
   "source": [
    "## La distribución de muestreo desconocida"
   ]
  },
  {
   "cell_type": "markdown",
   "metadata": {},
   "source": [
    "En este dataset tenemos acceso a un censo de la población objetivo, pero esto es más bien escaso en la vida real, donde recolectar información de toda la población es habitualmente o muy caro o sencillamente imposible. Dado esto, usualmente tomamos una muestra de la población y la usamos para estudiar las propiedades de esta población.\n",
    "\n",
    "Para tomar un muestreo, Pandas tiene un método llamado sample (documentación [acá](https://pandas.pydata.org/docs/reference/api/pandas.DataFrame.sample.html) ). Tomemos una muestra de 50 casas vendidas."
   ]
  },
  {
   "cell_type": "code",
   "execution_count": 12,
   "metadata": {},
   "outputs": [
    {
     "data": {
      "text/plain": [
       "count     50.000000\n",
       "mean     143.786035\n",
       "std       56.091491\n",
       "min       58.528915\n",
       "25%      102.564956\n",
       "50%      129.506838\n",
       "75%      169.780306\n",
       "max      286.698781\n",
       "Name: Gr.Liv.Area, dtype: float64"
      ]
     },
     "execution_count": 12,
     "metadata": {},
     "output_type": "execute_result"
    }
   ],
   "source": [
    "samp1 = area.sample(n = 50,replace=False)\n",
    "samp1.describe()"
   ]
  },
  {
   "cell_type": "markdown",
   "metadata": {},
   "source": [
    "Este comando recolecta una muestra aleatoria simple, sin reemplazo, de la variable `area`, y es asignada a la variable `samp1`. Esto es equivalenta a si fuéramos a la oficina de la ciudad y sacáramos al azar cincuenta archivos de venta."
   ]
  },
  {
   "cell_type": "markdown",
   "metadata": {},
   "source": [
    "OJO: cada vez que ejecutamos el método sample, se toma una nueva muestra. Por ejemplo:"
   ]
  },
  {
   "cell_type": "code",
   "execution_count": 13,
   "metadata": {},
   "outputs": [
    {
     "name": "stdout",
     "output_type": "stream",
     "text": [
      "138.2824589184\n",
      "141.97070960639996\n",
      "145.40254790399996\n",
      "146.13276579840002\n"
     ]
    }
   ],
   "source": [
    "print(area.sample(50).mean())\n",
    "print(area.sample(50).mean())\n",
    "print(area.sample(50).mean())\n",
    "print(area.sample(50).mean())"
   ]
  },
  {
   "cell_type": "markdown",
   "metadata": {},
   "source": [
    "Para que se ocupe la misma \"semilla\" y se genere la misma muestra al ejecutar nuevamente el mismo comando, podemos utilizar el argumento `random_state` con un número o parámetro fijo cualquiera. "
   ]
  },
  {
   "cell_type": "code",
   "execution_count": 14,
   "metadata": {},
   "outputs": [
    {
     "name": "stdout",
     "output_type": "stream",
     "text": [
      "137.1973514112\n",
      "137.1973514112\n",
      "128.9011099392\n",
      "128.9011099392\n"
     ]
    }
   ],
   "source": [
    "# Por ejemplo, Fijamos random_state=10, y el promedio de este muestreo será 137.197 \n",
    "# siempre que ejecutemos este comando\n",
    "\n",
    "print(area.sample(50,random_state=10).mean())\n",
    "\n",
    "print(area.sample(50,random_state=10).mean())\n",
    "\n",
    "# Ahora random_state=12, y el promedio es 128.901\n",
    "\n",
    "print(area.sample(50,random_state=12).mean())\n",
    "\n",
    "print(area.sample(50,random_state=12).mean())\n"
   ]
  },
  {
   "cell_type": "markdown",
   "metadata": {},
   "source": [
    "## Pregunta 2:\n",
    "Haz un nuevo muestreo con n=50 y random_state=5 que se llame `sample_area_rs5`. Describe la distribución de la  muestra. ¿Cómo se compara con la distribución de la población? \n"
   ]
  },
  {
   "cell_type": "markdown",
   "metadata": {},
   "source": [
    "## Respuesta\n",
    "### 2. "
   ]
  },
  {
   "cell_type": "code",
   "execution_count": 15,
   "metadata": {},
   "outputs": [],
   "source": [
    "# muestreo con n=50 y random_state=5\n",
    "sample_area_rs5 = area.sample(50,random_state=5)"
   ]
  },
  {
   "cell_type": "code",
   "execution_count": 16,
   "metadata": {},
   "outputs": [
    {
     "data": {
      "image/png": "[encoded data removed]",
      "text/plain": [
       "<Figure size 864x360 with 1 Axes>"
      ]
     },
     "metadata": {},
     "output_type": "display_data"
    }
   ],
   "source": [
    "# histograma de la distribución (para visualizar mejor la distribución)\n",
    "\n",
    "plt.hist(sample_area_rs5, edgecolor = 'black', linewidth = 1.2, bins = 10, color= \"green\" )\n",
    "plt.show()"
   ]
  },
  {
   "cell_type": "code",
   "execution_count": 17,
   "metadata": {},
   "outputs": [
    {
     "name": "stdout",
     "output_type": "stream",
     "text": [
      "Estadística Descriptiva para la variable sample_area_rs5\n",
      "count     50.000000\n",
      "mean     145.021645\n",
      "std       41.508998\n",
      "min       62.430843\n",
      "25%      115.594608\n",
      "50%      141.444878\n",
      "75%      171.336432\n",
      "max      248.422729\n",
      "Name: Gr.Liv.Area, dtype: float64\n",
      "\n",
      "Skewness para la variable sample_area_rs5\n",
      "0.38262843270970565\n"
     ]
    }
   ],
   "source": [
    "# Calculando estadísticas descriptivas\n",
    "print('Estadística Descriptiva para la variable sample_area_rs5')\n",
    "print(sample_area_rs5.describe())\n",
    "print('')\n",
    "print('Skewness para la variable sample_area_rs5')\n",
    "print(sample_area_rs5.skew())"
   ]
  },
  {
   "cell_type": "code",
   "execution_count": 18,
   "metadata": {},
   "outputs": [
    {
     "data": {
      "text/html": [
       "<div>\n",
       "<style scoped>\n",
       "    .dataframe tbody tr th:only-of-type {\n",
       "        vertical-align: middle;\n",
       "    }\n",
       "\n",
       "    .dataframe tbody tr th {\n",
       "        vertical-align: top;\n",
       "    }\n",
       "\n",
       "    .dataframe thead th {\n",
       "        text-align: right;\n",
       "    }\n",
       "</style>\n",
       "<table border=\"1\" class=\"dataframe\">\n",
       "  <thead>\n",
       "    <tr style=\"text-align: right;\">\n",
       "      <th></th>\n",
       "      <th>describe_poblacion</th>\n",
       "      <th>describe_sample_area_rs5</th>\n",
       "    </tr>\n",
       "  </thead>\n",
       "  <tbody>\n",
       "    <tr>\n",
       "      <th>count</th>\n",
       "      <td>2930.000000</td>\n",
       "      <td>50.000000</td>\n",
       "    </tr>\n",
       "    <tr>\n",
       "      <th>mean</th>\n",
       "      <td>139.325801</td>\n",
       "      <td>145.021645</td>\n",
       "    </tr>\n",
       "    <tr>\n",
       "      <th>std</th>\n",
       "      <td>46.963312</td>\n",
       "      <td>41.508998</td>\n",
       "    </tr>\n",
       "    <tr>\n",
       "      <th>min</th>\n",
       "      <td>31.029615</td>\n",
       "      <td>62.430843</td>\n",
       "    </tr>\n",
       "    <tr>\n",
       "      <th>25%</th>\n",
       "      <td>104.608823</td>\n",
       "      <td>115.594608</td>\n",
       "    </tr>\n",
       "    <tr>\n",
       "      <th>50%</th>\n",
       "      <td>133.966184</td>\n",
       "      <td>141.444878</td>\n",
       "    </tr>\n",
       "    <tr>\n",
       "      <th>75%</th>\n",
       "      <td>161.906773</td>\n",
       "      <td>171.336432</td>\n",
       "    </tr>\n",
       "    <tr>\n",
       "      <th>max</th>\n",
       "      <td>524.158952</td>\n",
       "      <td>248.422729</td>\n",
       "    </tr>\n",
       "  </tbody>\n",
       "</table>\n",
       "</div>"
      ],
      "text/plain": [
       "       describe_poblacion  describe_sample_area_rs5\n",
       "count         2930.000000                 50.000000\n",
       "mean           139.325801                145.021645\n",
       "std             46.963312                 41.508998\n",
       "min             31.029615                 62.430843\n",
       "25%            104.608823                115.594608\n",
       "50%            133.966184                141.444878\n",
       "75%            161.906773                171.336432\n",
       "max            524.158952                248.422729"
      ]
     },
     "execution_count": 18,
     "metadata": {},
     "output_type": "execute_result"
    }
   ],
   "source": [
    "# comparación con parámetros de la población:\n",
    "compara = pd.DataFrame({'describe_poblacion': area.describe(), 'describe_sample_area_rs5': sample_area_rs5.describe() } ) \n",
    "compara"
   ]
  },
  {
   "cell_type": "markdown",
   "metadata": {},
   "source": [
    "**Respuesta:**\n",
    "\n",
    "* La distribución de la variable `sample_area_rs5` es unimodal, tiene un promedio de 145 metros cuadrados aproximadamente y una desviación estándar de 41.51 metros cuadrados aproximadamente, es levemente asimétrica \"sesgada a la derecha\" (*right skewed*, skewness=0.383), y tiene algunos *outliers* hacia el lado derecho, con un máximo de 248.42 metros cuadrados.\n",
    "* Comparado con la distribución de la población, la forma es más o menos similar, el promedio es un poco más alto que el promedio de la población y el skewness es menor, pero en la misma dirección.\n"
   ]
  },
  {
   "cell_type": "markdown",
   "metadata": {},
   "source": [
    "Si queremos estimar el área habitable promedio de las casas vendidas en Ames usando la muestra, nuestra mejor conjetura es la media muestral. "
   ]
  },
  {
   "cell_type": "markdown",
   "metadata": {},
   "source": [
    "Dependiendo del muestreo seleccionado, el estimador podría estar un poco más arriba o más abajo del valor real de la media de la población de 139.33 metros cuadrados."
   ]
  },
  {
   "cell_type": "markdown",
   "metadata": {},
   "source": [
    "## Pregunta 3\n",
    "\n",
    "Toma una segunda muestra, también de tamaño 50 y llámala `samp2`.¿Cómo se compara la media de `samp2`con la media de `samp1`, con la media de `sample_area_rs5` y con la media poblacional de `area`? "
   ]
  },
  {
   "cell_type": "code",
   "execution_count": 19,
   "metadata": {},
   "outputs": [],
   "source": [
    "# Respuesta\n",
    "\n",
    "# samp2\n",
    "samp2 = area.sample(50)"
   ]
  },
  {
   "cell_type": "code",
   "execution_count": 20,
   "metadata": {},
   "outputs": [
    {
     "name": "stdout",
     "output_type": "stream",
     "text": [
      "Media de samp2: 136.00633443840002\n",
      "Media de samp1: 143.78603500800003\n",
      "Media de sample_area_rs5: 145.02164544000007\n",
      "Media poblacional de área: 139.32580127737882\n"
     ]
    }
   ],
   "source": [
    "print('Media de samp2:',samp2.mean())\n",
    "print('Media de samp1:',samp1.mean())\n",
    "print('Media de sample_area_rs5:',sample_area_rs5.mean())\n",
    "print('Media poblacional de área:',area.mean())"
   ]
  },
  {
   "cell_type": "markdown",
   "metadata": {},
   "source": [
    "**Respuesta:**\n",
    "\n",
    "Todas las medias de muestras están relativamente cerca de la media poblacional del area.\n",
    "\n"
   ]
  },
  {
   "cell_type": "markdown",
   "metadata": {},
   "source": [
    "Cada vez que tomamos una nueva muestra aleatoria obtenemos una media muestral distinta. Es útil tener una idea de cuánta variabilidad deberíamos esperar al estimar la media de la población de esta manera. La distribución de las medias muestrales, denominada *distribución muestral*, puede ayudarnos a comprender esta variabilidad. Como en este dataset tenemos acceso a los datos de la población, podemos construir una distribución muestral repitiendo los pasos anteriores muchas veces. Vamos a generar 10000 muestreos y vamos a calcular la media muestral para cada uno de ellos."
   ]
  },
  {
   "cell_type": "markdown",
   "metadata": {},
   "source": [
    "Vamos a usar un `for` loop pra generar 2000 muestreos de las áreas de 50 casas, calculando la media de cada muestreo y almacenándolo en una variable llamada `sample_means50`."
   ]
  },
  {
   "cell_type": "code",
   "execution_count": 21,
   "metadata": {},
   "outputs": [],
   "source": [
    "sample_means50 = [area.sample(50).mean() for i in range(0, 2000)]"
   ]
  },
  {
   "cell_type": "markdown",
   "metadata": {},
   "source": [
    "Ojo, al hacer este for loop de esta forma, la variable `sample_means50` es un objeto de tipo `list`."
   ]
  },
  {
   "cell_type": "code",
   "execution_count": 22,
   "metadata": {},
   "outputs": [
    {
     "data": {
      "text/plain": [
       "list"
      ]
     },
     "execution_count": 22,
     "metadata": {},
     "output_type": "execute_result"
    }
   ],
   "source": [
    "type(sample_means50)"
   ]
  },
  {
   "cell_type": "markdown",
   "metadata": {},
   "source": [
    "Por tanto, si queremos ocupar un método de Pandas con esta lista, como por ejemplo `describe`, no me funcionará."
   ]
  },
  {
   "cell_type": "code",
   "execution_count": 23,
   "metadata": {},
   "outputs": [],
   "source": [
    "# sample_means50.describe()"
   ]
  },
  {
   "cell_type": "markdown",
   "metadata": {},
   "source": [
    "Si quisiera ocupar el método `describe`, tendría que crear un nuevo objeto en Pandas y luego aplicar el método `describe` sobre ese objeto."
   ]
  },
  {
   "cell_type": "code",
   "execution_count": 24,
   "metadata": {},
   "outputs": [
    {
     "data": {
      "text/plain": [
       "pandas.core.series.Series"
      ]
     },
     "execution_count": 24,
     "metadata": {},
     "output_type": "execute_result"
    }
   ],
   "source": [
    "sm50 = pd.Series(sample_means50)\n",
    "type(sm50)"
   ]
  },
  {
   "cell_type": "code",
   "execution_count": 25,
   "metadata": {},
   "outputs": [
    {
     "data": {
      "text/plain": [
       "count    2000.000000\n",
       "mean      139.314406\n",
       "std         6.586177\n",
       "min       121.147422\n",
       "25%       134.630905\n",
       "50%       139.081425\n",
       "75%       143.873828\n",
       "max       160.350647\n",
       "dtype: float64"
      ]
     },
     "execution_count": 25,
     "metadata": {},
     "output_type": "execute_result"
    }
   ],
   "source": [
    "sm50.describe()"
   ]
  },
  {
   "cell_type": "markdown",
   "metadata": {},
   "source": [
    "Ahora, graficamos un histograma para esta nueva variable `sm50`"
   ]
  },
  {
   "cell_type": "code",
   "execution_count": 26,
   "metadata": {},
   "outputs": [
    {
     "data": {
      "image/png": "[encoded data removed]",
      "text/plain": [
       "<Figure size 720x360 with 1 Axes>"
      ]
     },
     "metadata": {},
     "output_type": "display_data"
    }
   ],
   "source": [
    "plt.rcParams['figure.figsize'] = (10,5)\n",
    "plt.hist(sm50, edgecolor = 'black', linewidth = 1.2, bins =30,alpha=0.8)\n",
    "plt.show()"
   ]
  },
  {
   "cell_type": "markdown",
   "metadata": {},
   "source": [
    "## Pregunta 4\n",
    "¿Cuántos elementos tiene `sm50`? Ocupa el comando `describe` y describe la distribución.\n"
   ]
  },
  {
   "cell_type": "code",
   "execution_count": 27,
   "metadata": {},
   "outputs": [
    {
     "data": {
      "text/plain": [
       "count    2000.000000\n",
       "mean      139.314406\n",
       "std         6.586177\n",
       "min       121.147422\n",
       "25%       134.630905\n",
       "50%       139.081425\n",
       "75%       143.873828\n",
       "max       160.350647\n",
       "dtype: float64"
      ]
     },
     "execution_count": 27,
     "metadata": {},
     "output_type": "execute_result"
    }
   ],
   "source": [
    "# Respuesta\n",
    "\n",
    "sm50.describe()\n"
   ]
  },
  {
   "cell_type": "code",
   "execution_count": 28,
   "metadata": {},
   "outputs": [
    {
     "data": {
      "text/html": [
       "<div>\n",
       "<style scoped>\n",
       "    .dataframe tbody tr th:only-of-type {\n",
       "        vertical-align: middle;\n",
       "    }\n",
       "\n",
       "    .dataframe tbody tr th {\n",
       "        vertical-align: top;\n",
       "    }\n",
       "\n",
       "    .dataframe thead th {\n",
       "        text-align: right;\n",
       "    }\n",
       "</style>\n",
       "<table border=\"1\" class=\"dataframe\">\n",
       "  <thead>\n",
       "    <tr style=\"text-align: right;\">\n",
       "      <th></th>\n",
       "      <th>describe_poblacion</th>\n",
       "      <th>describe_sm50</th>\n",
       "    </tr>\n",
       "  </thead>\n",
       "  <tbody>\n",
       "    <tr>\n",
       "      <th>count</th>\n",
       "      <td>2930.000000</td>\n",
       "      <td>2000.000000</td>\n",
       "    </tr>\n",
       "    <tr>\n",
       "      <th>mean</th>\n",
       "      <td>139.325801</td>\n",
       "      <td>139.314406</td>\n",
       "    </tr>\n",
       "    <tr>\n",
       "      <th>std</th>\n",
       "      <td>46.963312</td>\n",
       "      <td>6.586177</td>\n",
       "    </tr>\n",
       "    <tr>\n",
       "      <th>min</th>\n",
       "      <td>31.029615</td>\n",
       "      <td>121.147422</td>\n",
       "    </tr>\n",
       "    <tr>\n",
       "      <th>25%</th>\n",
       "      <td>104.608823</td>\n",
       "      <td>134.630905</td>\n",
       "    </tr>\n",
       "    <tr>\n",
       "      <th>50%</th>\n",
       "      <td>133.966184</td>\n",
       "      <td>139.081425</td>\n",
       "    </tr>\n",
       "    <tr>\n",
       "      <th>75%</th>\n",
       "      <td>161.906773</td>\n",
       "      <td>143.873828</td>\n",
       "    </tr>\n",
       "    <tr>\n",
       "      <th>max</th>\n",
       "      <td>524.158952</td>\n",
       "      <td>160.350647</td>\n",
       "    </tr>\n",
       "  </tbody>\n",
       "</table>\n",
       "</div>"
      ],
      "text/plain": [
       "       describe_poblacion  describe_sm50\n",
       "count         2930.000000    2000.000000\n",
       "mean           139.325801     139.314406\n",
       "std             46.963312       6.586177\n",
       "min             31.029615     121.147422\n",
       "25%            104.608823     134.630905\n",
       "50%            133.966184     139.081425\n",
       "75%            161.906773     143.873828\n",
       "max            524.158952     160.350647"
      ]
     },
     "execution_count": 28,
     "metadata": {},
     "output_type": "execute_result"
    }
   ],
   "source": [
    "# comparación con parámetros de la población:\n",
    "compara = pd.DataFrame({'describe_poblacion': area.describe(), 'describe_sm50': sm50.describe() } ) \n",
    "compara"
   ]
  },
  {
   "cell_type": "markdown",
   "metadata": {},
   "source": [
    "**Respuesta:**\n",
    "`sm50` tiene 2000 elementos, con un promedio muy muy cercano al de la población, una desviación estándar de aproximadamente poco más de 6 metros cuadrados, y como se aprecia en el gráfico, es aproximadamente simétrica y unimodal, con una forma que asemeja a una distribución normal."
   ]
  },
  {
   "cell_type": "markdown",
   "metadata": {},
   "source": [
    "## Pregunta 5\n",
    "¿Qué pasaría con la distribución de muestreo si generamos 20000 muestreos de n=50?\n",
    "Genera un nuevo vector llamado `sample_means50_20000` y conviértelo a una serie de pandas llamada `sm50_20000`,  Ocupa el comando `describe`, grafica un nuevo histograma y describe la nueva distribución. ¿Cómo se compara la distribución de `sm50_20000` con la de `sm50`?"
   ]
  },
  {
   "cell_type": "code",
   "execution_count": 29,
   "metadata": {},
   "outputs": [],
   "source": [
    "# Respuesta\n",
    "\n",
    "sample_means50_20000 = [area.sample(50).mean() for i in range(0, 20000)]"
   ]
  },
  {
   "cell_type": "code",
   "execution_count": 30,
   "metadata": {},
   "outputs": [],
   "source": [
    "sm50_20000 = pd.Series(sample_means50_20000)"
   ]
  },
  {
   "cell_type": "code",
   "execution_count": 31,
   "metadata": {},
   "outputs": [
    {
     "name": "stdout",
     "output_type": "stream",
     "text": [
      "count    20000.000000\n",
      "mean       139.437125\n",
      "std          6.573261\n",
      "min        115.528646\n",
      "25%        134.895214\n",
      "50%        139.266302\n",
      "75%        143.761880\n",
      "max        166.720079\n",
      "dtype: float64\n"
     ]
    }
   ],
   "source": [
    "\n",
    "print(sm50_20000.describe())\n"
   ]
  },
  {
   "cell_type": "code",
   "execution_count": 32,
   "metadata": {},
   "outputs": [
    {
     "data": {
      "image/png": "[encoded data removed]",
      "text/plain": [
       "<Figure size 720x360 with 1 Axes>"
      ]
     },
     "metadata": {},
     "output_type": "display_data"
    }
   ],
   "source": [
    "plt.hist(sm50_20000, edgecolor = 'black', linewidth = 1.2, bins =30,alpha=0.8)\n",
    "plt.show()"
   ]
  },
  {
   "cell_type": "code",
   "execution_count": 33,
   "metadata": {},
   "outputs": [
    {
     "data": {
      "text/html": [
       "<div>\n",
       "<style scoped>\n",
       "    .dataframe tbody tr th:only-of-type {\n",
       "        vertical-align: middle;\n",
       "    }\n",
       "\n",
       "    .dataframe tbody tr th {\n",
       "        vertical-align: top;\n",
       "    }\n",
       "\n",
       "    .dataframe thead th {\n",
       "        text-align: right;\n",
       "    }\n",
       "</style>\n",
       "<table border=\"1\" class=\"dataframe\">\n",
       "  <thead>\n",
       "    <tr style=\"text-align: right;\">\n",
       "      <th></th>\n",
       "      <th>describe_sm50</th>\n",
       "      <th>describe_sm50_20000</th>\n",
       "    </tr>\n",
       "  </thead>\n",
       "  <tbody>\n",
       "    <tr>\n",
       "      <th>count</th>\n",
       "      <td>2000.000000</td>\n",
       "      <td>20000.000000</td>\n",
       "    </tr>\n",
       "    <tr>\n",
       "      <th>mean</th>\n",
       "      <td>139.314406</td>\n",
       "      <td>139.437125</td>\n",
       "    </tr>\n",
       "    <tr>\n",
       "      <th>std</th>\n",
       "      <td>6.586177</td>\n",
       "      <td>6.573261</td>\n",
       "    </tr>\n",
       "    <tr>\n",
       "      <th>min</th>\n",
       "      <td>121.147422</td>\n",
       "      <td>115.528646</td>\n",
       "    </tr>\n",
       "    <tr>\n",
       "      <th>25%</th>\n",
       "      <td>134.630905</td>\n",
       "      <td>134.895214</td>\n",
       "    </tr>\n",
       "    <tr>\n",
       "      <th>50%</th>\n",
       "      <td>139.081425</td>\n",
       "      <td>139.266302</td>\n",
       "    </tr>\n",
       "    <tr>\n",
       "      <th>75%</th>\n",
       "      <td>143.873828</td>\n",
       "      <td>143.761880</td>\n",
       "    </tr>\n",
       "    <tr>\n",
       "      <th>max</th>\n",
       "      <td>160.350647</td>\n",
       "      <td>166.720079</td>\n",
       "    </tr>\n",
       "  </tbody>\n",
       "</table>\n",
       "</div>"
      ],
      "text/plain": [
       "       describe_sm50  describe_sm50_20000\n",
       "count    2000.000000         20000.000000\n",
       "mean      139.314406           139.437125\n",
       "std         6.586177             6.573261\n",
       "min       121.147422           115.528646\n",
       "25%       134.630905           134.895214\n",
       "50%       139.081425           139.266302\n",
       "75%       143.873828           143.761880\n",
       "max       160.350647           166.720079"
      ]
     },
     "execution_count": 33,
     "metadata": {},
     "output_type": "execute_result"
    }
   ],
   "source": [
    "# comparación sm50 con sm50_20000\n",
    "compara = pd.DataFrame({'describe_sm50': sm50.describe(), 'describe_sm50_20000': sm50_20000.describe() } ) \n",
    "compara"
   ]
  },
  {
   "cell_type": "markdown",
   "metadata": {},
   "source": [
    "**Respuesta:**\n",
    "\n",
    "La distribución de `sm50_20000` es prácticamente igual en promedio, desviación estándar, mediana y rango intercuartil, comparada con `sm50`. La forma es muy similar, con la diferencia que los bordes en `sm50_20000` son más suaves, con una forma que asemeja de mejor manera a una distribución normal."
   ]
  },
  {
   "cell_type": "markdown",
   "metadata": {},
   "source": [
    "## Tamaño de la muestra y distribución de muestreo"
   ]
  },
  {
   "cell_type": "markdown",
   "metadata": {},
   "source": [
    "Debido a que la media muestral es un estimador insesgado, la distribución de muestreo está centrada en el promedio de área habitable verdadero de la población, y la dispersión de la distribución nos indica cuánta variabilidad está inducida al hacer un muestreo de solo 50 ventas.\n",
    "\n",
    "Para que tengamos una idea del efecto que el tamaño de la muestra tiene en nuestra distribución, construyamos tres muestreos más de distribuciones de muestreos: Una basada en un tamaño de muestra de 10, la otra con un tamaño de 100 y otra con un tamaño de 200."
   ]
  },
  {
   "cell_type": "code",
   "execution_count": 34,
   "metadata": {},
   "outputs": [],
   "source": [
    "sample_means10 = [area.sample(10).mean() for i in range(0, 2000)]\n",
    "sample_means100 = [area.sample(100).mean() for i in range(0, 2000)]\n",
    "sample_means200 = [area.sample(200).mean() for i in range(0, 2000)]"
   ]
  },
  {
   "cell_type": "code",
   "execution_count": 35,
   "metadata": {},
   "outputs": [],
   "source": [
    "# convertimos a series de Pandas\n",
    "sm10 = pd.Series(sample_means10)\n",
    "sm100 = pd.Series(sample_means100)\n",
    "sm200 = pd.Series(sample_means200)"
   ]
  },
  {
   "cell_type": "markdown",
   "metadata": {},
   "source": [
    "Para ver el efecto que distintos tamaños de muestras tienen en la distribución de muestreo, graficamos las tres distribuciones una arriba de la otra"
   ]
  },
  {
   "cell_type": "code",
   "execution_count": 36,
   "metadata": {},
   "outputs": [
    {
     "data": {
      "image/png": "[encoded data removed]",
      "text/plain": [
       "<Figure size 864x360 with 1 Axes>"
      ]
     },
     "metadata": {},
     "output_type": "display_data"
    },
    {
     "data": {
      "image/png": "[encoded data removed]",
      "text/plain": [
       "<Figure size 864x360 with 1 Axes>"
      ]
     },
     "metadata": {},
     "output_type": "display_data"
    },
    {
     "data": {
      "image/png": "[encoded data removed]",
      "text/plain": [
       "<Figure size 864x360 with 1 Axes>"
      ]
     },
     "metadata": {},
     "output_type": "display_data"
    },
    {
     "data": {
      "image/png": "[encoded data removed]",
      "text/plain": [
       "<Figure size 864x360 with 1 Axes>"
      ]
     },
     "metadata": {},
     "output_type": "display_data"
    }
   ],
   "source": [
    "plt.rcParams['figure.figsize'] = (12,5)\n",
    "plt.hist(sm10, edgecolor = 'black', linewidth = 1.2, bins = 25, color = 'blue')\n",
    "plt.title(\"Tamaño de muestra 10\")\n",
    "plt.show()\n",
    "plt.hist(sm50, edgecolor = 'black', linewidth = 1.2, bins = 25)\n",
    "plt.title(\"Tamaño de muestra 50\")\n",
    "plt.show()\n",
    "plt.hist(sm100, edgecolor = 'black', linewidth = 1.2, bins = 25, color = 'purple')\n",
    "plt.title(\"Tamaño de muestra 100\")\n",
    "plt.show()\n",
    "plt.hist(sm200, edgecolor = 'black', linewidth = 1.2, bins = 25, color = 'green')\n",
    "plt.title(\"Tamaño de muestra 200\")\n",
    "plt.show()"
   ]
  },
  {
   "cell_type": "markdown",
   "metadata": {},
   "source": [
    "Cada gráfico tiene un rango distinto. Para poder hacer una mejor comparación, el rango del eje X debiera ser el mismo para todos los gráficos. Podemos hacer esto graficando todos los histogramas superpuestos, ocupando el argumento `alpha`."
   ]
  },
  {
   "cell_type": "code",
   "execution_count": 37,
   "metadata": {},
   "outputs": [
    {
     "data": {
      "image/png": "[encoded data removed]",
      "text/plain": [
       "<Figure size 864x360 with 1 Axes>"
      ]
     },
     "metadata": {},
     "output_type": "display_data"
    }
   ],
   "source": [
    "plt.rcParams['figure.figsize'] = (12,5)\n",
    "plt.hist(sm10, edgecolor = 'black', linewidth = 1.2, bins = 25, color = 'blue',alpha=0.4)\n",
    "plt.hist(sm50, edgecolor = 'black', linewidth = 1.2, bins = 25,alpha=0.4)\n",
    "plt.hist(sm100, edgecolor = 'black', linewidth = 1.2, bins = 25, color = 'purple',alpha=0.4)\n",
    "plt.hist(sm200, edgecolor = 'black', linewidth = 1.2, bins = 25, color = 'green',alpha=0.4)\n",
    "plt.title(\"Distribuciones de muestreo con distintos tamaños de muestra\")\n",
    "plt.show()"
   ]
  },
  {
   "cell_type": "markdown",
   "metadata": {},
   "source": [
    "## Pregunta 6\n",
    "Cuando el tamaño de la muestra es más grande, ¿qué pasa con el centro? ¿Y con la dispersión?"
   ]
  },
  {
   "cell_type": "markdown",
   "metadata": {},
   "source": [
    "**Respuesta:**\n",
    "\n",
    "Cuando el tamaño de la muestra es más grande, el centro de la distribución se mueve levemente más cerca de la media poblacional (139.33 metros cuadrados), sin embargo es un efecto muy pequeño ya que las cuatro distribuciones de muestreo tienen medias parecidas.\n",
    "\n",
    "El efecto del tamaño de la muestra es mucho mayor en la dispersión de las distribuciones de muestreo. A mayor tamaño de la muestra, la dispersión de la distribución decrece. \n"
   ]
  },
  {
   "cell_type": "code",
   "execution_count": 38,
   "metadata": {},
   "outputs": [
    {
     "data": {
      "text/html": [
       "<div>\n",
       "<style scoped>\n",
       "    .dataframe tbody tr th:only-of-type {\n",
       "        vertical-align: middle;\n",
       "    }\n",
       "\n",
       "    .dataframe tbody tr th {\n",
       "        vertical-align: top;\n",
       "    }\n",
       "\n",
       "    .dataframe thead th {\n",
       "        text-align: right;\n",
       "    }\n",
       "</style>\n",
       "<table border=\"1\" class=\"dataframe\">\n",
       "  <thead>\n",
       "    <tr style=\"text-align: right;\">\n",
       "      <th></th>\n",
       "      <th>describe_sm10</th>\n",
       "      <th>describe_sm50</th>\n",
       "      <th>describe_sm100</th>\n",
       "      <th>describe_sm200</th>\n",
       "    </tr>\n",
       "  </thead>\n",
       "  <tbody>\n",
       "    <tr>\n",
       "      <th>count</th>\n",
       "      <td>2000.000000</td>\n",
       "      <td>2000.000000</td>\n",
       "      <td>2000.000000</td>\n",
       "      <td>2000.000000</td>\n",
       "    </tr>\n",
       "    <tr>\n",
       "      <th>mean</th>\n",
       "      <td>139.358782</td>\n",
       "      <td>139.314406</td>\n",
       "      <td>139.419251</td>\n",
       "      <td>139.454929</td>\n",
       "    </tr>\n",
       "    <tr>\n",
       "      <th>std</th>\n",
       "      <td>14.911024</td>\n",
       "      <td>6.586177</td>\n",
       "      <td>4.625163</td>\n",
       "      <td>3.191648</td>\n",
       "    </tr>\n",
       "    <tr>\n",
       "      <th>min</th>\n",
       "      <td>94.240844</td>\n",
       "      <td>121.147422</td>\n",
       "      <td>125.117169</td>\n",
       "      <td>130.562681</td>\n",
       "    </tr>\n",
       "    <tr>\n",
       "      <th>25%</th>\n",
       "      <td>128.854194</td>\n",
       "      <td>134.630905</td>\n",
       "      <td>136.210489</td>\n",
       "      <td>137.300706</td>\n",
       "    </tr>\n",
       "    <tr>\n",
       "      <th>50%</th>\n",
       "      <td>138.360497</td>\n",
       "      <td>139.081425</td>\n",
       "      <td>139.214276</td>\n",
       "      <td>139.384986</td>\n",
       "    </tr>\n",
       "    <tr>\n",
       "      <th>75%</th>\n",
       "      <td>148.944476</td>\n",
       "      <td>143.873828</td>\n",
       "      <td>142.414786</td>\n",
       "      <td>141.519898</td>\n",
       "    </tr>\n",
       "    <tr>\n",
       "      <th>max</th>\n",
       "      <td>210.536869</td>\n",
       "      <td>160.350647</td>\n",
       "      <td>155.474166</td>\n",
       "      <td>151.430562</td>\n",
       "    </tr>\n",
       "  </tbody>\n",
       "</table>\n",
       "</div>"
      ],
      "text/plain": [
       "       describe_sm10  describe_sm50  describe_sm100  describe_sm200\n",
       "count    2000.000000    2000.000000     2000.000000     2000.000000\n",
       "mean      139.358782     139.314406      139.419251      139.454929\n",
       "std        14.911024       6.586177        4.625163        3.191648\n",
       "min        94.240844     121.147422      125.117169      130.562681\n",
       "25%       128.854194     134.630905      136.210489      137.300706\n",
       "50%       138.360497     139.081425      139.214276      139.384986\n",
       "75%       148.944476     143.873828      142.414786      141.519898\n",
       "max       210.536869     160.350647      155.474166      151.430562"
      ]
     },
     "execution_count": 38,
     "metadata": {},
     "output_type": "execute_result"
    }
   ],
   "source": [
    "# para apreciarlo mejor, podemos comparar estadística descriptiva de las cuatro distribuciones de muestreo:\n",
    "compara = pd.DataFrame({'describe_sm10': sm10.describe(), 'describe_sm50': sm50.describe(),\n",
    "                        'describe_sm100': sm100.describe(), 'describe_sm200': sm200.describe() } ) \n",
    "compara"
   ]
  },
  {
   "cell_type": "markdown",
   "metadata": {
    "tags": []
   },
   "source": [
    "## Pregunta 7\n",
    "Hasta ahora trabajamos con el área promedio. Ahora, deberás tratar de estimar la media del precio de venta.\n",
    "\n",
    "a) Toma un muestreo aleatorio de la variable `SalePrice` de tamaño 10. Usando esta muestra, ¿Cuál es tu estimación puntual de la media de la población? Toma otro muestreo de tamaño 150, y teniendo estos dos muestreos,  ¿Cuál sería tu estimación puntual de la media de la población?"
   ]
  },
  {
   "cell_type": "code",
   "execution_count": 39,
   "metadata": {},
   "outputs": [
    {
     "name": "stdout",
     "output_type": "stream",
     "text": [
      "La estimación puntual de la media de la población, usando el promedio muestral de la variable SalePrice en el muestreo con tamaño n=10, es de: 154112.5\n",
      "Al tener ambos muestreos, la mejor estimación puntual de la media de la población sería usando la media muestral de la variable SalePrice en el muestreo con tamaño n=150, el cual es: 187873.88\n"
     ]
    }
   ],
   "source": [
    "# Respuesta\n",
    "# muestreo aleatorio de SalePrice de tamaño 10\n",
    "saleprice_sample10 =  df['SalePrice'].sample(10)\n",
    "\n",
    "# Usando esta muestra, el estimador puntual de la media de la población es la media muestral, o sea\n",
    "print('La estimación puntual de la media de la población,',\n",
    "      'usando el promedio muestral de la variable SalePrice en el muestreo con tamaño n=10, es de:',\n",
    "      saleprice_sample10.mean())\n",
    "\n",
    "# muestreo aleatorio de SalePrice de tamaño 150\n",
    "saleprice_sample150 =  df['SalePrice'].sample(150)\n",
    "\n",
    "# Teniendo estos dos muestreos, el de n=150 es un mejor estimador puntual de la media poblacional \n",
    "#Usando esta muestra, el estimador puntual de la media de la población es la media muestral, o sea\n",
    "print('Al tener ambos muestreos, la mejor estimación puntual de la media de la población', \n",
    "      'sería usando la media muestral de la variable SalePrice en el muestreo con tamaño n=150, el cual es:',\n",
    "      saleprice_sample150.mean())\n",
    "\n",
    "\n"
   ]
  },
  {
   "cell_type": "markdown",
   "metadata": {
    "tags": []
   },
   "source": [
    "b) Usa un `for` loop como en las preguntas anteriores para generar 5000 muestreos de los precios de 150 casas, calculando la media de cada muestreo y almacenándolo en una variable llamada `sample_means150`."
   ]
  },
  {
   "cell_type": "code",
   "execution_count": 40,
   "metadata": {},
   "outputs": [],
   "source": [
    "# Respuesta\n",
    "\n",
    "sample_means150 = [df['SalePrice'].sample(150).mean() for i in range(0, 5000)]\n"
   ]
  },
  {
   "cell_type": "markdown",
   "metadata": {},
   "source": [
    "**Respuesta:**"
   ]
  },
  {
   "cell_type": "markdown",
   "metadata": {
    "tags": []
   },
   "source": [
    "c) Haz un histograma, describe la forma de esta distribución de muestreo y calcula el promedio de la variable `sample_means150`.  Compáralo con el promedio de la población real."
   ]
  },
  {
   "cell_type": "code",
   "execution_count": 41,
   "metadata": {},
   "outputs": [
    {
     "data": {
      "image/png": "[encoded data removed]",
      "text/plain": [
       "<Figure size 864x360 with 1 Axes>"
      ]
     },
     "metadata": {},
     "output_type": "display_data"
    }
   ],
   "source": [
    "# Respuesta\n",
    "\n",
    "# Histograma para sample_means150\n",
    "\n",
    "plt.hist(sample_means150, edgecolor = 'black', linewidth = 1.2, bins =30,alpha=0.8)\n",
    "plt.show()"
   ]
  },
  {
   "cell_type": "code",
   "execution_count": 42,
   "metadata": {},
   "outputs": [
    {
     "name": "stdout",
     "output_type": "stream",
     "text": [
      "count      5000.000000\n",
      "mean     180898.231416\n",
      "std        6414.946866\n",
      "min      157763.286667\n",
      "25%      176604.328333\n",
      "50%      180686.090000\n",
      "75%      185129.563333\n",
      "max      208266.206667\n",
      "dtype: float64\n"
     ]
    }
   ],
   "source": [
    "# estadística descriptiva para la distribución de muestreo \n",
    "sm150 = pd.Series(sample_means150)\n",
    "print(sm150.describe())\n",
    "\n"
   ]
  },
  {
   "cell_type": "code",
   "execution_count": 43,
   "metadata": {},
   "outputs": [
    {
     "name": "stdout",
     "output_type": "stream",
     "text": [
      "180796.0600682594\n"
     ]
    }
   ],
   "source": [
    "# Cálculo de la media poblacional de la variable SalePrice.\n",
    "print(df['SalePrice'].mean())\n"
   ]
  },
  {
   "cell_type": "markdown",
   "metadata": {},
   "source": [
    "**Respuesta:**\n",
    "La distribución de muestreo `sample_means150` tiene una forma simétrica y unimodal que asemeja a una distribución normal."
   ]
  },
  {
   "cell_type": "code",
   "execution_count": 44,
   "metadata": {},
   "outputs": [
    {
     "name": "stdout",
     "output_type": "stream",
     "text": [
      "El promedio del precio de venta de la distribución de muestreo de tamaño n=150 es de  180898.2314160004\n",
      "El promedio poblacional del precio de venta es de  180796.0600682594\n",
      "La diferencia entre ambas medias es de  -102.1713477410085\n"
     ]
    }
   ],
   "source": [
    "print('El promedio del precio de venta de la distribución de muestreo de tamaño n=150 es de ',sm150.mean())\n",
    "print('El promedio poblacional del precio de venta es de ',df['SalePrice'].mean())\n",
    "print('La diferencia entre ambas medias es de ',  df['SalePrice'].mean()- sm150.mean())"
   ]
  },
  {
   "cell_type": "markdown",
   "metadata": {},
   "source": [
    "## Pregunta 8: Correlaciones\n",
    "\n",
    "a) Calcula la matriz de correlaciones entre las variables `Gr.Liv.Area`, `SalePrice`, `Lot.Area`."
   ]
  },
  {
   "cell_type": "code",
   "execution_count": 45,
   "metadata": {},
   "outputs": [
    {
     "data": {
      "text/html": [
       "<div>\n",
       "<style scoped>\n",
       "    .dataframe tbody tr th:only-of-type {\n",
       "        vertical-align: middle;\n",
       "    }\n",
       "\n",
       "    .dataframe tbody tr th {\n",
       "        vertical-align: top;\n",
       "    }\n",
       "\n",
       "    .dataframe thead th {\n",
       "        text-align: right;\n",
       "    }\n",
       "</style>\n",
       "<table border=\"1\" class=\"dataframe\">\n",
       "  <thead>\n",
       "    <tr style=\"text-align: right;\">\n",
       "      <th></th>\n",
       "      <th>Gr.Liv.Area</th>\n",
       "      <th>SalePrice</th>\n",
       "      <th>Lot.Area</th>\n",
       "    </tr>\n",
       "  </thead>\n",
       "  <tbody>\n",
       "    <tr>\n",
       "      <th>Gr.Liv.Area</th>\n",
       "      <td>1.000000</td>\n",
       "      <td>0.706780</td>\n",
       "      <td>0.285599</td>\n",
       "    </tr>\n",
       "    <tr>\n",
       "      <th>SalePrice</th>\n",
       "      <td>0.706780</td>\n",
       "      <td>1.000000</td>\n",
       "      <td>0.266549</td>\n",
       "    </tr>\n",
       "    <tr>\n",
       "      <th>Lot.Area</th>\n",
       "      <td>0.285599</td>\n",
       "      <td>0.266549</td>\n",
       "      <td>1.000000</td>\n",
       "    </tr>\n",
       "  </tbody>\n",
       "</table>\n",
       "</div>"
      ],
      "text/plain": [
       "             Gr.Liv.Area  SalePrice  Lot.Area\n",
       "Gr.Liv.Area     1.000000   0.706780  0.285599\n",
       "SalePrice       0.706780   1.000000  0.266549\n",
       "Lot.Area        0.285599   0.266549  1.000000"
      ]
     },
     "execution_count": 45,
     "metadata": {},
     "output_type": "execute_result"
    }
   ],
   "source": [
    "# Respuesta\n",
    "\n",
    "df.corr()\n",
    "\n"
   ]
  },
  {
   "cell_type": "markdown",
   "metadata": {},
   "source": [
    "b) Comenta por qué sería esperable (o no) que el coeficiente de correlación entre el precio de venta y el área habitable es más grande que entre el precio de venta y el área del lote."
   ]
  },
  {
   "cell_type": "markdown",
   "metadata": {},
   "source": [
    "**Respuesta:**\n",
    "\n",
    "En general, es esperable que tanto el área habitable como el área del lote estén correlacionados positivamente con el precio de venta de un lugar. Pero dentro de eso, es esperable que la correlación sea menor entre el precio de venta y el área del lote, ya que las propiedades en zonas de baja densidad o en zonas agrícolas tienden a tener un area del lote muchísimo más grande y un precio pequeño en relación a los lugares de alta densidad. En cambio, el área habitable es un factor importante en el precio que es más fuerte ya que a mayor área habitable, mayor precio, de manera independiente de la locación o uso de la propiedad. \n",
    "\n",
    "La idea de esta pregunta y la siguiente es hacer una \"suposición basada en datos\" que suene relativamente razonable y con las herramientas que tenemos, ahora, si alguien profundizó más, también está bien.\n"
   ]
  },
  {
   "cell_type": "markdown",
   "metadata": {},
   "source": [
    "Creamos dos dataframes llamados `df_excellent` y `df_other`, que contienen a las ventas de casas con calefacción de calidad *Excellent* y del resto de las calidades respectivamente."
   ]
  },
  {
   "cell_type": "code",
   "execution_count": 46,
   "metadata": {},
   "outputs": [
    {
     "data": {
      "text/html": [
       "<div>\n",
       "<style scoped>\n",
       "    .dataframe tbody tr th:only-of-type {\n",
       "        vertical-align: middle;\n",
       "    }\n",
       "\n",
       "    .dataframe tbody tr th {\n",
       "        vertical-align: top;\n",
       "    }\n",
       "\n",
       "    .dataframe thead th {\n",
       "        text-align: right;\n",
       "    }\n",
       "</style>\n",
       "<table border=\"1\" class=\"dataframe\">\n",
       "  <thead>\n",
       "    <tr style=\"text-align: right;\">\n",
       "      <th></th>\n",
       "      <th>Gr.Liv.Area</th>\n",
       "      <th>SalePrice</th>\n",
       "      <th>Lot.Area</th>\n",
       "      <th>Heating.QC</th>\n",
       "    </tr>\n",
       "  </thead>\n",
       "  <tbody>\n",
       "    <tr>\n",
       "      <th>3</th>\n",
       "      <td>2110</td>\n",
       "      <td>244000</td>\n",
       "      <td>11160</td>\n",
       "      <td>Ex</td>\n",
       "    </tr>\n",
       "    <tr>\n",
       "      <th>5</th>\n",
       "      <td>1604</td>\n",
       "      <td>195500</td>\n",
       "      <td>9978</td>\n",
       "      <td>Ex</td>\n",
       "    </tr>\n",
       "    <tr>\n",
       "      <th>6</th>\n",
       "      <td>1338</td>\n",
       "      <td>213500</td>\n",
       "      <td>4920</td>\n",
       "      <td>Ex</td>\n",
       "    </tr>\n",
       "    <tr>\n",
       "      <th>7</th>\n",
       "      <td>1280</td>\n",
       "      <td>191500</td>\n",
       "      <td>5005</td>\n",
       "      <td>Ex</td>\n",
       "    </tr>\n",
       "    <tr>\n",
       "      <th>8</th>\n",
       "      <td>1616</td>\n",
       "      <td>236500</td>\n",
       "      <td>5389</td>\n",
       "      <td>Ex</td>\n",
       "    </tr>\n",
       "    <tr>\n",
       "      <th>...</th>\n",
       "      <td>...</td>\n",
       "      <td>...</td>\n",
       "      <td>...</td>\n",
       "      <td>...</td>\n",
       "    </tr>\n",
       "    <tr>\n",
       "      <th>2909</th>\n",
       "      <td>1475</td>\n",
       "      <td>127000</td>\n",
       "      <td>2665</td>\n",
       "      <td>Ex</td>\n",
       "    </tr>\n",
       "    <tr>\n",
       "      <th>2911</th>\n",
       "      <td>874</td>\n",
       "      <td>126500</td>\n",
       "      <td>10172</td>\n",
       "      <td>Ex</td>\n",
       "    </tr>\n",
       "    <tr>\n",
       "      <th>2916</th>\n",
       "      <td>630</td>\n",
       "      <td>92000</td>\n",
       "      <td>1533</td>\n",
       "      <td>Ex</td>\n",
       "    </tr>\n",
       "    <tr>\n",
       "      <th>2924</th>\n",
       "      <td>1224</td>\n",
       "      <td>131000</td>\n",
       "      <td>20000</td>\n",
       "      <td>Ex</td>\n",
       "    </tr>\n",
       "    <tr>\n",
       "      <th>2929</th>\n",
       "      <td>2000</td>\n",
       "      <td>188000</td>\n",
       "      <td>9627</td>\n",
       "      <td>Ex</td>\n",
       "    </tr>\n",
       "  </tbody>\n",
       "</table>\n",
       "<p>1495 rows × 4 columns</p>\n",
       "</div>"
      ],
      "text/plain": [
       "      Gr.Liv.Area  SalePrice  Lot.Area Heating.QC\n",
       "3            2110     244000     11160         Ex\n",
       "5            1604     195500      9978         Ex\n",
       "6            1338     213500      4920         Ex\n",
       "7            1280     191500      5005         Ex\n",
       "8            1616     236500      5389         Ex\n",
       "...           ...        ...       ...        ...\n",
       "2909         1475     127000      2665         Ex\n",
       "2911          874     126500     10172         Ex\n",
       "2916          630      92000      1533         Ex\n",
       "2924         1224     131000     20000         Ex\n",
       "2929         2000     188000      9627         Ex\n",
       "\n",
       "[1495 rows x 4 columns]"
      ]
     },
     "execution_count": 46,
     "metadata": {},
     "output_type": "execute_result"
    }
   ],
   "source": [
    "df_excellent = df[df['Heating.QC']==\"Ex\"]\n",
    "df_excellent"
   ]
  },
  {
   "cell_type": "code",
   "execution_count": 47,
   "metadata": {},
   "outputs": [
    {
     "data": {
      "text/html": [
       "<div>\n",
       "<style scoped>\n",
       "    .dataframe tbody tr th:only-of-type {\n",
       "        vertical-align: middle;\n",
       "    }\n",
       "\n",
       "    .dataframe tbody tr th {\n",
       "        vertical-align: top;\n",
       "    }\n",
       "\n",
       "    .dataframe thead th {\n",
       "        text-align: right;\n",
       "    }\n",
       "</style>\n",
       "<table border=\"1\" class=\"dataframe\">\n",
       "  <thead>\n",
       "    <tr style=\"text-align: right;\">\n",
       "      <th></th>\n",
       "      <th>Gr.Liv.Area</th>\n",
       "      <th>SalePrice</th>\n",
       "      <th>Lot.Area</th>\n",
       "      <th>Heating.QC</th>\n",
       "    </tr>\n",
       "  </thead>\n",
       "  <tbody>\n",
       "    <tr>\n",
       "      <th>0</th>\n",
       "      <td>1656</td>\n",
       "      <td>215000</td>\n",
       "      <td>31770</td>\n",
       "      <td>Fa</td>\n",
       "    </tr>\n",
       "    <tr>\n",
       "      <th>1</th>\n",
       "      <td>896</td>\n",
       "      <td>105000</td>\n",
       "      <td>11622</td>\n",
       "      <td>TA</td>\n",
       "    </tr>\n",
       "    <tr>\n",
       "      <th>2</th>\n",
       "      <td>1329</td>\n",
       "      <td>172000</td>\n",
       "      <td>14267</td>\n",
       "      <td>TA</td>\n",
       "    </tr>\n",
       "    <tr>\n",
       "      <th>4</th>\n",
       "      <td>1629</td>\n",
       "      <td>189900</td>\n",
       "      <td>13830</td>\n",
       "      <td>Gd</td>\n",
       "    </tr>\n",
       "    <tr>\n",
       "      <th>9</th>\n",
       "      <td>1804</td>\n",
       "      <td>189000</td>\n",
       "      <td>7500</td>\n",
       "      <td>Gd</td>\n",
       "    </tr>\n",
       "    <tr>\n",
       "      <th>...</th>\n",
       "      <td>...</td>\n",
       "      <td>...</td>\n",
       "      <td>...</td>\n",
       "      <td>...</td>\n",
       "    </tr>\n",
       "    <tr>\n",
       "      <th>2923</th>\n",
       "      <td>1126</td>\n",
       "      <td>160000</td>\n",
       "      <td>17400</td>\n",
       "      <td>Fa</td>\n",
       "    </tr>\n",
       "    <tr>\n",
       "      <th>2925</th>\n",
       "      <td>1003</td>\n",
       "      <td>142500</td>\n",
       "      <td>7937</td>\n",
       "      <td>TA</td>\n",
       "    </tr>\n",
       "    <tr>\n",
       "      <th>2926</th>\n",
       "      <td>902</td>\n",
       "      <td>131000</td>\n",
       "      <td>8885</td>\n",
       "      <td>TA</td>\n",
       "    </tr>\n",
       "    <tr>\n",
       "      <th>2927</th>\n",
       "      <td>970</td>\n",
       "      <td>132000</td>\n",
       "      <td>10441</td>\n",
       "      <td>TA</td>\n",
       "    </tr>\n",
       "    <tr>\n",
       "      <th>2928</th>\n",
       "      <td>1389</td>\n",
       "      <td>170000</td>\n",
       "      <td>10010</td>\n",
       "      <td>Gd</td>\n",
       "    </tr>\n",
       "  </tbody>\n",
       "</table>\n",
       "<p>1435 rows × 4 columns</p>\n",
       "</div>"
      ],
      "text/plain": [
       "      Gr.Liv.Area  SalePrice  Lot.Area Heating.QC\n",
       "0            1656     215000     31770         Fa\n",
       "1             896     105000     11622         TA\n",
       "2            1329     172000     14267         TA\n",
       "4            1629     189900     13830         Gd\n",
       "9            1804     189000      7500         Gd\n",
       "...           ...        ...       ...        ...\n",
       "2923         1126     160000     17400         Fa\n",
       "2925         1003     142500      7937         TA\n",
       "2926          902     131000      8885         TA\n",
       "2927          970     132000     10441         TA\n",
       "2928         1389     170000     10010         Gd\n",
       "\n",
       "[1435 rows x 4 columns]"
      ]
     },
     "execution_count": 47,
     "metadata": {},
     "output_type": "execute_result"
    }
   ],
   "source": [
    "df_other = df[df['Heating.QC']!=\"Ex\"]\n",
    "df_other"
   ]
  },
  {
   "cell_type": "markdown",
   "metadata": {},
   "source": [
    "c) Calcula las matrices de correlación para ambos dataframes df_excellent y df_other, y comenta si los cambios en los coeficientes de correlación entre el precio de venta y el área habitable, y el precio de venta y el área del lote te hacen sentido y qué interpretación podría hacerse al respecto. "
   ]
  },
  {
   "cell_type": "code",
   "execution_count": 48,
   "metadata": {},
   "outputs": [
    {
     "data": {
      "text/html": [
       "<div>\n",
       "<style scoped>\n",
       "    .dataframe tbody tr th:only-of-type {\n",
       "        vertical-align: middle;\n",
       "    }\n",
       "\n",
       "    .dataframe tbody tr th {\n",
       "        vertical-align: top;\n",
       "    }\n",
       "\n",
       "    .dataframe thead th {\n",
       "        text-align: right;\n",
       "    }\n",
       "</style>\n",
       "<table border=\"1\" class=\"dataframe\">\n",
       "  <thead>\n",
       "    <tr style=\"text-align: right;\">\n",
       "      <th></th>\n",
       "      <th>Gr.Liv.Area</th>\n",
       "      <th>SalePrice</th>\n",
       "      <th>Lot.Area</th>\n",
       "    </tr>\n",
       "  </thead>\n",
       "  <tbody>\n",
       "    <tr>\n",
       "      <th>Gr.Liv.Area</th>\n",
       "      <td>1.000000</td>\n",
       "      <td>0.710061</td>\n",
       "      <td>0.344207</td>\n",
       "    </tr>\n",
       "    <tr>\n",
       "      <th>SalePrice</th>\n",
       "      <td>0.710061</td>\n",
       "      <td>1.000000</td>\n",
       "      <td>0.278177</td>\n",
       "    </tr>\n",
       "    <tr>\n",
       "      <th>Lot.Area</th>\n",
       "      <td>0.344207</td>\n",
       "      <td>0.278177</td>\n",
       "      <td>1.000000</td>\n",
       "    </tr>\n",
       "  </tbody>\n",
       "</table>\n",
       "</div>"
      ],
      "text/plain": [
       "             Gr.Liv.Area  SalePrice  Lot.Area\n",
       "Gr.Liv.Area     1.000000   0.710061  0.344207\n",
       "SalePrice       0.710061   1.000000  0.278177\n",
       "Lot.Area        0.344207   0.278177  1.000000"
      ]
     },
     "execution_count": 48,
     "metadata": {},
     "output_type": "execute_result"
    }
   ],
   "source": [
    "## df_excellent\n",
    "\n",
    "df_excellent.corr()\n"
   ]
  },
  {
   "cell_type": "code",
   "execution_count": 49,
   "metadata": {},
   "outputs": [
    {
     "data": {
      "text/html": [
       "<div>\n",
       "<style scoped>\n",
       "    .dataframe tbody tr th:only-of-type {\n",
       "        vertical-align: middle;\n",
       "    }\n",
       "\n",
       "    .dataframe tbody tr th {\n",
       "        vertical-align: top;\n",
       "    }\n",
       "\n",
       "    .dataframe thead th {\n",
       "        text-align: right;\n",
       "    }\n",
       "</style>\n",
       "<table border=\"1\" class=\"dataframe\">\n",
       "  <thead>\n",
       "    <tr style=\"text-align: right;\">\n",
       "      <th></th>\n",
       "      <th>Gr.Liv.Area</th>\n",
       "      <th>SalePrice</th>\n",
       "      <th>Lot.Area</th>\n",
       "    </tr>\n",
       "  </thead>\n",
       "  <tbody>\n",
       "    <tr>\n",
       "      <th>Gr.Liv.Area</th>\n",
       "      <td>1.000000</td>\n",
       "      <td>0.649399</td>\n",
       "      <td>0.259433</td>\n",
       "    </tr>\n",
       "    <tr>\n",
       "      <th>SalePrice</th>\n",
       "      <td>0.649399</td>\n",
       "      <td>1.000000</td>\n",
       "      <td>0.371505</td>\n",
       "    </tr>\n",
       "    <tr>\n",
       "      <th>Lot.Area</th>\n",
       "      <td>0.259433</td>\n",
       "      <td>0.371505</td>\n",
       "      <td>1.000000</td>\n",
       "    </tr>\n",
       "  </tbody>\n",
       "</table>\n",
       "</div>"
      ],
      "text/plain": [
       "             Gr.Liv.Area  SalePrice  Lot.Area\n",
       "Gr.Liv.Area     1.000000   0.649399  0.259433\n",
       "SalePrice       0.649399   1.000000  0.371505\n",
       "Lot.Area        0.259433   0.371505  1.000000"
      ]
     },
     "execution_count": 49,
     "metadata": {},
     "output_type": "execute_result"
    }
   ],
   "source": [
    "## df_other\n",
    "df_other.corr()\n"
   ]
  },
  {
   "cell_type": "markdown",
   "metadata": {},
   "source": [
    "**Respuesta:**\n",
    "Los coeficientes de correlación entre el precio de venta y el área habitable son ambos positivos, y es más grande  para el dataframe que tiene solo propedades con calefacción en excelente estado(0.71) que para el dataframe que tiene las propiedades con la calefacción en otros estados (0.65). Los coeficientes de correlación entre el precio de venta y el área del lote son ambos positivos, y es más pequeño para las propiedades con calefacción en excelente estado (0.28) que para las propiedades con calefacción en otros estados (0.37).\n",
    "\n",
    "Una interpretación que haría sentido con los cambios en los coeficientes de regresión podría ser la siguiente: \n",
    "Partiendo de la base que a priori, las propiedades con calefacción en excelente estado en general van a tender a tener un precio de venta más alto que las que no lo tienen. Asimismo, van a ser propiedades donde el estado y calidad de los lugares interiores (habitables) de la propiedad en general va a tender a ser mejor que en las propiedades donde la calidad de la calefacción es menor, cualidades que correlacionan también con un precio de venta más alto, y que son especialmente importantes para el tipo de comprador que está interesado en encontrar buena calidad en la parte construida habitable de la casa. Entonces, es razonable esperar que la correlación entre área habitable y precio de venta tenga una magnitud mayor en estas propiedades. En cambio, en las propiedades donde la calefacción no tiene calidad excelente, se espera en general una menor calidad de los lugares interiores y que los compradores tengan menos interés en la calidad de los espacios habitables de estos lugares, y le den más preponderancia a otras características como el área del lote. "
   ]
  }
 ],
 "metadata": {
  "celltoolbar": "Raw Cell Format",
  "kernelspec": {
   "display_name": "Python 3 (ipykernel)",
   "language": "python",
   "name": "python3"
  },
  "language_info": {
   "codemirror_mode": {
    "name": "ipython",
    "version": 3
   },
   "file_extension": ".py",
   "mimetype": "text/x-python",
   "name": "python",
   "nbconvert_exporter": "python",
   "pygments_lexer": "ipython3",
   "version": "3.9.12"
  }
 },
 "nbformat": 4,
 "nbformat_minor": 4
}
