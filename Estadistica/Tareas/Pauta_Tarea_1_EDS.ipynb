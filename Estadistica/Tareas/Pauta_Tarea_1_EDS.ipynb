{
 "cells": [
  {
   "cell_type": "markdown",
   "metadata": {
    "id": "cm93A7qGIiqv"
   },
   "source": [
    "# PAUTA \n",
    "# Tarea 1 Estadística para Data Science: Análisis Exploratorio de Datos\n"
   ]
  },
  {
   "cell_type": "markdown",
   "metadata": {
    "id": "n1JjzduHIiVu"
   },
   "source": [
    "# 0. Cargando librerías \n",
    "Carga las librerías que necesitarás"
   ]
  },
  {
   "cell_type": "code",
   "execution_count": 1,
   "metadata": {
    "id": "ArCag7gUI26Q"
   },
   "outputs": [],
   "source": [
    "import pandas as pd\n",
    "\n",
    "%matplotlib inline\n",
    "\n",
    "import seaborn as sns\n",
    "import matplotlib.pylab as plt"
   ]
  },
  {
   "cell_type": "markdown",
   "metadata": {
    "id": "-CZoXvqpTV7b"
   },
   "source": [
    "# 1. Wildcats:\n",
    "El equipo de futbol americano de los Wildcats de Arizona juega 12 partidos en la temporada regular cada año. El dataset `uafootball` contiene la diferencia en el marcador en cinco temporadas, desde 2014 hasta 2018.\n",
    "\n",
    "## 1.1 Carga el siguiente dataset ubicado en: http://math.arizona.edu/~jwatkins/uafootball.csv"
   ]
  },
  {
   "cell_type": "code",
   "execution_count": 2,
   "metadata": {
    "colab": {
     "base_uri": "https://localhost:8080/",
     "height": 426
    },
    "id": "sqNK9D_AIeYD",
    "outputId": "a7ec40c3-3f42-4e6b-fc0a-f52f3a604af6"
   },
   "outputs": [
    {
     "data": {
      "text/html": [
       "<div>\n",
       "<style scoped>\n",
       "    .dataframe tbody tr th:only-of-type {\n",
       "        vertical-align: middle;\n",
       "    }\n",
       "\n",
       "    .dataframe tbody tr th {\n",
       "        vertical-align: top;\n",
       "    }\n",
       "\n",
       "    .dataframe thead th {\n",
       "        text-align: right;\n",
       "    }\n",
       "</style>\n",
       "<table border=\"1\" class=\"dataframe\">\n",
       "  <thead>\n",
       "    <tr style=\"text-align: right;\">\n",
       "      <th></th>\n",
       "      <th>f14</th>\n",
       "      <th>f15</th>\n",
       "      <th>f16</th>\n",
       "      <th>f17</th>\n",
       "      <th>f18</th>\n",
       "    </tr>\n",
       "  </thead>\n",
       "  <tbody>\n",
       "    <tr>\n",
       "      <th>0</th>\n",
       "      <td>45</td>\n",
       "      <td>10</td>\n",
       "      <td>-2</td>\n",
       "      <td>38</td>\n",
       "      <td>-5</td>\n",
       "    </tr>\n",
       "    <tr>\n",
       "      <th>1</th>\n",
       "      <td>3</td>\n",
       "      <td>22</td>\n",
       "      <td>10</td>\n",
       "      <td>-3</td>\n",
       "      <td>-27</td>\n",
       "    </tr>\n",
       "    <tr>\n",
       "      <th>2</th>\n",
       "      <td>7</td>\n",
       "      <td>54</td>\n",
       "      <td>21</td>\n",
       "      <td>47</td>\n",
       "      <td>31</td>\n",
       "    </tr>\n",
       "    <tr>\n",
       "      <th>3</th>\n",
       "      <td>4</td>\n",
       "      <td>-26</td>\n",
       "      <td>-7</td>\n",
       "      <td>-6</td>\n",
       "      <td>21</td>\n",
       "    </tr>\n",
       "    <tr>\n",
       "      <th>4</th>\n",
       "      <td>7</td>\n",
       "      <td>-38</td>\n",
       "      <td>-21</td>\n",
       "      <td>3</td>\n",
       "      <td>-4</td>\n",
       "    </tr>\n",
       "    <tr>\n",
       "      <th>5</th>\n",
       "      <td>-2</td>\n",
       "      <td>37</td>\n",
       "      <td>-13</td>\n",
       "      <td>17</td>\n",
       "      <td>7</td>\n",
       "    </tr>\n",
       "    <tr>\n",
       "      <th>6</th>\n",
       "      <td>22</td>\n",
       "      <td>7</td>\n",
       "      <td>-34</td>\n",
       "      <td>1</td>\n",
       "      <td>-32</td>\n",
       "    </tr>\n",
       "    <tr>\n",
       "      <th>7</th>\n",
       "      <td>-10</td>\n",
       "      <td>-3</td>\n",
       "      <td>-24</td>\n",
       "      <td>21</td>\n",
       "      <td>-1</td>\n",
       "    </tr>\n",
       "    <tr>\n",
       "      <th>8</th>\n",
       "      <td>18</td>\n",
       "      <td>-46</td>\n",
       "      <td>-62</td>\n",
       "      <td>-14</td>\n",
       "      <td>29</td>\n",
       "    </tr>\n",
       "    <tr>\n",
       "      <th>9</th>\n",
       "      <td>1</td>\n",
       "      <td>-8</td>\n",
       "      <td>-25</td>\n",
       "      <td>21</td>\n",
       "      <td>8</td>\n",
       "    </tr>\n",
       "    <tr>\n",
       "      <th>10</th>\n",
       "      <td>32</td>\n",
       "      <td>7</td>\n",
       "      <td>-25</td>\n",
       "      <td>-20</td>\n",
       "      <td>-41</td>\n",
       "    </tr>\n",
       "    <tr>\n",
       "      <th>11</th>\n",
       "      <td>7</td>\n",
       "      <td>-15</td>\n",
       "      <td>21</td>\n",
       "      <td>-12</td>\n",
       "      <td>-1</td>\n",
       "    </tr>\n",
       "  </tbody>\n",
       "</table>\n",
       "</div>"
      ],
      "text/plain": [
       "    f14  f15  f16  f17  f18\n",
       "0    45   10   -2   38   -5\n",
       "1     3   22   10   -3  -27\n",
       "2     7   54   21   47   31\n",
       "3     4  -26   -7   -6   21\n",
       "4     7  -38  -21    3   -4\n",
       "5    -2   37  -13   17    7\n",
       "6    22    7  -34    1  -32\n",
       "7   -10   -3  -24   21   -1\n",
       "8    18  -46  -62  -14   29\n",
       "9     1   -8  -25   21    8\n",
       "10   32    7  -25  -20  -41\n",
       "11    7  -15   21  -12   -1"
      ]
     },
     "execution_count": 2,
     "metadata": {},
     "output_type": "execute_result"
    }
   ],
   "source": [
    "# escribe aquí el código para 1.1\n",
    "uafootball = pd.read_csv('http://math.arizona.edu/~jwatkins/uafootball.csv')\n",
    "uafootball"
   ]
  },
  {
   "cell_type": "markdown",
   "metadata": {
    "id": "vk_zXQduSveD"
   },
   "source": [
    "## 1.2 Contesta las siguientes preguntas\n",
    "\n",
    "¿Cuántos partidos ganaron los Wildcats cada año? \n",
    "\n"
   ]
  },
  {
   "cell_type": "code",
   "execution_count": 3,
   "metadata": {
    "colab": {
     "base_uri": "https://localhost:8080/"
    },
    "id": "XHzpzrHFJQka",
    "outputId": "61a53532-cde1-4b6f-d46d-689d65c08ada"
   },
   "outputs": [
    {
     "data": {
      "text/plain": [
       "10"
      ]
     },
     "execution_count": 3,
     "metadata": {},
     "output_type": "execute_result"
    }
   ],
   "source": [
    "# código para 1.2\n",
    "'''\n",
    "Los wildcats juegan 12 partidos por año, y en cada columna, los wildcats ganaron el partido\n",
    " cuando la diferencia es positiva (mayor que cero) y pierden cuando es negativa. \n",
    "'''\n",
    "# Por lo tanto, durante la temporada 2014 tenemos 10 partidos ganados\n",
    "sum(uafootball['f14']>0)\n"
   ]
  },
  {
   "cell_type": "code",
   "execution_count": 4,
   "metadata": {
    "colab": {
     "base_uri": "https://localhost:8080/"
    },
    "id": "NAbblQejp3II",
    "outputId": "2c0da374-2688-4a62-97df-3584cc03462d"
   },
   "outputs": [
    {
     "name": "stdout",
     "output_type": "stream",
     "text": [
      "6\n",
      "3\n",
      "7\n",
      "5\n"
     ]
    }
   ],
   "source": [
    "# temporada 2015\n",
    "print(sum(uafootball['f15']>0))\n",
    "# temporada 2016\n",
    "print(sum(uafootball['f16']>0))\n",
    "# temporada 2017\n",
    "print(sum(uafootball['f17']>0))\n",
    "# temporada 2018\n",
    "print(sum(uafootball['f18']>0))"
   ]
  },
  {
   "cell_type": "code",
   "execution_count": 5,
   "metadata": {
    "colab": {
     "base_uri": "https://localhost:8080/"
    },
    "id": "TMx5WUbgrJZw",
    "outputId": "8431561e-7941-4324-baa6-c1a7bfbc0b23"
   },
   "outputs": [
    {
     "data": {
      "text/plain": [
       "f14    10\n",
       "f15     6\n",
       "f16     3\n",
       "f17     7\n",
       "f18     5\n",
       "dtype: int64"
      ]
     },
     "execution_count": 5,
     "metadata": {},
     "output_type": "execute_result"
    }
   ],
   "source": [
    "# otra forma, usando el método agg\n",
    "uafootball.agg(lambda x: sum(x>0))"
   ]
  },
  {
   "cell_type": "markdown",
   "metadata": {
    "id": "3oUHWxkPND9t"
   },
   "source": [
    "## 1.2 Respuesta\n",
    "\n",
    "Los Wildcats ganaron los siguientes partidos en cada año:\n",
    "\n",
    "* 2014: 10\n",
    "* 2015: 6\n",
    "* 2016: 3\n",
    "* 2017: 7\n",
    "* 2018: 5\n"
   ]
  },
  {
   "cell_type": "markdown",
   "metadata": {
    "id": "56ehQFXVJdVG"
   },
   "source": [
    "## 1.3 Da un resumen de 5 números (mínimo, 1er cuartil, mediana, 3er cuartil, máximo) para la diferencia en el marcador de cada año.\n"
   ]
  },
  {
   "cell_type": "code",
   "execution_count": 6,
   "metadata": {
    "colab": {
     "base_uri": "https://localhost:8080/"
    },
    "id": "DxGXyF2-JQ4O",
    "outputId": "014b2898-750a-4dce-cf94-a5267c7986ba"
   },
   "outputs": [
    {
     "data": {
      "text/plain": [
       "f14   -10\n",
       "f15   -46\n",
       "f16   -62\n",
       "f17   -20\n",
       "f18   -41\n",
       "dtype: int64"
      ]
     },
     "execution_count": 6,
     "metadata": {},
     "output_type": "execute_result"
    }
   ],
   "source": [
    "# Al ejecutar el método min sobre el dataframe completo, el método calcula el mínimo sobre cada columna\n",
    "uafootball.min()"
   ]
  },
  {
   "cell_type": "code",
   "execution_count": 7,
   "metadata": {
    "colab": {
     "base_uri": "https://localhost:8080/"
    },
    "id": "gVU5A0COzpiX",
    "outputId": "0aaa8018-57ba-453b-d169-3924095358b5"
   },
   "outputs": [
    {
     "data": {
      "text/plain": [
       "f14     2.50\n",
       "f15   -17.75\n",
       "f16   -25.00\n",
       "f17    -7.50\n",
       "f18   -10.50\n",
       "Name: 0.25, dtype: float64"
      ]
     },
     "execution_count": 7,
     "metadata": {},
     "output_type": "execute_result"
    }
   ],
   "source": [
    "uafootball.quantile(0.25)"
   ]
  },
  {
   "cell_type": "code",
   "execution_count": 8,
   "metadata": {
    "colab": {
     "base_uri": "https://localhost:8080/"
    },
    "id": "jjnjGvDUziu6",
    "outputId": "9e0c9a86-06ce-4297-f392-c04d85e3e868"
   },
   "outputs": [
    {
     "data": {
      "text/plain": [
       "f14     7.0\n",
       "f15     2.0\n",
       "f16   -17.0\n",
       "f17     2.0\n",
       "f18    -1.0\n",
       "dtype: float64"
      ]
     },
     "execution_count": 8,
     "metadata": {},
     "output_type": "execute_result"
    }
   ],
   "source": [
    "uafootball.median()"
   ]
  },
  {
   "cell_type": "code",
   "execution_count": 9,
   "metadata": {
    "colab": {
     "base_uri": "https://localhost:8080/"
    },
    "id": "SwObMrLnz2Ru",
    "outputId": "f28848ec-237c-4bde-f3ff-20df020be657"
   },
   "outputs": [
    {
     "data": {
      "text/plain": [
       "f14    19.00\n",
       "f15    13.00\n",
       "f16     1.00\n",
       "f17    21.00\n",
       "f18    11.25\n",
       "Name: 0.75, dtype: float64"
      ]
     },
     "execution_count": 9,
     "metadata": {},
     "output_type": "execute_result"
    }
   ],
   "source": [
    "uafootball.quantile(0.75)"
   ]
  },
  {
   "cell_type": "code",
   "execution_count": 10,
   "metadata": {
    "colab": {
     "base_uri": "https://localhost:8080/"
    },
    "id": "yMyJZ1ixz4f2",
    "outputId": "d4714574-58c8-41f0-ee15-b9a5b5c78792"
   },
   "outputs": [
    {
     "data": {
      "text/plain": [
       "f14    45\n",
       "f15    54\n",
       "f16    21\n",
       "f17    47\n",
       "f18    31\n",
       "dtype: int64"
      ]
     },
     "execution_count": 10,
     "metadata": {},
     "output_type": "execute_result"
    }
   ],
   "source": [
    "uafootball.max()"
   ]
  },
  {
   "cell_type": "code",
   "execution_count": 11,
   "metadata": {},
   "outputs": [
    {
     "name": "stdout",
     "output_type": "stream",
     "text": [
      "     minimo  primer_cuartil  mediana  tercer_cuartil  maximo\n",
      "f14     -10            2.50      7.0           19.00      45\n",
      "f15     -46          -17.75      2.0           13.00      54\n",
      "f16     -62          -25.00    -17.0            1.00      21\n",
      "f17     -20           -7.50      2.0           21.00      47\n",
      "f18     -41          -10.50     -1.0           11.25      31\n"
     ]
    }
   ],
   "source": [
    "# Para presentar todo en una sola tabla:\n",
    "\n",
    "resumen = pd.DataFrame(data = {\"minimo\" : uafootball.min(), \"primer_cuartil\": uafootball.quantile(0.25),\n",
    "                               \"mediana\": uafootball.median(),\"tercer_cuartil\": uafootball.quantile(0.75),\n",
    "                               \"maximo\": uafootball.max()} )\n",
    "print(resumen)\n",
    "\n"
   ]
  },
  {
   "cell_type": "markdown",
   "metadata": {
    "id": "CjePTIEZJgkj"
   },
   "source": [
    "## 1.4 Grafica un side-by-side boxplot de la diferencia en el marcador para las cinco temporadas\n"
   ]
  },
  {
   "cell_type": "code",
   "execution_count": 12,
   "metadata": {
    "colab": {
     "base_uri": "https://localhost:8080/",
     "height": 281
    },
    "id": "om6SffD1JRAd",
    "outputId": "bc3987c6-2e65-4197-da33-5aa27d8ac28b"
   },
   "outputs": [
    {
     "data": {
      "image/png": "[encoded data removed]",
      "text/plain": [
       "<Figure size 432x288 with 1 Axes>"
      ]
     },
     "metadata": {
      "needs_background": "light"
     },
     "output_type": "display_data"
    }
   ],
   "source": [
    "# Graficando el dataframe (todas las columnas)\n",
    "ax = uafootball.plot(kind='box', title='Side-by-side Boxplot' )\n",
    "\n",
    "# Muestra el gráfico\n",
    "plt.show()"
   ]
  },
  {
   "cell_type": "markdown",
   "metadata": {
    "id": "mFKP2K27JiL6"
   },
   "source": [
    "## 1.5 Calcula el promedio y la desviación estándar insesgada y sesgada, en la diferencia en el marcador en cada una de las cinco temporadas. \n"
   ]
  },
  {
   "cell_type": "code",
   "execution_count": 13,
   "metadata": {
    "colab": {
     "base_uri": "https://localhost:8080/"
    },
    "id": "HL1QuMsiJRHb",
    "outputId": "748ca936-23cf-414a-a4a1-3003d05729c1"
   },
   "outputs": [
    {
     "data": {
      "text/plain": [
       "f14    11.166667\n",
       "f15     0.083333\n",
       "f16   -13.416667\n",
       "f17     7.750000\n",
       "f18    -1.250000\n",
       "dtype: float64"
      ]
     },
     "execution_count": 13,
     "metadata": {},
     "output_type": "execute_result"
    }
   ],
   "source": [
    "# Promedio\n",
    "uafootball.mean()"
   ]
  },
  {
   "cell_type": "code",
   "execution_count": 14,
   "metadata": {
    "colab": {
     "base_uri": "https://localhost:8080/"
    },
    "id": "XBfX4GSpVgar",
    "outputId": "9cc6bd7c-f6e2-4601-a8c0-bbdcf5ef2bd4"
   },
   "outputs": [
    {
     "data": {
      "text/plain": [
       "f14    15.485086\n",
       "f15    29.389108\n",
       "f16    23.952447\n",
       "f17    21.102025\n",
       "f18    22.990611\n",
       "dtype: float64"
      ]
     },
     "execution_count": 14,
     "metadata": {},
     "output_type": "execute_result"
    }
   ],
   "source": [
    "# desviación estándar insesgada\n",
    "uafootball.std()"
   ]
  },
  {
   "cell_type": "code",
   "execution_count": 15,
   "metadata": {
    "colab": {
     "base_uri": "https://localhost:8080/"
    },
    "id": "muL8aH0cV830",
    "outputId": "d4c98546-de6d-440b-b65d-adb185b1d571"
   },
   "outputs": [
    {
     "data": {
      "text/plain": [
       "f14    14.825841\n",
       "f15    28.137929\n",
       "f16    22.932722\n",
       "f17    20.203651\n",
       "f18    22.011834\n",
       "dtype: float64"
      ]
     },
     "execution_count": 15,
     "metadata": {},
     "output_type": "execute_result"
    }
   ],
   "source": [
    "# para la desviación estándar sesgada (Dividiendo por N en vez de N-1), \n",
    "# en la documentación de pandas.DataFrame.std el argumento ddof está por defecto en ddof=1,\n",
    "# si lo hacemos igual a cero, tenemos la desviación estándar que resulta de calcular la varianza dividiendo por N.\n",
    "\n",
    "uafootball.std(ddof=0)\n"
   ]
  },
  {
   "cell_type": "markdown",
   "metadata": {
    "id": "VFXCXovgJrGL"
   },
   "source": [
    "## 1.6 Calcula el promedio y la desviación estándar sesgada e insesgada en la diferencia en el marcador de cada una de las cinco temporadas si sacamos el primer y el último juego de cada temporada.\n"
   ]
  },
  {
   "cell_type": "code",
   "execution_count": 16,
   "metadata": {
    "id": "HkNTKGu7iqZO"
   },
   "outputs": [],
   "source": [
    "# Para sacar el primer y último juego, sacamos la primera fila (la fila 0, ya que en python se parte de cero),\n",
    "# y la última fila, usando el método iloc\n",
    "uafootball_trim = uafootball.iloc[1:11]"
   ]
  },
  {
   "cell_type": "code",
   "execution_count": 17,
   "metadata": {
    "colab": {
     "base_uri": "https://localhost:8080/",
     "height": 363
    },
    "id": "-V3uA1HYXzqy",
    "outputId": "b6408288-7395-4194-8a59-e00f0501f12c"
   },
   "outputs": [
    {
     "data": {
      "text/html": [
       "<div>\n",
       "<style scoped>\n",
       "    .dataframe tbody tr th:only-of-type {\n",
       "        vertical-align: middle;\n",
       "    }\n",
       "\n",
       "    .dataframe tbody tr th {\n",
       "        vertical-align: top;\n",
       "    }\n",
       "\n",
       "    .dataframe thead th {\n",
       "        text-align: right;\n",
       "    }\n",
       "</style>\n",
       "<table border=\"1\" class=\"dataframe\">\n",
       "  <thead>\n",
       "    <tr style=\"text-align: right;\">\n",
       "      <th></th>\n",
       "      <th>f14</th>\n",
       "      <th>f15</th>\n",
       "      <th>f16</th>\n",
       "      <th>f17</th>\n",
       "      <th>f18</th>\n",
       "    </tr>\n",
       "  </thead>\n",
       "  <tbody>\n",
       "    <tr>\n",
       "      <th>1</th>\n",
       "      <td>3</td>\n",
       "      <td>22</td>\n",
       "      <td>10</td>\n",
       "      <td>-3</td>\n",
       "      <td>-27</td>\n",
       "    </tr>\n",
       "    <tr>\n",
       "      <th>2</th>\n",
       "      <td>7</td>\n",
       "      <td>54</td>\n",
       "      <td>21</td>\n",
       "      <td>47</td>\n",
       "      <td>31</td>\n",
       "    </tr>\n",
       "    <tr>\n",
       "      <th>3</th>\n",
       "      <td>4</td>\n",
       "      <td>-26</td>\n",
       "      <td>-7</td>\n",
       "      <td>-6</td>\n",
       "      <td>21</td>\n",
       "    </tr>\n",
       "    <tr>\n",
       "      <th>4</th>\n",
       "      <td>7</td>\n",
       "      <td>-38</td>\n",
       "      <td>-21</td>\n",
       "      <td>3</td>\n",
       "      <td>-4</td>\n",
       "    </tr>\n",
       "    <tr>\n",
       "      <th>5</th>\n",
       "      <td>-2</td>\n",
       "      <td>37</td>\n",
       "      <td>-13</td>\n",
       "      <td>17</td>\n",
       "      <td>7</td>\n",
       "    </tr>\n",
       "    <tr>\n",
       "      <th>6</th>\n",
       "      <td>22</td>\n",
       "      <td>7</td>\n",
       "      <td>-34</td>\n",
       "      <td>1</td>\n",
       "      <td>-32</td>\n",
       "    </tr>\n",
       "    <tr>\n",
       "      <th>7</th>\n",
       "      <td>-10</td>\n",
       "      <td>-3</td>\n",
       "      <td>-24</td>\n",
       "      <td>21</td>\n",
       "      <td>-1</td>\n",
       "    </tr>\n",
       "    <tr>\n",
       "      <th>8</th>\n",
       "      <td>18</td>\n",
       "      <td>-46</td>\n",
       "      <td>-62</td>\n",
       "      <td>-14</td>\n",
       "      <td>29</td>\n",
       "    </tr>\n",
       "    <tr>\n",
       "      <th>9</th>\n",
       "      <td>1</td>\n",
       "      <td>-8</td>\n",
       "      <td>-25</td>\n",
       "      <td>21</td>\n",
       "      <td>8</td>\n",
       "    </tr>\n",
       "    <tr>\n",
       "      <th>10</th>\n",
       "      <td>32</td>\n",
       "      <td>7</td>\n",
       "      <td>-25</td>\n",
       "      <td>-20</td>\n",
       "      <td>-41</td>\n",
       "    </tr>\n",
       "  </tbody>\n",
       "</table>\n",
       "</div>"
      ],
      "text/plain": [
       "    f14  f15  f16  f17  f18\n",
       "1     3   22   10   -3  -27\n",
       "2     7   54   21   47   31\n",
       "3     4  -26   -7   -6   21\n",
       "4     7  -38  -21    3   -4\n",
       "5    -2   37  -13   17    7\n",
       "6    22    7  -34    1  -32\n",
       "7   -10   -3  -24   21   -1\n",
       "8    18  -46  -62  -14   29\n",
       "9     1   -8  -25   21    8\n",
       "10   32    7  -25  -20  -41"
      ]
     },
     "execution_count": 17,
     "metadata": {},
     "output_type": "execute_result"
    }
   ],
   "source": [
    "uafootball_trim"
   ]
  },
  {
   "cell_type": "code",
   "execution_count": 18,
   "metadata": {
    "colab": {
     "base_uri": "https://localhost:8080/"
    },
    "id": "TUdyljz3YTeK",
    "outputId": "81e813b5-8796-473c-fadb-3b4620d49027"
   },
   "outputs": [
    {
     "data": {
      "text/plain": [
       "f14     8.2\n",
       "f15     0.6\n",
       "f16   -18.0\n",
       "f17     6.7\n",
       "f18    -0.9\n",
       "dtype: float64"
      ]
     },
     "execution_count": 18,
     "metadata": {},
     "output_type": "execute_result"
    }
   ],
   "source": [
    "# promedio\n",
    "uafootball_trim.mean()"
   ]
  },
  {
   "cell_type": "code",
   "execution_count": 19,
   "metadata": {
    "colab": {
     "base_uri": "https://localhost:8080/"
    },
    "id": "NrwdczzKYqwV",
    "outputId": "74b37e75-8e71-41b7-eb23-75fd1e1d2fbe"
   },
   "outputs": [
    {
     "data": {
      "text/plain": [
       "f14    12.416834\n",
       "f15    31.924216\n",
       "f16    23.060307\n",
       "f17    19.950216\n",
       "f18    25.383503\n",
       "dtype: float64"
      ]
     },
     "execution_count": 19,
     "metadata": {},
     "output_type": "execute_result"
    }
   ],
   "source": [
    "# Desviación estándar insesgada (dividida por n-1)\n",
    "uafootball_trim.std()"
   ]
  },
  {
   "cell_type": "code",
   "execution_count": 20,
   "metadata": {
    "colab": {
     "base_uri": "https://localhost:8080/"
    },
    "id": "lZU9KbbBYtOI",
    "outputId": "24bb92e3-be46-4511-f369-5c064c658d6c"
   },
   "outputs": [
    {
     "data": {
      "text/plain": [
       "f14    11.779643\n",
       "f15    30.285970\n",
       "f16    21.876928\n",
       "f17    18.926437\n",
       "f18    24.080905\n",
       "dtype: float64"
      ]
     },
     "execution_count": 20,
     "metadata": {},
     "output_type": "execute_result"
    }
   ],
   "source": [
    "# Desviación estándar sesgada\n",
    "uafootball_trim.std(ddof=0)"
   ]
  },
  {
   "cell_type": "markdown",
   "metadata": {
    "id": "usv60aDZSagT"
   },
   "source": [
    "## 1.7 Averigua alguna manera (cualquiera, preferentemente con python pero otra forma es aceptable) de agregar las diferencias en el marcador de las cinco temporadas en una sola variable, explica como lo hiciste y grafica un histograma de esta nueva variable."
   ]
  },
  {
   "cell_type": "markdown",
   "metadata": {},
   "source": [
    "## 1.7 Respuesta"
   ]
  },
  {
   "cell_type": "code",
   "execution_count": 21,
   "metadata": {
    "id": "UviW9uKgY11A"
   },
   "outputs": [
    {
     "name": "stdout",
     "output_type": "stream",
     "text": [
      "   variable  value\n",
      "0       f14     45\n",
      "1       f14      3\n",
      "2       f14      7\n",
      "3       f14      4\n",
      "4       f14      7\n",
      "5       f14     -2\n",
      "6       f14     22\n",
      "7       f14    -10\n",
      "8       f14     18\n",
      "9       f14      1\n",
      "10      f14     32\n",
      "11      f14      7\n",
      "12      f15     10\n",
      "13      f15     22\n",
      "14      f15     54\n",
      "15      f15    -26\n",
      "16      f15    -38\n",
      "17      f15     37\n",
      "18      f15      7\n",
      "19      f15     -3\n",
      "20      f15    -46\n",
      "21      f15     -8\n",
      "22      f15      7\n",
      "23      f15    -15\n",
      "24      f16     -2\n",
      "25      f16     10\n",
      "26      f16     21\n",
      "27      f16     -7\n",
      "28      f16    -21\n",
      "29      f16    -13\n",
      "30      f16    -34\n",
      "31      f16    -24\n",
      "32      f16    -62\n",
      "33      f16    -25\n",
      "34      f16    -25\n",
      "35      f16     21\n",
      "36      f17     38\n",
      "37      f17     -3\n",
      "38      f17     47\n",
      "39      f17     -6\n",
      "40      f17      3\n",
      "41      f17     17\n",
      "42      f17      1\n",
      "43      f17     21\n",
      "44      f17    -14\n",
      "45      f17     21\n",
      "46      f17    -20\n",
      "47      f17    -12\n",
      "48      f18     -5\n",
      "49      f18    -27\n",
      "50      f18     31\n",
      "51      f18     21\n",
      "52      f18     -4\n",
      "53      f18      7\n",
      "54      f18    -32\n",
      "55      f18     -1\n",
      "56      f18     29\n",
      "57      f18      8\n",
      "58      f18    -41\n",
      "59      f18     -1\n"
     ]
    }
   ],
   "source": [
    "# Existen muchas formas de crear esta variable única que tenga las diferencias en \n",
    "# el marcador durante las cinco temporadas.\n",
    "# una forma directa es usando el método melt de pandas \n",
    "# https://pandas.pydata.org/docs/reference/api/pandas.melt.html\n",
    "\n",
    "five_season_scores = uafootball.melt()\n",
    "print(five_season_scores)"
   ]
  },
  {
   "cell_type": "code",
   "execution_count": 22,
   "metadata": {
    "colab": {
     "base_uri": "https://localhost:8080/",
     "height": 279
    },
    "id": "txZhaMzdZnH0",
    "outputId": "4a4a9dc0-1719-4a85-c831-fc6ec79bbe12"
   },
   "outputs": [
    {
     "data": {
      "image/png": "[encoded data removed]",
      "text/plain": [
       "<Figure size 432x288 with 1 Axes>"
      ]
     },
     "metadata": {
      "needs_background": "light"
     },
     "output_type": "display_data"
    }
   ],
   "source": [
    "\n",
    "# Añadir labels\n",
    "\n",
    "plt.xlabel('Diferencia en el marcador')\n",
    "plt.ylabel('Partidos')\n",
    "plt.hist(five_season_scores['value'] )\n",
    "plt.show()\n"
   ]
  },
  {
   "cell_type": "code",
   "execution_count": 23,
   "metadata": {},
   "outputs": [
    {
     "name": "stdout",
     "output_type": "stream",
     "text": [
      "-70 60\n"
     ]
    },
    {
     "data": {
      "image/png": "[encoded data removed]",
      "text/plain": [
       "<Figure size 432x288 with 1 Axes>"
      ]
     },
     "metadata": {
      "needs_background": "light"
     },
     "output_type": "display_data"
    }
   ],
   "source": [
    "# Creando un rango para los bins\n",
    "binwidth = 10 \n",
    "max_bin = (round(max(five_season_scores['value'])/binwidth)+1)*binwidth\n",
    "min_bin = (round(min(five_season_scores['value'])/binwidth) - 1)*binwidth\n",
    "\n",
    "print(min_bin,max_bin)\n",
    "bins = range(min_bin, max_bin + binwidth, binwidth)\n",
    "plt.xlabel('Diferencia en el marcador')\n",
    "plt.ylabel('Partidos')\n",
    "plt.hist(five_season_scores['value'],bins )\n",
    "plt.show()\n"
   ]
  },
  {
   "cell_type": "markdown",
   "metadata": {
    "id": "xKQaI5RYJuKg"
   },
   "source": [
    "## 1.8 Escribe en no más de 200 palabras como le ha ido a los Wildcats en estas cinco temporadas. Puedes usar resultados de las preguntas anteriores"
   ]
  },
  {
   "cell_type": "markdown",
   "metadata": {
    "id": "tdCb_3kITXVc"
   },
   "source": [
    "## 1.8: Respuesta\n",
    "\n",
    "En general, los Wildcats han tenido un rendimiento irregular en estas cinco temporadas, con una tendencia a la baja.Al ir año a año desde el 2014 al 2018, podemos ver que el 2014 es el año con mejor rendimiento. Se ganaron 10 partidos, la mayor cantidad de triunfos durante estas cinco temporadas y se tiene el mayor promedio de diferencia en el marcador. La desviación estándar es la más baja de las cinco temporadas, lo que indica que hay poca dispersión respecto al promedio de diferencia en el marcador, que fue también el más alto.\n",
    "\n",
    "Luego, viene una tendencia negativa, donde el 2015 el promedio del marcador sigue siendo positivo pero muy cercano a cero, y se ganan solo 6 partidos. El 2016 es el año de peor rendimiento, donde al revisar la mediana vemos que está en -17, es decir, en la mitad de los juegos quedaron con un marcador con 17 goles en contra o peor, ganando solo 3 de sus 14 partidos.\n",
    "\n",
    "El 2017 hay un repunte, ganando 7 partidos (50% de los partidos jugados), con un promedio de diferencia en el marcador de 7.75. Pero el 2018, el rendimiento vuelve a bajar, con un promedio de diferencia en el marcador negativo y solo cinco partidos ganados."
   ]
  },
  {
   "cell_type": "markdown",
   "metadata": {
    "id": "PDkUAeLbM1RD"
   },
   "source": [
    "## 2: Licencias Médicas 2019 y 2020\n",
    "\n",
    "Ingresa a la dirección https://www.suseso.cl/608/w3-propertyvalue-10364.html y descarga los archivos Estadísticas Nacionales de LM y SIL 2020 y Estadísticas Nacionales de LM y SIL 2019."
   ]
  },
  {
   "cell_type": "markdown",
   "metadata": {
    "id": "dTGoVQOSTnHi"
   },
   "source": [
    "## 2.1\n",
    "¿En qué extensión están los archivos? \n",
    "¿Cuál es el método en pandas para leer archivos de esta extensión?\n",
    "Indica el link de la documentación oficial de Pandas para este método."
   ]
  },
  {
   "cell_type": "markdown",
   "metadata": {
    "id": "Nzj68K-cfciW"
   },
   "source": [
    "## 2.1 Respuesta\n",
    "Están en extensión xlsx. El método de pandas para leer archivos xlsx es `pandas.read_excel` y el link a la documentación es https://pandas.pydata.org/docs/reference/api/pandas.read_excel.html"
   ]
  },
  {
   "cell_type": "markdown",
   "metadata": {
    "id": "39aXcyt9TozV"
   },
   "source": [
    "## 2.2 \n",
    "\n",
    "Haz una exploración inicial (solo mirar) de ambos archivos (lo puedes hacer en Excel). \n",
    "Anda al cuadro 5.1.1.1 de ambos años. \n",
    "¿Qué gran diferencia existe entre las categorías?\n",
    "\n"
   ]
  },
  {
   "cell_type": "markdown",
   "metadata": {
    "id": "QlmumxT4V7UC"
   },
   "source": [
    "## 2.2 Respuesta\n",
    "\n",
    "El año 2020 se agregan dos categorías nuevas, Licencia Médica Preventiva Parental y **COVID-19**."
   ]
  },
  {
   "cell_type": "markdown",
   "metadata": {
    "id": "BQdsq0RmToll"
   },
   "source": [
    "## 2.3\n",
    "En base a este evento excepcional, \n",
    "a) ¿deberíamos esperar una gran diferencia entre la cantidad de licencias médicas tramitadas, y la cantidad de licencias médicas pagadas en el año 2019 versus el año 2020? ¿Por qué? ¿Cuál es esta diferencia? ¿Te parece una gran diferencia? ¿Cómo podríamos comparar de mejor manera esta diferencia si descargaramos los datos del año 2018?\n",
    "b) ¿Cuál es la diferencia entre las licencias médicas tramitadas, y las licencias médicas pagadas en el año 2019 versus el año 2020? ¿Qué te parecen estas diferencias?  \n"
   ]
  },
  {
   "cell_type": "markdown",
   "metadata": {
    "id": "GbdhjbpzM6O7"
   },
   "source": [
    "## Respuesta 2.3\n",
    "\n",
    "**a)** Si bien no existe exactamente un indicador de licencias médicas pagadas sino días de licencia pagados, entenderemos las licencias médicas pagadas como las autorizadas.  En principio podríamos pensar que, a un primer orden, debería haber un aumento de licencias tanto tramitadas como autorizadas por un evento altamente disruptivo como una pandemia de un virus altamente contagioso como el covid, y donde además sabemos que se tomaron medidas especiales para otorgar licencias no solo por el contagio comprobado con un test sino por aislamiento (cuarentena) por contacto estrecho. El 2019 no solo la categoría formal sino el fenómeno en sí sencillamente no existía, por tanto uno podría esperar que, más allá de hipotetizar cuánto podría ser la fluctuación entre dos años cualquiera (que a primer orden no debería ser mucha), debería haber un aumento sustantivo de licencias tramitadas el 2020 en comparación con el 2019. La diferencia total de licencias tramitadas es de :\n",
    "* 2019: 6150303\n",
    "* 2020: 6034360\n",
    "\n",
    "Esto es bien sorprendente, ¡en total, hay incluso menos licencias el 2020 en relación al 2019!, una disminución del 1,88%.\n",
    "Podríamos ver, a primer orden, si esta diferencia es comparable a la de otros años, comparando la diferencia entre 2018 y 2019. El 2018, en total, fueron tramitadas 5890955 licencias, con lo cual entre 2018 y 2019 hubo un aumento de 4,4% en las licencias, con lo que podríamos pensar que la disminución de 1,8% sería aún más anómala.  Todo esto puede verse en el cuadro 2.1.1 del documento del año 2020. Se puede ver también en este mismo cuadro el desglose entre previsión (isapre y fonasa), lo cual abre otras hipótesis y preguntas.\n",
    "\n",
    "**b)**\n",
    "El cuadro 3.1.1 tiene las licencias médicas autorizadas (las tramitadas que fueron autorizadas, más las rechazadas de isapres que fueron reclamadas y acogidas total o parcialmente), acá el año 2019 se autorizaron 6327872 licencias y el 2020 se autorizaron 5912948 licencias, por tanto se da otro resultado bastante no trivial a un primer orden: el 2019 y todos los años anteriores hay más licencias autorizadas que tramitadas, básicamente tomando el efecto grande de las isapres agregando licencias autorizadas que fueron previamente rechazadas y reclamadas, y con fonasa siempre teniendo mas licencias tramitadas que aceptadas, pero en una diferencia menor. En el año 2020 en cambio, fonasa aparece con una diferencia mayor, y las isapres con una diferencia menor. \n",
    "\n",
    "Otra comparación pertinente (y probablemente más interesante y/o explicativa) es comparar no la cantidad de licencias sino de días de licencia.  Al hacer una comparación rápida entre 2019 y 2020, en los cuadros 5.2.1.1 tenemos que el 2019 hubo en total 77603153 días otorgados y el 2020 93325222, lo cual es una diferencia de ¡16 millones de días!, que irían mucho más acorde a nuestra primera hipótesis de pandemia. Al ver como se distribuyen los tipos de diagnósticos, COVID-19 agrega 7,35 millones de días, por tanto es un aporte importante pero de hecho no el mayor, el cual es en salud mental, con un aumento de aproximadamente 8,5 millones de días. Al ver los días pagados (6.2.1.1), vemos que la diferencia de 16 millones se reduce a 5 millones.\n",
    "\n"
   ]
  },
  {
   "cell_type": "markdown",
   "metadata": {
    "id": "lWSGABENTn_C"
   },
   "source": [
    "## 2.4 \n",
    "Nombra tres diferencias entre el 2019 y el 2020 que te parezcan interesantes de explorar en este dataset."
   ]
  },
  {
   "cell_type": "markdown",
   "metadata": {
    "id": "N8TVo_vTfzOe"
   },
   "source": [
    "Esta pregunta es abierta, algunos ejemplos:\n",
    "\n",
    "* Diferencias en diagnósticos de traumatismos entre 2019 y 2020, uno podría hipotetizar que al haber mucho menos desplazamiento y actividad física el 2020 hubo menos accidentes y eso provocó una baja.\n",
    "*  Diferencia en diagnósticos de trastornos mentales para personas sobre 65 años entre 2019 y 2020\n",
    "* Diferencia en diagnósticos en trastornos mentales entre hombres y mujeres entre 2019 y 2020.\n",
    "\n"
   ]
  }
 ],
 "metadata": {
  "colab": {
   "name": "Pauta Tarea_1_EDS.ipynb",
   "provenance": []
  },
  "kernelspec": {
   "display_name": "Python 3 (ipykernel)",
   "language": "python",
   "name": "python3"
  },
  "language_info": {
   "codemirror_mode": {
    "name": "ipython",
    "version": 3
   },
   "file_extension": ".py",
   "mimetype": "text/x-python",
   "name": "python",
   "nbconvert_exporter": "python",
   "pygments_lexer": "ipython3",
   "version": "3.9.12"
  }
 },
 "nbformat": 4,
 "nbformat_minor": 1
}
