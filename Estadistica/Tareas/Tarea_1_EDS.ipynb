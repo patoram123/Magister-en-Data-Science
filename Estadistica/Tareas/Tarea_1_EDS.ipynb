{
  "nbformat": 4,
  "nbformat_minor": 0,
  "metadata": {
    "colab": {
      "name": "Tarea 1 EDS.ipynb",
      "provenance": []
    },
    "kernelspec": {
      "name": "python3",
      "display_name": "Python 3"
    },
    "language_info": {
      "name": "python"
    }
  },
  "cells": [
    {
      "cell_type": "markdown",
      "source": [
        "# Tarea 1 Estadística para Data Science: Análisis Exploratorio de Datos\n",
        "\n",
        "Fecha de entrega: 18/06/2022 a las 23:59 PM\n",
        "\n",
        "\n",
        "\n",
        "Se puede trabajar de manera individual o en grupos de máximo 4 personas. Si trabajas en grupo, igualmente debes entregar la tarea en el buzón de manera individual con tu nombre y los nombres de los otros integrantes del grupo.\n",
        "\n",
        "El formato de respuesta y de desarrollo es libre, se sugiere usar python para la pregunta 1, pero se puede usar cualquier lenguaje o software mientras se vayan mostrando los procedimientos.\n",
        "\n",
        "\n",
        "\n"
      ],
      "metadata": {
        "id": "cm93A7qGIiqv"
      }
    },
    {
      "cell_type": "markdown",
      "source": [
        "# 0. Cargando librerías\n",
        "Carga las librerías que necesitaras"
      ],
      "metadata": {
        "id": "n1JjzduHIiVu"
      }
    },
    {
      "cell_type": "code",
      "source": [
        ""
      ],
      "metadata": {
        "id": "ArCag7gUI26Q"
      },
      "execution_count": null,
      "outputs": []
    },
    {
      "cell_type": "markdown",
      "source": [
        "# 1. Wildcats:\n",
        "El equipo de futbol americano de los Wildcats de Arizona juega 12 partidos en la temporada regular cada año. El dataset `uafootball` contiene la diferencia en el marcador en cinco temporadas, desde 2014 hasta 2018.\n",
        "\n",
        "## 1.1 Carga el siguiente dataset ubicado en: http://math.arizona.edu/~jwatkins/uafootball.csv"
      ],
      "metadata": {
        "id": "-CZoXvqpTV7b"
      }
    },
    {
      "cell_type": "code",
      "source": [
        "# escribe aquí el código para 1.1\n"
      ],
      "metadata": {
        "id": "sqNK9D_AIeYD"
      },
      "execution_count": 1,
      "outputs": []
    },
    {
      "cell_type": "markdown",
      "source": [
        "## 1.2 Contesta las siguientes preguntas\n",
        "\n",
        "¿Cuántos partidos ganaron los Wildcats cada año? \n",
        "\n"
      ],
      "metadata": {
        "id": "vk_zXQduSveD"
      }
    },
    {
      "cell_type": "code",
      "source": [
        "# código para 1.2"
      ],
      "metadata": {
        "id": "XHzpzrHFJQka"
      },
      "execution_count": 1,
      "outputs": []
    },
    {
      "cell_type": "markdown",
      "source": [
        "## 1.2 Respuesta"
      ],
      "metadata": {
        "id": "3oUHWxkPND9t"
      }
    },
    {
      "cell_type": "markdown",
      "source": [
        "## 1.3 Da un resumen de 5 números (mínimo, 1er cuartil, mediana, 3er cuartil, máximo) para la diferencia en el marcador de cada año.\n"
      ],
      "metadata": {
        "id": "56ehQFXVJdVG"
      }
    },
    {
      "cell_type": "code",
      "source": [
        ""
      ],
      "metadata": {
        "id": "DxGXyF2-JQ4O"
      },
      "execution_count": 1,
      "outputs": []
    },
    {
      "cell_type": "markdown",
      "source": [
        "## 1.3 Respuesta"
      ],
      "metadata": {
        "id": "PcTUM0Y8NLhM"
      }
    },
    {
      "cell_type": "markdown",
      "source": [
        "## 1.4 Grafica un side-by-side boxplot de la diferencia en el marcador para las cinco temporadas\n"
      ],
      "metadata": {
        "id": "CjePTIEZJgkj"
      }
    },
    {
      "cell_type": "code",
      "source": [
        ""
      ],
      "metadata": {
        "id": "om6SffD1JRAd"
      },
      "execution_count": 1,
      "outputs": []
    },
    {
      "cell_type": "markdown",
      "source": [
        "## 1.5 Calcula el promedio y la desviación estándar insesgada y sesgada, en la diferencia en el marcador en cada una de las cinco temporadas. \n"
      ],
      "metadata": {
        "id": "mFKP2K27JiL6"
      }
    },
    {
      "cell_type": "code",
      "source": [
        ""
      ],
      "metadata": {
        "id": "HL1QuMsiJRHb"
      },
      "execution_count": 1,
      "outputs": []
    },
    {
      "cell_type": "markdown",
      "source": [
        "## 1.6 Calcula el promedio y la desviación estándar sesgada e insesgada en la diferencia en el marcador de cada una de las cinco temporadas si sacamos el primer y el último juego de cada temporada.\n"
      ],
      "metadata": {
        "id": "VFXCXovgJrGL"
      }
    },
    {
      "cell_type": "code",
      "source": [
        ""
      ],
      "metadata": {
        "id": "HkNTKGu7iqZO"
      },
      "execution_count": null,
      "outputs": []
    },
    {
      "cell_type": "markdown",
      "source": [
        "1.7 Averigua alguna manera (cualquiera, preferentemente con python pero otra forma es aceptable) de agregar las diferencias en el marcador de las cinco temporadas en una sola variable, explica como lo hiciste y grafica un histograma de esta nueva variable."
      ],
      "metadata": {
        "id": "usv60aDZSagT"
      }
    },
    {
      "cell_type": "markdown",
      "source": [
        "## 1.7: Respuesta\n",
        "Escribe aquí tu respuesta"
      ],
      "metadata": {
        "id": "iSj0X1RxMuy7"
      }
    },
    {
      "cell_type": "markdown",
      "source": [
        "## 1.8 Escribe en no más de 200 palabras como le ha ido a los Wildcats en estas cinco temporadas. Puedes usar resultados de las preguntas anteriores"
      ],
      "metadata": {
        "id": "xKQaI5RYJuKg"
      }
    },
    {
      "cell_type": "markdown",
      "source": [
        "## 1.8: Respuesta\n",
        "Escribe aquí tu respuesta"
      ],
      "metadata": {
        "id": "tdCb_3kITXVc"
      }
    },
    {
      "cell_type": "markdown",
      "source": [
        "## 2: Licencias Médicas 2019 y 2020\n",
        "\n",
        "Ingresa a la dirección https://www.suseso.cl/608/w3-propertyvalue-10364.html y descarga los archivos Estadísticas Nacionales de LM y SIL 2020 y Estadísticas Nacionales de LM y SIL 2019."
      ],
      "metadata": {
        "id": "PDkUAeLbM1RD"
      }
    },
    {
      "cell_type": "markdown",
      "source": [
        "## 2.1\n",
        "¿En qué extensión están los archivos? \n",
        "¿Cuál es el método en pandas para leer archivos de esta extensión?\n",
        "Indica el link de la documentación oficial de Pandas para este método."
      ],
      "metadata": {
        "id": "dTGoVQOSTnHi"
      }
    },
    {
      "cell_type": "code",
      "source": [
        ""
      ],
      "metadata": {
        "id": "laoNjZTpTpbY"
      },
      "execution_count": null,
      "outputs": []
    },
    {
      "cell_type": "markdown",
      "source": [
        "## 2.2 \n",
        "\n",
        "Haz una exploración inicial (solo mirar) de ambos archivos (lo puedes hacer en Excel). \n",
        "Anda al cuadro 5.1.1.1 de ambos años. \n",
        "¿Qué gran diferencia existe entre las categorías?\n",
        "\n"
      ],
      "metadata": {
        "id": "39aXcyt9TozV"
      }
    },
    {
      "cell_type": "markdown",
      "source": [
        "## 2.3\n",
        "En base a este evento excepcional, \n",
        "a) ¿deberíamos esperar una gran diferencia entre la cantidad de licencias médicas tramitadas, y la cantidad de licencias médicas pagadas en el año 2019 versus el año 2020? ¿Por qué? ¿Cuál es esta diferencia? ¿Te parece una gran diferencia? ¿Cómo podríamos comparar de mejor manera esta diferencia si descargaramos los datos del año 2018?\n",
        "b) ¿Cuál es la diferencia entre las licencias médicas tramitadas, y las licencias médicas pagadas en el año 2019 versus el año 2020? ¿Qué te parecen estas diferencias?  \n"
      ],
      "metadata": {
        "id": "BQdsq0RmToll"
      }
    },
    {
      "cell_type": "code",
      "source": [
        ""
      ],
      "metadata": {
        "id": "VveQjQbgTqdV"
      },
      "execution_count": null,
      "outputs": []
    },
    {
      "cell_type": "markdown",
      "source": [
        "## 2.4 \n",
        "Nombra tres diferencias entre el 2019 y el 2020 que te parezcan interesantes de explorar en este dataset, explica por qué, qué esperarías y cual es la diferencia real. "
      ],
      "metadata": {
        "id": "lWSGABENTn_C"
      }
    },
    {
      "cell_type": "markdown",
      "source": [
        "## 2.5 Desafío (opcional con puntos extra):\n",
        "\n",
        "En el siguiente link se encuentran datos con mucha más granularidad \n",
        "https://www.fonasa.cl/sites/fonasa/datos-abiertos/estadisticas-anuales.\n",
        "\n",
        "a) Descarga el dataset de licencias médicas 2020 (ojo, el archivo csv pesa ~1GB) y cárgalo en un dataframe de pandas, ya sea en tu equipo local o en alguna nube.\n",
        "\n",
        "b) ¿Qué mes es el mes en que se entregaron más licencias? ¿Qué gráfico eligirías para mostrar las diferencias por mes en todo chile? Grafícalo\n",
        "\n",
        "c) Elabora una hipótesis de diferencia de alguna variable del dataset entre el periodo Enero-Febrero y el periodo Marzo-Abril. Reporta la diferencia, elabora una hipótesis y comenta sobre como podrías resolverla con este dataset o agregando otros recursos o datasets disponibles."
      ],
      "metadata": {
        "id": "t4IqKMicZXb1"
      }
    },
    {
      "cell_type": "code",
      "source": [
        ""
      ],
      "metadata": {
        "id": "JUMylIuATqzx"
      },
      "execution_count": null,
      "outputs": []
    }
  ]
}