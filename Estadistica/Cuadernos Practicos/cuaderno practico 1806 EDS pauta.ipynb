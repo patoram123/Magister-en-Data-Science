{
 "cells": [
  {
   "cell_type": "markdown",
   "metadata": {
    "id": "cm93A7qGIiqv"
   },
   "source": [
    "##### Cuaderno práctico 18/06/2022: Estadística para Data Science\n",
    "\n",
    "\n",
    "\n",
    "Se puede trabajar de manera individual o en grupos de máximo 4 personas. Si trabajas en grupo, igualmente debes entregar en el buzón (o al correo v.landaeta@udd.cl si no tienes canvas) de manera individual con tu nombre y los nombres de los otros integrantes del grupo.\n",
    "\n",
    "\n"
   ]
  },
  {
   "cell_type": "markdown",
   "metadata": {
    "id": "n1JjzduHIiVu"
   },
   "source": [
    "# 0. Cargando librerías\n"
   ]
  },
  {
   "cell_type": "code",
   "execution_count": 1,
   "metadata": {
    "id": "ArCag7gUI26Q"
   },
   "outputs": [],
   "source": [
    "# código para 0\n",
    "import pandas as pd\n",
    "import matplotlib.pylab as plt\n",
    "%matplotlib inline \n",
    "import os\n"
   ]
  },
  {
   "cell_type": "markdown",
   "metadata": {
    "id": "-CZoXvqpTV7b",
    "tags": []
   },
   "source": [
    "# 1. Encuesta clase de estadística:\n",
    "## 1.1. Cargando dataset\n",
    "Carga el archivo csv con los resultados de la encuesta de la clase enviado a tu correo a un dataframe de Pandas llamado `df_encuesta`.\n"
   ]
  },
  {
   "cell_type": "code",
   "execution_count": null,
   "metadata": {
    "executionInfo": {
     "elapsed": 33,
     "status": "ok",
     "timestamp": 1654957352367,
     "user": {
      "displayName": "Víctor Landaeta",
      "userId": "17197646280510176572"
     },
     "user_tz": 240
    },
    "id": "sqNK9D_AIeYD"
   },
   "outputs": [],
   "source": [
    "# escribe aquí el código para 1.1\n",
    "\n",
    "df_encuesta = pd.read_csv(\"https://raw.githubusercontent.com/vmlandae/datasets_eds/main/clase3/encuestas.csv\")"
   ]
  },
  {
   "cell_type": "code",
   "execution_count": 3,
   "metadata": {
    "executionInfo": {
     "elapsed": 33,
     "status": "ok",
     "timestamp": 1654957352367,
     "user": {
      "displayName": "Víctor Landaeta",
      "userId": "17197646280510176572"
     },
     "user_tz": 240
    },
    "id": "sqNK9D_AIeYD"
   },
   "outputs": [
    {
     "data": {
      "text/html": [
       "<div>\n",
       "<style scoped>\n",
       "    .dataframe tbody tr th:only-of-type {\n",
       "        vertical-align: middle;\n",
       "    }\n",
       "\n",
       "    .dataframe tbody tr th {\n",
       "        vertical-align: top;\n",
       "    }\n",
       "\n",
       "    .dataframe thead th {\n",
       "        text-align: right;\n",
       "    }\n",
       "</style>\n",
       "<table border=\"1\" class=\"dataframe\">\n",
       "  <thead>\n",
       "    <tr style=\"text-align: right;\">\n",
       "      <th></th>\n",
       "      <th>Unnamed: 0</th>\n",
       "      <th>altura</th>\n",
       "      <th>region</th>\n",
       "      <th>sexo</th>\n",
       "      <th>gaseosa</th>\n",
       "      <th>te</th>\n",
       "      <th>cafe</th>\n",
       "      <th>agua</th>\n",
       "      <th>extrema_pobreza</th>\n",
       "      <th>acoso_sexual</th>\n",
       "      <th>perez</th>\n",
       "      <th>larrain</th>\n",
       "      <th>tu_apellido</th>\n",
       "    </tr>\n",
       "  </thead>\n",
       "  <tbody>\n",
       "    <tr>\n",
       "      <th>0</th>\n",
       "      <td>0</td>\n",
       "      <td>182</td>\n",
       "      <td>Zona Sur (Araucanía, Los Ríos, Los Lagos, Ayse...</td>\n",
       "      <td>Hombre</td>\n",
       "      <td>50</td>\n",
       "      <td>500</td>\n",
       "      <td>200</td>\n",
       "      <td>500</td>\n",
       "      <td>menos del 1%</td>\n",
       "      <td>cerca del 30%</td>\n",
       "      <td>500000.0</td>\n",
       "      <td>1000.0</td>\n",
       "      <td>10.0</td>\n",
       "    </tr>\n",
       "    <tr>\n",
       "      <th>1</th>\n",
       "      <td>1</td>\n",
       "      <td>175</td>\n",
       "      <td>Zona Centro-Sur (Regiones de O'Higgins, Maule,...</td>\n",
       "      <td>Hombre</td>\n",
       "      <td>0</td>\n",
       "      <td>1300</td>\n",
       "      <td>0</td>\n",
       "      <td>0</td>\n",
       "      <td>menos del 1%</td>\n",
       "      <td>cerca del 30%</td>\n",
       "      <td>100000.0</td>\n",
       "      <td>100000.0</td>\n",
       "      <td>50000.0</td>\n",
       "    </tr>\n",
       "    <tr>\n",
       "      <th>2</th>\n",
       "      <td>2</td>\n",
       "      <td>170</td>\n",
       "      <td>Región Metropolitana</td>\n",
       "      <td>Hombre</td>\n",
       "      <td>1</td>\n",
       "      <td>1</td>\n",
       "      <td>1</td>\n",
       "      <td>1</td>\n",
       "      <td>aproximadamente 11%</td>\n",
       "      <td>cerca del 50%</td>\n",
       "      <td>100000.0</td>\n",
       "      <td>100000.0</td>\n",
       "      <td>200000.0</td>\n",
       "    </tr>\n",
       "    <tr>\n",
       "      <th>3</th>\n",
       "      <td>3</td>\n",
       "      <td>181</td>\n",
       "      <td>Región Metropolitana</td>\n",
       "      <td>Hombre</td>\n",
       "      <td>0</td>\n",
       "      <td>0</td>\n",
       "      <td>500</td>\n",
       "      <td>500</td>\n",
       "      <td>menos del 1%</td>\n",
       "      <td>cerca del 50%</td>\n",
       "      <td>3000000.0</td>\n",
       "      <td>300000.0</td>\n",
       "      <td>1000000.0</td>\n",
       "    </tr>\n",
       "    <tr>\n",
       "      <th>4</th>\n",
       "      <td>4</td>\n",
       "      <td>168</td>\n",
       "      <td>Región Metropolitana</td>\n",
       "      <td>Hombre</td>\n",
       "      <td>350</td>\n",
       "      <td>350</td>\n",
       "      <td>0</td>\n",
       "      <td>500</td>\n",
       "      <td>aproximadamente 11%</td>\n",
       "      <td>cerca del 30%</td>\n",
       "      <td>500000.0</td>\n",
       "      <td>20000.0</td>\n",
       "      <td>10000.0</td>\n",
       "    </tr>\n",
       "  </tbody>\n",
       "</table>\n",
       "</div>"
      ],
      "text/plain": [
       "   Unnamed: 0  altura                                             region  \\\n",
       "0           0     182  Zona Sur (Araucanía, Los Ríos, Los Lagos, Ayse...   \n",
       "1           1     175  Zona Centro-Sur (Regiones de O'Higgins, Maule,...   \n",
       "2           2     170                               Región Metropolitana   \n",
       "3           3     181                               Región Metropolitana   \n",
       "4           4     168                               Región Metropolitana   \n",
       "\n",
       "     sexo  gaseosa    te  cafe  agua      extrema_pobreza   acoso_sexual  \\\n",
       "0  Hombre       50   500   200   500         menos del 1%  cerca del 30%   \n",
       "1  Hombre        0  1300     0     0         menos del 1%  cerca del 30%   \n",
       "2  Hombre        1     1     1     1  aproximadamente 11%  cerca del 50%   \n",
       "3  Hombre        0     0   500   500         menos del 1%  cerca del 50%   \n",
       "4  Hombre      350   350     0   500  aproximadamente 11%  cerca del 30%   \n",
       "\n",
       "       perez   larrain  tu_apellido  \n",
       "0   500000.0    1000.0         10.0  \n",
       "1   100000.0  100000.0      50000.0  \n",
       "2   100000.0  100000.0     200000.0  \n",
       "3  3000000.0  300000.0    1000000.0  \n",
       "4   500000.0   20000.0      10000.0  "
      ]
     },
     "execution_count": 3,
     "metadata": {},
     "output_type": "execute_result"
    }
   ],
   "source": [
    "# un vistazo al data frame:\n",
    "\n",
    "df_encuesta.head()"
   ]
  },
  {
   "cell_type": "markdown",
   "metadata": {
    "id": "vk_zXQduSveD"
   },
   "source": [
    "## 1.2 Contesta las siguientes preguntas\n",
    "\n",
    "* ¿Cuál es la altura de la persona más alta y más baja del curso?\n",
    "\n",
    "* ¿Cuál es la mediana de la altura para hombres y mujeres en el curso?\n",
    "\n",
    "* ¿Cuál es el promedio y la desviación estándar (insesgada) de la estimación de la cantidad de Pérez y de la cantidad de Larraín en Chile?\n",
    "\n",
    "\n",
    "\n"
   ]
  },
  {
   "cell_type": "code",
   "execution_count": 11,
   "metadata": {
    "executionInfo": {
     "elapsed": 30,
     "status": "ok",
     "timestamp": 1654957352369,
     "user": {
      "displayName": "Víctor Landaeta",
      "userId": "17197646280510176572"
     },
     "user_tz": 240
    },
    "id": "XHzpzrHFJQka"
   },
   "outputs": [
    {
     "name": "stdout",
     "output_type": "stream",
     "text": [
      "La persona más alta del curso mide 183 cm, y la persona más baja mide 153 cm.\n"
     ]
    }
   ],
   "source": [
    "# código para 1.2.1 \n",
    "# Respuesta: Hay muchas formas, podría ser\n",
    "\n",
    "print(\"La persona más alta del curso mide\",\n",
    "      df_encuesta['altura'].max(),\"cm, y la persona más baja mide\", df_encuesta['altura'].min() ,\"cm.\")\n"
   ]
  },
  {
   "cell_type": "code",
   "execution_count": 14,
   "metadata": {},
   "outputs": [
    {
     "data": {
      "text/plain": [
       "count     45.000000\n",
       "mean     170.755556\n",
       "std        8.104868\n",
       "min      153.000000\n",
       "25%      167.000000\n",
       "50%      172.000000\n",
       "75%      177.000000\n",
       "max      183.000000\n",
       "Name: altura, dtype: float64"
      ]
     },
     "execution_count": 14,
     "metadata": {},
     "output_type": "execute_result"
    }
   ],
   "source": [
    "# o hacer un describe de la variable y sacar la información de ahí:\n",
    "df_encuesta.altura.describe()"
   ]
  },
  {
   "cell_type": "code",
   "execution_count": 15,
   "metadata": {
    "executionInfo": {
     "elapsed": 30,
     "status": "ok",
     "timestamp": 1654957352369,
     "user": {
      "displayName": "Víctor Landaeta",
      "userId": "17197646280510176572"
     },
     "user_tz": 240
    },
    "id": "XHzpzrHFJQka"
   },
   "outputs": [
    {
     "data": {
      "text/html": [
       "<div>\n",
       "<style scoped>\n",
       "    .dataframe tbody tr th:only-of-type {\n",
       "        vertical-align: middle;\n",
       "    }\n",
       "\n",
       "    .dataframe tbody tr th {\n",
       "        vertical-align: top;\n",
       "    }\n",
       "\n",
       "    .dataframe thead th {\n",
       "        text-align: right;\n",
       "    }\n",
       "</style>\n",
       "<table border=\"1\" class=\"dataframe\">\n",
       "  <thead>\n",
       "    <tr style=\"text-align: right;\">\n",
       "      <th></th>\n",
       "      <th>Unnamed: 0</th>\n",
       "      <th>altura</th>\n",
       "      <th>gaseosa</th>\n",
       "      <th>te</th>\n",
       "      <th>cafe</th>\n",
       "      <th>agua</th>\n",
       "      <th>perez</th>\n",
       "      <th>larrain</th>\n",
       "      <th>tu_apellido</th>\n",
       "    </tr>\n",
       "  </thead>\n",
       "  <tbody>\n",
       "    <tr>\n",
       "      <th>count</th>\n",
       "      <td>45.000000</td>\n",
       "      <td>45.000000</td>\n",
       "      <td>45.000000</td>\n",
       "      <td>45.000000</td>\n",
       "      <td>45.000000</td>\n",
       "      <td>45.000000</td>\n",
       "      <td>4.500000e+01</td>\n",
       "      <td>4.500000e+01</td>\n",
       "      <td>4.500000e+01</td>\n",
       "    </tr>\n",
       "    <tr>\n",
       "      <th>mean</th>\n",
       "      <td>22.000000</td>\n",
       "      <td>170.755556</td>\n",
       "      <td>170.688889</td>\n",
       "      <td>394.466667</td>\n",
       "      <td>474.022222</td>\n",
       "      <td>862.244444</td>\n",
       "      <td>6.430567e+05</td>\n",
       "      <td>1.038555e+05</td>\n",
       "      <td>1.378712e+05</td>\n",
       "    </tr>\n",
       "    <tr>\n",
       "      <th>std</th>\n",
       "      <td>13.133926</td>\n",
       "      <td>8.104868</td>\n",
       "      <td>235.745416</td>\n",
       "      <td>625.323974</td>\n",
       "      <td>1330.691319</td>\n",
       "      <td>658.580676</td>\n",
       "      <td>1.250131e+06</td>\n",
       "      <td>3.346370e+05</td>\n",
       "      <td>4.698885e+05</td>\n",
       "    </tr>\n",
       "    <tr>\n",
       "      <th>min</th>\n",
       "      <td>0.000000</td>\n",
       "      <td>153.000000</td>\n",
       "      <td>0.000000</td>\n",
       "      <td>0.000000</td>\n",
       "      <td>0.000000</td>\n",
       "      <td>0.000000</td>\n",
       "      <td>3.000000e+01</td>\n",
       "      <td>5.000000e+00</td>\n",
       "      <td>1.000000e+00</td>\n",
       "    </tr>\n",
       "    <tr>\n",
       "      <th>25%</th>\n",
       "      <td>11.000000</td>\n",
       "      <td>167.000000</td>\n",
       "      <td>0.000000</td>\n",
       "      <td>0.000000</td>\n",
       "      <td>0.000000</td>\n",
       "      <td>400.000000</td>\n",
       "      <td>6.000000e+04</td>\n",
       "      <td>1.000000e+03</td>\n",
       "      <td>2.000000e+02</td>\n",
       "    </tr>\n",
       "    <tr>\n",
       "      <th>50%</th>\n",
       "      <td>22.000000</td>\n",
       "      <td>172.000000</td>\n",
       "      <td>0.000000</td>\n",
       "      <td>250.000000</td>\n",
       "      <td>250.000000</td>\n",
       "      <td>500.000000</td>\n",
       "      <td>2.000000e+05</td>\n",
       "      <td>5.000000e+03</td>\n",
       "      <td>1.000000e+04</td>\n",
       "    </tr>\n",
       "    <tr>\n",
       "      <th>75%</th>\n",
       "      <td>33.000000</td>\n",
       "      <td>177.000000</td>\n",
       "      <td>330.000000</td>\n",
       "      <td>500.000000</td>\n",
       "      <td>500.000000</td>\n",
       "      <td>1000.000000</td>\n",
       "      <td>5.100000e+05</td>\n",
       "      <td>3.000000e+04</td>\n",
       "      <td>6.000000e+04</td>\n",
       "    </tr>\n",
       "    <tr>\n",
       "      <th>max</th>\n",
       "      <td>44.000000</td>\n",
       "      <td>183.000000</td>\n",
       "      <td>1000.000000</td>\n",
       "      <td>4000.000000</td>\n",
       "      <td>9000.000000</td>\n",
       "      <td>2000.000000</td>\n",
       "      <td>6.000000e+06</td>\n",
       "      <td>2.000000e+06</td>\n",
       "      <td>3.000000e+06</td>\n",
       "    </tr>\n",
       "  </tbody>\n",
       "</table>\n",
       "</div>"
      ],
      "text/plain": [
       "       Unnamed: 0      altura      gaseosa           te         cafe  \\\n",
       "count   45.000000   45.000000    45.000000    45.000000    45.000000   \n",
       "mean    22.000000  170.755556   170.688889   394.466667   474.022222   \n",
       "std     13.133926    8.104868   235.745416   625.323974  1330.691319   \n",
       "min      0.000000  153.000000     0.000000     0.000000     0.000000   \n",
       "25%     11.000000  167.000000     0.000000     0.000000     0.000000   \n",
       "50%     22.000000  172.000000     0.000000   250.000000   250.000000   \n",
       "75%     33.000000  177.000000   330.000000   500.000000   500.000000   \n",
       "max     44.000000  183.000000  1000.000000  4000.000000  9000.000000   \n",
       "\n",
       "              agua         perez       larrain   tu_apellido  \n",
       "count    45.000000  4.500000e+01  4.500000e+01  4.500000e+01  \n",
       "mean    862.244444  6.430567e+05  1.038555e+05  1.378712e+05  \n",
       "std     658.580676  1.250131e+06  3.346370e+05  4.698885e+05  \n",
       "min       0.000000  3.000000e+01  5.000000e+00  1.000000e+00  \n",
       "25%     400.000000  6.000000e+04  1.000000e+03  2.000000e+02  \n",
       "50%     500.000000  2.000000e+05  5.000000e+03  1.000000e+04  \n",
       "75%    1000.000000  5.100000e+05  3.000000e+04  6.000000e+04  \n",
       "max    2000.000000  6.000000e+06  2.000000e+06  3.000000e+06  "
      ]
     },
     "execution_count": 15,
     "metadata": {},
     "output_type": "execute_result"
    }
   ],
   "source": [
    "# O del dataframe:\n",
    "df_encuesta.describe()"
   ]
  },
  {
   "cell_type": "code",
   "execution_count": 28,
   "metadata": {},
   "outputs": [
    {
     "name": "stdout",
     "output_type": "stream",
     "text": [
      "173.0\n",
      "157.0\n"
     ]
    }
   ],
   "source": [
    "# 1.2.2 Respuesta: seleccionar solo la columna altura \n",
    "df_altura_h = df_encuesta['altura'][df_encuesta['sexo']==\"Hombre\"]\n",
    "print(df_altura_h.median())\n",
    "\n",
    "df_altura_m = df_encuesta['altura'][df_encuesta['sexo']==\"Mujer\"]\n",
    "print(df_altura_m.median())"
   ]
  },
  {
   "cell_type": "code",
   "execution_count": 30,
   "metadata": {},
   "outputs": [
    {
     "name": "stdout",
     "output_type": "stream",
     "text": [
      "El promedio de Pérez es de: 643056.6666666666 y de Larraín es: 103855.51111111112\n",
      "La desviación estándar insesgada de Pérez es de: 1250131.2819314764 y de Larraín es: 334637.00754587137\n"
     ]
    }
   ],
   "source": [
    "#1.2.3: promedio y desviación estándar de perez y larrain. \n",
    "# Insesgada, o sea dividiendo por n-1, por lo cual puedo ejecutar la versión sin \n",
    "print(\"El promedio de Pérez es de:\",df_encuesta['perez'].mean(),  \"y de Larraín es:\", df_encuesta['larrain'].mean())\n",
    "print(\"La desviación estándar insesgada de Pérez es de:\",df_encuesta['perez'].std(),\n",
    "      \"y de Larraín es:\", df_encuesta['larrain'].std())"
   ]
  },
  {
   "cell_type": "markdown",
   "metadata": {
    "id": "3oUHWxkPND9t"
   },
   "source": [
    "## 1.2 Respuesta\n",
    "* La persona más alta del curso mide 183 cm y la más baja mide 153 cm\n",
    "* La mediana de la altura en los hombres del curso es de 173 cm y de las mujeres es de 157 cm.\n",
    "* El promedio de Pérez es de: 643056.67 y de Larraín es: 103855.51, y la desviación estándar insesgada de Pérez es de: 1250131.28 y de Larraín es: 334637.01"
   ]
  },
  {
   "cell_type": "markdown",
   "metadata": {
    "id": "56ehQFXVJdVG"
   },
   "source": [
    "## 1.3 Extrema pobreza en países desarrollados y leyes contra el acoso sexual\n",
    "\n",
    "* Haz una tabla de resultados de las variables `extrema_pobreza` y `acoso_sexual` usando `value_counts()`. \n",
    "* Haz un gráfico de barras para `extrema_pobreza`.\n",
    "* Anda al siguiente [link](https://upgrader.gapminder.org/t/sdg-world-10/17/explanation?isReviewing=true). ¿Cuál es el porcentaje de países que tienen leyes contra el acoso sexual? ¿Qué porcentaje del curso se equivocó al estimar este valor?  \n"
   ]
  },
  {
   "cell_type": "code",
   "execution_count": 32,
   "metadata": {
    "executionInfo": {
     "elapsed": 28,
     "status": "ok",
     "timestamp": 1654957352370,
     "user": {
      "displayName": "Víctor Landaeta",
      "userId": "17197646280510176572"
     },
     "user_tz": 240
    },
    "id": "DxGXyF2-JQ4O"
   },
   "outputs": [
    {
     "data": {
      "text/plain": [
       "menos del 1%           26\n",
       "aproximadamente 11%    18\n",
       "aproximadamente 21%     1\n",
       "Name: extrema_pobreza, dtype: int64"
      ]
     },
     "execution_count": 32,
     "metadata": {},
     "output_type": "execute_result"
    }
   ],
   "source": [
    "# 1.3.1 tablas de resultados\n",
    "\n",
    "# extrema_pobreza\n",
    "df_encuesta['extrema_pobreza'].value_counts()"
   ]
  },
  {
   "cell_type": "code",
   "execution_count": 33,
   "metadata": {
    "executionInfo": {
     "elapsed": 28,
     "status": "ok",
     "timestamp": 1654957352370,
     "user": {
      "displayName": "Víctor Landaeta",
      "userId": "17197646280510176572"
     },
     "user_tz": 240
    },
    "id": "DxGXyF2-JQ4O"
   },
   "outputs": [
    {
     "data": {
      "text/plain": [
       "cerca del 50%    21\n",
       "cerca del 30%    20\n",
       "cerca del 70%     4\n",
       "Name: acoso_sexual, dtype: int64"
      ]
     },
     "execution_count": 33,
     "metadata": {},
     "output_type": "execute_result"
    }
   ],
   "source": [
    "# \n",
    "# acoso_sexual\n",
    "\n",
    "df_encuesta['acoso_sexual'].value_counts()"
   ]
  },
  {
   "cell_type": "code",
   "execution_count": 34,
   "metadata": {
    "executionInfo": {
     "elapsed": 28,
     "status": "ok",
     "timestamp": 1654957352370,
     "user": {
      "displayName": "Víctor Landaeta",
      "userId": "17197646280510176572"
     },
     "user_tz": 240
    },
    "id": "DxGXyF2-JQ4O"
   },
   "outputs": [
    {
     "data": {
      "image/png": "[encoded data removed]",
      "text/plain": [
       "<Figure size 432x288 with 1 Axes>"
      ]
     },
     "metadata": {
      "needs_background": "light"
     },
     "output_type": "display_data"
    }
   ],
   "source": [
    "# 1.3.2 gráfico de barras\n",
    "\n",
    "df_encuesta['extrema_pobreza'].value_counts().plot(kind = 'bar', color = ['red','blue','green'], title = 'Bar plot: Porcentaje en Extrema Pobreza en países desarrollados')\n",
    "plt.show()"
   ]
  },
  {
   "cell_type": "markdown",
   "metadata": {
    "id": "PcTUM0Y8NLhM"
   },
   "source": [
    "## 1.3 Respuesta\n",
    "### 1.3.3\n",
    "El porcentaje de países en el mundo con leyes contra el acoso sexual es de un 70%. El porcentaje del curso que se equivocó es de 41/45, aproximadamente un 91% del curso. "
   ]
  },
  {
   "cell_type": "markdown",
   "metadata": {
    "id": "CjePTIEZJgkj"
   },
   "source": [
    "## 1.4 Histograma con densidades\n",
    "\n",
    "En el cuaderno del curso vimos un histograma de altura con densidad para este mismo dataset:\n",
    "\n",
    "* Arregla el código de la siguiente celda para que pueda correr sin error\n"
   ]
  },
  {
   "cell_type": "code",
   "execution_count": 35,
   "metadata": {
    "executionInfo": {
     "elapsed": 31,
     "status": "ok",
     "timestamp": 1654957352380,
     "user": {
      "displayName": "Víctor Landaeta",
      "userId": "17197646280510176572"
     },
     "user_tz": 240
    },
    "id": "om6SffD1JRAd"
   },
   "outputs": [
    {
     "data": {
      "image/png": "[encoded data removed]",
      "text/plain": [
       "<Figure size 288x288 with 1 Axes>"
      ]
     },
     "metadata": {
      "needs_background": "light"
     },
     "output_type": "display_data"
    }
   ],
   "source": [
    "# el arreglo que hay que hacer es que en este notebook el dataframe se llama \"df_encuesta\" y no \"encuesta\"\n",
    "# modificamos encuesta por df_encuesta:\n",
    "ax = df_encuesta['altura'].plot.hist(density=True, #xlim=[0, 12], \n",
    "                                   # bins=range(1,12), \n",
    "                                   figsize=(4, 4))\n",
    "#modificamos encuesta por df_encuesta\n",
    "df_encuesta['altura'].plot.density(ax=ax)\n",
    "ax.set_xlabel('Altura en cm')\n",
    "\n",
    "plt.tight_layout()\n",
    "plt.show()"
   ]
  },
  {
   "cell_type": "markdown",
   "metadata": {},
   "source": [
    "Ejecuta el siguiente código "
   ]
  },
  {
   "cell_type": "code",
   "execution_count": 36,
   "metadata": {},
   "outputs": [
    {
     "data": {
      "text/html": [
       "<div>\n",
       "<style scoped>\n",
       "    .dataframe tbody tr th:only-of-type {\n",
       "        vertical-align: middle;\n",
       "    }\n",
       "\n",
       "    .dataframe tbody tr th {\n",
       "        vertical-align: top;\n",
       "    }\n",
       "\n",
       "    .dataframe thead th {\n",
       "        text-align: right;\n",
       "    }\n",
       "</style>\n",
       "<table border=\"1\" class=\"dataframe\">\n",
       "  <thead>\n",
       "    <tr style=\"text-align: right;\">\n",
       "      <th>sexo</th>\n",
       "      <th>Hombre</th>\n",
       "      <th>Mujer</th>\n",
       "    </tr>\n",
       "  </thead>\n",
       "  <tbody>\n",
       "    <tr>\n",
       "      <th>0</th>\n",
       "      <td>182.0</td>\n",
       "      <td>NaN</td>\n",
       "    </tr>\n",
       "    <tr>\n",
       "      <th>1</th>\n",
       "      <td>175.0</td>\n",
       "      <td>NaN</td>\n",
       "    </tr>\n",
       "    <tr>\n",
       "      <th>2</th>\n",
       "      <td>170.0</td>\n",
       "      <td>NaN</td>\n",
       "    </tr>\n",
       "    <tr>\n",
       "      <th>3</th>\n",
       "      <td>181.0</td>\n",
       "      <td>NaN</td>\n",
       "    </tr>\n",
       "    <tr>\n",
       "      <th>4</th>\n",
       "      <td>168.0</td>\n",
       "      <td>NaN</td>\n",
       "    </tr>\n",
       "    <tr>\n",
       "      <th>5</th>\n",
       "      <td>163.0</td>\n",
       "      <td>NaN</td>\n",
       "    </tr>\n",
       "    <tr>\n",
       "      <th>6</th>\n",
       "      <td>NaN</td>\n",
       "      <td>156.0</td>\n",
       "    </tr>\n",
       "    <tr>\n",
       "      <th>7</th>\n",
       "      <td>178.0</td>\n",
       "      <td>NaN</td>\n",
       "    </tr>\n",
       "    <tr>\n",
       "      <th>8</th>\n",
       "      <td>169.0</td>\n",
       "      <td>NaN</td>\n",
       "    </tr>\n",
       "    <tr>\n",
       "      <th>9</th>\n",
       "      <td>165.0</td>\n",
       "      <td>NaN</td>\n",
       "    </tr>\n",
       "    <tr>\n",
       "      <th>10</th>\n",
       "      <td>169.0</td>\n",
       "      <td>NaN</td>\n",
       "    </tr>\n",
       "    <tr>\n",
       "      <th>11</th>\n",
       "      <td>168.0</td>\n",
       "      <td>NaN</td>\n",
       "    </tr>\n",
       "    <tr>\n",
       "      <th>12</th>\n",
       "      <td>175.0</td>\n",
       "      <td>NaN</td>\n",
       "    </tr>\n",
       "    <tr>\n",
       "      <th>13</th>\n",
       "      <td>174.0</td>\n",
       "      <td>NaN</td>\n",
       "    </tr>\n",
       "    <tr>\n",
       "      <th>14</th>\n",
       "      <td>180.0</td>\n",
       "      <td>NaN</td>\n",
       "    </tr>\n",
       "    <tr>\n",
       "      <th>15</th>\n",
       "      <td>168.0</td>\n",
       "      <td>NaN</td>\n",
       "    </tr>\n",
       "    <tr>\n",
       "      <th>16</th>\n",
       "      <td>176.0</td>\n",
       "      <td>NaN</td>\n",
       "    </tr>\n",
       "    <tr>\n",
       "      <th>17</th>\n",
       "      <td>NaN</td>\n",
       "      <td>160.0</td>\n",
       "    </tr>\n",
       "    <tr>\n",
       "      <th>18</th>\n",
       "      <td>NaN</td>\n",
       "      <td>153.0</td>\n",
       "    </tr>\n",
       "    <tr>\n",
       "      <th>19</th>\n",
       "      <td>179.0</td>\n",
       "      <td>NaN</td>\n",
       "    </tr>\n",
       "    <tr>\n",
       "      <th>20</th>\n",
       "      <td>169.0</td>\n",
       "      <td>NaN</td>\n",
       "    </tr>\n",
       "    <tr>\n",
       "      <th>21</th>\n",
       "      <td>170.0</td>\n",
       "      <td>NaN</td>\n",
       "    </tr>\n",
       "    <tr>\n",
       "      <th>22</th>\n",
       "      <td>181.0</td>\n",
       "      <td>NaN</td>\n",
       "    </tr>\n",
       "    <tr>\n",
       "      <th>23</th>\n",
       "      <td>183.0</td>\n",
       "      <td>NaN</td>\n",
       "    </tr>\n",
       "    <tr>\n",
       "      <th>24</th>\n",
       "      <td>177.0</td>\n",
       "      <td>NaN</td>\n",
       "    </tr>\n",
       "    <tr>\n",
       "      <th>25</th>\n",
       "      <td>172.0</td>\n",
       "      <td>NaN</td>\n",
       "    </tr>\n",
       "    <tr>\n",
       "      <th>26</th>\n",
       "      <td>164.0</td>\n",
       "      <td>NaN</td>\n",
       "    </tr>\n",
       "    <tr>\n",
       "      <th>27</th>\n",
       "      <td>172.0</td>\n",
       "      <td>NaN</td>\n",
       "    </tr>\n",
       "    <tr>\n",
       "      <th>28</th>\n",
       "      <td>NaN</td>\n",
       "      <td>158.0</td>\n",
       "    </tr>\n",
       "    <tr>\n",
       "      <th>29</th>\n",
       "      <td>183.0</td>\n",
       "      <td>NaN</td>\n",
       "    </tr>\n",
       "    <tr>\n",
       "      <th>30</th>\n",
       "      <td>NaN</td>\n",
       "      <td>156.0</td>\n",
       "    </tr>\n",
       "    <tr>\n",
       "      <th>31</th>\n",
       "      <td>180.0</td>\n",
       "      <td>NaN</td>\n",
       "    </tr>\n",
       "    <tr>\n",
       "      <th>32</th>\n",
       "      <td>181.0</td>\n",
       "      <td>NaN</td>\n",
       "    </tr>\n",
       "    <tr>\n",
       "      <th>33</th>\n",
       "      <td>NaN</td>\n",
       "      <td>158.0</td>\n",
       "    </tr>\n",
       "    <tr>\n",
       "      <th>34</th>\n",
       "      <td>180.0</td>\n",
       "      <td>NaN</td>\n",
       "    </tr>\n",
       "    <tr>\n",
       "      <th>35</th>\n",
       "      <td>165.0</td>\n",
       "      <td>NaN</td>\n",
       "    </tr>\n",
       "    <tr>\n",
       "      <th>36</th>\n",
       "      <td>174.0</td>\n",
       "      <td>NaN</td>\n",
       "    </tr>\n",
       "    <tr>\n",
       "      <th>37</th>\n",
       "      <td>172.0</td>\n",
       "      <td>NaN</td>\n",
       "    </tr>\n",
       "    <tr>\n",
       "      <th>38</th>\n",
       "      <td>172.0</td>\n",
       "      <td>NaN</td>\n",
       "    </tr>\n",
       "    <tr>\n",
       "      <th>39</th>\n",
       "      <td>173.0</td>\n",
       "      <td>NaN</td>\n",
       "    </tr>\n",
       "    <tr>\n",
       "      <th>40</th>\n",
       "      <td>NaN</td>\n",
       "      <td>156.0</td>\n",
       "    </tr>\n",
       "    <tr>\n",
       "      <th>41</th>\n",
       "      <td>NaN</td>\n",
       "      <td>167.0</td>\n",
       "    </tr>\n",
       "    <tr>\n",
       "      <th>42</th>\n",
       "      <td>169.0</td>\n",
       "      <td>NaN</td>\n",
       "    </tr>\n",
       "    <tr>\n",
       "      <th>43</th>\n",
       "      <td>170.0</td>\n",
       "      <td>NaN</td>\n",
       "    </tr>\n",
       "    <tr>\n",
       "      <th>44</th>\n",
       "      <td>173.0</td>\n",
       "      <td>NaN</td>\n",
       "    </tr>\n",
       "  </tbody>\n",
       "</table>\n",
       "</div>"
      ],
      "text/plain": [
       "sexo  Hombre  Mujer\n",
       "0      182.0    NaN\n",
       "1      175.0    NaN\n",
       "2      170.0    NaN\n",
       "3      181.0    NaN\n",
       "4      168.0    NaN\n",
       "5      163.0    NaN\n",
       "6        NaN  156.0\n",
       "7      178.0    NaN\n",
       "8      169.0    NaN\n",
       "9      165.0    NaN\n",
       "10     169.0    NaN\n",
       "11     168.0    NaN\n",
       "12     175.0    NaN\n",
       "13     174.0    NaN\n",
       "14     180.0    NaN\n",
       "15     168.0    NaN\n",
       "16     176.0    NaN\n",
       "17       NaN  160.0\n",
       "18       NaN  153.0\n",
       "19     179.0    NaN\n",
       "20     169.0    NaN\n",
       "21     170.0    NaN\n",
       "22     181.0    NaN\n",
       "23     183.0    NaN\n",
       "24     177.0    NaN\n",
       "25     172.0    NaN\n",
       "26     164.0    NaN\n",
       "27     172.0    NaN\n",
       "28       NaN  158.0\n",
       "29     183.0    NaN\n",
       "30       NaN  156.0\n",
       "31     180.0    NaN\n",
       "32     181.0    NaN\n",
       "33       NaN  158.0\n",
       "34     180.0    NaN\n",
       "35     165.0    NaN\n",
       "36     174.0    NaN\n",
       "37     172.0    NaN\n",
       "38     172.0    NaN\n",
       "39     173.0    NaN\n",
       "40       NaN  156.0\n",
       "41       NaN  167.0\n",
       "42     169.0    NaN\n",
       "43     170.0    NaN\n",
       "44     173.0    NaN"
      ]
     },
     "execution_count": 36,
     "metadata": {},
     "output_type": "execute_result"
    }
   ],
   "source": [
    "altura_sexo_wide=df_encuesta.pivot(columns='sexo', values='altura')\n",
    "altura_sexo_wide"
   ]
  },
  {
   "cell_type": "markdown",
   "metadata": {},
   "source": [
    "Comenta, ¿qué variables hay en esta tabla?:\n",
    "\n"
   ]
  },
  {
   "cell_type": "markdown",
   "metadata": {},
   "source": [
    "### Respuesta 1.4.1\n",
    "\n",
    "Hay dos columnas, `Hombre` y `Mujer`, las cuales contienen la altura de cada estudiante, separada por sexo.\n",
    "\n"
   ]
  },
  {
   "cell_type": "markdown",
   "metadata": {},
   "source": [
    "Ahora, ejecuta el código de la siguiente celda "
   ]
  },
  {
   "cell_type": "code",
   "execution_count": 37,
   "metadata": {},
   "outputs": [
    {
     "data": {
      "text/plain": [
       "<AxesSubplot:ylabel='Frequency'>"
      ]
     },
     "execution_count": 37,
     "metadata": {},
     "output_type": "execute_result"
    },
    {
     "data": {
      "image/png": "[encoded data removed]",
      "text/plain": [
       "<Figure size 576x432 with 1 Axes>"
      ]
     },
     "metadata": {
      "needs_background": "light"
     },
     "output_type": "display_data"
    }
   ],
   "source": [
    "altura_sexo_wide.plot.hist( figsize=(8,6), alpha=0.7)"
   ]
  },
  {
   "cell_type": "markdown",
   "metadata": {},
   "source": [
    "* ¿Qué representan estos histogramas? ¿Te parece esperables estas distribuciones?\n",
    "\n",
    "R: Representan histogramas de alturas para hombres y mujeres. Me parecen esperables unas distribuciones de alturas donde hombres y mujeres se vean con una distancia considerable respecto a sus medias y medianas.\n"
   ]
  },
  {
   "cell_type": "markdown",
   "metadata": {},
   "source": [
    "* ¿Qué es alpha? \n",
    "R: Alpha es un parámetro que regula la transparencia de un gráfico, entre 0 (transparente) y 1 (opaco)."
   ]
  },
  {
   "cell_type": "markdown",
   "metadata": {},
   "source": [
    "* ¿Qué pasa si hago alpha=0.2? ¿y alpha = 0.95?"
   ]
  },
  {
   "cell_type": "code",
   "execution_count": 38,
   "metadata": {},
   "outputs": [
    {
     "data": {
      "text/plain": [
       "<AxesSubplot:ylabel='Frequency'>"
      ]
     },
     "execution_count": 38,
     "metadata": {},
     "output_type": "execute_result"
    },
    {
     "data": {
      "image/png": "[encoded data removed]",
      "text/plain": [
       "<Figure size 576x432 with 1 Axes>"
      ]
     },
     "metadata": {
      "needs_background": "light"
     },
     "output_type": "display_data"
    }
   ],
   "source": [
    "# prueba con alpha = 0.2\n",
    "altura_sexo_wide.plot.hist( figsize=(8,6), alpha=0.2)\n"
   ]
  },
  {
   "cell_type": "markdown",
   "metadata": {},
   "source": [
    "R: Alpha =0.2 hace que los histogramas se vean muy transparentes."
   ]
  },
  {
   "cell_type": "code",
   "execution_count": 39,
   "metadata": {},
   "outputs": [
    {
     "data": {
      "text/plain": [
       "<AxesSubplot:ylabel='Frequency'>"
      ]
     },
     "execution_count": 39,
     "metadata": {},
     "output_type": "execute_result"
    },
    {
     "data": {
      "image/png": "[encoded data removed]",
      "text/plain": [
       "<Figure size 576x432 with 1 Axes>"
      ]
     },
     "metadata": {
      "needs_background": "light"
     },
     "output_type": "display_data"
    }
   ],
   "source": [
    "# prueba con alpha = 0.95\n",
    "\n",
    "altura_sexo_wide.plot.hist( figsize=(8,6), alpha=0.95)\n"
   ]
  },
  {
   "cell_type": "markdown",
   "metadata": {},
   "source": [
    "R: Alpha =0.95 hace que los histogramas casi no tengan transparencia."
   ]
  }
 ],
 "metadata": {
  "colab": {
   "authorship_tag": "ABX9TyMBW9P0zFUmjD4zd5/Gu06T",
   "name": "Tarea 1 EDS.ipynb",
   "provenance": []
  },
  "kernelspec": {
   "display_name": "Python 3 (ipykernel)",
   "language": "python",
   "name": "python3"
  },
  "language_info": {
   "codemirror_mode": {
    "name": "ipython",
    "version": 3
   },
   "file_extension": ".py",
   "mimetype": "text/x-python",
   "name": "python",
   "nbconvert_exporter": "python",
   "pygments_lexer": "ipython3",
   "version": "3.9.12"
  }
 },
 "nbformat": 4,
 "nbformat_minor": 4
}
