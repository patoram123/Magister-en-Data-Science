{
 "cells": [
  {
   "cell_type": "markdown",
   "metadata": {
    "id": "cm93A7qGIiqv"
   },
   "source": [
    "# PAUTA\n",
    "#### Cuaderno práctico 02/07/2022: Estadística para Data Science\n",
    "\n",
    "\n",
    "\n",
    "Se puede trabajar de manera individual o en grupos de máximo 4 personas. Si trabajas en grupo, igualmente debes entregar en el buzón (o al correo v.landaeta@udd.cl si no tienes canvas) de manera individual con tu nombre y los nombres de los otros integrantes del grupo.\n",
    "\n",
    "\n"
   ]
  },
  {
   "cell_type": "markdown",
   "metadata": {
    "id": "n1JjzduHIiVu"
   },
   "source": [
    "# 0. Cargando librerías\n"
   ]
  },
  {
   "cell_type": "code",
   "execution_count": 1,
   "metadata": {
    "id": "ArCag7gUI26Q"
   },
   "outputs": [],
   "source": [
    "# código para 0\n",
    "import pandas as pd\n",
    "import matplotlib.pylab as plt\n",
    "%matplotlib inline \n",
    "\n"
   ]
  },
  {
   "cell_type": "markdown",
   "metadata": {},
   "source": [
    "# 1. Probabilidades \n",
    "### 1.1 Tiramos un dado justo de seis caras 3 veces\n",
    "1. ¿Cuál es la probabilidad de obtener 3 cuatros?\n",
    "2. ¿Cuál es la probabilidad de que la suma de lo que obtenga sea menor que 3?\n",
    "3. ¿Cuál es la probabilidad de obtener solo números pares?\n",
    "4. ¿Cuál es la probabilidad de obtener números menores o iguales a cinco?\n",
    "5. ¿Cuál es la probabilidad de que la suma de lo que obtenga sea 18 o menor que 6?"
   ]
  },
  {
   "cell_type": "markdown",
   "metadata": {},
   "source": [
    "### 1.1 **Respuestas:**\n",
    "Para todo este ejercicio **1.1**, asumimos que cada lanzamiento es **independiente** del anterior. Como sabemos que el espacio muestral de una dado es el conjunto $S={1,2,3,4,5,6}$, y como el dado es justo, esto significa que cada outcome es igualmente probable. Luego, la probabilidad de lanzar un dado y sacar cualquier número del 1 al 6 es de $\\frac{1}{6}$.   \n",
    "\n",
    "En general, cuando un experimento aleatorio da lugar a **un espacio muestral con finitos elementos equiprobables**, entonces se aplica la Regla de Laplace: **Casos favorables entre casos posibles**, o un poco más formalmente la probabilidad de un evento $A$ estaría dada por la cardinalidad de $A$ sobre la cardinalidad del espacio muestral $S$, o sea \n",
    "$$P(A)= \\frac{|A|}{|S|} = \\frac{\\#A}{\\#S}$$"
   ]
  },
  {
   "cell_type": "markdown",
   "metadata": {},
   "source": [
    "#### 1.1.1\n",
    "La regla de la multiplicación establece que la probabilidad de ocurrencia de dos o más eventos estadísticamente independientes es igual al producto de sus probabilidades individuales.\n",
    "\n",
    "$P(A\\cap B)=P(A)P(B)$, si A y B son independientes.\n",
    "Entonces, si A, B y C son la probabilidad de obtener 4 en el primer, segundo y tercer lanzamiento respectivamente, y si sabemos que \n",
    "\n",
    "$$ P(A\\cap B \\cap C) =  P(A) \\times P(B) \\times P(C) = \\frac{1}{6} \\times\\frac{1}{6} \\times\\frac{1}{6} =\\frac{1}{216} \\approx 0.0046 $$\n",
    "\n",
    "Otra opción es pensar en el espacio muestral al lanzar los tres dados, \n",
    "$$S_3 = A \\times B \\times C = \\{(1,1,1), (1,1,2), ..., (4,4,4), ...\\}$$ \n",
    "\n",
    "La cantidad de casos posibles en el espacio $S_3$ es de $6^3 = 216$, y solo hay un caso favorable $(4,4,4)$\n",
    "\n",
    "y por la Regla de Laplace\n",
    "\n",
    "$$P(4,4,4)= \\frac{1}{216} $$\n"
   ]
  },
  {
   "cell_type": "markdown",
   "metadata": {},
   "source": [
    "### 1.1.2\n",
    "\n",
    "El menor número posible a obtener en un lanzamiento del dado es 1. Luego, al lanzar 3 dados (llamémoslo, el mínimo de la suma de sus números está dado por obtener un 1 los tres lanzamientos, lo cual da como resultado $1+1+1=3$. Entonces, no existe ningún caso donde la suma de lo que obtenga en los tres lanzamientos sea 3, por lo tanto la probabilidad es cero. \n"
   ]
  },
  {
   "cell_type": "markdown",
   "metadata": {},
   "source": [
    "### 1.1.3\n",
    "\n",
    "La probabilidad de obtener un numero par en cualquier lanzamiento es independiente e igual a $\\frac{1}{2}$, luego, la probabilidad de obtener solo números pares en los tres lanzamientos es igual a:\n",
    "\n",
    "$$ P(par_1\\cap par_2 \\cap par_3) =  P(par) \\times P(par) \\times P(par) = \\frac{1}{2} \\times\\frac{1}{2} \\times\\frac{1}{2} =\\frac{1}{8} =0.125 $$\n"
   ]
  },
  {
   "cell_type": "markdown",
   "metadata": {},
   "source": [
    "### 1.1.4\n",
    "La probabilidad de obtener un numero menor o igual a cinco cualquier lanzamiento es independiente e igual a $\\frac{5}{6}$, luego, la probabilidad de obtener números menores o iguales a cinco en los tres lanzamientos es igual a:\n",
    "\n",
    "$$ P({X\\le 5}_1\\cap {X\\le 5}_2 \\cap {X\\le 5}_3) =  P({X\\le 5}) \\times P({X\\le 5}) \\times P({X\\le 5}) = \\frac{5}{6} \\times\\frac{5}{6} \\times\\frac{5}{6} =\\frac{125}{216} \\approx 0.5787 $$\n",
    "\n"
   ]
  },
  {
   "cell_type": "markdown",
   "metadata": {},
   "source": [
    "### 1.1.5\n",
    "\n",
    "La regla de la adición o regla de la suma establece que la probabilidad de ocurrencia de cualquier evento en particular es igual a la suma de las probabilidades individuales, si es que los eventos son mutuamente excluyentes, es decir, que los dos no pueden ocurrir al mismo tiempo.\n",
    "\n",
    "Entonces, si $ A\\cap B=\\varnothing $, es decir que son mutuamente excluyentes, entonces\n",
    "$P(A \\cup B)=P(A)+P(B)$\n",
    "\n",
    "En este caso, los eventos $A:$ la suma de los tres lanzamientos sea 18, y $B:$ la suma de los tres lanzamientos sea menor que 6 son mutuamente excluyentes, luego\n",
    "\n",
    "$$P(A or B) = P(A \\cup B) =P(A)+P(B)$$\n",
    "\n",
    "En $P(A)$, el único caso favorable está dado por (6,6,6), luego $P(A)=\\frac{1}{216}$.\n",
    "\n",
    "Para $P(B)$, los casos favorables son relativamente pocos y los podemos contar:\n",
    "$$\\{(1,1,1),(1,1,2),(1,1,3),(1,2,1),(1,2,2),(1,3,1),(2,1,1),(2,1,2), (2,2,1),(3,1,1)  \\}$$\n",
    "\n",
    "Luego $$P(B)=\\frac{10}{216}$$\n",
    "\n",
    "Entonces, \n",
    "$$P(A or B) = P(A \\cup B) =P(A)+P(B) = \\frac{1}{216}+\\frac{10}{216} = \\frac{11}{216} \\approx 0.0509$$\n"
   ]
  },
  {
   "cell_type": "markdown",
   "metadata": {},
   "source": [
    "### 1.2 Lea el dataset de las encuestas de clase y ocupe python para explorar y responder las siguientes preguntas"
   ]
  },
  {
   "cell_type": "code",
   "execution_count": 2,
   "metadata": {},
   "outputs": [],
   "source": [
    "encuesta = pd.read_csv(\"https://raw.githubusercontent.com/vmlandae/datasets_eds/main/clase3/encuestas.csv\")\n"
   ]
  },
  {
   "cell_type": "markdown",
   "metadata": {},
   "source": [
    "1. Si 1 estudiante es seleccionado al azar en el dataframe, qué probabilidad tiene de:\n",
    "    a) tener una altura de al menos 180 cm\n",
    "    b) haber bebido más de 1000 cc de agua el día anterior\n",
    "    c) haber estimado correctamente las preguntas sobre la extrema pobreza en países desarrollados (menos del 1%) y sobre el porcentaje de países con legislaciones contra el acoso sexual (cerca del 70%)"
   ]
  },
  {
   "cell_type": "code",
   "execution_count": 3,
   "metadata": {},
   "outputs": [
    {
     "name": "stdout",
     "output_type": "stream",
     "text": [
      "1.2.1 a) La probabilidad de que al seleccionar al azar a un estudiante que respondió la encuesta del curso, este mida al menos 180 cm es de 0.2\n"
     ]
    }
   ],
   "source": [
    "# Asumimos que seleccionar a un estudiante al azar implica que \n",
    "# cada estudiante tiene igual probabilidad de ser seleccionado, o sea el \n",
    "# espacio muestral es discreto, finito y equiprobable, por lo tanto, aplica la\n",
    "# Regla de Laplace, i.e. Casos favorables vs casos posibles.\n",
    "\n",
    "# a) Altura de al menos 180 cm \n",
    "prob_al_menos_180 = (encuesta['altura']>=180).mean()\n",
    "# otra forma\n",
    "# print((encuesta['altura']>=180).sum()/len(encuesta['altura']))\n",
    "\n",
    "print('1.2.1 a) La probabilidad de que al seleccionar al azar', \n",
    "      'a un estudiante que respondió la encuesta del curso, este mida al menos 180 cm es de',\n",
    "      prob_al_menos_180)"
   ]
  },
  {
   "cell_type": "code",
   "execution_count": 4,
   "metadata": {},
   "outputs": [
    {
     "name": "stdout",
     "output_type": "stream",
     "text": [
      "1.2.1 b) La probabilidad de que al seleccionar al azar a un estudiante que respondió la encuesta del curso, este haya bebido más de 1000cc de agua el día anterior es de  0.24444444444444444\n"
     ]
    }
   ],
   "source": [
    "# b) que haya bebido más de 1000cc de agua el día anterior\n",
    "\n",
    "prob_mas_de_1000cc = (encuesta['agua']>1000).mean()\n",
    "print('1.2.1 b) La probabilidad de que al seleccionar al azar', \n",
    "      'a un estudiante que respondió la encuesta del curso, este haya bebido más de 1000cc de agua el día anterior es de ',\n",
    "      prob_mas_de_1000cc)"
   ]
  },
  {
   "cell_type": "code",
   "execution_count": 5,
   "metadata": {},
   "outputs": [
    {
     "name": "stdout",
     "output_type": "stream",
     "text": [
      "1.2.1 c) La probabilidad de que al seleccionar al azar a un estudiante que respondió la encuesta del curso, este haya  estimado correctamente las preguntas sobre la extrema pobreza en países desarrollados (menos del 1%) y sobre el porcentaje de países con legislaciones contra el acoso sexual (cerca del 70%) es de 0.044444444444444446\n"
     ]
    }
   ],
   "source": [
    "# c) que haya estimado correctamente las preguntas sobre la extrema pobreza en países desarrollados (menos del 1%) \n",
    "# y sobre el porcentaje de países con legislaciones contra el acoso sexual (cerca del 70%)\n",
    "\n",
    "# Una opción es seguir con la Regla de Laplace, ya que cada estudiante es seleccionado de manera equiprobable\n",
    "\n",
    "# casos favorables\n",
    "casos_correctos = (encuesta['extrema_pobreza']==\"menos del 1%\")&(encuesta['acoso_sexual']==\"cerca del 70%\")\n",
    "# casos favorables / casos posibles\n",
    "print('1.2.1 c) La probabilidad de que al seleccionar al azar', \n",
    "      'a un estudiante que respondió la encuesta del curso, este haya  estimado correctamente las preguntas sobre',\n",
    "      'la extrema pobreza en países desarrollados (menos del 1%) y sobre el porcentaje de países',\n",
    "      'con legislaciones contra el acoso sexual (cerca del 70%) es de',\n",
    "      casos_correctos.mean())"
   ]
  },
  {
   "cell_type": "code",
   "execution_count": 6,
   "metadata": {},
   "outputs": [
    {
     "data": {
      "text/html": [
       "<div>\n",
       "<style scoped>\n",
       "    .dataframe tbody tr th:only-of-type {\n",
       "        vertical-align: middle;\n",
       "    }\n",
       "\n",
       "    .dataframe tbody tr th {\n",
       "        vertical-align: top;\n",
       "    }\n",
       "\n",
       "    .dataframe thead th {\n",
       "        text-align: right;\n",
       "    }\n",
       "</style>\n",
       "<table border=\"1\" class=\"dataframe\">\n",
       "  <thead>\n",
       "    <tr style=\"text-align: right;\">\n",
       "      <th></th>\n",
       "      <th>acoso_sexual</th>\n",
       "      <th>extrema_pobreza</th>\n",
       "    </tr>\n",
       "  </thead>\n",
       "  <tbody>\n",
       "    <tr>\n",
       "      <th>6</th>\n",
       "      <td>cerca del 70%</td>\n",
       "      <td>aproximadamente 11%</td>\n",
       "    </tr>\n",
       "    <tr>\n",
       "      <th>9</th>\n",
       "      <td>cerca del 70%</td>\n",
       "      <td>menos del 1%</td>\n",
       "    </tr>\n",
       "    <tr>\n",
       "      <th>32</th>\n",
       "      <td>cerca del 70%</td>\n",
       "      <td>aproximadamente 11%</td>\n",
       "    </tr>\n",
       "    <tr>\n",
       "      <th>35</th>\n",
       "      <td>cerca del 70%</td>\n",
       "      <td>menos del 1%</td>\n",
       "    </tr>\n",
       "  </tbody>\n",
       "</table>\n",
       "</div>"
      ],
      "text/plain": [
       "     acoso_sexual      extrema_pobreza\n",
       "6   cerca del 70%  aproximadamente 11%\n",
       "9   cerca del 70%         menos del 1%\n",
       "32  cerca del 70%  aproximadamente 11%\n",
       "35  cerca del 70%         menos del 1%"
      ]
     },
     "execution_count": 6,
     "metadata": {},
     "output_type": "execute_result"
    }
   ],
   "source": [
    "# Segundo camino\n",
    "# Las estimaciones no son independientes, luego P(A & B) = P(A|B)*P(B)\n",
    "\n",
    "# hagamos A: probabilidad de contestar correctamente la pregunta de extrema pobreza\n",
    "prob_A = (encuesta['extrema_pobreza']==\"menos del 1%\").mean()\n",
    "# y B: probabilidad de contestar correctamente la pregunta de acoso sexual\n",
    "prob_B = (encuesta['acoso_sexual']==\"cerca del 70%\").mean()\n",
    "# luego, la probabilidad condicionada P(A|B), es decir, de seleccionar a un estudiante de este dataset,\n",
    "# que haya contestado correcto la pregunta extrema pobreza, \n",
    "# dado que sé que contestó correcto la pregunta de acoso sexual, \n",
    "# está dada por la cantidad de casos favorables sobre la cantidad de casos posibles. \n",
    "\n",
    "# Para ilustrarlo mejor, vamos a hacer un subset del dataframe \n",
    "\n",
    "df_B_correcto = encuesta[encuesta['acoso_sexual']==\"cerca del 70%\"][['acoso_sexual','extrema_pobreza']]\n",
    "df_B_correcto"
   ]
  },
  {
   "cell_type": "code",
   "execution_count": 7,
   "metadata": {},
   "outputs": [
    {
     "data": {
      "text/plain": [
       "0.5"
      ]
     },
     "execution_count": 7,
     "metadata": {},
     "output_type": "execute_result"
    }
   ],
   "source": [
    "# En el dataframe se ve que la P(A|B), \n",
    "# o sea de estimar correctamente extrema pobreza si estimaste correctamente acoso sexual es de 1/2\n",
    "\n",
    "(df_B_correcto['extrema_pobreza']==\"menos del 1%\").mean()"
   ]
  },
  {
   "cell_type": "code",
   "execution_count": 8,
   "metadata": {},
   "outputs": [
    {
     "name": "stdout",
     "output_type": "stream",
     "text": [
      "1.2.1 c) La probabilidad de que al seleccionar al azar a un estudiante que respondió la encuesta del curso, este haya  estimado correctamente las preguntas sobre la extrema pobreza en países desarrollados (menos del 1%) y sobre el porcentaje de países con legislaciones contra el acoso sexual (cerca del 70%) es de 0.044444444444444446\n"
     ]
    }
   ],
   "source": [
    "# calculando P(A|B) en una línea\n",
    "prob_A_dado_B = (encuesta[encuesta['acoso_sexual']==\"cerca del 70%\"]['extrema_pobreza']==\"menos del 1%\").mean()\n",
    "prob_A_y_B = prob_A_dado_B * prob_B\n",
    "\n",
    "\n",
    "print('1.2.1 c) La probabilidad de que al seleccionar al azar', \n",
    "      'a un estudiante que respondió la encuesta del curso, este haya  estimado correctamente las preguntas sobre',\n",
    "      'la extrema pobreza en países desarrollados (menos del 1%) y sobre el porcentaje de países',\n",
    "      'con legislaciones contra el acoso sexual (cerca del 70%) es de', prob_A_y_B)"
   ]
  },
  {
   "cell_type": "markdown",
   "metadata": {},
   "source": [
    "2. Si ahora seleccionamos a un segundo estudiante al azar para hacer un grupo de 2 personas, qué probabilidad hay de:\n",
    "    a) que ningún integrante del grupo sea mujer\n",
    "    b) que ambos midan 183 cm\n",
    "    "
   ]
  },
  {
   "cell_type": "code",
   "execution_count": 9,
   "metadata": {},
   "outputs": [
    {
     "name": "stdout",
     "output_type": "stream",
     "text": [
      "45\n",
      "la probabilidad de seleccionar dos estudiantes de la encuesta, para formar un grupo (sin reemplazo), y que ambos no sean mujeres es de 0.6727272727272727\n"
     ]
    }
   ],
   "source": [
    "# Al seleccionar a un segundo estudiante, \n",
    "#es un muestreo sin reemplazo, luego es dependiente y el n en cada muestreo es diferente. Entonces:\n",
    "\n",
    "# a) probabilidad que ningún integrante del grupo sea mujer.\n",
    "# podemos plantear este problema como P(A & B) = P(A|B)*P(B) = P(A)*P(B|A)\n",
    "# Luego, podemos definir A: probabilidad de seleccionar al azar una persona no-mujer \n",
    "# al muestrear un estudiante de la encuesta\n",
    "# y B|A: probabilidad de seleccionar al azar una persona no-mujer del conjunto de estudiantes de una encuesta,\n",
    "# dado que hice una primera selección sin reemplazo de una persona no-mujer del conjunto inicial.\n",
    "\n",
    "# la probabilidad de no seleccionar una mujer al seleccionar \n",
    "# al primer estudiante está dada por la regla de Laplace,\n",
    "# o sea: casos favorables sobre casos posibles, \n",
    "\n",
    "#n1 será la cantidad de individuos que contestaron la encuesta\n",
    "n1 = len(encuesta['sexo'])\n",
    "print(n1)\n",
    "#n_no_mujeres_1 será el número de no-mujeres en el muestreo de la primera persona\n",
    "n_no_mujer_1 =(encuesta['sexo']!=\"Mujer\").sum()\n",
    "prob_no_mujer_1 = n_no_mujer_1/n1\n",
    "\n",
    "# la probabilidad de no seleccionar a una mujer al seleccionar al segundo estudiante, \n",
    "# dado que el primer seleccionado no fue una mujer, está dada por la regla de Laplace, actualizando casos \n",
    "# favorables y casos posibles, dado que no hay reemplazo.\n",
    "\n",
    "# n2 será el número de personas posibles de seleccionar cuando ya se hizo el muestreo de una primera persona.\n",
    "# como no hay reemplazo, se saca a una persona\n",
    "n2 = n1-1\n",
    "#n_no_mujeres_2 será el número de no-mujeres al muestrear a la segunda persona, \n",
    "# dado que la primera no es mujer y que ya no es seleccionable (no hay reemplazo), sale de la muestra.\n",
    "\n",
    "n_no_mujer_2 = n_no_mujer_1-1\n",
    "\n",
    "# luego prob_no_mujer_2 es la probabilidad de seleccionar a alguien no mujer al muestrear por segunda vez,\n",
    "# sin reemplazo, dado que se seleccionó una persona no-mujer, al muestrear por primera vez\n",
    "\n",
    "prob_no_mujer_2 = n_no_mujer_2/n2\n",
    "\n",
    "# Luego, \n",
    "\n",
    "print('la probabilidad de seleccionar dos estudiantes de la encuesta, para formar un grupo (sin reemplazo),',\n",
    "      'y que ambos no sean mujeres es de', prob_no_mujer_1*prob_no_mujer_2)"
   ]
  },
  {
   "cell_type": "markdown",
   "metadata": {},
   "source": [
    "Otra forma de resolver este problema es mediante la regla de Laplace de manera más directa. Sabiendo que hay 37 no-mujeres de un total de 45 personas que contestaron la encuesta, podemos contar los  casos favorables sobre casos posibles: la cantidad de combinaciones (cardinalidad) de grupos de dos no-mujeres sin reemplazo y sin importar el orden, dividido la cardinalidad del espacio muestral, es decir el total de grupos posibles de dos personas sin reemplazo sin importar orden en un grupo de 45 personas. \n",
    "\n",
    "Matemáticamente esto es\n",
    "\n",
    "$$ \\frac{|A|}{|S|}= \\frac{\\binom{37}{2} \\cdot \\binom{8}{0} }{\\binom{45}{2}} $$\n",
    "Usando la librería `math`, podemos resolver y obtener"
   ]
  },
  {
   "cell_type": "code",
   "execution_count": 10,
   "metadata": {},
   "outputs": [
    {
     "name": "stdout",
     "output_type": "stream",
     "text": [
      "0.6727272727272727\n"
     ]
    }
   ],
   "source": [
    "import math\n",
    "print(math.comb(37,2)/math.comb(45,2))"
   ]
  },
  {
   "cell_type": "markdown",
   "metadata": {},
   "source": [
    "que es lo mismo que encontramos mediante la probabilidad condicionada.\n"
   ]
  },
  {
   "cell_type": "code",
   "execution_count": 11,
   "metadata": {},
   "outputs": [
    {
     "name": "stdout",
     "output_type": "stream",
     "text": [
      "la probabilidad de seleccionar dos estudiantes de la encuesta, para formar un grupo (sin reemplazo), y que ambos midan 183 cm es de 0.00101010101010101\n"
     ]
    }
   ],
   "source": [
    "# b) que ambos midan 183 cm\n",
    "# P(A&B) = P(A)*P(B|A)\n",
    "\n",
    "# P(A): prob de seleccionar al azar a alguien que mida 183\n",
    "# P(B|A) prob de seleccionar al azar a una segunda persona que mida 183 dado que la primera mide 183.\n",
    "\n",
    "# usando la misma lógica de casos favorables sobre casos posibles\n",
    "p_A = (encuesta['altura']==183).mean()\n",
    "\n",
    "# usando la misma lógica de casos favorables sobre casos posibles\n",
    "p_B_dado_A = ((encuesta['altura']==183).sum()-1)/(len(encuesta['altura'])-1)\n",
    "\n",
    "print('la probabilidad de seleccionar dos estudiantes de la encuesta, para formar un grupo (sin reemplazo),',\n",
    "      'y que ambos midan 183 cm es de', p_A*p_B_dado_A)"
   ]
  },
  {
   "cell_type": "markdown",
   "metadata": {},
   "source": [
    "Otro método:  \n",
    "\n",
    "$$ \\frac{|A|}{|S|}= \\frac{\\binom{2}{2} \\cdot \\binom{43}{0} }{\\binom{45}{2}}= \\frac{1}{990}$$\n"
   ]
  },
  {
   "cell_type": "code",
   "execution_count": 12,
   "metadata": {},
   "outputs": [
    {
     "name": "stdout",
     "output_type": "stream",
     "text": [
      "0.00101010101010101\n"
     ]
    }
   ],
   "source": [
    "print(1/math.comb(45,2))"
   ]
  },
  {
   "cell_type": "markdown",
   "metadata": {},
   "source": [
    "    \n",
    "3. Si luego seleccionamos al azar a un tercer estudiante, y sabemos que las tres son mujeres, ¿qué probabilidad hay que las tres tengan exactamente la misma altura?"
   ]
  },
  {
   "cell_type": "code",
   "execution_count": 13,
   "metadata": {},
   "outputs": [
    {
     "data": {
      "text/plain": [
       "156    3\n",
       "158    2\n",
       "160    1\n",
       "153    1\n",
       "167    1\n",
       "Name: altura, dtype: int64"
      ]
     },
     "execution_count": 13,
     "metadata": {},
     "output_type": "execute_result"
    }
   ],
   "source": [
    "\n",
    "\n",
    "# Existe una sola combinación de tres mujeres con la misma altura en todo el dataset.\n",
    "\n",
    "encuesta[encuesta['sexo']==\"Mujer\"]['altura'].value_counts()"
   ]
  },
  {
   "cell_type": "code",
   "execution_count": 14,
   "metadata": {},
   "outputs": [
    {
     "name": "stdout",
     "output_type": "stream",
     "text": [
      "0.017857142857142856\n"
     ]
    }
   ],
   "source": [
    "# Quizá la forma más simple.\n",
    "# sabemos que las tres personas seleccionadas son mujeres, y que 156 es la única altura que comparten 3 mujeres,\n",
    "# por tanto vemos cual es la probabilidad de seleccionar sin reemplazo secuencialmente a tres personas de 156 \n",
    "# en el espacio muestral de mujeres. Como son 8 mujeres y 3 miden 156\n",
    "\n",
    "P_altura_dado_mujeres =  3/8*2/7*1/6\n",
    "print(P_altura_dado_mujeres)"
   ]
  },
  {
   "cell_type": "markdown",
   "metadata": {},
   "source": [
    "Este es el resultado correcto, vamos a mostrar otros caminos para llegar al mismo resultado, definiendo algunas probabilidades:\n",
    "  \n",
    "$P(A)$: probabilidad que tres personas seleccionadar al azar sin reemplazo y sin importar orden tengan la misma altura.\n",
    "  \n",
    "$P(B)$:  probabilidad que tres personas seleccionadar al azar sin reemplazo y sin importar orden sean mujeres\n",
    "  \n",
    "$P(A \\cap B)$: probabilidad que tres personas seleccionadas al azar y sin reemplazo sean mujeres y que tengan la misma altura.\n",
    "  \n",
    "$P(A|B)$: probabilidad que dado que tres personas seleccionadas al azar y sin reemplazo son mujeres, que tengan la misma altura.\n",
    "  \n",
    "$P(B|A)$: probabilidad que dado que tres personas seleccionadas al azar y sin reemplazo tienen la misma altura, sean las tres mujeres.\n",
    "  \n",
    "$$P(A \\cap B) = P(A|B)\\cdot P(B) \\Rightarrow P(A|B)= \\frac{P(A \\cap B)}{P(B)} $$\n",
    "  \n",
    "Luego, conociendo $P(A \\cap B)$ y $P(B)$ se puede calcular $P(A|B)$ que es lo que buscamos."
   ]
  },
  {
   "cell_type": "code",
   "execution_count": 15,
   "metadata": {},
   "outputs": [
    {
     "name": "stdout",
     "output_type": "stream",
     "text": [
      "169    0.000282\n",
      "172    0.000282\n",
      "180    0.000070\n",
      "170    0.000070\n",
      "181    0.000070\n",
      "168    0.000070\n",
      "156    0.000070\n",
      "Name: altura, dtype: float64\n",
      "0.0009161381254404508\n"
     ]
    }
   ],
   "source": [
    "# Calculando P(A)\n",
    "casos_3_o_mas_alturas_iguales = encuesta['altura'].value_counts()[encuesta['altura'].value_counts()>=3]\n",
    "\n",
    "# P(A) = P(169,169,169) + P(172,172,172)+P(180,180,180)+\n",
    "# P(170,170,170)+P(181,181,181)+P(168,168,168)+P(156,156,156)\n",
    "\n",
    "# los casos donde hay 3 alturas iguales en la encuesta, tienen probabilidad 3/45*2/44*1/43 cada uno\n",
    "# los casos donde hay 4 alturas iguales en la encuesta, tienen probabilidad 4/45*3/44*2/43 cada uno\n",
    "prob_alturas_iguales = casos_3_o_mas_alturas_iguales/45*(casos_3_o_mas_alturas_iguales-1)/(44)*(casos_3_o_mas_alturas_iguales-2)/43\n",
    "print(prob_alturas_iguales)\n",
    "P_A = sum(prob_alturas_iguales)\n",
    "print(P_A)"
   ]
  },
  {
   "cell_type": "code",
   "execution_count": 16,
   "metadata": {},
   "outputs": [
    {
     "name": "stdout",
     "output_type": "stream",
     "text": [
      "0.003946441155743482\n"
     ]
    }
   ],
   "source": [
    "# Calculando P(B)\n",
    "\n",
    "# P(B) = P(mujer,mujer,mujer)\n",
    "# hay 8 mujeres, luego, P(B) = 8/45*7/44*6/43\n",
    "P_B = 8/45*7/44*6/43\n",
    "print(P_B)"
   ]
  },
  {
   "cell_type": "code",
   "execution_count": 17,
   "metadata": {},
   "outputs": [
    {
     "name": "stdout",
     "output_type": "stream",
     "text": [
      "7.047216349541931e-05\n"
     ]
    }
   ],
   "source": [
    "# Calculando P(A & B)\n",
    "\n",
    "# hay 3 mujeres que miden lo mismo en el dataset, por tanto, la probabilidad es:\n",
    "# P(A & B)= 3/45*2/44*1/43\n",
    "P_A_y_B = 3/45*2/44*1/43\n",
    "\n",
    "print(P_A_y_B)\n",
    "\n"
   ]
  },
  {
   "cell_type": "code",
   "execution_count": 18,
   "metadata": {},
   "outputs": [
    {
     "name": "stdout",
     "output_type": "stream",
     "text": [
      "0.017857142857142856\n"
     ]
    }
   ],
   "source": [
    "# Entonces, usando P(A|B)= P(A & B)/P(B)\n",
    "\n",
    "p_alt_dado_muj = P_A_y_B/P_B\n",
    "print(p_alt_dado_muj)"
   ]
  },
  {
   "cell_type": "markdown",
   "metadata": {},
   "source": [
    "Y otra forma de calcular P(A|B): usando combinatoria de casos favorables sobre casos posibles:\n",
    "  \n",
    "$$ \\frac{|A|}{|S|}= \\frac{\\binom{3}{3} \\cdot \\binom{5}{0} }{\\binom{8}{3}}= \\frac{1}{56} \\approx 0.01786$$"
   ]
  },
  {
   "cell_type": "code",
   "execution_count": 19,
   "metadata": {},
   "outputs": [
    {
     "name": "stdout",
     "output_type": "stream",
     "text": [
      "0.017857142857142856\n"
     ]
    }
   ],
   "source": [
    "\n",
    "p_altura_dado_mujeres_comb = math.comb(3,3)*math.comb(5,0)/math.comb(8,3)\n",
    "print(p_altura_dado_mujeres_comb)"
   ]
  },
  {
   "cell_type": "markdown",
   "metadata": {},
   "source": [
    "### 1.3 Creando funciones y calculando probabilidades empíricas\n",
    "\n",
    "1. Crea un espacio muestral llamado `em_2_monedas` que sea una lista, de la forma ['CC','CS','SC',SS]\n",
    "2. Copia la función `muestreo_aleatorio` de la clase, y ejecútala con n=1000 y con n=10000 y con el espacio muestral `em_2_monedas`.\n",
    "3. Calcula la proporción de casos 'CC'. ¿Se condice con la probabilidad esperada?\n"
   ]
  },
  {
   "cell_type": "code",
   "execution_count": 20,
   "metadata": {},
   "outputs": [],
   "source": [
    "# 1. \n",
    "em_2_monedas = ['CC','CS','SC','SS']"
   ]
  },
  {
   "cell_type": "code",
   "execution_count": 21,
   "metadata": {},
   "outputs": [],
   "source": [
    "# 2.\n",
    "\n",
    "# copiando la función de la clase:\n",
    "# importamos la librería random\n",
    "import random\n",
    "\n",
    "def muestreo_aleatorio(n, em):\n",
    "    n=n\n",
    "    em=em\n",
    "    muestreo = [random.choice(em) for i in range(n)]\n",
    "    muestreo = pd.Series(muestreo)\n",
    "    return(muestreo)\n",
    "\n",
    "# ejecutando para n=1000\n",
    "\n",
    "muestreo1000 = muestreo_aleatorio(1000, em_2_monedas)\n",
    "\n",
    "# ejecutando para n=10000\n",
    "\n",
    "muestreo10000 = muestreo_aleatorio(10000, em_2_monedas)"
   ]
  },
  {
   "cell_type": "code",
   "execution_count": 22,
   "metadata": {},
   "outputs": [
    {
     "name": "stdout",
     "output_type": "stream",
     "text": [
      "La proporción de casos 'CC' para el muestreo de n=1000 casos es de  0.233\n",
      "y la proporción de casos 'CC' para el muestreo de n=10000 casos es de  0.2551\n"
     ]
    }
   ],
   "source": [
    "# Cálculo proporción de casos 'CC' para n=1000\n",
    "\n",
    "prop_1000 = (muestreo1000==\"CC\").mean()\n",
    "\n",
    "# Cálculo proporción para n=10000\n",
    "\n",
    "prop_10000 = (muestreo10000==\"CC\").mean()\n",
    "\n",
    "\n",
    "print(\"La proporción de casos 'CC' para el muestreo de n=1000 casos es de \",prop_1000)\n",
    "print(\"y la proporción de casos 'CC' para el muestreo de n=10000 casos es de \",prop_10000)"
   ]
  },
  {
   "cell_type": "markdown",
   "metadata": {},
   "source": [
    "Con lo cual estos muestreos se aproximan a la probabilidad esperada, que usando la regla de Laplace de casos favorables sobre casos posibles es de 1/4 o 0.25\n"
   ]
  }
 ],
 "metadata": {
  "colab": {
   "authorship_tag": "ABX9TyMBW9P0zFUmjD4zd5/Gu06T",
   "name": "Tarea 1 EDS.ipynb",
   "provenance": []
  },
  "kernelspec": {
   "display_name": "Python 3 (ipykernel)",
   "language": "python",
   "name": "python3"
  },
  "language_info": {
   "codemirror_mode": {
    "name": "ipython",
    "version": 3
   },
   "file_extension": ".py",
   "mimetype": "text/x-python",
   "name": "python",
   "nbconvert_exporter": "python",
   "pygments_lexer": "ipython3",
   "version": "3.9.12"
  }
 },
 "nbformat": 4,
 "nbformat_minor": 4
}
