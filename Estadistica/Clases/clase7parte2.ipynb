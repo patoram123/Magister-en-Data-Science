{
 "cells": [
  {
   "cell_type": "markdown",
   "id": "a0ed3c6e-2942-4c8c-9b13-d6026bfe56ad",
   "metadata": {},
   "source": [
    "# Estadística para Data Science: Cuaderno clase 7 p2"
   ]
  },
  {
   "cell_type": "markdown",
   "id": "722fa131-143e-4f3e-9a4e-2e63e603617b",
   "metadata": {},
   "source": [
    "## Respuestas de la actividad:\n",
    "### Esperando en la urgencia\n",
    "\n",
    "1.  Falso. El estimador puntual está siempre dentro del intervalo de confianza y este es un uso sin sentido del intervalo de confianza con un estimador puntual (porque el estimador puntual está, por diseño, contenido dentro del intervalo de confianza).\n",
    "2. Verdadero.\n",
    "3. Falso. El intervalo de confianza no es sobre el promedio de la muestra.\n",
    "4. Falso. Para tener una confianza mayor de que capturamos el parámetro, necesitamos un intervalo más ancho. Pensemos en que necesitamos una red más grande para estar seguros de atrapar un pez en un lago turbio.\n",
    "5. Verdadero. Explicación opcional: Esto es verdadero dado que el modelo normal fue usado para modelar el promedio de la muestra. El margen de error es la mitad del ancho del intervalo y el promedio de la muestra es el punto medio del intervalo.\n",
    "6. Falso. En el cálculo del error estándar, dividimos la desviación estándar por la raíz cuadrada del tamaño de la muestra. Para dividir el SE (o margen de error) en la mitad, necesitaríamos hacer un muestreo de $2 \\times 2 = 4 $ veces el número de personas de la muestra inicial.\n",
    "\n",
    "### Sesgos\n",
    "\n",
    "1. Las muertes de estudiantes son raras, pero cuando un estudiante muere, él o ella usualmente es joven. La mayoría de los estudiantes sobrevive a la escuela y continúa con otras profesiones.\n",
    "2. En la medida en que las personas envejecen, las líneas de sus palmas se vuelven más arrugadas. Por lo tanto, las personas que viven un largo tiempo tienen palmas arrugadas al morir.\n",
    "3. Los pacientes con casos crónicos verán a psiquiatras más seguido, comparado con pacientes con problemas de corto plazo. Así, cualquier psicólogo tenderá a pasar más tiempo con pacientes crónicos. \n",
    "4. Si una persona tiene más amigos, él o ella es más probable que sea amigo de alguien también. Por lo tanto, el amigo de una persona aleatoria es probablemente una persona con muchos amigos.\n",
    "5. Es lógico que los sobrevivientes de una pelea culpen a la persona muerta, quien no está en posición de negarlo.\n"
   ]
  },
  {
   "cell_type": "markdown",
   "id": "5d17ee4e-1874-436b-8d44-3b5a022635cf",
   "metadata": {
    "tags": []
   },
   "source": [
    "# Test de Hipótesis\n",
    "\n",
    "Recordando Gapminder, contestemos la siguiente pregunta:\n",
    "\n",
    "¿De la población de niños de 1 año en el mundo al día de hoy, cuántos han sido vacunados contra alguna enfermedad?\n",
    "\n",
    "\n",
    "a. 20%\n",
    "b. 50%\n",
    "c. 80%\n",
    "\n",
    "Elige una alternativa, y cuando quieras ver la respuesta, anda a este [link](https://www.gapminder.org/ignorance/ignorance-test/results/question-9/#:~:text=How%20many%20of%20the%20world's,been%20vaccinated%20against%20some%20disease%3F&text=Correct%20answer%20is%20C.,percent%20to%20avoid%20overstating%20progress.)"
   ]
  },
  {
   "cell_type": "markdown",
   "id": "5c739890-cc7f-4f1f-9f6a-7bba69fa888a",
   "metadata": {},
   "source": [
    "## Marco de testeo de hipótesis\n",
    "\n",
    "Estamos interesados en comprender cuántas personas saben sobre salud mundial y desarrollo.\n",
    "\n",
    "Si tomamos una pregunta de opción múltiple sobre salud mundial, entonces podríamos querer comprender si\n",
    "\n",
    " \n",
    "\n",
    "* $H_0:$ Las personas nunca aprenden sobre estos temas particulares y sus respuestas son simplemente equivalentes a conjeturas aleatorias.\n",
    "\n",
    "* $H_A:$ Las personas tienen conocimiento que los ayuda a que les vaya mejor que si fueran conjeturas aleatorias o quizás, que tienen conocimientos falsos que los lleva a que realmente les vaya peor que si fueran conjeturas aleatorias.\n",
    "\n",
    " \n",
    "\n",
    "Estas ideas en competencia son llamadas hipótesis. Llamamos a H0 la hipótesis nula y a HA la hipótesis alternativa.\n",
    "\n",
    " "
   ]
  },
  {
   "cell_type": "markdown",
   "id": "0b872e1c-2860-4578-96ce-0c59f8473e07",
   "metadata": {},
   "source": [
    "## HIPÓTESIS NULA E HIPÓTESIS ALTERNATIVA\n",
    "\n",
    "La hipótesis nula (H0) a menudo representa una perspectiva escéptica o una suposición que debe ser testeada.\n",
    "\n",
    "La hipótesis alternativa (HA) representa una suposición alternativa a considerar y a menudo es representada por un rango de valores posibles del parámetro.\n",
    "\n",
    "Nuestro trabajo como cientistas de datos es jugar el role del escéptico: antes de adoptar la hipótesis alternativa necesitamos ver evidencia fuerte que la apoye.\n",
    "\n",
    " \n",
    "La hipótesis nula a menudo representa una posición escéptica o una perspectiva de \"no diferencia\". En nuestro primer ejemplo, consideraremos si a una persona típica le va distinto que si fuera una conjetura aleatoria en la pregunta de Gapminder sobre vacunas infantiles.\n",
    "\n",
    "La hipótesis alternativa generalmente representa una perspectiva nueva o más fuerte. En el caso de la pregunta sobre vacunas infantiles, ciertamente sería interesante saber si a las personas les va mejor que si fuera una conjetura aleatoria, dado que eso significaría que una persona típica sabe algo sobre estadísticos de salud mundial. También sería muy interesante saber si a las personas les va peor que si fuera una conjetura aleatoria, lo que sugeriría es que las personas creen información incorrecta sobre la salud mundial.\n",
    "\n",
    "El marco de testeo de hipótesis es una herramienta muy general y a menudo la usamos sin pensarlo dos veces. Si una persona da una opinión un tanto no creíble, somos inicialmente escépticos.\n",
    "\n",
    "Sin embargo, si hay suficiente evidencia que apoya la opinión, ponemos a un lado nuestro escepticismo y rechazamos la hipótesis nula en favor de la hipótesis alternativa. "
   ]
  },
  {
   "cell_type": "markdown",
   "id": "5d477770-a604-40f9-8c60-367649ae40dc",
   "metadata": {},
   "source": [
    "## Errores de decisión\n",
    "\n",
    "Los tests de hipótesis no son perfectos: podemos tomar una decisión incorrecta en un test de hipótesis estadístico basados en los datos. Por ejemplo, en el sistema judicial a veces personas inocentes son condenadas equivocadamente y los culpables a veces salen libres. Una distinción clave con los tests de hipótesis estadísticos es que tenemos las herramientas necesarias para cuantificar probabilísticamente cuán a menudo cometemos errores en nuestras conclusiones.\n",
    "\n",
    "Recordemos que hay dos hipótesis en competencia: la nula y la alternativa. En un testeo de hipótesis, hacemos un enunciado sobre cuál puede ser verdadera, pero podríamos escoger de forma incorrecta. Hay cuatro escenarios posibles, los que se resumen en la siguiente figura.\n",
    "\n"
   ]
  },
  {
   "attachments": {
    "f239236b-004b-4e91-957d-fe6ac233a337.png": {
     "image/png": "[encoded data removed]"
    }
   },
   "cell_type": "markdown",
   "id": "59609f5a-35cc-4511-843a-88279ad870ce",
   "metadata": {},
   "source": [
    "\n",
    "\n",
    "![Captura de Pantalla 2022-07-23 a la(s) 10.56.57.png](attachment:f239236b-004b-4e91-957d-fe6ac233a337.png)\n",
    "  \n",
    "    \n",
    "       \n",
    "El error tipo I es rechazar la hipótesis nula cuando $H_0$ es cierta. El error tipo II es no rechazar la nula cuando la hipótesis alternativa es correcta."
   ]
  },
  {
   "cell_type": "markdown",
   "id": "07d8a93d-87a1-4c6c-8533-980129071d87",
   "metadata": {},
   "source": [
    "Por ejemplo, en una corte, el acusado es declarado o \"inocente\" (no-culpable) ($H_0$) o culpable ($H_A$).\n",
    "\n",
    "¿Qué representa un error tipo 1? ¿y un error tipo 2?\n",
    "¿Cómo podríamos bajar el error tipo I en las cortes chilenas? ¿Qué influencia tendría eso en la tasa de error tipo II?\n",
    "\n",
    "¿Cómo entendemos el concepto de \"Duda razonable\"?"
   ]
  },
  {
   "cell_type": "markdown",
   "id": "7e1c4853-8004-463e-8feb-be6d51b9887d",
   "metadata": {},
   "source": [
    "La prueba de hipótesis se basa en rechazar o no rechazar la hipótesis nula. Es decir, no rechazamos H0 a menos que tengamos pruebas sólidas. Pero, ¿qué significa exactamente evidencia sólida? \n",
    "Como regla general, para aquellos casos en los que la hipótesis nula es realmente cierta, no queremos rechazar incorrectamente H0 más del 5% de las veces. Esto corresponde a un nivel de significación de 0,05. Es decir, si la hipótesis nula es verdadera, el nivel de significación indica con qué frecuencia los datos nos llevarían a rechazar incorrectamente H0. A menudo escribimos el nivel de significancia usando la letra griega $\\alpha=0.05$ \n",
    "\n",
    "\n",
    "Un intervalo de confianza es muy útil para determinar si se rechaza o no la hipótesis nula.\n",
    "Sin embargo, el enfoque del intervalo de confianza no siempre es sostenible. En varias secciones, encontraremos situaciones en las que no se puede construir un intervalo de confianza. Por ejemplo, si quisiéramos evaluar la hipótesis de que varias proporciones son iguales, no está claro cómo construir y comparar muchos intervalos de confianza en conjunto.\n",
    "\n",
    "A continuación, presentaremos una estadística llamada valor p para ayudarnos a expandir nuestro conjunto de herramientas estadísticas, lo que nos permitirá comprender mejor la fuerza de la evidencia y trabajar en situaciones más complejas.\n",
    "\n",
    "## Pruebas formales usando p-values\n",
    "\n",
    "El valor p es una forma de cuantificar la fuerza de la evidencia contra la hipótesis nula y a favor de la hipótesis alternativa. En general, se usa más el valor $p$ en lugar de tomar una decisión basada en intervalos de confianza.\n",
    "\n",
    "## P-VALUE\n",
    "El valor p es la probabilidad de observar datos al menos tan favorables a la hipótesis alternativa como nuestro conjunto de datos actual, si la hipótesis nula fuera cierta. Por lo general, usamos una estadística de resumen de los datos, en esta sección, la proporción de la muestra, para ayudar a calcular el valor p y evaluar las hipótesis.\n",
    "\n",
    "\n",
    "\n",
    "## Compara  el p-value con $\\alpha$ para evaluar $H_0$\n",
    "\n",
    "Cuando el valor p es menor que el nivel de significación, $\\alpha$, se rechaza $H_0$. Reportaríamos una conclusión\n",
    "que los datos proporcionen una fuerte evidencia que apoye la hipótesis alternativa. Cuando el valor p es mayor que $\\alpha$ , no rechazamos H0 e informamos que no tenemos suficiente evidencia para rechazar la  hipótesis nula.\n",
    "En cualquier caso, es importante describir la conclusión en el contexto de los datos."
   ]
  },
  {
   "cell_type": "code",
   "execution_count": null,
   "id": "7a235a54-fa93-4e7a-b815-2350560cc625",
   "metadata": {},
   "outputs": [],
   "source": []
  },
  {
   "cell_type": "markdown",
   "id": "08314c78-4a45-407f-aa96-2194ae5028b3",
   "metadata": {},
   "source": [
    "## Testeando la seguridad alimenticia\n",
    "Un inspector de seguridad alimenticia es llamado para investigar un restaurant en que algunos clientes reportaron prácticas sanitarias deficientes. El inspector de seguridad alimenticia utiliza un marco de test de hipótesis para evaluar si no se están cumpliendo las regulaciones. Si decide que el restaurant está cometiendo una violación grave, se les revocará su licencia para servir comida.\n",
    "\n",
    "1. Escribe las hipótesis en palabras.\n",
    "2. ¿Cuál sería un error tipo 1 en este contexto?\n",
    "3. ¿ Cuál sería un error tipo 2 en este contexto?\n",
    "4. ¿Cuál error es más problemático para el dueño del restaurant? ¿Por qué?\n",
    "5. ¿Cuál error es más problemático para los clientes? ¿Por qué?\n",
    "6. Como cliente, ¿preferirías que el inspector de seguridad alimentaria requiriera evidencia fuerte o evidencia muy fuerte sobre las preocupaciones de salud antes de revocar la licencia de un restaurant? Explica tu razonamiento.\n"
   ]
  }
 ],
 "metadata": {
  "kernelspec": {
   "display_name": "Python 3 (ipykernel)",
   "language": "python",
   "name": "python3"
  },
  "language_info": {
   "codemirror_mode": {
    "name": "ipython",
    "version": 3
   },
   "file_extension": ".py",
   "mimetype": "text/x-python",
   "name": "python",
   "nbconvert_exporter": "python",
   "pygments_lexer": "ipython3",
   "version": "3.9.12"
  }
 },
 "nbformat": 4,
 "nbformat_minor": 5
}
