{
 "cells": [
  {
   "cell_type": "markdown",
   "id": "2b2fffdd",
   "metadata": {},
   "source": [
    "# Estadística para Data Science: Cuaderno clase 4\n",
    "\n"
   ]
  },
  {
   "cell_type": "code",
   "execution_count": 3,
   "id": "8f3ae8d6",
   "metadata": {},
   "outputs": [],
   "source": [
    "# Importando librerías\n",
    "\n",
    "import pandas as pd\n",
    "import matplotlib.pyplot as plt\n",
    "%matplotlib inline\n",
    "import numpy as np\n",
    "import scipy.stats as stats\n",
    "import seaborn as sns\n"
   ]
  },
  {
   "cell_type": "markdown",
   "id": "53b58cbe",
   "metadata": {},
   "source": [
    "# Introducción a Diseño Experimental\n",
    "\n",
    "## Recordando correlaciones y Relación entre variables: asociadas o independientes\n",
    "\n",
    "Muchos análisis están motivados por un investigador buscando una relación entre dos o más variables. Volvamos a cargar el dataset `loan50`."
   ]
  },
  {
   "cell_type": "code",
   "execution_count": 2,
   "id": "5625331a",
   "metadata": {},
   "outputs": [
    {
     "data": {
      "text/html": [
       "<div>\n",
       "<style scoped>\n",
       "    .dataframe tbody tr th:only-of-type {\n",
       "        vertical-align: middle;\n",
       "    }\n",
       "\n",
       "    .dataframe tbody tr th {\n",
       "        vertical-align: top;\n",
       "    }\n",
       "\n",
       "    .dataframe thead th {\n",
       "        text-align: right;\n",
       "    }\n",
       "</style>\n",
       "<table border=\"1\" class=\"dataframe\">\n",
       "  <thead>\n",
       "    <tr style=\"text-align: right;\">\n",
       "      <th></th>\n",
       "      <th>state</th>\n",
       "      <th>emp_length</th>\n",
       "      <th>term</th>\n",
       "      <th>homeownership</th>\n",
       "      <th>annual_income</th>\n",
       "      <th>verified_income</th>\n",
       "      <th>debt_to_income</th>\n",
       "      <th>total_credit_limit</th>\n",
       "      <th>total_credit_utilized</th>\n",
       "      <th>num_cc_carrying_balance</th>\n",
       "      <th>loan_purpose</th>\n",
       "      <th>loan_amount</th>\n",
       "      <th>grade</th>\n",
       "      <th>interest_rate</th>\n",
       "      <th>public_record_bankrupt</th>\n",
       "      <th>loan_status</th>\n",
       "      <th>has_second_income</th>\n",
       "      <th>total_income</th>\n",
       "    </tr>\n",
       "  </thead>\n",
       "  <tbody>\n",
       "    <tr>\n",
       "      <th>0</th>\n",
       "      <td>NJ</td>\n",
       "      <td>3.0</td>\n",
       "      <td>60</td>\n",
       "      <td>rent</td>\n",
       "      <td>59000</td>\n",
       "      <td>Not Verified</td>\n",
       "      <td>0.557525</td>\n",
       "      <td>95131</td>\n",
       "      <td>32894</td>\n",
       "      <td>8</td>\n",
       "      <td>debt_consolidation</td>\n",
       "      <td>22000</td>\n",
       "      <td>B</td>\n",
       "      <td>10.90</td>\n",
       "      <td>0</td>\n",
       "      <td>Current</td>\n",
       "      <td>False</td>\n",
       "      <td>59000</td>\n",
       "    </tr>\n",
       "    <tr>\n",
       "      <th>1</th>\n",
       "      <td>CA</td>\n",
       "      <td>10.0</td>\n",
       "      <td>36</td>\n",
       "      <td>rent</td>\n",
       "      <td>60000</td>\n",
       "      <td>Not Verified</td>\n",
       "      <td>1.305683</td>\n",
       "      <td>51929</td>\n",
       "      <td>78341</td>\n",
       "      <td>2</td>\n",
       "      <td>credit_card</td>\n",
       "      <td>6000</td>\n",
       "      <td>B</td>\n",
       "      <td>9.92</td>\n",
       "      <td>1</td>\n",
       "      <td>Current</td>\n",
       "      <td>False</td>\n",
       "      <td>60000</td>\n",
       "    </tr>\n",
       "  </tbody>\n",
       "</table>\n",
       "</div>"
      ],
      "text/plain": [
       "  state  emp_length  term homeownership  annual_income verified_income  \\\n",
       "0    NJ         3.0    60          rent          59000    Not Verified   \n",
       "1    CA        10.0    36          rent          60000    Not Verified   \n",
       "\n",
       "   debt_to_income  total_credit_limit  total_credit_utilized  \\\n",
       "0        0.557525               95131                  32894   \n",
       "1        1.305683               51929                  78341   \n",
       "\n",
       "   num_cc_carrying_balance        loan_purpose  loan_amount grade  \\\n",
       "0                        8  debt_consolidation        22000     B   \n",
       "1                        2         credit_card         6000     B   \n",
       "\n",
       "   interest_rate  public_record_bankrupt loan_status  has_second_income  \\\n",
       "0          10.90                       0     Current              False   \n",
       "1           9.92                       1     Current              False   \n",
       "\n",
       "   total_income  \n",
       "0         59000  \n",
       "1         60000  "
      ]
     },
     "execution_count": 2,
     "metadata": {},
     "output_type": "execute_result"
    }
   ],
   "source": [
    "# Volvamos al dataset loan50\n",
    "\n",
    "loan50 = pd.read_csv('https://raw.githubusercontent.com/vmlandae/datasets_eds/main/clase2/loan50.csv')\n",
    "\n",
    "#  ¿que variables hay?\n",
    "\n",
    "loan50.head(2)"
   ]
  },
  {
   "cell_type": "code",
   "execution_count": 3,
   "id": "7f8f8799",
   "metadata": {},
   "outputs": [
    {
     "data": {
      "text/html": [
       "<div>\n",
       "<style scoped>\n",
       "    .dataframe tbody tr th:only-of-type {\n",
       "        vertical-align: middle;\n",
       "    }\n",
       "\n",
       "    .dataframe tbody tr th {\n",
       "        vertical-align: top;\n",
       "    }\n",
       "\n",
       "    .dataframe thead th {\n",
       "        text-align: right;\n",
       "    }\n",
       "</style>\n",
       "<table border=\"1\" class=\"dataframe\">\n",
       "  <thead>\n",
       "    <tr style=\"text-align: right;\">\n",
       "      <th></th>\n",
       "      <th>Unnamed: 0</th>\n",
       "      <th>altura</th>\n",
       "      <th>region</th>\n",
       "      <th>sexo</th>\n",
       "      <th>gaseosa</th>\n",
       "      <th>te</th>\n",
       "      <th>cafe</th>\n",
       "      <th>agua</th>\n",
       "      <th>extrema_pobreza</th>\n",
       "      <th>acoso_sexual</th>\n",
       "      <th>perez</th>\n",
       "      <th>larrain</th>\n",
       "      <th>tu_apellido</th>\n",
       "    </tr>\n",
       "  </thead>\n",
       "  <tbody>\n",
       "    <tr>\n",
       "      <th>0</th>\n",
       "      <td>0</td>\n",
       "      <td>182</td>\n",
       "      <td>Zona Sur (Araucanía, Los Ríos, Los Lagos, Ayse...</td>\n",
       "      <td>Hombre</td>\n",
       "      <td>50</td>\n",
       "      <td>500</td>\n",
       "      <td>200</td>\n",
       "      <td>500</td>\n",
       "      <td>menos del 1%</td>\n",
       "      <td>cerca del 30%</td>\n",
       "      <td>500000.0</td>\n",
       "      <td>1000.0</td>\n",
       "      <td>10.0</td>\n",
       "    </tr>\n",
       "    <tr>\n",
       "      <th>1</th>\n",
       "      <td>1</td>\n",
       "      <td>175</td>\n",
       "      <td>Zona Centro-Sur (Regiones de O'Higgins, Maule,...</td>\n",
       "      <td>Hombre</td>\n",
       "      <td>0</td>\n",
       "      <td>1300</td>\n",
       "      <td>0</td>\n",
       "      <td>0</td>\n",
       "      <td>menos del 1%</td>\n",
       "      <td>cerca del 30%</td>\n",
       "      <td>100000.0</td>\n",
       "      <td>100000.0</td>\n",
       "      <td>50000.0</td>\n",
       "    </tr>\n",
       "  </tbody>\n",
       "</table>\n",
       "</div>"
      ],
      "text/plain": [
       "   Unnamed: 0  altura                                             region  \\\n",
       "0           0     182  Zona Sur (Araucanía, Los Ríos, Los Lagos, Ayse...   \n",
       "1           1     175  Zona Centro-Sur (Regiones de O'Higgins, Maule,...   \n",
       "\n",
       "     sexo  gaseosa    te  cafe  agua extrema_pobreza   acoso_sexual     perez  \\\n",
       "0  Hombre       50   500   200   500    menos del 1%  cerca del 30%  500000.0   \n",
       "1  Hombre        0  1300     0     0    menos del 1%  cerca del 30%  100000.0   \n",
       "\n",
       "    larrain  tu_apellido  \n",
       "0    1000.0         10.0  \n",
       "1  100000.0      50000.0  "
      ]
     },
     "execution_count": 3,
     "metadata": {},
     "output_type": "execute_result"
    }
   ],
   "source": [
    "# carguemos también el dataset de las encuestas del curso:\n",
    "\n",
    "\n",
    "encuesta = pd.read_csv(\"https://raw.githubusercontent.com/vmlandae/datasets_eds/main/clase3/encuestas.csv\")\n",
    "\n",
    "codebook = pd.read_csv(\"https://raw.githubusercontent.com/vmlandae/datasets_eds/main/clase3/codebook.csv\")\n",
    "\n",
    "encuesta.head(2)"
   ]
  },
  {
   "cell_type": "markdown",
   "id": "b6b533bc",
   "metadata": {},
   "source": [
    "Algunos ejemplos de preguntas en relación a los datasets que hemos visto previamente, que podríamos querer responder son:\n",
    "\n",
    "(1)¿Cuál es la relación entre el ingreso total (`total_income`) y el monto del préstamo (`loan_amount`)? \n",
    "\n",
    "(2) Si el ingreso (`annual_income`) de alguien está por encima del promedio, ¿su tasa de interés (`interest_rate`) tenderá a estar por encima o por debajo del promedio?\n",
    "\n",
    "(3) ¿Qué tan útil como predictor es el consumo de té para el consumo de agua en los estudiantes del curso?\n",
    "\n",
    "\n",
    "Examinar estadística descriptiva podría proporcionarnos información para cada una de las tres preguntas. Además, los gráficos se pueden utilizar para explorar datos visualmente. Los diagramas de dispersión (scatterplots) son un tipo de gráfico que se utiliza para estudiar la relación entre dos variables numéricas."
   ]
  },
  {
   "cell_type": "code",
   "execution_count": 4,
   "id": "169f5d6c",
   "metadata": {},
   "outputs": [
    {
     "data": {
      "image/png": "[encoded data removed]",
      "text/plain": [
       "<Figure size 576x576 with 1 Axes>"
      ]
     },
     "metadata": {},
     "output_type": "display_data"
    }
   ],
   "source": [
    "# plt.style.use es para cambiar el estilo del gráfico, \n",
    "# se puede ver una referencia acá: https://matplotlib.org/stable/gallery/style_sheets/style_sheets_reference.html\n",
    "plt.style.use('ggplot') # ggplot es un paquete de gráficos muy popular en R.\n",
    "\n",
    "# acá podemos variar el tamaño de la figura: (ancho,alto) \n",
    "plt.rcParams['figure.figsize'] = (8,8)\n",
    "\n",
    "# Hagamos un gráfico de dispersión entre \n",
    "# 1) loan_amount y total_income\n",
    "\n",
    "# Crear scatterplot\n",
    "fig = plt.scatter( loan50['total_income'], loan50['loan_amount'])\n",
    "\n",
    "# Añadir labels\n",
    "plt.ylabel('Monto del Préstamo')\n",
    "plt.xlabel('Ingreso Total')\n",
    "plt.show()\n"
   ]
  },
  {
   "cell_type": "code",
   "execution_count": 5,
   "id": "b69b9572",
   "metadata": {},
   "outputs": [],
   "source": [
    "# 2) annual_income e interest_rate\n",
    "\n"
   ]
  },
  {
   "cell_type": "code",
   "execution_count": 6,
   "id": "4299b5d9",
   "metadata": {},
   "outputs": [],
   "source": [
    "# 3) Consumo de te y consumo de agua\n",
    "\n"
   ]
  },
  {
   "cell_type": "markdown",
   "id": "edbda0cf",
   "metadata": {},
   "source": [
    "El primer scatterplot (1) sugiere una relación entre las dos variables: los individuos con un ingreso total más alto tienden a tener montos de préstamos más altos. Podríamos hacer una lluvia de ideas sobre el por qué existe esta relación e investigar cada una para ver cuáles son las explicaciones más razonables. \n",
    "Se puede decir que ingreso total y monto del préstamo están asociados porque el gráfico nos muestra un patrón discernible. Como recordamos, una correlación es una medida de asociación entre dos variables, que puede ser positiva, cero o no existente y negativa, y donde no existe jerarquía a priori entre las variables, es decir: $corr(X,Y)=corr(Y,X)$. Mencionamos la clase pasada variables predictoras y variables de respuesta, hoy vamos a profundizar en ellas.\n",
    "\n",
    "\n",
    "\n",
    "## Variables predictoras y variables de respuesta: El \"rol\" de las variables\n",
    "\n",
    "Al hacer investigación normalmente se terminan midiendo o capturando muchas variables diversas. Luego, al analizar nuestros datos, usualmente se trata de explicar alguna(s) de las variable(s) en términos de algunas de las otras variables. Es importante separar estos roles, entre \"las variables que explican\" y las \"explicadas, en categorías distintas. En términos de simbología matemática usualmente la variable \"a ser explicada\" se denota con la letra $Y$ y las variables que \"hacen la explicación\" son denotadas con $X_1$,$X_2$, etc.\n",
    "\n",
    "Los nombres clásicos para estos roles son **variable(s) independiente(s)** (VI) y **variable dependiente** (VD).La VI es la variable que se usa para hacer la explicación(i.e., $X$) y la VD es la variable que está siendo explicada (i.e., $Y$). La lógica detrás de estos nombres es la siguiente: Si realmente hay una relación entre  $X$ e $Y$ entonces podemos decir que $Y$ depende de $X$, y si hemos diseñado nuestro estudio de manera \"apropiada\", entonces $X$ no es dependiente con nada más. Sin embargo, ya en muchas partes esta notación no agrada mucho ya que es difícil de recordar y muy engañoso, porque \n",
    "(a) Las VI nunca son realmente \"independientes de todo lo demás\" y \n",
    "(b) si no hay relación, entonces la VD en realidad no depende de la(s) VI. \n",
    "\n",
    "Hay varias alternativas, además de VI y VD, como variables explicativas y explicadas, o variables predictoras y de respuesta. "
   ]
  },
  {
   "cell_type": "markdown",
   "id": "afe758b4",
   "metadata": {},
   "source": [
    "|rol de la variable |Nombre clásico            |Nombre moderno |\n",
    "|:--------------------|:-------------------------|:-----------|\n",
    "|Ser explicado      |Variable Dependiente (VD)   |outcomes (respuestas)    |\n",
    "|hacer la explicación|Variable Independiente (VI) |predictores   |"
   ]
  },
  {
   "cell_type": "markdown",
   "id": "142dd0b2",
   "metadata": {},
   "source": [
    "En muchos casos también, aparece directamente la pregunta de la **causalidad**: Queremos determinar si el cambio en una variable causa un cambio en la otra. Volviendo al ejemplo (1), un refraseo de la pregunta sería: si es que hay un incremento en el ingreso total de un individuo, ¿llevaría esto a un incremento en el monto del préstamo? Es decir, estamos preguntándonos si una variable afecta causalmente a la otra. Cuando tenemos esa sospecha, etiquetamos a la primera como **variable predictora o explicativa**, y a la segunda como **variable de respuesta, variable explicada o responsiva**. Pero tengamos en cuenta que para muchos pares de variables, no hay a priori una relación hipotética, y que el acto de etiquetar a las variables de esta forma no garantiza una relación causal en lo absoluto. Una evaluación formal para chequear si una variable causa un cambio en otra requiere de un **experimento**.\n"
   ]
  },
  {
   "cell_type": "markdown",
   "id": "9cf4267c",
   "metadata": {},
   "source": [
    "##  Investigación experimental y no experimental\n",
    "\n",
    "Una gran distinción que tenemos que tener clara. Acá estamos hablando sobre el grado de control que el investigador ejerce sobre los sujetos y eventos en un estudio.\n",
    "\n",
    "### Investigación experimental\n",
    "\n",
    "Las características claves de la investigación experimental es que el investigador controla todos los aspectos del estudio, especialmente la experiencia de los sujetos durante el estudio. En particular, el investigador manipula o varía la(s) variable(s) predictora(s), y luego permite que la variable de respuesta varíe naturalmente. La idea acá es hacer variación en los predictores para ver si tiene algún efecto causal en los resultados. Más aún, para asegurar que no hay posibilidad que alguna otra cosa que la variable explicativa esté causando los outcomes, todo lo demás se mantiene constante o de alguna u otra manera se \"balancea\" para asegurar que no tengan efecto en los resultados. En la práctica, es casi imposible *pensar* en todo lo que puede tener una influencia en el outcome de un experimento, y mucho menos mantenerlo constante. La solución estándar para esto es la **aleatorización (randomization)**: esto es, que asignemos aleatoriamente sujetos a distintos grupos, y luego le demos un **tratamiento** distinto a cada grupo (i.e., asignarles distintos valores de la variable predictora). Vamos a hablar más de la aleatorización después, pero por ahora diremos que lo que la aleatorización hace es minimizar (pero no eliminar) las posibilidades que haya alguna diferencia sistemática entre los grupos. \n",
    "\n",
    "\n",
    "Consideremos un ejemplo simple, completamente irreal y muy poco ético. Supongamos que queremos comprobar si fumar causa cáncer de pulmón. Una forma de hacerlo sería encontrar personas que fuman y personas que no fuman, y ver si los fumadores tienen una tasa más alta de cáncer de pulmón. Esto *no es* un experimento adecuado, ya que no tendríamos mucho control sobre quién es y quién no es fumador. Y esto es realmente importante: por ejemplo, podría ser que las personas que eligen fumar también tiendan a tener una alimentación deficiente, o tal vez tiendan a trabajar más en minas de asbesto, etcétera. El punto es que los grupos (fumadores y no fumadores) en realidad difieren en muchas cosas, no *solo* en fumar. Entonces, podría ser que la mayor incidencia de cáncer de pulmón entre los fumadores se deba a otra cosa, no al cigarro per se. En términos técnicos, estas otras cosas (por ejemplo, la dieta) se denominan \"factores de confusión\" (*confounding factors*).\n",
    "\n",
    "¿Cómo sería un experimento \"adecuado\"? Si nos echamos la ética al bolsillo, para salvar el problema de la diferencia entre los fumandores y no fumadores sería **controlar** quién fuma y quién no. Específicamente, si dividimos aleatoriamente a los participantes en dos grupos y forzamos a la mitad de ellos fumar y al otro a no fumar, entonces es muy poco probable que los grupos difieran en cualquier aspecto que no sea el hecho de que la mitad fuma. Así, si nuestro grupo de fumadores contrae cáncer a una tasa más alta que el grupo de no fumadores, entonces podemos sentirnos bastante seguros de que (a) fumar sí causa cáncer y (b) no tenemos ningún escrúpulo.\n",
    "\n",
    "### Investigación no experimental\n",
    "\n",
    "**_Investigación no experimental_** es un término amplio que abarca \"cualquier estudio en el que el investigador no tiene tanto control como en un experimento\". Hay muchas otras situaciones donde no se puede o no se debe tratar de obtener control. Por ejemplo, pensando en el mismo ejemplo anterior, en principio el \"experimento ideal\" sería tomar una población de no fumadores y hacerlos fumar. Supongamos que el cáncer de pulmón en los fumadores solo se produce cuando las personas comen mal, y que usualmente los fumadores \"naturales\" tienden a tener una mala dieta. Si tomo a una muestra de no fumadores y la obligo a fumar, esta muestra al menos en principio no adopta el resto de las características de los fumadores, por lo tanto posiblemente tengan una mejor dieta, y en este hipotético ejemplo no tendrían cáncer de pulmón y nuestro experimento falla porque viola la estructura del mundo \"natural\" (el nombre técnico para esto sería un \"artefacto\").\n",
    "\n",
    "Una distinción que vale la pena hacer entre dos tipos de investigación no experimental es la diferencia entre ***investigación cuasiexperimental*** y ***estudios de casos***. El ejemplo que discutí anteriormente, en el que queríamos examinar la incidencia de cáncer de pulmón entre fumadores y no fumadores, sin tratar de controlar quién fuma y quién no, es un diseño cuasi-experimental. Es decir, es lo mismo que un experimento, pero no tenemos controlamos los predictores (IV). Todavía podemos usar estadísticas para analizar los resultados, solo que tenemos que ser mucho más cuidadosos.\n",
    "\n",
    "El enfoque alternativo, los estudios de casos, tiene como objetivo proporcionar una descripción muy detallada de uno o unos pocos casos. Si bien no puedo usar mucha estadística y no puedo sacar conclusiones de la evidencia anecdótica, los estudios de casos son muy útiles en algunas situaciones. En algunas ocasiones no hay alternativa: En neurociencia, por ejemplo, pasa mucho. A veces, simplemente no hay muchas personas con un daño cerebral de un área específica, por lo que lo único que puede hacer es describir los casos que tiene con el mayor detalle y cuidado posible.\n",
    "\n",
    "\n",
    "\n",
    "\n",
    "\n"
   ]
  },
  {
   "cell_type": "markdown",
   "id": "premium-incidence",
   "metadata": {},
   "source": [
    "# (Breve) Introducción a Probabilidades\n",
    "\n",
    "\n",
    "Hasta ahora, hemos discutido algunas ideas claves en diseño experimental y hemos visto como se puede describir, resumir y visualizar un dataset. Para mucha gente, esto es todo lo que hay que ver en estadística: se trata de calcular promedios, dibujar gráficos y ponerlos en algún reporte. Sin embargo, la estadística descriptiva es solo una pequeña parte de la estadística, y la parte más grande y en muchos casos más útil es la que nos provee las herramientas que nos permiten hacer *inferencia* sobre los datos, en los (muchísimos) casos donde no tenemos acceso a datos censales sino muestrales. La **inferencia estadística** está construida en los cimientos de la **teoría probabilística**, por lo cual haremos una breve revisión cubriendo parte de lo básico "
   ]
  },
  {
   "cell_type": "markdown",
   "id": "synthetic-simpson",
   "metadata": {},
   "source": [
    "## ¿Cómo son distintas las probabilidades y la estadística?\n",
    "\n",
    "Antes de hablar sobre teoría de probabilidades, es útil pensar en la relación entre probabilidad y estadística. Las dos disciplinas están estrechamente relacionadas pero no son lo mismo. La teoría de probabilidades es \"la doctrina de las posibilidades\". Es una rama de la matemática que nos dice cuán frecuentemente sucederán diferentes tipos de eventos. Por ejemplo, todas estas preguntas podemos responderlas usando probabilidades:\n",
    "\n",
    "- ¿Que posibilidad hay que al lanzar una \"moneda justa\" salgan 10 caras seguidas.\n",
    "- Si lanzo dos dados de seis caras, ¿cuán probable es que saque dos seis?\n",
    "- ¿Qué tan probable es que en cinco cartas sacadas de un mazo barajado todas sean corazones?\n",
    "- ¿Qué probabilidad tengo de sacarme el loto?\n",
    "\n",
    "Todas estas preguntas tienen algo en común. En cada caso, \"la verdad del funcionamiento del mundo\" es conocida, y la pregunta pasa por el \"tipo de eventos\" que sucederán. El punto crítico es que las preguntas probabilísticas parten con un **modelo** conocido del mundo, y usamos ese modelo para hacer cálculos. Este modelo subyacente puede ser muy simple. Por ejemplo, en la primera pregunta, podríamos escribir el modelo de esta forma:\n",
    "\n",
    "$$\n",
    "P(\\mbox{cara}) = 0.5\n",
    "$$\n",
    "Que se puede leer como \"la probabilidad de que salga cara es de 0.5\". Como veremos, las probabilidades son números que van desde el 0 al 1. Al usar este modelo para responder la primera pregunta, no estoy respondiendo y no sé realmente qué es lo que va a pasar si lanzo una moneda justa diez veces. A lo mejor salen 10 caras, a lo mejor salen 3 o a lo mejor ninguna. Esa es la clave: En teoría de probabilidades, el **modelo** es conocido, pero los **datos** no. \n",
    "\n",
    "Eso es probabilidad. ¿Qué pasa con estadística? Las preguntas estadísticas van para el otro lado. En estadística, **no sabemos** \"la verdad sobre el mundo\". Lo único que tenemos son datos y es desde los datos que queremos **aprender** \"la verdad sobre el mundo\". Las preguntas estadísticas podrían ser de esta forma:\n",
    "\n",
    "- Si un amigo lanza una moneda 10 veces y saca 10 caras, ¿me está haciendo leso?\n",
    "- Si las primeras cinco cartas del mazo son todas corazones, que tan probable es que el mazo haya sido barajado?\n",
    "- Si el [\"presidente\" de Zimbawe se gana la lotería](http://news.bbc.co.uk/1/hi/world/africa/621895.stm), que tan probable es que haya sido arreglado?\n",
    "\n",
    "Ahora lo único que tenemos son datos. Lo que **sé** es que vi a mi amigo tirar la moneda 10 veces y salió cara todo el tiempo. Y lo que quiero **inferir** es si puedo concluir que lo que vi fueron 10 lanzamientos de una moneda justa o si puedo sospechar que pasa algo distinto. Los datos se verían así:\n",
    "```\n",
    "C C C C C C C C C C\n",
    "```\n",
    "Y lo que estoy tratando de hacer es ver a cual \"modelo del mundo\" debería ponerle mi confianza. Si la moneda es justa, entonces el modelo que debería adoptar es el de $P(\\mbox{cara}) = 0.5$. Si la moneda no es justa, entonces el modelo sería $P(\\mbox{heads}) \\neq 0.5$. En otras palabras, el problema de inferencia sería averiguar cuál de estos modelos es el correcto. Claramente, la pregunta estadística no es la misma que la probabilística, pero están profundamente conectadas entre sí. \n",
    "\n",
    "\n",
    "### La perspectiva frecuentista\n",
    "\n",
    "El primero de los dos enfoques principales a la probabilidad, y el más usado en la literatura estadística es el enfoque frecuentista, que define la probabilidad como una **frecuencia de largo plazo**. Supongamos que estamos tirando una moneda justa una y otra vez (llamaremos desde ahora H a \"heads\"(cara) y T a \"tails\"(sello). Por definición, la moneda tiene una $P(H) = 0.5$. ¿Qué podríamos observar? Una posible distribución es la siguiente\n",
    "\n",
    "```\n",
    "T,H,H,H,H,T,T,H,H,H,H,T,H,H,T,T,T,T,T,H\n",
    "```\n",
    "En este caso, 11 de esas 20 monedas tiradas (55\\%) salieron cara. Ahora supongamos que fui manteniendo un score de la cantidad de caras acumulada ($N_H$) que he ido observando a través de los primeros $N$ tiros, y calculo la proporción de caras $N_H / N$  cada vez. Tendríamos lo siguiente:"
   ]
  },
  {
   "cell_type": "code",
   "execution_count": 11,
   "id": "shaped-skating",
   "metadata": {},
   "outputs": [
    {
     "data": {
      "text/html": [
       "<div>\n",
       "<style scoped>\n",
       "    .dataframe tbody tr th:only-of-type {\n",
       "        vertical-align: middle;\n",
       "    }\n",
       "\n",
       "    .dataframe tbody tr th {\n",
       "        vertical-align: top;\n",
       "    }\n",
       "\n",
       "    .dataframe thead th {\n",
       "        text-align: right;\n",
       "    }\n",
       "</style>\n",
       "<table border=\"1\" class=\"dataframe\">\n",
       "  <thead>\n",
       "    <tr style=\"text-align: right;\">\n",
       "      <th></th>\n",
       "      <th>Numero de tiros</th>\n",
       "      <th>Numero de caras</th>\n",
       "      <th>Proporcion</th>\n",
       "    </tr>\n",
       "  </thead>\n",
       "  <tbody>\n",
       "    <tr>\n",
       "      <th>0</th>\n",
       "      <td>1</td>\n",
       "      <td>0</td>\n",
       "      <td>0.00</td>\n",
       "    </tr>\n",
       "    <tr>\n",
       "      <th>1</th>\n",
       "      <td>2</td>\n",
       "      <td>1</td>\n",
       "      <td>0.50</td>\n",
       "    </tr>\n",
       "    <tr>\n",
       "      <th>2</th>\n",
       "      <td>3</td>\n",
       "      <td>2</td>\n",
       "      <td>0.67</td>\n",
       "    </tr>\n",
       "    <tr>\n",
       "      <th>3</th>\n",
       "      <td>4</td>\n",
       "      <td>3</td>\n",
       "      <td>0.75</td>\n",
       "    </tr>\n",
       "    <tr>\n",
       "      <th>4</th>\n",
       "      <td>5</td>\n",
       "      <td>4</td>\n",
       "      <td>0.80</td>\n",
       "    </tr>\n",
       "    <tr>\n",
       "      <th>5</th>\n",
       "      <td>6</td>\n",
       "      <td>4</td>\n",
       "      <td>0.67</td>\n",
       "    </tr>\n",
       "    <tr>\n",
       "      <th>6</th>\n",
       "      <td>7</td>\n",
       "      <td>4</td>\n",
       "      <td>0.57</td>\n",
       "    </tr>\n",
       "    <tr>\n",
       "      <th>7</th>\n",
       "      <td>8</td>\n",
       "      <td>5</td>\n",
       "      <td>0.63</td>\n",
       "    </tr>\n",
       "    <tr>\n",
       "      <th>8</th>\n",
       "      <td>9</td>\n",
       "      <td>6</td>\n",
       "      <td>0.67</td>\n",
       "    </tr>\n",
       "    <tr>\n",
       "      <th>9</th>\n",
       "      <td>10</td>\n",
       "      <td>7</td>\n",
       "      <td>0.70</td>\n",
       "    </tr>\n",
       "    <tr>\n",
       "      <th>10</th>\n",
       "      <td>11</td>\n",
       "      <td>8</td>\n",
       "      <td>0.73</td>\n",
       "    </tr>\n",
       "    <tr>\n",
       "      <th>11</th>\n",
       "      <td>12</td>\n",
       "      <td>8</td>\n",
       "      <td>0.67</td>\n",
       "    </tr>\n",
       "    <tr>\n",
       "      <th>12</th>\n",
       "      <td>13</td>\n",
       "      <td>9</td>\n",
       "      <td>0.69</td>\n",
       "    </tr>\n",
       "    <tr>\n",
       "      <th>13</th>\n",
       "      <td>14</td>\n",
       "      <td>10</td>\n",
       "      <td>0.71</td>\n",
       "    </tr>\n",
       "    <tr>\n",
       "      <th>14</th>\n",
       "      <td>15</td>\n",
       "      <td>10</td>\n",
       "      <td>0.67</td>\n",
       "    </tr>\n",
       "    <tr>\n",
       "      <th>15</th>\n",
       "      <td>16</td>\n",
       "      <td>10</td>\n",
       "      <td>0.63</td>\n",
       "    </tr>\n",
       "    <tr>\n",
       "      <th>16</th>\n",
       "      <td>17</td>\n",
       "      <td>10</td>\n",
       "      <td>0.59</td>\n",
       "    </tr>\n",
       "    <tr>\n",
       "      <th>17</th>\n",
       "      <td>18</td>\n",
       "      <td>10</td>\n",
       "      <td>0.56</td>\n",
       "    </tr>\n",
       "    <tr>\n",
       "      <th>18</th>\n",
       "      <td>19</td>\n",
       "      <td>10</td>\n",
       "      <td>0.53</td>\n",
       "    </tr>\n",
       "    <tr>\n",
       "      <th>19</th>\n",
       "      <td>20</td>\n",
       "      <td>11</td>\n",
       "      <td>0.55</td>\n",
       "    </tr>\n",
       "  </tbody>\n",
       "</table>\n",
       "</div>"
      ],
      "text/plain": [
       "    Numero de tiros  Numero de caras  Proporcion\n",
       "0                 1                0        0.00\n",
       "1                 2                1        0.50\n",
       "2                 3                2        0.67\n",
       "3                 4                3        0.75\n",
       "4                 5                4        0.80\n",
       "5                 6                4        0.67\n",
       "6                 7                4        0.57\n",
       "7                 8                5        0.63\n",
       "8                 9                6        0.67\n",
       "9                10                7        0.70\n",
       "10               11                8        0.73\n",
       "11               12                8        0.67\n",
       "12               13                9        0.69\n",
       "13               14               10        0.71\n",
       "14               15               10        0.67\n",
       "15               16               10        0.63\n",
       "16               17               10        0.59\n",
       "17               18               10        0.56\n",
       "18               19               10        0.53\n",
       "19               20               11        0.55"
      ]
     },
     "execution_count": 11,
     "metadata": {},
     "output_type": "execute_result"
    }
   ],
   "source": [
    "number_of_flips = [1 , 2 , 3 , 4 , 5 , 6 , 7 , 8 , 9 , 10, 11 , 12 , 13 , 14 , 15 , 16 , 17 , 18 , 19 , 20]\n",
    "number_of_heads = [0 , 1 , 2 , 3 , 4 , 4 , 4 , 5 , 6 , 7,  8  ,  8 ,  9 , 10 , 10 , 10 , 10 , 10 , 10 , 11] \n",
    "proportion = [.00 , .50 , .67 , .75 , .80 , .67 , .57 , .63 , .67 , .70, .73 , .67 , .69 , .71 , .67 ,  .63 , .59 , .56 , .53 , .55]\n",
    "\n",
    "df = pd.DataFrame(\n",
    "    {'Numero de tiros': number_of_flips,\n",
    "     'Numero de caras': number_of_heads,\n",
    "     'Proporcion': proportion\n",
    "    })\n",
    "\n",
    "df"
   ]
  },
  {
   "cell_type": "code",
   "execution_count": null,
   "id": "3aff8ef0",
   "metadata": {},
   "outputs": [],
   "source": [
    "# Hagámoslo de nuevo, ahora tirando la moneda 20 veces y guardando el resultado en una variable\n",
    "\n",
    "number_of_flips = [1 , 2 , 3 , 4 , 5 , 6 , 7 , 8 , 9 , 10, 11 , 12 , 13 , 14 , 15 , 16 , 17 , 18 , 19 , 20]\n",
    "number_of_heads = [] \n",
    "proportion = \n",
    "\n",
    "df = pd.DataFrame(\n",
    "    {'Numero de tiros': number_of_flips,\n",
    "     'Numero de caras': number_of_heads,\n",
    "     'Proporcion': proportion\n",
    "    })\n",
    "\n",
    "df"
   ]
  },
  {
   "cell_type": "markdown",
   "id": "4418580c",
   "metadata": {},
   "source": [
    "Observe que al comienzo de la secuencia, la *proporción* de caras fluctúa enormemente, comenzando en .00 y subiendo hasta .80. Más tarde, uno tiene la impresión de que se amortigua un poco, con más y más valores que en realidad están bastante cerca de la respuesta \"correcta\" de 0.5. Esta es la definición frecuentista de probabilidad en pocas palabras: lanzar una moneda justa una y otra vez, y a medida que $N$ crece (se acerca al infinito, denotado $N\\rightarrow \\infty$), la proporción de caras convergerá a un 50\\ % Existe una definición matemática formal más sofisticada, pero cualitativamente hablando, así es como los frecuentistas definen la probabilidad. "
   ]
  },
  {
   "cell_type": "markdown",
   "id": "e2de509d",
   "metadata": {},
   "source": [
    "No tenemos ni un número infinito de monedas ni la paciencia y tiempo para lanzar una moneda infinitas veces, sin embargo, un computador es una máquina que es muy buena haciendo tareas repetitivas."
   ]
  },
  {
   "cell_type": "markdown",
   "id": "adjustable-nancy",
   "metadata": {},
   "source": [
    "Vamos a crear una función que simule lanzar una moneda.\n",
    "\n"
   ]
  },
  {
   "cell_type": "code",
   "execution_count": 12,
   "id": "e5257522",
   "metadata": {
    "tags": [
     "hide-input"
    ]
   },
   "outputs": [],
   "source": [
    "import random\n",
    "import numpy as np\n",
    "import seaborn as sns\n",
    "\n",
    "\n",
    "\n",
    "def coin_flips(n):\n",
    "    n = n\n",
    "    heads = [random.uniform(0,1) for i in range(n)]\n",
    "    heads = [1 if i > 0.5 else 0 for i in heads]\n",
    "    flips = np.arange(1,n+1)\n",
    "    proportion = (np.cumsum(heads)/flips)\n",
    "\n",
    "    df = pd.DataFrame(\n",
    "        {'flips': flips,\n",
    "         'proportion_heads': proportion\n",
    "        })\n",
    "\n",
    "    #ax = sns. lineplot(x=df['flips'], y=df['proportion_heads'])\n",
    "    return(df)"
   ]
  },
  {
   "cell_type": "code",
   "execution_count": 13,
   "id": "521e9d7b",
   "metadata": {},
   "outputs": [
    {
     "name": "stdout",
     "output_type": "stream",
     "text": [
      "   flips  proportion_heads\n",
      "0      1               0.0\n",
      "    flips  proportion_heads\n",
      "0       1          1.000000\n",
      "1       2          0.500000\n",
      "2       3          0.333333\n",
      "3       4          0.500000\n",
      "4       5          0.400000\n",
      "5       6          0.333333\n",
      "6       7          0.428571\n",
      "7       8          0.375000\n",
      "8       9          0.333333\n",
      "9      10          0.400000\n",
      "10     11          0.454545\n",
      "11     12          0.416667\n",
      "12     13          0.461538\n",
      "13     14          0.428571\n",
      "14     15          0.466667\n",
      "15     16          0.437500\n",
      "16     17          0.470588\n",
      "17     18          0.444444\n",
      "18     19          0.473684\n",
      "19     20          0.500000\n"
     ]
    }
   ],
   "source": [
    "# Probando la función:\n",
    "\n",
    "print(coin_flips(1))\n",
    "\n",
    "print(coin_flips(20))"
   ]
  },
  {
   "cell_type": "markdown",
   "id": "37a64b19",
   "metadata": {},
   "source": [
    "Hagamos algunas simulaciones más grandes. Lancemos la moneda 1000 veces y veamos los últimos valores"
   ]
  },
  {
   "cell_type": "code",
   "execution_count": 17,
   "id": "20c2a3f9",
   "metadata": {
    "tags": [
     "hide-input"
    ]
   },
   "outputs": [
    {
     "data": {
      "text/html": [
       "<div>\n",
       "<style scoped>\n",
       "    .dataframe tbody tr th:only-of-type {\n",
       "        vertical-align: middle;\n",
       "    }\n",
       "\n",
       "    .dataframe tbody tr th {\n",
       "        vertical-align: top;\n",
       "    }\n",
       "\n",
       "    .dataframe thead th {\n",
       "        text-align: right;\n",
       "    }\n",
       "</style>\n",
       "<table border=\"1\" class=\"dataframe\">\n",
       "  <thead>\n",
       "    <tr style=\"text-align: right;\">\n",
       "      <th></th>\n",
       "      <th>flips</th>\n",
       "      <th>proportion_heads</th>\n",
       "    </tr>\n",
       "  </thead>\n",
       "  <tbody>\n",
       "    <tr>\n",
       "      <th>995</th>\n",
       "      <td>996</td>\n",
       "      <td>0.521084</td>\n",
       "    </tr>\n",
       "    <tr>\n",
       "      <th>996</th>\n",
       "      <td>997</td>\n",
       "      <td>0.520562</td>\n",
       "    </tr>\n",
       "    <tr>\n",
       "      <th>997</th>\n",
       "      <td>998</td>\n",
       "      <td>0.520040</td>\n",
       "    </tr>\n",
       "    <tr>\n",
       "      <th>998</th>\n",
       "      <td>999</td>\n",
       "      <td>0.520521</td>\n",
       "    </tr>\n",
       "    <tr>\n",
       "      <th>999</th>\n",
       "      <td>1000</td>\n",
       "      <td>0.521000</td>\n",
       "    </tr>\n",
       "  </tbody>\n",
       "</table>\n",
       "</div>"
      ],
      "text/plain": [
       "     flips  proportion_heads\n",
       "995    996          0.521084\n",
       "996    997          0.520562\n",
       "997    998          0.520040\n",
       "998    999          0.520521\n",
       "999   1000          0.521000"
      ]
     },
     "execution_count": 17,
     "metadata": {},
     "output_type": "execute_result"
    }
   ],
   "source": [
    "n = 1000\n",
    "\n",
    "run1 = coin_flips(n)\n",
    "\n",
    "run1.tail()\n"
   ]
  },
  {
   "cell_type": "markdown",
   "id": "8da3b42e",
   "metadata": {},
   "source": [
    "Lancemos la moneda 1000 veces de nuevo, y de nuevo y de nuevo. \n"
   ]
  },
  {
   "cell_type": "code",
   "execution_count": null,
   "id": "fbe0d2b5",
   "metadata": {},
   "outputs": [],
   "source": [
    "run2 = coin_flips(n)\n",
    "run3 = coin_flips(n)\n",
    "run4 = coin_flips(n)"
   ]
  },
  {
   "cell_type": "markdown",
   "id": "95bb70b5",
   "metadata": {},
   "source": [
    "Ahora vamos a **concatenar** los dataframes, y vamos a agregar una columna que indique a cual de los 4 runs corresponden los datos:"
   ]
  },
  {
   "cell_type": "code",
   "execution_count": 6,
   "id": "c967eee1",
   "metadata": {},
   "outputs": [],
   "source": [
    "df = pd.concat([run1, run2, run3, run4], axis=0,ignore_index=True)\n",
    "\n",
    "runs = ['run1']*n + ['run2']*n + ['run3']*n + ['run4']*1000\n",
    "\n",
    "df['runs'] = runs"
   ]
  },
  {
   "cell_type": "markdown",
   "id": "31d9dbc7",
   "metadata": {},
   "source": [
    "Hagamos un lineplot (con seaborn) para ver como va convergiendo al valor esperado."
   ]
  },
  {
   "cell_type": "code",
   "execution_count": 7,
   "id": "dental-tours",
   "metadata": {},
   "outputs": [
    {
     "data": {
      "image/png": "[encoded data removed]",
      "text/plain": [
       "<Figure size 432x288 with 1 Axes>"
      ]
     },
     "metadata": {
      "needs_background": "light"
     },
     "output_type": "display_data"
    }
   ],
   "source": [
    "ax = sns.lineplot(data = df, x = 'flips', y = 'proportion_heads', hue = 'runs')"
   ]
  },
  {
   "cell_type": "markdown",
   "id": "green-shirt",
   "metadata": {},
   "source": [
    " \n",
    "## Teoría probabilistica básica\n",
    "\n",
    "\n",
    "### Introduciendo distribuciones de probabilidad\n",
    "\n"
   ]
  },
  {
   "cell_type": "markdown",
   "id": "congressional-guarantee",
   "metadata": {},
   "source": [
    "\n",
    "\n",
    "## Distribuciones Notables\n",
    "Hay muchos tipos diversos de distribuciones de probabilidad.  Sin embargo, no todas son igualmente importantes. Hoy veremos dos: la distribución binomial y la distribución normal, y en las próximas clases veremos la distribución $t$, la distribución $\\chi^2$ (\"chi-cuadrado\") y la distribución $F$. \n",
    "\n",
    "### Distribucion Binomial\n",
    "\n",
    "Imaginemos un experimento simple, donde tengo 20 dados idénticos que tienen una cara con una foto de una calavera (skull) y las otras caras en blanco. Si tiro todos los dados al mismo tiempo, cual es la probabilidad de sacar exactamente 4 skulls? \n",
    "Asumiendo que los dados son justos, sabemos que la probabilidad de que salga skull es de 1 en 6, o sea, aproximadamente $0.167$. Con esto puedo responder nuestra pregunta, veamos como se hace:\n",
    "\n",
    "Vamos a introducir algunos nombres y notación. $N$ denota el número de lanzamientos de dados en nuestro experimento; que a menudo se denomina **_parámetro de tamaño_** de nuestra distribución binomial. También usaremos $\\theta$ para referirnos a la probabilidad de que un solo dado salga skull, una cantidad que generalmente se llama **_probabilidad de éxito_** del binomio. Finalmente, usaremos $X$ para referirnos a los resultados de nuestro experimento, es decir, la cantidad de calaveras que obtengo cuando tiro los dados. Dado que el valor real de $X$ se debe al azar, nos referimos a él como una **_variable aleatoria_**. La cantidad que queremos calcular es la probabilidad de que $X = 4$ dado que sabemos que $\\theta = .167$ y $N=20$. La \"forma\" general de lo que me interesa calcular podría escribirse como\n",
    "\n",
    "$$\n",
    "P(X \\ | \\ \\theta, N)\n",
    "$$\n",
    "y estamos interesados en el caso especial donde $X=4$, $\\theta = .167$ y $N=20$.\n",
    "\n",
    "Solo hay una notación más a la que quiero referirme antes de pasar a discutir la solución al problema. Si quiero decir que $X$ se genera aleatoriamente a partir de una distribución binomial con parámetros $\\theta$ y $N$, la notación que usaría es la siguiente:\n",
    "\n",
    "$$\n",
    "X \\sim \\mbox{Binomial}(\\theta, N)\n",
    "$$ \n",
    "\n",
    "Veamos como se ve la distribución binomial. El siguiente histograma grafica las probabilidades binomiales para todos los valores posibles de  $X$ desde $X=0$ (cero skulls) hasta $X=20$ (todas skulls).En el eje horizontal tenemos todos los eventos posibles y en el eje vertical podemos ver la probabilidad de cada uno de estos eventos. Entonces, la probabilidad de sacar 4 skulls de 20 dados es de aproximadamente 0,20 (la respuesta real es 0,2022036, como veremos en un momento). En otras palabras, esperaría que eso sucediera alrededor del 20\\% de las veces que se repitió este experimento."
   ]
  },
  {
   "cell_type": "code",
   "execution_count": 10,
   "id": "original-hacker",
   "metadata": {},
   "outputs": [
    {
     "data": {
      "image/png": "[encoded data removed]",
      "text/plain": [
       "<Figure size 432x288 with 1 Axes>"
      ]
     },
     "metadata": {
      "needs_background": "light"
     },
     "output_type": "display_data"
    }
   ],
   "source": [
    "\n",
    "x = np.random.binomial(n=20, p=1/6, size=1000)\n",
    "\n",
    "# Ve que pasa si aumentas el tamaño\n",
    "#x = np.random.binomial(n=20, p=1/6, size=10000000)\n",
    "\n",
    "skulls = sns.histplot(x, bins=20,binwidth=1)\n",
    "skulls.set(xlim=(0,20))\n",
    "plt.xticks(np.arange(min(x), 20, 1.0))\n",
    "plt.show()\n"
   ]
  },
  {
   "cell_type": "markdown",
   "id": "tracked-burden",
   "metadata": {},
   "source": [
    "Las fórmulas para las distribuciones binomial y normal son las siguientes. No las vamos a ocupar en el curso, pero como referencia las dejamos acá.\n"
   ]
  },
  {
   "cell_type": "markdown",
   "id": "ready-jewel",
   "metadata": {},
   "source": [
    "Distibución Binomial\n",
    "\n",
    "$$\n",
    "P(X | \\theta, N) = \\frac{N!}{X! (N-X)!}  \\theta^X (1-\\theta)^{N-X}\n",
    "$$ \n",
    "\n",
    "\n",
    "\n",
    "Distribución Normal\n",
    "\n",
    "$$\n",
    "p(X | \\mu, \\sigma) = \\frac{1}{\\sqrt{2\\pi}\\sigma} \\exp \\left( -\\frac{(X - \\mu)^2}{2\\sigma^2} \\right)\n",
    "$$"
   ]
  },
  {
   "cell_type": "code",
   "execution_count": 9,
   "id": "negative-demonstration",
   "metadata": {},
   "outputs": [
    {
     "data": {
      "image/png": "[encoded data removed]",
      "text/plain": [
       "<Figure size 1080x360 with 2 Axes>"
      ]
     },
     "metadata": {
      "needs_background": "light"
     },
     "output_type": "display_data"
    }
   ],
   "source": [
    "\n",
    "from numpy import random\n",
    "\n",
    "x_20 = random.binomial(n=20, p=1/2, size=1000)\n",
    "x_100 = random.binomial(n=100, p=1/2, size=1000)\n",
    "\n",
    "fig, axes = plt.subplots(1, 2, figsize=(15, 5))\n",
    "fig.suptitle('Coin Flips')\n",
    "\n",
    "\n",
    "# 20 flips\n",
    "sns.histplot(x_20, bins=20,binwidth=1,ax=axes[0])\n",
    "axes[0].set_title('20 flips')\n",
    "axes[0].set(xlim=(0,20))\n",
    "\n",
    "\n",
    "# 100 flips\n",
    "sns.histplot(x_100, bins=20,binwidth=1, ax=axes[1])\n",
    "axes[1].set_title('100 flips')\n",
    "axes[1].set(xlim=(0,100))\n",
    "plt.show()"
   ]
  },
  {
   "cell_type": "markdown",
   "id": "exposed-structure",
   "metadata": {},
   "source": [
    "\n",
    "## La Distribución Normal\n",
    "\n",
    "También llamada distribución Gaussiana o Campana de Gauss, una distribución normal se describe usando dos parámetros: El promedio de la distribución $\\mu$ y la desviación estándar $\\sigma$. La notación habitual es\n",
    "\n",
    "$$\n",
    "X \\sim \\mbox{Normal}(\\mu,\\sigma)\n",
    "$$\n",
    "\n",
    "Hagámonos una idea de lo que significa que una variable se distribuya normalmente. Veamos la siguiente figura, que traza una distribución normal con media $\\mu = 0$ y desviación estándar $\\sigma = 1$. Ten en cuenta que, a diferencia de los gráficos para la distribución binomial, la imagen de la distribución normal muestra una curva suave en lugar de barras \"similares a histogramas\". Esta no es una elección arbitraria: la distribución normal es continua, mientras que la binomial es discreta. Por ejemplo, en el ejemplo de lanzamiento de dados de la última sección, era posible obtener 3 skulls o 4 skulls, pero era imposible obtener 3,9 skulls. Las cantidades continuas no tienen esta restricción. "
   ]
  },
  {
   "cell_type": "code",
   "execution_count": 18,
   "id": "tutorial-eagle",
   "metadata": {},
   "outputs": [
    {
     "data": {
      "image/png": "[encoded data removed]",
      "text/plain": [
       "<Figure size 432x288 with 1 Axes>"
      ]
     },
     "metadata": {
      "needs_background": "light"
     },
     "output_type": "display_data"
    }
   ],
   "source": [
    "%matplotlib inline\n",
    "\n",
    "\n",
    "\n",
    "mu = 0\n",
    "variance = 1\n",
    "sigma = np.sqrt(variance)\n",
    "x = np.linspace(mu - 3*sigma, mu + 3*sigma, 100)\n",
    "fig = sns.lineplot(x = x, y = stats.norm.pdf(x, mu, sigma))\n",
    "plt.xlabel('Observed Value')\n",
    "plt.ylabel('Probability Density')\n",
    "\n",
    "sns.despine()\n"
   ]
  },
  {
   "cell_type": "code",
   "execution_count": null,
   "id": "innovative-strap",
   "metadata": {},
   "outputs": [],
   "source": [
    "%matplotlib inline\n",
    "\n",
    "import numpy as np\n",
    "import scipy.stats as stats\n",
    "import pandas as pd\n",
    "import seaborn as sns\n",
    "\n",
    "\n",
    "mu = 0\n",
    "variance = 1\n",
    "sigma = np.sqrt(variance)\n",
    "x = np.linspace(1, 10, 100)\n",
    "y1 = stats.norm.pdf(x, 4, sigma)\n",
    "y2 = stats.norm.pdf(x, 7, sigma)\n",
    "\n",
    "\n",
    "fig = sns.lineplot(x = x, y = y1)\n",
    "ax2=fig.twinx()\n",
    "ax2.tick_params(left=False, labelleft=False, top=False, labeltop=False,\n",
    "                   right=False, labelright=False, bottom=False, labelbottom=False)\n",
    "\n",
    "\n",
    "\n",
    "sns.lineplot(x = x, y = y2, ax=ax2, linestyle='--')\n",
    "sns.despine()\n",
    "\n"
   ]
  },
  {
   "cell_type": "code",
   "execution_count": 19,
   "id": "capable-somewhere",
   "metadata": {},
   "outputs": [
    {
     "data": {
      "image/png": "[encoded data removed]",
      "text/plain": [
       "<Figure size 432x288 with 2 Axes>"
      ]
     },
     "metadata": {
      "needs_background": "light"
     },
     "output_type": "display_data"
    }
   ],
   "source": [
    "%matplotlib inline\n",
    "\n",
    "import numpy as np\n",
    "import scipy.stats as stats\n",
    "import pandas as pd\n",
    "import seaborn as sns\n",
    "\n",
    "\n",
    "mu = 5\n",
    "\n",
    "variance = 1\n",
    "sigma = np.sqrt(variance)\n",
    "x = np.linspace(1, 10, 100)\n",
    "y1 = stats.norm.pdf(x, mu, 1)\n",
    "\n",
    "variance = 2\n",
    "sigma = np.sqrt(variance)\n",
    "y2 = stats.norm.pdf(x, mu, 2)\n",
    "\n",
    "\n",
    "fig = sns.lineplot(x = x, y = y1)\n",
    "\n",
    "ax2=fig.twiny()\n",
    "ax2.tick_params(left=False, labelleft=False, top=False, labeltop=False,\n",
    "                   right=False, labelright=False, bottom=False, labelbottom=False)\n",
    "\n",
    "\n",
    "\n",
    "sns.lineplot(x = x, y = y2, ax=ax2, linestyle='--')\n",
    "sns.despine()\n",
    "\n"
   ]
  },
  {
   "cell_type": "markdown",
   "id": "ahead-evans",
   "metadata": {},
   "source": [
    "Una característica importante de la distribución normal: Independientemente de cuál sea la media real y la desviación estándar, el 68,3 % del área se encuentra dentro de 1 desviación estándar de la media. De manera similar, el 95,4 % de la distribución se encuentra dentro de las 2 desviaciones estándar de la media y el 99,7 % de la distribución se encuentra dentro de las 3 desviaciones estándar. "
   ]
  },
  {
   "cell_type": "code",
   "execution_count": 20,
   "id": "progressive-insertion",
   "metadata": {},
   "outputs": [
    {
     "data": {
      "image/png": "[encoded data removed]",
      "text/plain": [
       "<Figure size 1080x360 with 2 Axes>"
      ]
     },
     "metadata": {
      "needs_background": "light"
     },
     "output_type": "display_data"
    }
   ],
   "source": [
    "import numpy as np\n",
    "import scipy.stats as stats\n",
    "import seaborn as sns\n",
    "\n",
    "fig, axes = plt.subplots(1, 2, figsize=(15, 5), sharey=False)\n",
    "\n",
    "mu = 0\n",
    "variance = 1\n",
    "sigma = np.sqrt(variance)\n",
    "x = np.linspace(mu - 3*sigma, mu + 3*sigma, 100)\n",
    "sns.lineplot(x = x, y = stats.norm.pdf(x, mu, sigma), ax=axes[0])\n",
    "\n",
    "\n",
    "sns.lineplot(x = x, y = stats.norm.pdf(x, mu, sigma), ax=axes[1])\n",
    "\n",
    "\n",
    "x_fill1 = np.arange(-1, 1, 0.001)\n",
    "x_fill2 = np.arange(-2, 2, 0.001)\n",
    "\n",
    "y_fill1 = stats.norm.pdf(x_fill1,0,1)\n",
    "y_fill2 = stats.norm.pdf(x_fill2,0,1)\n",
    "\n",
    "axes[0].fill_between(x_fill1,y_fill1,0, alpha=0.2, color='blue')\n",
    "axes[1].fill_between(x_fill2,y_fill2,0, alpha=0.2, color='blue')\n",
    "\n",
    "axes[0].set_title(\"Shaded Area = 68.3%\")\n",
    "axes[1].set_title(\"Shaded Area = 95.4%\")\n",
    "\n",
    "axes[0].set(xlabel='Observed value', ylabel='Probability density')\n",
    "axes[1].set(xlabel='Observed value', ylabel='Probability density')\n",
    "\n",
    "sns.despine()\n",
    "\n"
   ]
  },
  {
   "cell_type": "code",
   "execution_count": null,
   "id": "systematic-peripheral",
   "metadata": {},
   "outputs": [],
   "source": [
    "\n",
    "import numpy as np\n",
    "import scipy.stats as stats\n",
    "import seaborn as sns\n",
    "\n",
    "fig, axes = plt.subplots(1, 2, figsize=(15, 5), sharey=False)\n",
    "\n",
    "mu = 0\n",
    "variance = 1\n",
    "sigma = np.sqrt(variance)\n",
    "x = np.linspace(mu - 3*sigma, mu + 3*sigma, 100)\n",
    "sns.lineplot(x = x, y = stats.norm.pdf(x, mu, sigma), ax=axes[0])\n",
    "\n",
    "\n",
    "sns.lineplot(x = x, y = stats.norm.pdf(x, mu, sigma), ax=axes[1])\n",
    "\n",
    "\n",
    "x_fill1 = np.arange(-4, -1, 0.001)\n",
    "x_fill2 = np.arange(-1, 0, 0.001)\n",
    "\n",
    "y_fill1 = stats.norm.pdf(x_fill1,0,1)\n",
    "y_fill2 = stats.norm.pdf(x_fill2,0,1)\n",
    "\n",
    "axes[0].fill_between(x_fill1,y_fill1,0, alpha=0.2, color='blue')\n",
    "axes[1].fill_between(x_fill2,y_fill2,0, alpha=0.2, color='blue')\n",
    "\n",
    "axes[0].set_title(\"Shaded Area = 15.9%\")\n",
    "axes[1].set_title(\"Shaded Area = 34.1%\")\n",
    "\n",
    "axes[0].set(xlabel='Observed value', ylabel='Probability density')\n",
    "axes[1].set(xlabel='Observed value', ylabel='Probability density')\n",
    "\n",
    "sns.despine()\n"
   ]
  }
 ],
 "metadata": {
  "celltoolbar": "Tags",
  "kernelspec": {
   "display_name": "Python 3 (ipykernel)",
   "language": "python",
   "name": "python3"
  },
  "language_info": {
   "codemirror_mode": {
    "name": "ipython",
    "version": 3
   },
   "file_extension": ".py",
   "mimetype": "text/x-python",
   "name": "python",
   "nbconvert_exporter": "python",
   "pygments_lexer": "ipython3",
   "version": "3.9.12"
  }
 },
 "nbformat": 4,
 "nbformat_minor": 5
}
