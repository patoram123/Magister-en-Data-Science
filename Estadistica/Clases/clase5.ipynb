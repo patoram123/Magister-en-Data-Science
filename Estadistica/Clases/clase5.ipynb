{
 "cells": [
  {
   "cell_type": "markdown",
   "id": "2b2fffdd",
   "metadata": {},
   "source": [
    "# Estadística para Data Science: Cuaderno clase 5 P1\n"
   ]
  },
  {
   "cell_type": "code",
   "execution_count": 84,
   "id": "8f3ae8d6",
   "metadata": {},
   "outputs": [],
   "source": [
    "# Importando librerías\n",
    "\n",
    "import pandas as pd\n",
    "import matplotlib.pyplot as plt\n",
    "%matplotlib inline\n",
    "import numpy as np\n",
    "import scipy.stats as stats\n",
    "import seaborn as sns\n"
   ]
  },
  {
   "cell_type": "markdown",
   "id": "synthetic-simpson",
   "metadata": {},
   "source": [
    "## Recordando la clase anterior, Probabilidad y Estadística\n",
    "\n",
    "En la pregunta:\n",
    "- ¿Que posibilidad hay que al lanzar una \"moneda justa\" cinco veces, me salgan 5 caras seguidas?\n",
    "\n",
    "\"la verdad del funcionamiento del mundo\" es conocida, y la pregunta pasa por el \"tipo de eventos\" que sucederán. El punto crítico es que las preguntas probabilísticas parten con un **modelo** conocido del mundo, y usamos ese modelo para hacer cálculos. Este modelo subyacente puede ser muy simple. Por ejemplo, en la primera pregunta, podríamos escribir el modelo de esta forma:\n",
    "\n",
    "$$\n",
    "P(\\mbox{cara}) = 0.5\n",
    "$$\n",
    "\n",
    "\n",
    "Que se puede leer como \"la probabilidad de que salga cara es de 0.5\". Al usar este modelo para responder la pregunta, no estoy respondiendo si saldrá cara o sello en el siguiente lanzamiento, y no sé realmente qué es lo que va a pasar si lanzo una moneda justa diez veces. A lo mejor salen 5 caras, a lo mejor salen 2 o a lo mejor ninguna. Esa es la clave: En teoría de probabilidades, el **modelo** es conocido, pero los **datos** no. \n",
    "\n",
    "\n",
    "Eso es probabilidad. ¿Qué pasa con la estadística? Las preguntas estadísticas van para el otro lado. En estadística, **no sabemos** \"la verdad sobre el mundo\". Lo único que tenemos son datos y es desde los datos que queremos **aprender** \"la verdad sobre el mundo\". La pregunta estadística que haríamos analizando el mismo caso análogo sería:\n",
    "\n",
    "- Lancé una moneda 5 veces y saco 5 caras, ¿sera una \"moneda justa\" la que estoy lanzando?\n",
    "Ahora lo único que tenemos son datos. Lo que **sé** es que yo tiré 5 veces la moneda y salió cara todo el tiempo. Y lo que quiero **inferir** es si puedo concluir que lo que vi fueron 5 lanzamientos de una moneda justa o si puedo sospechar que pasa algo distinto. Los datos se verían así:\n",
    "```\n",
    "C C C C C\n",
    "```\n",
    "Y lo que estoy tratando de hacer es ver a cual \"modelo del mundo\" debería ponerle mi confianza. Si la moneda es justa, entonces el modelo que debería adoptar es el de $P(\\mbox{cara}) = 0.5$. Si la moneda no es justa, entonces el modelo sería $P(\\mbox{heads}) \\neq 0.5$. En otras palabras, el problema de inferencia sería averiguar cuál de estos modelos es el correcto. Claramente, la pregunta estadística no es la misma que la probabilística, pero están profundamente conectadas entre sí. \n",
    "\n"
   ]
  },
  {
   "cell_type": "markdown",
   "id": "dbb4c6a6-a796-46c0-b660-e15357e6bcd8",
   "metadata": {},
   "source": [
    "## Propiedades y definiciones básicas de Probabilidad\n",
    "\n",
    "Veamos dos tipos de ejemplos muy clásicos (lanzar una moneda y un dado) y vamos definiendo propiedades y términos.\n",
    "\n",
    "* Un **outcome** o **muestreo** es un posible resultado de algún **experimento** (proceso aleatorio).\n",
    "* El **espacio muestral** es el set de todos los posibles outcomes\n",
    "* Un **evento** es un conjunto de outcomes. Un **espacio de eventos** es el conjunto de todos los eventos posibles.\n",
    "\n",
    "Si lanzamos un dado de 6 caras entonces:\n",
    "* Espacio muestral: {1,2,3,4,5,6}\n",
    "* Ejemplos de eventos serían:\n",
    "- El outcome es 1 : {1}\n",
    "- El outcome es menor o igual a 3 : {1,2,3}\n",
    "- El outcome es par : {2,4,6}\n",
    "\n",
    "**Experimento compuesto**\n",
    "Un experimento compuesto tiene multiples outcomes. Por ejemplo, si lanzamos un dado y tiramos una moneda\n",
    "\n",
    "* Espacio muestral: $\\{1,2,3,4,5,6\\} \\times \\{C,S\\}=\\{(1,C), (2,C), (3,C), (4,C), (5,C), (6,C), (1,S), (2,S), (3,S), (4,S), (5,S), (6,S) \\}$\n",
    "* Ejemplos de eventos:\n",
    "- El dado sale 2 y la moneda Sello: $\\{(2,S)\\}$\n",
    "- El dado sale 4 y la moneda no sabemos: $\\{4 \\} \\times \\{C,S\\} = \\{(4,C), (4,S)\\}$"
   ]
  },
  {
   "cell_type": "markdown",
   "id": "d748954a-e487-4fca-9694-4d54f8d2c888",
   "metadata": {},
   "source": [
    "**Función de Probabilidad**\n",
    "Una **función de probabilidad** $P(E)$ mapea un evento a un número real entre 0 y 1 igual a la proporción de veces que el outcome ocurriría si es que observáramos el proceso aleatorio (experimento) un número infinito de veces. \n",
    "* Si corremos muchos experimentos, $E$ debería suceder en una proporción cercana a la $P(E)$ teórica, cada vez más cercana mientras más experimentos se corran. Esto se llama **Ley de los grandes números**.\n",
    "Vamos a mostrar empíricamente esto con código en la siguiente celda. Pensemos en el caso donde lanzamos un dado y queremos saber la probabilidad de que el outcome sea 4.\n"
   ]
  },
  {
   "cell_type": "code",
   "execution_count": 85,
   "id": "858c429b-3d0a-40c0-b5c0-3abf173ed126",
   "metadata": {},
   "outputs": [],
   "source": [
    "\n",
    "# importamos la librería random\n",
    "import random\n",
    "\n",
    "def muestreo_aleatorio(n, em):\n",
    "    n=n\n",
    "    em=em\n",
    "    muestreo = [random.choice(em) for i in range(n)]\n",
    "    muestreo = pd.Series(muestreo)\n",
    "    return(muestreo)"
   ]
  },
  {
   "cell_type": "code",
   "execution_count": null,
   "id": "ad3adb04-19c2-46c5-b79c-0669759f608d",
   "metadata": {},
   "outputs": [],
   "source": []
  },
  {
   "cell_type": "markdown",
   "id": "61fae8c0-2aed-4a3e-b94c-2787c7c0f3e4",
   "metadata": {},
   "source": [
    "Lancemos 10 dados con la función `muestreo_aleatorio`"
   ]
  },
  {
   "cell_type": "code",
   "execution_count": 73,
   "id": "a16d3ff3-3290-4084-a7a1-d6d973e911b9",
   "metadata": {},
   "outputs": [],
   "source": [
    "# creamos una lista con el espacio muestral del lanzamiento de 1 dado, \n",
    "em_dado = [1,2,3,4,5,6]\n"
   ]
  },
  {
   "cell_type": "code",
   "execution_count": 86,
   "id": "ae656d8d-154c-471a-8450-2cecd66db168",
   "metadata": {},
   "outputs": [
    {
     "data": {
      "text/plain": [
       "0    1\n",
       "1    4\n",
       "2    5\n",
       "3    1\n",
       "4    1\n",
       "5    6\n",
       "6    1\n",
       "7    2\n",
       "8    1\n",
       "9    5\n",
       "dtype: int64"
      ]
     },
     "execution_count": 86,
     "metadata": {},
     "output_type": "execute_result"
    }
   ],
   "source": [
    "    \n",
    "muestreo_aleatorio(10,em_dado)"
   ]
  },
  {
   "cell_type": "markdown",
   "id": "1318ce6b-41c6-46aa-80ae-8a4e323c68f2",
   "metadata": {},
   "source": [
    "Ahora lanza 20 monedas con Cara y Sello"
   ]
  },
  {
   "cell_type": "code",
   "execution_count": 89,
   "id": "48af31e9-edc5-49ef-b6b7-124f05438619",
   "metadata": {},
   "outputs": [
    {
     "data": {
      "text/plain": [
       "0     Sello\n",
       "1     Sello\n",
       "2     Sello\n",
       "3      Cara\n",
       "4     Sello\n",
       "5     Sello\n",
       "6      Cara\n",
       "7      Cara\n",
       "8      Cara\n",
       "9      Cara\n",
       "10     Cara\n",
       "11    Sello\n",
       "12    Sello\n",
       "13     Cara\n",
       "14     Cara\n",
       "15     Cara\n",
       "16    Sello\n",
       "17    Sello\n",
       "18     Cara\n",
       "19    Sello\n",
       "dtype: object"
      ]
     },
     "execution_count": 89,
     "metadata": {},
     "output_type": "execute_result"
    }
   ],
   "source": [
    "em_moneda = [\"Cara\",\"Sello\"]\n",
    "\n",
    "l1_moneda_20 = muestreo_aleatorio(20,em_moneda)\n",
    "\n",
    "l1_moneda_20"
   ]
  },
  {
   "cell_type": "code",
   "execution_count": 100,
   "id": "0cb1e0e0-7372-432b-bbe1-e3caeea6a9c0",
   "metadata": {},
   "outputs": [
    {
     "data": {
      "text/plain": [
       "Cara     10\n",
       "Sello    10\n",
       "dtype: int64"
      ]
     },
     "execution_count": 100,
     "metadata": {},
     "output_type": "execute_result"
    }
   ],
   "source": [
    "# Como lo que retorna es un objeto de clase pandas, podemos ocupar los métodos de esta librería\n",
    "l1_moneda_20.value_counts()[['Cara','Sello']]"
   ]
  },
  {
   "cell_type": "code",
   "execution_count": 93,
   "id": "4c48e1ad-31b6-417c-9457-56e8c0816cbc",
   "metadata": {},
   "outputs": [
    {
     "data": {
      "text/plain": [
       "Sello    10\n",
       "Cara     10\n",
       "dtype: int64"
      ]
     },
     "execution_count": 93,
     "metadata": {},
     "output_type": "execute_result"
    }
   ],
   "source": [
    "# Mejor todavía, podemos extraer solo el número de Caras fácilmente\n",
    "l1_moneda_20.value_counts()"
   ]
  },
  {
   "cell_type": "code",
   "execution_count": 94,
   "id": "51e3b39a-3a15-47cd-a933-f71d3978ceec",
   "metadata": {},
   "outputs": [],
   "source": [
    "l1_dado_20 = muestreo_aleatorio(n=20, em= em_dado)\n"
   ]
  },
  {
   "cell_type": "code",
   "execution_count": 102,
   "id": "982a5211-58b8-4562-bce8-8e3bbeb9559d",
   "metadata": {},
   "outputs": [
    {
     "data": {
      "text/plain": [
       "1    9\n",
       "2    4\n",
       "dtype: int64"
      ]
     },
     "execution_count": 102,
     "metadata": {},
     "output_type": "execute_result"
    }
   ],
   "source": [
    "l1_dado_20.value_counts()[[1,2]]"
   ]
  },
  {
   "cell_type": "markdown",
   "id": "37eb967a-ed12-4257-b2c1-c7382496f2a1",
   "metadata": {},
   "source": [
    "## Axiomas de Probabilidad\n",
    "\n",
    "$$P(E)\\geq 0$$\n",
    "\n",
    "$$P(E)+P(E^C)=1$$\n",
    "\n",
    "$$P(E\\cup F)=P(E)+P(F)-P(E\\cap F) $$\n",
    "\n",
    "\n",
    "\n"
   ]
  },
  {
   "cell_type": "markdown",
   "id": "70e15e99-82b6-44d6-854a-bec63144a91f",
   "metadata": {},
   "source": [
    "### Regla de la adición\n",
    "La regla de la adición o regla de la suma establece que la probabilidad de ocurrencia de cualquier evento en particular es igual a la suma de las probabilidades individuales, si es que los eventos son mutuamente excluyentes, es decir, que dos no pueden ocurrir al mismo tiempo.\n",
    "\n",
    "Por un lado, si $ A\\cap B=\\varnothing $, es decir que son mutuamente excluyentes, entonces\n",
    "$P(A \\cup B)=P(A)+P(B)$\n",
    "\n",
    "Por otro lado, si $ A\\cap B\\neq \\varnothing $ , es decir que no son mutuamente excluyentes, entonces\n",
    "$P(A\\cup B)=P(A)+P(B)-P(A\\cap B)$\n",
    "Siendo: $P(A)=$ probabilidad de ocurrencia del evento A, $P(B)$probabilidad de ocurrencia del evento B, y $P(A\\cap B)=$ probabilidad de ocurrencia simultánea de los eventos A y B."
   ]
  },
  {
   "cell_type": "markdown",
   "id": "6e54800e-3c2f-4544-800a-2f036e4d9c26",
   "metadata": {},
   "source": [
    "### Regla de la multiplicación\n",
    "La regla de la multiplicación establece que la probabilidad de ocurrencia de dos o más eventos estadísticamente independientes es igual al producto de sus probabilidades individuales.\n",
    "\n",
    "$P(A\\cap B)=P(A)P(B)$, si A y B son independientes.\n",
    "\n",
    "$P(A\\cap B)=P(A)P(B|A)$, si A y B son dependientes.\n",
    "\n",
    "siendo $P(B|A)$ la probabilidad de que ocurra B habiéndose dado o verificado el evento A."
   ]
  }
 ],
 "metadata": {
  "celltoolbar": "Tags",
  "kernelspec": {
   "display_name": "Python 3 (ipykernel)",
   "language": "python",
   "name": "python3"
  },
  "language_info": {
   "codemirror_mode": {
    "name": "ipython",
    "version": 3
   },
   "file_extension": ".py",
   "mimetype": "text/x-python",
   "name": "python",
   "nbconvert_exporter": "python",
   "pygments_lexer": "ipython3",
   "version": "3.9.12"
  }
 },
 "nbformat": 4,
 "nbformat_minor": 5
}
