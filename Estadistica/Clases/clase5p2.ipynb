{
 "cells": [
  {
   "cell_type": "markdown",
   "id": "a0ed3c6e-2942-4c8c-9b13-d6026bfe56ad",
   "metadata": {},
   "source": [
    "# Estadística para Data Science: Cuaderno clase 5 p2\n"
   ]
  },
  {
   "cell_type": "code",
   "execution_count": null,
   "id": "e024cfe2-e20b-439e-9b46-031ccd96a689",
   "metadata": {},
   "outputs": [],
   "source": [
    "# Importando librerías\n",
    "\n",
    "import pandas as pd\n",
    "import matplotlib.pyplot as plt\n",
    "%matplotlib inline\n",
    "import numpy as np\n",
    "import scipy.stats as stats\n",
    "import seaborn as sns\n"
   ]
  },
  {
   "cell_type": "markdown",
   "id": "fb1f55e9-da3f-4422-a502-c5580027b474",
   "metadata": {},
   "source": [
    "Las fórmulas para las distribuciones binomial y normal son las siguientes. No las vamos a ocupar en el curso, pero como referencia las dejamos acá.\n"
   ]
  },
  {
   "cell_type": "markdown",
   "id": "f1b0da9e-db7f-4bf7-8104-46ede518b349",
   "metadata": {},
   "source": [
    "Distibución Binomial\n",
    "\n",
    "$$\n",
    "P(X | \\theta, N) = \\frac{N!}{X! (N-X)!}  \\theta^X (1-\\theta)^{N-X}\n",
    "$$ \n",
    "\n",
    "\n",
    "\n",
    "Distribución Normal\n",
    "\n",
    "$$\n",
    "p(X | \\mu, \\sigma) = \\frac{1}{\\sqrt{2\\pi}\\sigma} \\exp \\left( -\\frac{(X - \\mu)^2}{2\\sigma^2} \\right)\n",
    "$$"
   ]
  },
  {
   "cell_type": "code",
   "execution_count": null,
   "id": "4af356ec-90ba-403a-a8c3-393cd04a3eaa",
   "metadata": {},
   "outputs": [],
   "source": [
    "# importamos la librería random\n",
    "import random\n",
    "\n",
    "def muestreo_aleatorio(n, em):\n",
    "    n=n\n",
    "    em=em\n",
    "    muestreo = [random.choice(em) for i in range(n)]\n",
    "    muestreo = pd.Series(muestreo)\n",
    "    return(muestreo)"
   ]
  },
  {
   "cell_type": "markdown",
   "id": "fb131b20-4fa7-421a-9bf8-f9e65f4dd395",
   "metadata": {},
   "source": [
    "## Lancemos monedas y dados para generar distribuciones muestrales de una proporción.\n",
    "\n",
    "Ocupando la función que creamos, veamos la proporción de éxito de dos eventos distintos en dos espacios muestrales diferentes.\n",
    "\n",
    "1. La proporción de caras al lanzar 10 monedas 1000 veces\n",
    "2. La proporción de números menores que 6 al lanzar 3 dados 100000 veces"
   ]
  },
  {
   "cell_type": "code",
   "execution_count": null,
   "id": "ce92dde8-dfc5-4258-b495-c7dbe6096d51",
   "metadata": {},
   "outputs": [],
   "source": [
    "# 1.\n",
    "\n"
   ]
  },
  {
   "cell_type": "code",
   "execution_count": null,
   "id": "99a5d38e-bf52-47f3-9612-d74eeac1bebd",
   "metadata": {},
   "outputs": [],
   "source": []
  },
  {
   "cell_type": "markdown",
   "id": "8b88ea92-ffd9-4385-90e1-5212d0b4ae9f",
   "metadata": {},
   "source": [
    "Vamos a generar nuevamente un muestreo empírico y otro que muestrea de la distribución binomial teórica:\n",
    "\n",
    "- `x_100_empirico` son 10000 muestreos de la suma de caras (ocupando la función que creamos) de 100 lanzamientos de monedas. Es decir, hacemos 100 lanzamientos de una moneda, sumamos la cantidad de caras y guardamos ese dato en el primer elemento de la lista. Luego repetimos lo mismo 9999 veces más y vamos agregando cada suma de caras al correspondiente elemento de la lista. Luego, convertimos esa lista a pandas.\n",
    "\n",
    "- `x_100` Hace muestreos de una distribución binomial con parámetros específicos, donde `n` es el número de trials (en este caso, lanzamientos de monedas), `p` es la probabilidad de \"exito\" (en este caso, 0.5) y `size`  es el número de muestreos de una distribución binomial.\n"
   ]
  },
  {
   "cell_type": "code",
   "execution_count": null,
   "id": "1a24e95e-84b7-40a9-b0ea-69eabb87fce0",
   "metadata": {},
   "outputs": [],
   "source": [
    "\n",
    "x = np.random.binomial(n=20, p=1/6, size=1000)\n",
    "\n",
    "# Ve que pasa si aumentas el tamaño\n",
    "# x = np.random.binomial(n=20, p=1/6, size=10000000)\n",
    "\n",
    "skulls = sns.histplot(x, bins=20,binwidth=1)\n",
    "skulls.set(xlim=(0,20))\n",
    "plt.xticks(np.arange(min(x), 20, 1.0))\n",
    "plt.show()\n"
   ]
  },
  {
   "cell_type": "code",
   "execution_count": null,
   "id": "8f0cb934-188e-4572-ab2d-6a08fa4064c4",
   "metadata": {},
   "outputs": [],
   "source": [
    "# completar\n",
    "x_100_empirico = \n",
    "\n",
    "\n",
    "from numpy import random\n",
    "\n",
    "\n",
    "\n",
    "\n",
    "x_100_empirico = np.array(x_100_empirico)\n",
    "\n",
    "x_100 = random.binomial(n=100, p=1/2, size=10000)"
   ]
  },
  {
   "cell_type": "code",
   "execution_count": null,
   "id": "7a22f39a-9e45-4fab-9a98-50c2bf01bc41",
   "metadata": {},
   "outputs": [],
   "source": [
    "fig, axes = plt.subplots(1, 2, figsize=(15, 5))\n",
    "fig.suptitle('Coin Flips')\n",
    "\n",
    "\n",
    "# Empírico (muestreos de monedas lanzadas)\n",
    "sns.histplot(x_100_empirico, bins=20,binwidth=1,ax=axes[0])\n",
    "axes[0].set_title('Empírico')\n",
    "axes[0].set(xlim=(0,100))\n",
    "\n",
    "\n",
    "# Muestreo Aleatorio de la distribución binomial correspondiente\n",
    "sns.histplot(x_100, bins=20,binwidth=1, ax=axes[1])\n",
    "axes[1].set_title('Binomial')\n",
    "axes[1].set(xlim=(0,100))\n",
    "plt.show()"
   ]
  },
  {
   "cell_type": "markdown",
   "id": "bd79bb3f-909a-43a8-9d0d-64a102e0663a",
   "metadata": {},
   "source": [
    "\n",
    "## La Distribución Normal\n",
    "\n",
    "También llamada distribución Gaussiana o Campana de Gauss, una distribución normal se describe usando dos parámetros: El promedio de la distribución $\\mu$ y la desviación estándar $\\sigma$. La notación habitual es\n",
    "\n",
    "$$\n",
    "X \\sim \\mbox{Normal}(\\mu,\\sigma)\n",
    "$$\n",
    "\n",
    "Hagámonos una idea de lo que significa que una variable se distribuya normalmente. Veamos la siguiente figura, que traza una distribución normal con media $\\mu = 0$ y desviación estándar $\\sigma = 1$. Ten en cuenta que, a diferencia de los gráficos para la distribución binomial, la imagen de la distribución normal muestra una curva suave en lugar de barras \"similares a histogramas\". Esta no es una elección arbitraria: la distribución normal es continua, mientras que la binomial es discreta. Por ejemplo, en el ejemplo de lanzamiento de dados de la última sección, era posible obtener 3 skulls o 4 skulls, pero era imposible obtener 3,9 skulls. Las cantidades continuas no tienen esta restricción. "
   ]
  },
  {
   "cell_type": "code",
   "execution_count": null,
   "id": "e726a0fd-e126-4637-91da-4abcc3feb821",
   "metadata": {},
   "outputs": [],
   "source": [
    "%matplotlib inline\n",
    "\n",
    "\n",
    "\n",
    "mu = 0\n",
    "variance = 1\n",
    "sigma = np.sqrt(variance)\n",
    "x = np.linspace(mu - 3*sigma, mu + 3*sigma, 100)\n",
    "fig = sns.lineplot(x = x, y = stats.norm.pdf(x, mu, sigma))\n",
    "plt.xlabel('Observed Value')\n",
    "plt.ylabel('Probability Density')\n",
    "\n",
    "sns.despine()\n"
   ]
  },
  {
   "cell_type": "code",
   "execution_count": null,
   "id": "67fade9a-00f9-4489-8b33-44beb0e123c7",
   "metadata": {},
   "outputs": [],
   "source": [
    "%matplotlib inline\n",
    "\n",
    "import numpy as np\n",
    "import scipy.stats as stats\n",
    "import pandas as pd\n",
    "import seaborn as sns\n",
    "\n",
    "\n",
    "mu = 0\n",
    "variance = 1\n",
    "sigma = np.sqrt(variance)\n",
    "x = np.linspace(1, 10, 100)\n",
    "y1 = stats.norm.pdf(x, 4, sigma)\n",
    "y2 = stats.norm.pdf(x, 7, sigma)\n",
    "\n",
    "\n",
    "fig = sns.lineplot(x = x, y = y1)\n",
    "ax2=fig.twinx()\n",
    "ax2.tick_params(left=False, labelleft=False, top=False, labeltop=False,\n",
    "                   right=False, labelright=False, bottom=False, labelbottom=False)\n",
    "\n",
    "\n",
    "\n",
    "sns.lineplot(x = x, y = y2, ax=ax2, linestyle='--')\n",
    "sns.despine()\n",
    "\n"
   ]
  },
  {
   "cell_type": "code",
   "execution_count": null,
   "id": "21862baa-538f-4b34-81f9-ebe90329790e",
   "metadata": {},
   "outputs": [],
   "source": [
    "%matplotlib inline\n",
    "\n",
    "import numpy as np\n",
    "import scipy.stats as stats\n",
    "import pandas as pd\n",
    "import seaborn as sns\n",
    "\n",
    "\n",
    "mu = 5\n",
    "\n",
    "variance = 1\n",
    "sigma = np.sqrt(variance)\n",
    "x = np.linspace(1, 10, 100)\n",
    "y1 = stats.norm.pdf(x, mu, 1)\n",
    "\n",
    "variance = 2\n",
    "sigma = np.sqrt(variance)\n",
    "y2 = stats.norm.pdf(x, mu, 2)\n",
    "\n",
    "\n",
    "fig = sns.lineplot(x = x, y = y1)\n",
    "\n",
    "ax2=fig.twiny()\n",
    "ax2.tick_params(left=False, labelleft=False, top=False, labeltop=False,\n",
    "                   right=False, labelright=False, bottom=False, labelbottom=False)\n",
    "\n",
    "\n",
    "\n",
    "sns.lineplot(x = x, y = y2, ax=ax2, linestyle='--')\n",
    "sns.despine()\n",
    "\n"
   ]
  },
  {
   "cell_type": "markdown",
   "id": "172c4087-16ca-4c9c-b415-2dec1a38b891",
   "metadata": {},
   "source": [
    "Una característica importante de la distribución normal: Independientemente de cuál sea la media real y la desviación estándar, el 68,3 % del área se encuentra dentro de 1 desviación estándar de la media. De manera similar, el 95,4 % de la distribución se encuentra dentro de las 2 desviaciones estándar de la media y el 99,7 % de la distribución se encuentra dentro de las 3 desviaciones estándar. "
   ]
  },
  {
   "cell_type": "code",
   "execution_count": null,
   "id": "b02c67c5-d24d-4fea-93a2-6084a7d828eb",
   "metadata": {},
   "outputs": [],
   "source": [
    "import numpy as np\n",
    "import scipy.stats as stats\n",
    "import seaborn as sns\n",
    "\n",
    "fig, axes = plt.subplots(1, 2, figsize=(15, 5), sharey=False)\n",
    "\n",
    "mu = 0\n",
    "variance = 1\n",
    "sigma = np.sqrt(variance)\n",
    "x = np.linspace(mu - 3*sigma, mu + 3*sigma, 100)\n",
    "sns.lineplot(x = x, y = stats.norm.pdf(x, mu, sigma), ax=axes[0])\n",
    "\n",
    "\n",
    "sns.lineplot(x = x, y = stats.norm.pdf(x, mu, sigma), ax=axes[1])\n",
    "\n",
    "\n",
    "x_fill1 = np.arange(-1, 1, 0.001)\n",
    "x_fill2 = np.arange(-2, 2, 0.001)\n",
    "\n",
    "y_fill1 = stats.norm.pdf(x_fill1,0,1)\n",
    "y_fill2 = stats.norm.pdf(x_fill2,0,1)\n",
    "\n",
    "axes[0].fill_between(x_fill1,y_fill1,0, alpha=0.2, color='blue')\n",
    "axes[1].fill_between(x_fill2,y_fill2,0, alpha=0.2, color='blue')\n",
    "\n",
    "axes[0].set_title(\"Shaded Area = 68.3%\")\n",
    "axes[1].set_title(\"Shaded Area = 95.4%\")\n",
    "\n",
    "axes[0].set(xlabel='Observed value', ylabel='Probability density')\n",
    "axes[1].set(xlabel='Observed value', ylabel='Probability density')\n",
    "\n",
    "sns.despine()\n",
    "\n"
   ]
  },
  {
   "cell_type": "code",
   "execution_count": null,
   "id": "471fa105-a424-485e-ac19-40daa799f781",
   "metadata": {},
   "outputs": [],
   "source": [
    "\n",
    "import numpy as np\n",
    "import scipy.stats as stats\n",
    "import seaborn as sns\n",
    "\n",
    "fig, axes = plt.subplots(1, 2, figsize=(15, 5), sharey=False)\n",
    "\n",
    "mu = 0\n",
    "variance = 1\n",
    "sigma = np.sqrt(variance)\n",
    "x = np.linspace(mu - 3*sigma, mu + 3*sigma, 100)\n",
    "sns.lineplot(x = x, y = stats.norm.pdf(x, mu, sigma), ax=axes[0])\n",
    "\n",
    "\n",
    "sns.lineplot(x = x, y = stats.norm.pdf(x, mu, sigma), ax=axes[1])\n",
    "\n",
    "\n",
    "x_fill1 = np.arange(-4, -1, 0.001)\n",
    "x_fill2 = np.arange(-1, 0, 0.001)\n",
    "\n",
    "y_fill1 = stats.norm.pdf(x_fill1,0,1)\n",
    "y_fill2 = stats.norm.pdf(x_fill2,0,1)\n",
    "\n",
    "axes[0].fill_between(x_fill1,y_fill1,0, alpha=0.2, color='blue')\n",
    "axes[1].fill_between(x_fill2,y_fill2,0, alpha=0.2, color='blue')\n",
    "\n",
    "axes[0].set_title(\"Shaded Area = 15.9%\")\n",
    "axes[1].set_title(\"Shaded Area = 34.1%\")\n",
    "\n",
    "axes[0].set(xlabel='Observed value', ylabel='Probability density')\n",
    "axes[1].set(xlabel='Observed value', ylabel='Probability density')\n",
    "\n",
    "sns.despine()\n"
   ]
  },
  {
   "cell_type": "markdown",
   "id": "fb5c8bd0-2060-4604-9336-b42fa4bfd719",
   "metadata": {
    "tags": []
   },
   "source": [
    "## 2. Datos Mineduc: rendimiento educacion básica y media 2021\n",
    "Lea el dataset"
   ]
  },
  {
   "cell_type": "code",
   "execution_count": null,
   "id": "dddd65b7-7bb8-4daf-8329-a16e5ae5957d",
   "metadata": {},
   "outputs": [],
   "source": [
    "df_est = pd.read_csv(\"https://raw.githubusercontent.com/vmlandae/datasets_eds/main/clase5/rendimiento_2021_8va.csv\")"
   ]
  },
  {
   "cell_type": "markdown",
   "id": "3389a331-fae1-4772-86af-930f9dea9fb4",
   "metadata": {},
   "source": [
    "Este dataset es un subconjunto de datos a nivel nacional del año 2021 facilitados por el mineduc en su página de datos abiertos, donde reportan el rendimiento por alumno de enseñanza básica y media, el cual fue filtrado para solo contener los estudiantes que se encontraban matriculados en instituciones de la Región del Bío Bío. Como podrás notar, la carga de datos se toma su tiempo, pues aun cuando está para solo una región, siguen siendo una gran cantidad de datos. La [documentación](https://github.com/vmlandae/datasets_eds/blob/main/clase5/ER%20Rendimiento%20por%20alumno%2C%20bases%20Web.pdf) nos permite revisar que es cada variable, pues no todas son tan intuitivas. "
   ]
  },
  {
   "cell_type": "markdown",
   "id": "20131749-4879-4591-a3a3-34688f61f2bc",
   "metadata": {},
   "source": [
    "\n",
    "Usa el atributo `.shape` del dataframe para saber cuantos casos hay en `df_est`, y cuantas variables tenemos. ¿Qué porcentaje del número de estudiantes de chile de básica y media del año 2021 son los estudiantes de la octava región?"
   ]
  },
  {
   "cell_type": "code",
   "execution_count": null,
   "id": "25d6dc50-7284-42de-b108-418a2aa0ca76",
   "metadata": {},
   "outputs": [],
   "source": []
  },
  {
   "cell_type": "markdown",
   "id": "7f97a313-bba5-41fb-a641-dad501b4036f",
   "metadata": {},
   "source": [
    "Ahora, usando la variable `COD_ENSE2` vamos a filtrar a solo los alumnos que sean de educación media humanista científica en Jóvenes y en Adultos (es decir, valores 5 y 6 de la variable), asignándolo a un nuevo dataframe llamado `df_hc`. "
   ]
  },
  {
   "cell_type": "code",
   "execution_count": null,
   "id": "95b5526e-8e83-47be-840f-04b61c02def0",
   "metadata": {},
   "outputs": [],
   "source": [
    "# Manera algo más larga\n",
    "df_hc = df_est.loc[(df_est['COD_ENSE2'] == 5) | (df_est['COD_ENSE2'] == 6)]\n",
    "df_hc"
   ]
  },
  {
   "cell_type": "code",
   "execution_count": null,
   "id": "986f626f-0c74-464b-9f6f-70b7e8ccda62",
   "metadata": {},
   "outputs": [],
   "source": []
  },
  {
   "cell_type": "code",
   "execution_count": null,
   "id": "83bd1d8c-13f4-4c5f-a052-147e69b490e3",
   "metadata": {},
   "outputs": [],
   "source": [
    "# Smart Way\n",
    "df_hc = df_est.loc[df_est['COD_ENSE2'].isin([5,6])]\n",
    "df_hc"
   ]
  },
  {
   "cell_type": "markdown",
   "id": "6940cc3a-394a-4f86-82ee-269e92b2ab19",
   "metadata": {},
   "source": []
  },
  {
   "cell_type": "code",
   "execution_count": null,
   "id": "6e1714a3-930d-4e1e-8d1b-45c4bbbe6cf4",
   "metadata": {},
   "outputs": [],
   "source": [
    "df_hc.PROM_GRAL.hist()\n"
   ]
  },
  {
   "cell_type": "code",
   "execution_count": null,
   "id": "3fa51d72-49ad-4661-93e5-006ff52e7420",
   "metadata": {},
   "outputs": [],
   "source": []
  }
 ],
 "metadata": {
  "kernelspec": {
   "display_name": "Python 3 (ipykernel)",
   "language": "python",
   "name": "python3"
  },
  "language_info": {
   "codemirror_mode": {
    "name": "ipython",
    "version": 3
   },
   "file_extension": ".py",
   "mimetype": "text/x-python",
   "name": "python",
   "nbconvert_exporter": "python",
   "pygments_lexer": "ipython3",
   "version": "3.9.12"
  }
 },
 "nbformat": 4,
 "nbformat_minor": 5
}
