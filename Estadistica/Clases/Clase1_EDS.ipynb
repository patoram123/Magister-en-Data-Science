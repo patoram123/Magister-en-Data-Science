{
  "cells": [
    {
      "cell_type": "markdown",
      "source": [
        "# Estadística para Data Science: Análisis Exploratorio de Datos.\n",
        "\n",
        "\n",
        "\n"
      ],
      "metadata": {
        "id": "M7HmPxtPYwnE"
      }
    },
    {
      "cell_type": "markdown",
      "source": [
        "## Python como calculadora: Números\n",
        "Podemos usar python como calculadora, ejecutando una línea de código con una expresión aritmética. La sintaxis es simple: los operadores más típicos son +, -, * y / ; y los paréntesis ( ) se pueden usar para agrupar expresiones. Por ejemplo: \n"
      ],
      "metadata": {
        "id": "Xu4Bj37O0tQM"
      }
    },
    {
      "cell_type": "code",
      "source": [
        "(5 + 2*4)/2 - (6+3)*1.5"
      ],
      "metadata": {
        "id": "QwbnpYO17gKg"
      },
      "execution_count": null,
      "outputs": []
    },
    {
      "cell_type": "markdown",
      "source": [
        "El signo igual (=) se usa para asignar un valor a una variable. "
      ],
      "metadata": {
        "id": "1vXmq1Q_OoT7"
      }
    },
    {
      "cell_type": "code",
      "source": [
        "# OJO, python distingue MAYÚSCULAS y minúsculas\n",
        "porcentaje_IVA = 0.19 \n",
        "monto_neto = 8000\n"
      ],
      "metadata": {
        "id": "XKH_NdDROoA8"
      },
      "execution_count": null,
      "outputs": []
    },
    {
      "cell_type": "markdown",
      "source": [
        "Podemos ocupar estas variables para calcular y combinar expresiones."
      ],
      "metadata": {
        "id": "KwHChUXFQOKw"
      }
    },
    {
      "cell_type": "code",
      "source": [
        "monto_total = monto_neto + monto_neto * porcentaje_IVA \n",
        "print(monto_total)"
      ],
      "metadata": {
        "id": "g8WVBXIHOmfF"
      },
      "execution_count": null,
      "outputs": []
    },
    {
      "cell_type": "markdown",
      "source": [
        "## Medidas de posición o localización\n",
        "Una variable en una muestra o a nivel poblacional pueden tener muchos valores distintos. Un primer paso, fundamental para explorar un set de datos es obtener un \"valor típico\" para cada cada variable, es decir, una estimación (para una muestra) o un cálculo (para una población) de una tendencia central.\n",
        "\n"
      ],
      "metadata": {
        "id": "VgWNcpcXW3nM"
      }
    },
    {
      "cell_type": "markdown",
      "metadata": {
        "id": "-k5sFi7GRVej"
      },
      "source": [
        "### Media aritmética\n",
        "La estimación más típica es el valor medio o promedio (*mean* o *average* en inglés), y en términos simples es la suma de todos los valores dividida por el número de valores. La media muestral está dada por\n",
        "\n",
        "$$\\bar{x} = \\frac{1}{n}\\sum_{i=1}^n  x_i$$"
      ]
    },
    {
      "cell_type": "markdown",
      "source": [
        "Supongamos que lanzamos un dado diez veces y obtenemos los siguientes resultados: {1, 2, 6, 6, 1, 3, 5, 4, 3, 3}\n",
        "\n",
        "Para calcular su media en python, tenemos varios caminos."
      ],
      "metadata": {
        "id": "JiFQDbM0EmAy"
      }
    },
    {
      "cell_type": "code",
      "source": [
        "# fuerza bruta: el más evidente pero menos eficiente y menos escalable\n",
        "\n",
        "(1+ 2+ 6+ 6+ 1+ 3+ 5+ 4+ 3+ 3)/10\n"
      ],
      "metadata": {
        "id": "44uzxTZJEg0J"
      },
      "execution_count": null,
      "outputs": []
    },
    {
      "cell_type": "markdown",
      "source": [
        "Un primer nivel de sofisticación: Declarando una variable `a` que almacene los resultados, y ocupando algunas funciones básicas de python."
      ],
      "metadata": {
        "id": "cLaNbKVv-Z1F"
      }
    },
    {
      "cell_type": "code",
      "source": [
        "resultados = [1, 2, 6, 6, 1, 3, 5, 4, 3, 3]\n",
        "print(sum(resultados))\n",
        "print(len(resultados))\n",
        "print(sum(resultados)/len(resultados))"
      ],
      "metadata": {
        "id": "HxcZPMUK7P-H"
      },
      "execution_count": null,
      "outputs": []
    },
    {
      "cell_type": "markdown",
      "source": [
        "Vamos a importar una primera librería, llamada numpy, para poder hacer un cálculo más simple y generalizable del promedio."
      ],
      "metadata": {
        "id": "zpw55i1cA84N"
      }
    },
    {
      "cell_type": "code",
      "source": [
        "import numpy as np"
      ],
      "outputs": [],
      "metadata": {
        "id": "v9n6h0xX_JNm"
      },
      "execution_count": null
    },
    {
      "cell_type": "markdown",
      "source": [
        "Luego, definimos una variable como un arreglo de numpy con los resultados de los lanzamientos"
      ],
      "metadata": {
        "id": "cc9yD8Dx_JNm"
      }
    },
    {
      "cell_type": "code",
      "source": [
        "r_np = np.array([1, 2, 6, 6, 1, 3, 5, 4, 3, 3])\n",
        "print(r_np)\n",
        "print(r_np.sum()) # ocupando el método suma de numpy\n",
        "print(r_np.size) # size es un atributo, por eso no lleva paréntesis\n",
        "print(r_np.sum()/r_np.size) \n",
        "print(r_np.mean()) # en numpy existe un método mean que calcula directamente el promedio"
      ],
      "outputs": [],
      "metadata": {
        "id": "yyd8jJJ9_JNn"
      },
      "execution_count": null
    },
    {
      "cell_type": "markdown",
      "source": [
        "Vamos ahora a leer un primer dataframe, que es el set de datos que vimos en el powerpoint sobre la muestra de préstamos. Para ello, importaremos la librería pandas, y luego cargaremos este dataset, que está en un archivo csv almacenado en el github del profesor."
      ],
      "metadata": {
        "id": "-6vx2yloHsy-"
      }
    },
    {
      "cell_type": "code",
      "source": [
        "import pandas as pd\n",
        "loan50 = pd.read_csv('https://raw.githubusercontent.com/vmlandae/datasets_eds/main/clase2/loan50.csv')\n",
        "\n"
      ],
      "metadata": {
        "id": "-yVmCpezHsHW"
      },
      "execution_count": null,
      "outputs": []
    },
    {
      "cell_type": "markdown",
      "source": [
        "Corramos una  primera visualización del dataset completo"
      ],
      "metadata": {
        "id": "eFzNPehze_9s"
      }
    },
    {
      "cell_type": "code",
      "source": [
        "loan50"
      ],
      "metadata": {
        "id": "hX3bCn92e-td"
      },
      "execution_count": null,
      "outputs": []
    },
    {
      "cell_type": "markdown",
      "source": [
        "En pandas existen muchos métodos y atributos, revisemos rápidamente algunos"
      ],
      "metadata": {
        "id": "pw-nwEjzMyxu"
      }
    },
    {
      "cell_type": "code",
      "execution_count": null,
      "metadata": {
        "id": "C4Twl8JlRVej"
      },
      "outputs": [],
      "source": [
        "loan50.columns # atributo que indica las columnas que posee el data frame"
      ]
    },
    {
      "cell_type": "code",
      "source": [
        "loan50.shape # atributo que indica las cantidad de filas y columnas del data frame"
      ],
      "metadata": {
        "id": "PM0j4XkyOCBn"
      },
      "execution_count": null,
      "outputs": []
    },
    {
      "cell_type": "code",
      "source": [
        "loan50.head(3) \n",
        "# Método que muestra las primeras filas del data frame,\n",
        "# donde el primer argumento es un número que indica la cantidad de filas,\n",
        "# en este caso tres."
      ],
      "metadata": {
        "id": "kXeCDNS1WwiP"
      },
      "execution_count": null,
      "outputs": []
    },
    {
      "cell_type": "markdown",
      "source": [
        "Las columnas de un data frame de pandas son Series. \n",
        "Para seleccionar una columna, podemos hacerlo de varias formas"
      ],
      "metadata": {
        "id": "rl7mRd7Ghe2o"
      }
    },
    {
      "cell_type": "code",
      "source": [
        "\n",
        "type(loan50.interest_rate) # Forma 1: dataframe.column\n"
      ],
      "metadata": {
        "id": "Z95RWCSSPA2K"
      },
      "execution_count": null,
      "outputs": []
    },
    {
      "cell_type": "code",
      "source": [
        "type(loan50[\"interest_rate\"]) # Forma 2: brackets cuadrados con el nombre de la columna requerida"
      ],
      "metadata": {
        "id": "HJVAW6x2ha4l"
      },
      "execution_count": null,
      "outputs": []
    },
    {
      "cell_type": "markdown",
      "source": [
        "Para hacer un subconjunto (subset) de un dataframe seleccionando columnas (variables), ocupamos los brackets cuadrados, ingresando una lista de columnas"
      ],
      "metadata": {
        "id": "jNbjm-pvifRe"
      }
    },
    {
      "cell_type": "code",
      "source": [
        "amount_income_homeownership = loan50[[\"loan_amount\",\"total_income\", \"homeownership\"]]\n",
        "amount_income_homeownership.head()"
      ],
      "metadata": {
        "id": "Zlo4mQk_m2p5"
      },
      "execution_count": null,
      "outputs": []
    },
    {
      "cell_type": "markdown",
      "source": [
        "y/o filas (observaciones)"
      ],
      "metadata": {
        "id": "10dF1WLrniA0"
      }
    },
    {
      "cell_type": "code",
      "source": [
        "aih_over30K = amount_income_homeownership[amount_income_homeownership['loan_amount']>30000]\n",
        "aih_over30K"
      ],
      "metadata": {
        "id": "9jpJSIWfoeKN"
      },
      "execution_count": null,
      "outputs": []
    },
    {
      "cell_type": "markdown",
      "source": [
        "Podemos usar el método `loc` e `iloc` para filtrar un data frame por  filas (y/o columnas) con `labels` particulares para `loc` y con `locations` para `iloc`"
      ],
      "metadata": {
        "id": "uktmNM5yNRl7"
      }
    },
    {
      "cell_type": "code",
      "source": [
        "aih_over30K.loc[[21,28]]"
      ],
      "metadata": {
        "id": "QasqxKaINTLm"
      },
      "execution_count": null,
      "outputs": []
    },
    {
      "cell_type": "code",
      "source": [
        "aih_over30K.iloc[[0,1]]"
      ],
      "metadata": {
        "id": "YFxTPEiIOlZ1"
      },
      "execution_count": null,
      "outputs": []
    },
    {
      "cell_type": "code",
      "source": [
        "# Se puede usar también la siguiente notación\n",
        "aih_over30K.iloc[:,1] # para seleccionar todas las filas (:) \n",
        "#y la columna 1 (es decir la segunda columna, ya que python parte contando desde cero)"
      ],
      "metadata": {
        "id": "_F-LaUtZOXIM"
      },
      "execution_count": null,
      "outputs": []
    },
    {
      "cell_type": "code",
      "source": [
        "# también para la notación inversa.\n",
        "aih_over30K.iloc[0,:] # para selecc la fila 0 y todas las columnas (:) \n"
      ],
      "metadata": {
        "id": "v46YkLFkOtx1"
      },
      "execution_count": null,
      "outputs": []
    },
    {
      "cell_type": "code",
      "source": [
        "aih_over30K.iloc[[0,1,2,3,4],:] # para sacar la última fila "
      ],
      "metadata": {
        "id": "MxnlPxuVQ2Ua"
      },
      "execution_count": null,
      "outputs": []
    },
    {
      "cell_type": "markdown",
      "source": [
        "Podemos calcular el promedio de la tasa de interés usando el método `mean`"
      ],
      "metadata": {
        "id": "qZIjPqcSm3wS"
      }
    },
    {
      "cell_type": "code",
      "source": [
        "loan50.interest_rate.mean() # "
      ],
      "metadata": {
        "id": "_7Mki9Tje28m"
      },
      "execution_count": null,
      "outputs": []
    },
    {
      "cell_type": "markdown",
      "source": [
        "## Mediana"
      ],
      "metadata": {
        "id": "XYXnEZg3GH-d"
      }
    },
    {
      "cell_type": "code",
      "source": [
        "amount_income_homeownership.loan_amount.median()"
      ],
      "metadata": {
        "id": "g9SVeNZ4PFCZ"
      },
      "execution_count": null,
      "outputs": []
    },
    {
      "cell_type": "markdown",
      "source": [
        "## Media y Varianza poblacional y muestral\n",
        "\n",
        "N = población total\n",
        "\n",
        "n = población de la muestra\n",
        "\n",
        "Media poblacional (parametro) :\n",
        "$$\n",
        "\\mu = \\frac{\\displaystyle\\sum_{i=1}^{N} x^2} {N}\n",
        "$$\n",
        "\n",
        "Media muestral (estadígrafo/estadístico):\n",
        "$$\n",
        "{\\bar x} = \\frac{\\displaystyle\\sum_{i=1}^{n} x_i} {n}\n",
        "$$\n",
        "\n",
        "Varianza poblacional (parametro):\n",
        "$$\n",
        "\\sigma^2 = \\frac{\\displaystyle\\sum_{i=1}^{N} (x_i - \\mu)^2} {N}\n",
        "$$\n",
        "\n",
        "Estimador de varianza muestral (estadígrafo):\n",
        "$$\n",
        "s^2_n =  \\frac{\\displaystyle\\sum_{i=1}^{n} (x_i - {\\bar x})^2} {n}\n",
        "$$\n",
        "\n",
        "Estimador insesgado de varianza muestral:\n",
        "$$\n",
        "s^2 = s^2_{n-1} = \\frac{\\displaystyle\\sum_{i=1}^{n} (x_i - {\\bar x})^2} {n-1}\n",
        "$$\n",
        "\n",
        "En pandas, el método para calcular la varianza por default lo hace dividiendo por $n-1$. No entraremos (por ahora al menos) en el detalle de por qué este estimador es insesgado, pero si tendremos en cuenta que mientras más grande sea nuestro $n$, la diferencia entre dividir por $n$ o $n-1$ tiene un efecto cada vez más pequeño, que en la gran mayoría de los casos que veremos será irrelevante."
      ],
      "metadata": {
        "id": "Xrk1eaWUrhCN"
      }
    },
    {
      "cell_type": "code",
      "source": [
        "# Varianza insesgada\n",
        "loan50.interest_rate.var()\n",
        "# ¿Cómo podríamos corroborar que estamos dividiendo por n-1 en vez de por n, usando otros métodos?\n"
      ],
      "metadata": {
        "id": "OOWjd_tiGsxA"
      },
      "execution_count": null,
      "outputs": []
    },
    {
      "cell_type": "markdown",
      "source": [
        "## Desviación estándar\n",
        "\n"
      ],
      "metadata": {
        "id": "5ZW0MSqtiUAW"
      }
    },
    {
      "cell_type": "code",
      "source": [
        "loan50.interest_rate.std()"
      ],
      "metadata": {
        "id": "JitSqsbiyzY9"
      },
      "execution_count": null,
      "outputs": []
    },
    {
      "cell_type": "code",
      "source": [
        "%matplotlib inline\n",
        "\n",
        "from pathlib import Path\n",
        "\n",
        "import pandas as pd\n",
        "import numpy as np\n",
        "\n",
        "\n",
        "import seaborn as sns\n",
        "import matplotlib.pylab as plt"
      ],
      "metadata": {
        "id": "f62S-ks3ppwo"
      },
      "execution_count": null,
      "outputs": []
    },
    {
      "cell_type": "markdown",
      "source": [
        "\n",
        "Para leer un archivo csv, ocuparemos la librería Pandas. Esta librería va a ir apareciendo a lo largo de este curso y del curso de programación en python. \n",
        "Este archivo podríamos descargarlo y leerlo de manera local, y también existe la posibilidad de leerlo online. \n",
        "Ahora, ejecutemos el siguiente trozo de código para leer un primer dataset simple, que está almacenado en mi github.\n",
        "\n"
      ],
      "metadata": {
        "id": "24r1q_U35os2"
      }
    },
    {
      "cell_type": "code",
      "source": [
        "\n",
        "state = pd.read_csv('https://raw.githubusercontent.com/vmlandae/datasets_eds/main/clase1/state_modificado.csv')\n",
        "print(state.head(8))\n",
        "\n"
      ],
      "metadata": {
        "id": "wNDfoZ0FEYnR"
      },
      "execution_count": null,
      "outputs": []
    },
    {
      "cell_type": "markdown",
      "source": [
        "\n",
        "## Dataset state\n",
        "\n",
        "\n",
        "\n"
      ],
      "metadata": {
        "id": "nQeIb-OqD6nk"
      }
    },
    {
      "cell_type": "markdown",
      "source": [
        "Vemos que el archivo no se está leyendo correctamente. ¿Por qué será?"
      ],
      "metadata": {
        "id": "yZig6qbAFVmL"
      }
    },
    {
      "cell_type": "code",
      "source": [
        "state = pd.read_csv('https://raw.githubusercontent.com/vmlandae/datasets_eds/main/clase1/state_modificado.csv', sep=\";\")\n",
        "print(state.head(8))"
      ],
      "metadata": {
        "id": "huxtT4UnFaF-"
      },
      "execution_count": null,
      "outputs": []
    },
    {
      "cell_type": "markdown",
      "source": [
        "Calcular la media y la mediana para la columna **habitantes** usando un método de pandas."
      ],
      "metadata": {
        "id": "rFURvE0aEkOK"
      }
    },
    {
      "cell_type": "code",
      "source": [
        "\n",
        "\n",
        "print(state['habitantes'].mean())\n",
        "\n"
      ],
      "metadata": {
        "id": "ubek1hIfEpXR"
      },
      "execution_count": null,
      "outputs": []
    },
    {
      "cell_type": "code",
      "execution_count": null,
      "metadata": {
        "id": "gd6nN8GK0z95"
      },
      "outputs": [],
      "source": [
        "print(state['habitantes'].median())"
      ]
    },
    {
      "cell_type": "markdown",
      "source": [
        "¿De qué otras formas, con qué otras herramientas podríamos calcular estas medidas?\n"
      ],
      "metadata": {
        "id": "KxdpiwofQePs"
      }
    },
    {
      "cell_type": "markdown",
      "source": [
        "## Estimaciones de variabilidad\n",
        "\n",
        "Desviación estándar"
      ],
      "metadata": {
        "id": "GvVlgbiUIATa"
      }
    },
    {
      "cell_type": "code",
      "source": [
        "print(state['habitantes'].std())"
      ],
      "metadata": {
        "id": "A0DkPJ6lIRhE"
      },
      "execution_count": null,
      "outputs": []
    },
    {
      "cell_type": "markdown",
      "source": [
        "El rango intercuartil"
      ],
      "metadata": {
        "id": "QP6CwKmgIYNk"
      }
    },
    {
      "cell_type": "code",
      "source": [
        "q1 = state.habitantes.quantile(0.25)\n",
        "q3 = state.habitantes.quantile(0.75)\n",
        "IQR= q3 - q1\n",
        "print(IQR)"
      ],
      "metadata": {
        "id": "r7EEj7vinG4c"
      },
      "execution_count": null,
      "outputs": []
    },
    {
      "cell_type": "markdown",
      "source": [
        "Varianza"
      ],
      "metadata": {
        "id": "uEtz9EBTnKjI"
      }
    },
    {
      "cell_type": "code",
      "source": [
        "print(state['habitantes'].std())"
      ],
      "metadata": {
        "id": "Ha9r8VwiS7NJ"
      },
      "execution_count": null,
      "outputs": []
    },
    {
      "cell_type": "markdown",
      "metadata": {
        "id": "qguRUioDsupO"
      },
      "source": [
        "## Histograma"
      ]
    },
    {
      "cell_type": "markdown",
      "source": [
        "Vamos a leer un nuevo dataset que tiene como temática la calidad de distintos vinos tintos de la region de Minho en Portugal. Para más información sobre este dataset, ir [acá](https://data.world/uci/wine-quality).\n"
      ],
      "metadata": {
        "id": "Ww-W9RKtTxMB"
      }
    },
    {
      "cell_type": "code",
      "source": [
        ""
      ],
      "metadata": {
        "id": "D0DUxjpWTw0B"
      },
      "execution_count": null,
      "outputs": []
    },
    {
      "cell_type": "code",
      "execution_count": null,
      "metadata": {
        "id": "tv6iHJ3EsupO"
      },
      "outputs": [],
      "source": [
        "# Leyendo el dataset e inspeccionando dimensiones y el nombre de las columnas\n",
        "df = pd.read_csv('https://raw.githubusercontent.com/vmlandae/datasets_eds/main/clase2/winequality-red.csv', sep=';')\n",
        "print(df.shape)\n",
        "print(df.columns)"
      ]
    },
    {
      "cell_type": "code",
      "source": [
        "# Crear Histograma\n",
        "# primero creamos los bins, para poder especificarlos\n",
        "bin_edges = np.arange(0, df['residual sugar'].max() + 1, 1) \n",
        "# esto crea un arreglo desde el 0 (argumento 1),\n",
        "# hasta el máximo de azúcar residual más uno (argumento 2, el máximo es 15 luego el último bin tiene el borde en 16),\n",
        "# de ancho 1 (argumento 3) \n",
        "print(bin_edges)\n",
        "\n"
      ],
      "metadata": {
        "id": "BB6JGqWmTNoJ"
      },
      "execution_count": null,
      "outputs": []
    },
    {
      "cell_type": "code",
      "source": [
        "fig = plt.hist(df['residual sugar'], bins=bin_edges)\n",
        "\n",
        "# Añadir labels\n",
        "plt.xlabel('count')\n",
        "plt.ylabel('residual sugar')\n",
        "plt.show()"
      ],
      "metadata": {
        "id": "p8ko5dpRUhMT"
      },
      "execution_count": null,
      "outputs": []
    },
    {
      "cell_type": "markdown",
      "metadata": {
        "id": "-TipKW41supP"
      },
      "source": [
        "## Scatterplot"
      ]
    },
    {
      "cell_type": "markdown",
      "source": [
        "Hagamos un scatterplot que muestre el azúcar residual versus el pH de cada vino"
      ],
      "metadata": {
        "id": "kHvmCvA_PJwf"
      }
    },
    {
      "cell_type": "code",
      "execution_count": null,
      "metadata": {
        "id": "ka5tcwCbsupP"
      },
      "outputs": [],
      "source": [
        "# Crear scatterplot\n",
        "fig = plt.scatter(df['pH'], df['residual sugar'])\n",
        "\n",
        "# Añadir labels\n",
        "plt.xlabel('pH')\n",
        "plt.ylabel('residual sugar')\n",
        "# Para mostrar el scatterplot\n",
        "plt.show()"
      ]
    },
    {
      "cell_type": "markdown",
      "metadata": {
        "id": "CbcQxowZsupQ"
      },
      "source": [
        "## Scatterplot Matrix\n",
        "\n",
        "Con esto podemos hacer un set de figuras de histogramas y scatterplots entre variables."
      ]
    },
    {
      "cell_type": "code",
      "execution_count": null,
      "metadata": {
        "id": "Mb_yrxptsupQ"
      },
      "outputs": [],
      "source": [
        "df.columns"
      ]
    },
    {
      "cell_type": "code",
      "execution_count": null,
      "metadata": {
        "id": "GN0-cTk4supR"
      },
      "outputs": [],
      "source": [
        "\n",
        "fig = sns.pairplot(data=df[['alcohol', 'pH', 'residual sugar', 'quality']], \n",
        "                   hue='quality')\n",
        "\n",
        "plt.xlabel('pH')\n",
        "plt.ylabel('residual sugar')\n",
        "plt.show()"
      ]
    },
    {
      "cell_type": "markdown",
      "metadata": {
        "id": "UrJ5y2ensupT"
      },
      "source": [
        "## Boxplots"
      ]
    },
    {
      "cell_type": "markdown",
      "metadata": {
        "id": "JipBD1JmsupV"
      },
      "source": [
        "usando matplotlib.pyplot.boxplot:"
      ]
    },
    {
      "cell_type": "code",
      "execution_count": null,
      "metadata": {
        "id": "4XcMNKLksupV"
      },
      "outputs": [],
      "source": [
        "plt.boxplot(df['alcohol']) #boxplot de la variable alcohol\n",
        "\n",
        "plt.ylim([8, 16]) # esto fija los límites de los ejes\n",
        "plt.ylabel('alcohol') # label para el eje y\n",
        "\n",
        "fig = plt.gca()\n",
        "fig.axes.get_xaxis().set_ticks([]) # esto es para borrar los ticks en el eje x\n",
        "plt.show()"
      ]
    },
    {
      "cell_type": "markdown",
      "metadata": {
        "id": "gX0OmgRPsupW"
      },
      "source": [
        "## Violin Plots"
      ]
    },
    {
      "cell_type": "code",
      "execution_count": null,
      "metadata": {
        "id": "y_D7qdiNsupW"
      },
      "outputs": [],
      "source": [
        "plt.violinplot(df['alcohol'], [0], \n",
        "               points=100, \n",
        "               bw_method='scott',\n",
        "               showmeans=False, \n",
        "               showextrema=True, \n",
        "               showmedians=True)\n",
        "\n",
        "plt.ylim([8, 16])\n",
        "plt.ylabel('alcohol')\n",
        "fig = plt.gca()\n",
        "fig.axes.get_xaxis().set_ticks([])\n",
        "plt.show()"
      ]
    }
  ],
  "metadata": {
    "anaconda-cloud": {},
    "interpreter": {
      "hash": "69575828cb6843671f1fbd35205ea39ab5da82abdb5aaa4593f383202e73f90b"
    },
    "kernelspec": {
      "display_name": "Python 3.8.10 64-bit ('mobility': conda)",
      "name": "python3"
    },
    "language_info": {
      "codemirror_mode": {
        "name": "ipython",
        "version": 3
      },
      "file_extension": ".py",
      "mimetype": "text/x-python",
      "name": "python",
      "nbconvert_exporter": "python",
      "pygments_lexer": "ipython3",
      "version": "3.8.12"
    },
    "colab": {
      "name": " Clase1_EDS.ipynb",
      "provenance": []
    }
  },
  "nbformat": 4,
  "nbformat_minor": 0
}