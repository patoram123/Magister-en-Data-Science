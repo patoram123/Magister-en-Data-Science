{
 "cells": [
  {
   "cell_type": "markdown",
   "id": "a0ed3c6e-2942-4c8c-9b13-d6026bfe56ad",
   "metadata": {},
   "source": [
    "# Estadística para Data Science: Cuaderno clase 7"
   ]
  },
  {
   "cell_type": "code",
   "execution_count": 2,
   "id": "e024cfe2-e20b-439e-9b46-031ccd96a689",
   "metadata": {},
   "outputs": [],
   "source": [
    "# Importando librerías\n",
    "\n",
    "import pandas as pd\n",
    "import matplotlib.pyplot as plt\n",
    "%matplotlib inline\n",
    "import numpy as np\n",
    "import scipy.stats as stats\n",
    "import seaborn as sns\n"
   ]
  },
  {
   "cell_type": "markdown",
   "id": "4d5578aa-7c60-4384-a691-656551666c95",
   "metadata": {},
   "source": [
    "# Retomando la última clase, Inferencia sobre una proporción: Intervalo de confianza Y Teorema Central del Límite\n",
    "\n",
    "\n"
   ]
  },
  {
   "cell_type": "markdown",
   "id": "e86b13a1-76c5-4211-ad70-4d8e82aab9ab",
   "metadata": {
    "tags": []
   },
   "source": [
    "## Recordemos: \n",
    "\n",
    "* Inferencia: Usar datos y razonamiento sobre la muestra para decir cosas sobre la población.\n",
    "* Población: El conjunto completo de sujetos de interés\n",
    "* Parámetro: Una métrica de la población.\n",
    "* Muestra: Un subconjunto de la población.\n",
    "* Estadístico de la muestra: una métrica de la muestra\n",
    "* Estimador:  Un estadístico usado para estimar un parámetro desconocido de la población.\n",
    "* Distribución de Muestreo de un estadístico: La distribución de frecuencias de un estadístico de la muestra, sobre *muchas* muestras del mismo tamaño, tomadas aleatoriamente desde una población.\n",
    "* Teorema Central del Límite:  La tendencia de una distribución de muestreo a acercarse a una distribución normal en la medida que el tamaño de la muestra $n$ aumenta. \n",
    "* Error estándar: La desviación estándar de un estadístico de la muestra en una distribución de muestreo."
   ]
  },
  {
   "cell_type": "markdown",
   "id": "adb8f2d5-65bb-4141-9b56-642b7a6bd415",
   "metadata": {},
   "source": [
    "### Construyendo un intervalo de confianza del 95%\n",
    "\n",
    "Nuestra proporción de la muestra $\\hat{p}$ es el valor más plausible de la proporción de la población, por lo que tiene sentido construir un intervalo de confianza en torno a este estimador puntual. El error estándar provee una guía para cuán grande debiésemos hacer el intervalo de confianza.\n",
    "El error estándar representa la desviación estándar del estimador puntual y cuando se satisfacen las condiciones del Teorema del Límite Central, el estimador puntual se aproxima a una distribución normal.\n",
    "En una distribución normal, 95% de los datos están dentro de 1.96 desviaciones estándar del promedio.\n",
    "Usando este principio, podemos construir un intervalo de confianza que se extienda en 1.96 veces el error estándar respecto de la proporción de la muestra para estar **95% seguros** de que el intervalo captura la proporción de la población:\n",
    "\n",
    "$$point estimate \\pm   1.96 \\times  SE $$\n",
    "\n",
    "$$\\hat{p} \\pm  1.96  \\sqrt{\\frac{p(1 -p)}{n}} $$\n",
    "\n",
    "En general en un promedio: \n",
    "$$SE =  \\sqrt{\\frac{\\sigma}{n}} $$\n",
    "\n",
    "\n",
    "\n",
    "Pero, ¿qué significa “95% seguros”? Supongamos que tomamos muchas muestras y construimos un intervalo de confianza de 95% en cada una. Entonces, alrededor del 95% de esos intervalos contendría el parámetro, $p$."
   ]
  },
  {
   "cell_type": "markdown",
   "id": "b00958d8-2124-4937-8b5e-17e39efbde21",
   "metadata": {},
   "source": [
    "Recordando la clase anterior y la tarea, veamos como sería tomar muchas muestras y construir intervalos de confianza al respecto:\n"
   ]
  },
  {
   "cell_type": "markdown",
   "id": "87ab53db-0738-4110-ac57-973ed987bd8a",
   "metadata": {
    "tags": []
   },
   "source": [
    "## Datos Mineduc: rendimiento educacion básica y media 2021 en el Bío Bío.\n",
    "Leamos el siguiente dataset"
   ]
  },
  {
   "cell_type": "code",
   "execution_count": 3,
   "id": "c8b99025-5058-47df-bef0-dd94bb9664a1",
   "metadata": {},
   "outputs": [],
   "source": [
    "df_est = pd.read_csv(\"https://raw.githubusercontent.com/vmlandae/datasets_eds/main/clase5/rendimiento_2021_8va.csv\")"
   ]
  },
  {
   "cell_type": "markdown",
   "id": "b684f44b-e15a-46ab-800d-706b8ff09902",
   "metadata": {},
   "source": [
    "Este dataset es un subconjunto de datos a nivel nacional del año 2021 facilitados por el mineduc en su [página de datos abiertos](https://datosabiertos.mineduc.cl/rendimiento-por-estudiante-2/), donde reportan el rendimiento por alumno de enseñanza básica y media. Este dataset fue filtrado y limpiado, para solo contener los estudiantes que se encontraban matriculados en instituciones de la Región del Bío Bío. La [documentación](https://github.com/vmlandae/datasets_eds/blob/main/clase5/ER%20Rendimiento%20por%20alumno%2C%20bases%20Web.pdf) nos permite revisar que es cada variable, pues no todas son tan intuitivas. "
   ]
  },
  {
   "cell_type": "code",
   "execution_count": 4,
   "id": "33d17552-25bb-4641-8adc-6084d129bd91",
   "metadata": {},
   "outputs": [
    {
     "data": {
      "text/plain": [
       "array(['Unnamed: 0', 'AGNO', 'RBD', 'DGV_RBD', 'NOM_RBD', 'COD_REG_RBD',\n",
       "       'NOM_REG_RBD_A', 'COD_PRO_RBD', 'COD_COM_RBD', 'NOM_COM_RBD',\n",
       "       'COD_DEPROV_RBD', 'NOM_DEPROV_RBD', 'COD_DEPE', 'COD_DEPE2',\n",
       "       'RURAL_RBD', 'ESTADO_ESTAB', 'COD_ENSE', 'COD_ENSE2', 'COD_GRADO',\n",
       "       'LET_CUR', 'COD_JOR', 'COD_TIP_CUR', 'COD_DES_CUR', 'MRUN',\n",
       "       'GEN_ALU', 'FEC_NAC_ALU', 'EDAD_ALU', 'COD_REG_ALU', 'COD_COM_ALU',\n",
       "       'NOM_COM_ALU', 'COD_RAMA', 'COD_SEC', 'COD_ESPE', 'PROM_GRAL',\n",
       "       'ASISTENCIA', 'SIT_FIN', 'SIT_FIN_R', 'COD_MEN'], dtype=object)"
      ]
     },
     "execution_count": 4,
     "metadata": {},
     "output_type": "execute_result"
    }
   ],
   "source": [
    "df_est.columns.values"
   ]
  },
  {
   "cell_type": "code",
   "execution_count": 5,
   "id": "3710fe90-80b0-4a53-9a22-2d3e553f86c5",
   "metadata": {},
   "outputs": [],
   "source": [
    "# SIT_FIN_R es la situación a final de año de un estudiante,\n",
    "# donde P: promovido, R: reprobado, Y: Retirado, T: trasladado (se cambió de colegio) y \n",
    "# algunos datos en blanco sin información. Vamos a filtrar para dejar solo P,R,Y en el dataset\n",
    "# porque así estamos contando a cada alumno solo una vez (los que se cambian tienen más de un registro)\n",
    "\n",
    "df =  df_est.loc[df_est['SIT_FIN_R'].isin(['P','R','Y'])].reset_index()"
   ]
  },
  {
   "cell_type": "code",
   "execution_count": 6,
   "id": "1bd02c28-a55f-4933-bd5f-14a81ea02d33",
   "metadata": {},
   "outputs": [
    {
     "name": "stdout",
     "output_type": "stream",
     "text": [
      "274781\n",
      "(280617, 38)\n",
      "273894\n",
      "(273894, 39)\n"
     ]
    }
   ],
   "source": [
    "print(df_est['MRUN'].nunique())\n",
    "print(df_est.shape)      \n",
    "print(df['MRUN'].nunique())\n",
    "print(df.shape)"
   ]
  },
  {
   "cell_type": "markdown",
   "id": "c035a37f-b8d0-4726-be2c-82b37b731c57",
   "metadata": {},
   "source": [
    "Estos datos son censales, por tanto si quisiéramos saber, por ejemplo, la proporción de alumnos de básica y media en la región del Bío Bío el año 2021 que asistieron a un establecimiento municipal, por ejemplo, me basta con calcularlo usando la variable `COD_DEPE2`, que cuando es 1, indica un colegio de dependencia municipal. Entonces"
   ]
  },
  {
   "cell_type": "code",
   "execution_count": 7,
   "id": "02a8e438-c775-4764-9b4c-6491bad015f6",
   "metadata": {},
   "outputs": [],
   "source": [
    "prop_municipal = round( (df['COD_DEPE2']==1).mean(),4)\n"
   ]
  },
  {
   "cell_type": "markdown",
   "id": "554d1dfa-ea4d-47ea-a846-d76c42d18455",
   "metadata": {},
   "source": [
    "No vamos a ver cual es el valor real todavía, sino que construiremos distribuciones de muestreo de la proporción haciendo muchos muestreos aleatorios simples (sin reemplazo) para $n=30$, $n=100$, $n=1000$ y $n=5000$, calculando la proporción estimada para cada muestreo y construyendo las tres distribuciones de muestreo de la proporción estimada. Luego, de estas distribuciones, vamos a ver como son las proporciones que estoy estimando con distintas muestras, y como finalmente se comparan con la proporción real."
   ]
  },
  {
   "cell_type": "code",
   "execution_count": 8,
   "id": "c0e65257-48db-4897-ab91-01ef602e758c",
   "metadata": {
    "tags": []
   },
   "outputs": [],
   "source": [
    "# creamos variables para almacenar las proporciones estimadas de cada muestreo\n",
    "\n",
    "municipal30 = []\n",
    "municipal100 = []\n",
    "municipal1000 = []\n",
    "municipal5000 = []\n",
    "\n",
    "\n",
    "for i in range(1000):\n",
    "    municipal30.append((df['COD_DEPE2']==1).sample(30).mean())\n",
    "    municipal100.append((df['COD_DEPE2']==1).sample(100).mean())\n",
    "    municipal1000.append((df['COD_DEPE2']==1).sample(1000).mean())\n",
    "    municipal5000.append((df['COD_DEPE2']==1).sample(5000).mean())"
   ]
  },
  {
   "cell_type": "markdown",
   "id": "67ef68ce-2361-45d2-91b3-f40884d780dc",
   "metadata": {},
   "source": [
    "## Actividad"
   ]
  },
  {
   "cell_type": "markdown",
   "id": "892ca06d-e238-4132-9652-b7b574dad120",
   "metadata": {},
   "source": [
    "1. Calculemos el estimador de la proporción para un muestreo de 500 personas\n",
    "2. Calculemos el error estándar estimado\n",
    "3. Calculemos el intervalo de confianza al 90 y al 95% para cada muestreo.\n",
    "4. para cada $n$, hagamos ahora otros 100 muestreos y calculemos esos intervalos de confianza\n",
    "5. Calculemos el parámetro de la población, y veamos cuántos de esos 100 intervalos de confianza contienen al parámetro para cada caso."
   ]
  },
  {
   "cell_type": "code",
   "execution_count": 10,
   "id": "16758671-c7bc-45d4-b18a-2325d0a1d5cc",
   "metadata": {},
   "outputs": [
    {
     "data": {
      "text/plain": [
       "2    137646\n",
       "1    106318\n",
       "3     16568\n",
       "5     15415\n",
       "4      4670\n",
       "Name: COD_DEPE2, dtype: int64"
      ]
     },
     "execution_count": 10,
     "metadata": {},
     "output_type": "execute_result"
    }
   ],
   "source": [
    "## escribamos el código juntos\n",
    "\n",
    "\n",
    "df_est_500 = df.sample(500) \n",
    "\n",
    "df_est['COD_DEPE2'].value_counts()\n"
   ]
  },
  {
   "cell_type": "code",
   "execution_count": 14,
   "id": "a3a4dc6f-318f-478c-8c2b-a13981f79ae5",
   "metadata": {},
   "outputs": [
    {
     "data": {
      "text/plain": [
       "13412      True\n",
       "101740     True\n",
       "6992       True\n",
       "115205    False\n",
       "188059    False\n",
       "          ...  \n",
       "46932     False\n",
       "174588     True\n",
       "239732    False\n",
       "29556      True\n",
       "157785     True\n",
       "Name: COD_DEPE2, Length: 500, dtype: bool"
      ]
     },
     "execution_count": 14,
     "metadata": {},
     "output_type": "execute_result"
    }
   ],
   "source": [
    "df_est_500['COD_DEPE2']==1"
   ]
  },
  {
   "cell_type": "code",
   "execution_count": 17,
   "id": "b49f671f-8a2d-47e5-b8da-d0e31c7cfcc4",
   "metadata": {},
   "outputs": [
    {
     "name": "stdout",
     "output_type": "stream",
     "text": [
      "0.392\n"
     ]
    }
   ],
   "source": [
    "p_estimado_500 = (df_est_500['COD_DEPE2']==1).mean()\n",
    "\n",
    "print(p_estimado_500)"
   ]
  },
  {
   "cell_type": "code",
   "execution_count": 18,
   "id": "b048dce4-71b0-4b77-94af-30ae0a2e74ef",
   "metadata": {},
   "outputs": [
    {
     "name": "stdout",
     "output_type": "stream",
     "text": [
      "196.0\n",
      "304.0\n"
     ]
    }
   ],
   "source": [
    "# chequear condiciones para que se cumpla el Teorema Central del Límite, np y n(1-p) deben ser mayores que 10\n",
    "\n",
    "n=500\n",
    "print(n*p_estimado_500>10)\n",
    "print(n*(1-p_estimado_500)>10)\n"
   ]
  },
  {
   "cell_type": "code",
   "execution_count": 22,
   "id": "9560494f-b1f3-4cac-806c-09c1849ee117",
   "metadata": {},
   "outputs": [
    {
     "name": "stdout",
     "output_type": "stream",
     "text": [
      "0.021832819332372078\n"
     ]
    }
   ],
   "source": [
    "# calculando error estándar:\n",
    "\n",
    "\n",
    "SE_estimado = (p_estimado_500*(1-p_estimado_500)/n)**0.5\n",
    "print(SE_estimado)"
   ]
  },
  {
   "cell_type": "code",
   "execution_count": 23,
   "id": "144247cb-f33b-4149-83e2-ae8fd2a995bd",
   "metadata": {},
   "outputs": [
    {
     "data": {
      "text/plain": [
       "0.042792325891449275"
      ]
     },
     "execution_count": 23,
     "metadata": {},
     "output_type": "execute_result"
    }
   ],
   "source": []
  },
  {
   "cell_type": "code",
   "execution_count": 21,
   "id": "2f798298-152e-4c3e-9c15-f998e8859781",
   "metadata": {},
   "outputs": [
    {
     "name": "stdout",
     "output_type": "stream",
     "text": [
      "el intervalo de confianza al 95% es de: ( 0.34920767410855075 ,  0.4347923258914493 ) \n"
     ]
    }
   ],
   "source": [
    "# calcular IC al 95%\n",
    "\n",
    "IC_inferior = p_estimado_500 - 1.96 * SE_estimado\n",
    "IC_superior = p_estimado_500 + 1.96 * SE_estimado\n",
    "\n",
    "# mi IC es:\n",
    "\n",
    "print('el intervalo de confianza al 95% es de: (',IC_inferior,', ',IC_superior,') ')"
   ]
  },
  {
   "cell_type": "code",
   "execution_count": 25,
   "id": "750347f3-1a05-4c66-93f5-9349c07970cf",
   "metadata": {},
   "outputs": [],
   "source": [
    "# calculemos los IC de la proporción para 100 muestreos con n=500\n",
    "\n",
    "IC_sup_total = []\n",
    "IC_inf_total = []\n",
    "\n",
    "for i in range(100):\n",
    "    x = df['COD_DEPE2'].sample(n)  # n=500\n",
    "    p_est = (x==1).mean()\n",
    "    SE_est = (p_est*(1-p_est)/n)**0.5\n",
    "    IC_est = [ ]\n",
    "    IC_inf = p_est - 1.96 * SE_est\n",
    "    IC_sup = p_est + 1.96 * SE_est\n",
    "    IC_sup_total.append(IC_sup)\n",
    "    IC_inf_total.append(IC_inf)\n",
    "\n",
    "    \n",
    "    "
   ]
  },
  {
   "cell_type": "code",
   "execution_count": 28,
   "id": "ac5659f0-8955-48c7-ba6f-7820bfdb7879",
   "metadata": {},
   "outputs": [
    {
     "name": "stdout",
     "output_type": "stream",
     "text": [
      "[0.4388683858898373, 0.44904545556501874, 0.402073855064636, 0.4184577804035962, 0.465290361643211, 0.45514280124424, 0.3959168809526663, 0.4327531669002426, 0.4245889554133463, 0.4449768606019565, 0.4347923258914493, 0.400022326865608, 0.3546815930464873, 0.40617453654517144, 0.4245889554133463, 0.44904545556501874, 0.4347923258914493, 0.4205022734827209, 0.4368307315464025, 0.47339530297163507, 0.402073855064636, 0.391808228855095, 0.4245889554133463, 0.47137015438293944, 0.42867258057347835, 0.38975269269400475, 0.40617453654517144, 0.4510786419841666, 0.4123196635147304, 0.400022326865608, 0.42254599769661066, 0.402073855064636, 0.402073855064636, 0.391808228855095, 0.44904545556501874, 0.39797000315463416, 0.4915892719278494, 0.47137015438293944, 0.4388683858898373, 0.42867258057347835, 0.38358120483102914, 0.40617453654517144, 0.4123196635147304, 0.4388683858898373, 0.4102720702497524, 0.430713252500834, 0.4245889554133463, 0.4327531669002426, 0.45514280124424, 0.40617453654517144, 0.41436647791827874, 0.391808228855095, 0.4632623106179039, 0.4347923258914493, 0.41436647791827874, 0.391808228855095, 0.40617453654517144, 0.44701152902187974, 0.3959168809526663, 0.40617453654517144, 0.402073855064636, 0.4266311489500342, 0.44701152902187974, 0.4245889554133463, 0.4388683858898373, 0.4082236954896181, 0.3959168809526663, 0.4368307315464025, 0.4388683858898373, 0.4327531669002426, 0.4102720702497524, 0.44904545556501874, 0.4449768606019565, 0.3959168809526663, 0.4449768606019565, 0.37740232665925916, 0.4347923258914493, 0.391808228855095, 0.4388683858898373, 0.4245889554133463, 0.4205022734827209, 0.39797000315463416, 0.4388683858898373, 0.4205022734827209, 0.430713252500834, 0.47137015438293944, 0.391808228855095, 0.42254599769661066, 0.400022326865608, 0.400022326865608, 0.430713252500834, 0.41641251603949003, 0.4245889554133463, 0.45514280124424, 0.4102720702497524, 0.430713252500834, 0.45311108998854005, 0.45514280124424, 0.41436647791827874, 0.400022326865608]\n",
      "[0.35313161411016275, 0.3629545444349813, 0.317926144935364, 0.3335422195964038, 0.37870963835678895, 0.36885719875575995, 0.31208311904733366, 0.3472468330997574, 0.3394110445866537, 0.35902313939804353, 0.34920767410855075, 0.31597767313439196, 0.2733184069535127, 0.32182546345482854, 0.3394110445866537, 0.3629545444349813, 0.34920767410855075, 0.3354977265172791, 0.3511692684535975, 0.3866046970283649, 0.317926144935364, 0.308191771144905, 0.3394110445866537, 0.38462984561706054, 0.3433274194265217, 0.3062473073059952, 0.32182546345482854, 0.36492135801583336, 0.3276803364852696, 0.31597767313439196, 0.33745400230338934, 0.317926144935364, 0.317926144935364, 0.308191771144905, 0.3629545444349813, 0.3140299968453658, 0.4044107280721506, 0.38462984561706054, 0.35313161411016275, 0.3433274194265217, 0.3004187951689709, 0.32182546345482854, 0.3276803364852696, 0.35313161411016275, 0.3257279297502476, 0.34528674749916605, 0.3394110445866537, 0.3472468330997574, 0.36885719875575995, 0.32182546345482854, 0.32963352208172125, 0.308191771144905, 0.37673768938209606, 0.34920767410855075, 0.32963352208172125, 0.308191771144905, 0.32182546345482854, 0.3609884709781203, 0.31208311904733366, 0.32182546345482854, 0.317926144935364, 0.34136885104996584, 0.3609884709781203, 0.3394110445866537, 0.35313161411016275, 0.32377630451038186, 0.31208311904733366, 0.3511692684535975, 0.35313161411016275, 0.3472468330997574, 0.3257279297502476, 0.3629545444349813, 0.35902313939804353, 0.31208311904733366, 0.35902313939804353, 0.2945976733407409, 0.34920767410855075, 0.308191771144905, 0.35313161411016275, 0.3394110445866537, 0.3354977265172791, 0.3140299968453658, 0.35313161411016275, 0.3354977265172791, 0.34528674749916605, 0.38462984561706054, 0.308191771144905, 0.33745400230338934, 0.31597767313439196, 0.31597767313439196, 0.34528674749916605, 0.33158748396050997, 0.3394110445866537, 0.36885719875575995, 0.3257279297502476, 0.34528674749916605, 0.3668889100114599, 0.36885719875575995, 0.32963352208172125, 0.31597767313439196]\n"
     ]
    }
   ],
   "source": [
    "print(IC_sup_total)\n",
    "print(IC_inf_total)"
   ]
  },
  {
   "cell_type": "code",
   "execution_count": 34,
   "id": "6061294a-519c-4017-ac24-225b0bf5f8d0",
   "metadata": {},
   "outputs": [
    {
     "name": "stdout",
     "output_type": "stream",
     "text": [
      "      IC_inf    IC_sup\n",
      "0   0.353132  0.438868\n",
      "1   0.362955  0.449045\n",
      "2   0.317926  0.402074\n",
      "3   0.333542  0.418458\n",
      "4   0.378710  0.465290\n",
      "..       ...       ...\n",
      "95  0.345287  0.430713\n",
      "96  0.366889  0.453111\n",
      "97  0.368857  0.455143\n",
      "98  0.329634  0.414366\n",
      "99  0.315978  0.400022\n",
      "\n",
      "[100 rows x 2 columns]\n",
      "0.3773\n"
     ]
    }
   ],
   "source": [
    "df_intervalos = pd.DataFrame( {'IC_inf':IC_inf_total, 'IC_sup':IC_sup_total})\n",
    "print(df_intervalos)\n",
    "print(prop_municipal)"
   ]
  },
  {
   "cell_type": "code",
   "execution_count": 38,
   "id": "ce42db79-adcf-47f1-854e-eac840f3028a",
   "metadata": {},
   "outputs": [
    {
     "data": {
      "text/plain": [
       "False    94\n",
       "True      6\n",
       "Name: IC_inf, dtype: int64"
      ]
     },
     "execution_count": 38,
     "metadata": {},
     "output_type": "execute_result"
    }
   ],
   "source": []
  },
  {
   "cell_type": "code",
   "execution_count": 39,
   "id": "d1b7fea6-1e6e-475d-98e9-49cea65f35a4",
   "metadata": {},
   "outputs": [
    {
     "name": "stdout",
     "output_type": "stream",
     "text": [
      "      IC_inf    IC_sup  contiene_valor_real\n",
      "0   0.353132  0.438868                 True\n",
      "1   0.362955  0.449045                 True\n",
      "2   0.317926  0.402074                 True\n",
      "3   0.333542  0.418458                 True\n",
      "4   0.378710  0.465290                False\n",
      "..       ...       ...                  ...\n",
      "95  0.345287  0.430713                 True\n",
      "96  0.366889  0.453111                 True\n",
      "97  0.368857  0.455143                 True\n",
      "98  0.329634  0.414366                 True\n",
      "99  0.315978  0.400022                 True\n",
      "\n",
      "[100 rows x 3 columns]\n"
     ]
    }
   ],
   "source": [
    "df_intervalos['contiene_valor_real'] = ((df_intervalos['IC_inf']<=prop_municipal) & (df_intervalos['IC_sup']>=prop_municipal))\n",
    "print(df_intervalos)"
   ]
  },
  {
   "cell_type": "code",
   "execution_count": 41,
   "id": "8ef246f9-22b4-4f30-a27a-72bbca1a5d15",
   "metadata": {},
   "outputs": [
    {
     "data": {
      "text/plain": [
       "True     93\n",
       "False     7\n",
       "Name: contiene_valor_real, dtype: int64"
      ]
     },
     "execution_count": 41,
     "metadata": {},
     "output_type": "execute_result"
    }
   ],
   "source": [
    "df_intervalos['contiene_valor_real'].value_counts()"
   ]
  },
  {
   "cell_type": "markdown",
   "id": "6941f67f-d91c-4376-be04-ace89b0f9e63",
   "metadata": {},
   "source": [
    "## Otro ejemplo\n",
    "\n",
    "En Nueva York en Octubre del 2014, un doctor que venía de estar tratando ébola en Africa llega al hospital con fiebre y se le diagnostica con ébola, poniéndolo a él y a los contactos estrechos en cuarentena. A los días se realiza una encuesta que encuentra que el 82% de la población de la ciudad está a favor de una cuarentena obligatoria de 21 días para los contactos estrechos. Respondieron la encuesta 1,042 adultos con residencia en la ciudad entre el 26 y 28 de octubre del 2014."
   ]
  },
  {
   "cell_type": "markdown",
   "id": "48c17751-e146-4328-a806-6db2dfa4d199",
   "metadata": {},
   "source": [
    "1. ¿Cuál es el estimador puntual y es razonable usar una distribución normal en este modelo?\n",
    "2. Estimemos el error estándar y construyamos un intervalo de confianza al 95%.\n",
    "3. ¿Qué significa el 95% de confianza en este contexto?\n",
    "4. Piensas que el intervalo de confianza todavía sería válido para las opiniones de los ciudadanos de NY al día de hoy?\n"
   ]
  },
  {
   "cell_type": "code",
   "execution_count": 42,
   "id": "56148951-a974-4ae0-b679-a7d6f51bd284",
   "metadata": {},
   "outputs": [
    {
     "data": {
      "text/plain": [
       "0.011901708775845125"
      ]
     },
     "execution_count": 42,
     "metadata": {},
     "output_type": "execute_result"
    }
   ],
   "source": [
    " (0.82*(1-0.82)/1042)**0.5"
   ]
  },
  {
   "cell_type": "code",
   "execution_count": 43,
   "id": "37bcbeae-e264-435b-9d11-67c41b3e57fd",
   "metadata": {},
   "outputs": [
    {
     "data": {
      "text/plain": [
       "0.023324"
      ]
     },
     "execution_count": 43,
     "metadata": {},
     "output_type": "execute_result"
    }
   ],
   "source": [
    " 1.96*0.0119"
   ]
  },
  {
   "cell_type": "code",
   "execution_count": null,
   "id": "e4c4a676-f3fa-4036-b0a9-9c54614848e3",
   "metadata": {},
   "outputs": [],
   "source": []
  },
  {
   "cell_type": "markdown",
   "id": "cd929198-5649-42f5-8b22-1e5f73f3cabd",
   "metadata": {},
   "source": [
    "## Interpretando intervalos de confianza\n",
    "\n",
    "Tenemos una confianza del 95% que la proporción de adultos en NY en octubre del 2014 que apoyan una cuarentena para contactos estrechos con un paciente con Ebola estaba entre 0.796 y 0.844.\n",
    "\n",
    "### Ojo\n",
    "\n",
    "* El IC es una afirmación sobre el parámetro de la población.\n",
    "* No es una **probabilidad**\n",
    "\n",
    "Este último error es muy común. Sería útil si pudiéramos pensar en esto como una probabilidad, pero el IC solo cuantfica cuan plausible es que el parámetro de la población esté en el intervalo dado. Un IC no nos dice nada sobre observaciones individuales ni estimadores puntuales. Recuerda que todo esto solo aplica respecto a errores de muestreo, no a sesgo. Si tomamos una muestra sesgada, esto nos llevará a sistemáticamente sobre o sub estimar el parámetro de la población. Necesitamos mejorar el proceso de recolección de datos para protegernos del sesgo en los ejemplos considerados.\n",
    " "
   ]
  },
  {
   "cell_type": "code",
   "execution_count": 45,
   "id": "e872cc40-0ea0-440d-9775-290f66b774fc",
   "metadata": {},
   "outputs": [
    {
     "data": {
      "text/plain": [
       "1.7506860712521692"
      ]
     },
     "execution_count": 45,
     "metadata": {},
     "output_type": "execute_result"
    }
   ],
   "source": [
    "import scipy.stats as st\n",
    "st.norm.ppf(.96)"
   ]
  },
  {
   "cell_type": "markdown",
   "id": "e2d69749-82b7-4c3b-abef-707cba99b74c",
   "metadata": {},
   "source": [
    "## Actividad en grupos:"
   ]
  },
  {
   "cell_type": "markdown",
   "id": "fdcd58fc-b87f-43bc-8ecb-7f43985a4ad7",
   "metadata": {},
   "source": [
    "## Esperando en la sala de emergencias \n",
    "La administradora de un hospital, esperando mejorar los tiempos de espera, decide estimar el tiempo de espera promedio en la sala de emergencias de su hospital. Ella recolecta una muestra aleatoria simple de 64 pacientes y determina el tiempo (en minutos) entre que se registraron en la sala de emergencias hasta que fueron atendidos por un doctor. Un intervalo de confianza de 95% basado en esta muestra es (128 minutos, 147 minutos), lo que está basado en un modelo normal para el promedio. Determina cuál de los siguientes enunciados son verdaderos o falsos y explica tu razonamiento."
   ]
  },
  {
   "cell_type": "markdown",
   "id": "c86d5fdf-c0be-4d9e-a7a5-d7fb6932edcd",
   "metadata": {},
   "source": [
    "1. Tenemos una confianza de 95% en que el tiempo de espera promedio de estos 64 pacientes de la sala de emergencia está entre 128 y 147 minutos.\n",
    "2. Tenemos una confianza de 95% en que el tiempo de espera promedio de todos los pacientes de la sala de emergencia de este hospital está entre 128 y 147 minutos.\n",
    "3.  95% de las muestras aleatorias tienen un promedio de la muestra entre 128 y 147 minutos.\n",
    "4.  Un intervalo de confianza de 99% sería más estrecho que el intervalo de 95% ya que necesitamos estar más seguros de nuestro estimador.\n",
    "5.  El margen de error es 9.5 y el promedio de la muestra es de 137.5.\n",
    "6.  Para disminuir a la mitad el margen de error de un intervalo de confianza de 95% respecto del actual, necesitaríamos duplicar el tamaño de la muestra. (Pista: el margen de error para el promedio escala de la misma manera con el tamaño de la muestra como el margen de error para una proporción)."
   ]
  },
  {
   "cell_type": "markdown",
   "id": "92aca9dc-fc20-47dd-8959-6d057d181252",
   "metadata": {},
   "source": [
    "## Sesgos:\n",
    "1. La profesión más peligrosa. En una tabulación en 1835 de las edades y profesiones de las personas fallecidas, se encontró que la profesión con el promedio más bajo de edad de muerte era \"estudiante\". ¿Por qué ser estudiante pareciera ser tan peligroso?\n",
    "2. Edad y líneas de la mano. Un estudio de 100 personas recientemente fallecidas encontró una correlación positiva fuerte entre la edad de muerte y la longitud de la línea más larga de la mano. ¿Provee esto apoyo a la posición de que una línea larga de la palma predice una vida larga?\n",
    "3. La ilusión del clínico. Cuando se le pide juzgar la severidad de un síndrome entre sus pacientes, los psiquiatras clínicos tienden a caracterizar los síndromes como mucho más peligrosos y de largo plazo, en promedio, de lo que son estimados por encuestas a los pacientes que tienen el síndrome.\n",
    "4. Tus amigos son (probablemente) más populares que tú. Los sociólogos han conducido encuestas en que seleccionan personas aleatorias y les piden una lista de las personas que conocen; luego contactan a una muestra de los amigos y repiten la encuesta. Las personas muestreadas en la segunda etapa tienen, en promedio, muchos más amigos que las personas de la muestra original. Esto sugiere que, en promedio, tus amigos son más populares que tú.\n",
    "5. Peleas de bar. Un estudio de las peleas de bares en los que alguien haya sido asesinado encontró que, en el 90% de los casos, la persona que comenzó la pelea era el fallecido."
   ]
  },
  {
   "cell_type": "markdown",
   "id": "972d0a57-1a90-43e2-832b-a06d4d042244",
   "metadata": {
    "jp-MarkdownHeadingCollapsed": true,
    "tags": []
   },
   "source": [
    "## Teorema del límite central para el promedio:\n",
    "\n",
    "La distribución del promedio de la muestra se puede aproximar bien a partir de un modelo normal:\n",
    "\n",
    "$$ \\bar{X} \\sim \\mbox{N}(\\mu, SE ) $$\n",
    "\n",
    "\n",
    "donde $SE$ representa el error estándar, que es definido como la desviación estándar de la distribución de muestreo, con muestras de tamaño $n$. Si $\\sigma$ es desconocido, utilizamos $s$, que es la desviación estándar de la muestra (insesgada, o sea dividida por $n-1$). \n",
    "No profundizaremos en la prueba detallada de por qué $SE = \\frac{\\sigma}{\\sqrt{n}}$, pero notemos que en la medida de $n$ aumenta, $SE$ disminuye. En la medida en que el tamaño de la muestra aumenta, podemos esperar que las muestran arrojen promedios de muestra más consistentes, dado que la variabilidad entre los promedios de la muestra sería menor. \n",
    "\n",
    "\n",
    "Se deben cumplir ciertas condiciones para que aplique el TLC:\n",
    "\n",
    "Independiencia: Las observaciones muestreadas deben ser independientes. Esto es difícil de verificar, pero es más probable si:  \n",
    "* Se utiliza un muestreo/asignación aleatorios y\n",
    "* En caso de muestreos sin remplazo, n < 10% de la población.\n",
    "* Tamaño de la muestra / \"asimetría\"(skewness): Ya sea que la distribución de la población sea normal o que tenga “skewness”, el tamaño de la muestra es grande. Mientras más “sesgada” sea la distribución de la población, necesitamos una muestra más grande para que aplique el CLT. \n",
    "* Para distribuciones moderadamente asimétricas, $n > 30$ es aceptable\n",
    "\n",
    "Esto también es difícil de verificar para la población,  pero podemos chequearlo utilizando los datos de la muestra y asumir que la muestra refleja lo que es la población.  \n",
    "\n",
    "\n",
    "**Importante:**\n",
    "\n",
    "El teorema del límite central dice que la distribución de probabilidad de la suma o el promedio de una gran muestra aleatoria extraída con reemplazo será aproximadamente normal, **independientemente de la distribución de la población de la que se extraiga la muestra.**\n"
   ]
  }
 ],
 "metadata": {
  "kernelspec": {
   "display_name": "Python 3 (ipykernel)",
   "language": "python",
   "name": "python3"
  },
  "language_info": {
   "codemirror_mode": {
    "name": "ipython",
    "version": 3
   },
   "file_extension": ".py",
   "mimetype": "text/x-python",
   "name": "python",
   "nbconvert_exporter": "python",
   "pygments_lexer": "ipython3",
   "version": "3.9.12"
  }
 },
 "nbformat": 4,
 "nbformat_minor": 5
}
